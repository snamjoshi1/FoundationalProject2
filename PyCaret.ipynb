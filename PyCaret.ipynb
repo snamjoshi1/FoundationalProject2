{
 "cells": [
  {
   "cell_type": "code",
   "execution_count": 63,
   "id": "c2c2fd77",
   "metadata": {},
   "outputs": [],
   "source": [
    "import pycaret as py\n",
    "import pandas as pd"
   ]
  },
  {
   "cell_type": "code",
   "execution_count": 3,
   "id": "849bc071",
   "metadata": {},
   "outputs": [
    {
     "name": "stdout",
     "output_type": "stream",
     "text": [
      "Collecting openpyxl\n",
      "  Using cached openpyxl-3.0.10-py2.py3-none-any.whl (242 kB)\n",
      "Collecting et-xmlfile\n",
      "  Using cached et_xmlfile-1.1.0-py3-none-any.whl (4.7 kB)\n",
      "Installing collected packages: et-xmlfile, openpyxl\n",
      "Successfully installed et-xmlfile-1.1.0 openpyxl-3.0.10\n",
      "Note: you may need to restart the kernel to use updated packages.\n"
     ]
    }
   ],
   "source": [
    "pip install openpyxl"
   ]
  },
  {
   "cell_type": "code",
   "execution_count": 64,
   "id": "d520f62a",
   "metadata": {},
   "outputs": [
    {
     "data": {
      "text/html": [
       "<div>\n",
       "<style scoped>\n",
       "    .dataframe tbody tr th:only-of-type {\n",
       "        vertical-align: middle;\n",
       "    }\n",
       "\n",
       "    .dataframe tbody tr th {\n",
       "        vertical-align: top;\n",
       "    }\n",
       "\n",
       "    .dataframe thead th {\n",
       "        text-align: right;\n",
       "    }\n",
       "</style>\n",
       "<table border=\"1\" class=\"dataframe\">\n",
       "  <thead>\n",
       "    <tr style=\"text-align: right;\">\n",
       "      <th></th>\n",
       "      <th>Date</th>\n",
       "      <th>AvgTemp</th>\n",
       "      <th>AvgTempFeelLike</th>\n",
       "      <th>AvgHumidity</th>\n",
       "      <th>AvgWindspeed</th>\n",
       "      <th>AvgRainfall</th>\n",
       "      <th>UnemploymentRate</th>\n",
       "      <th>Demand</th>\n",
       "    </tr>\n",
       "  </thead>\n",
       "  <tbody>\n",
       "    <tr>\n",
       "      <th>0</th>\n",
       "      <td>2016-01-01</td>\n",
       "      <td>14.474910</td>\n",
       "      <td>14.363799</td>\n",
       "      <td>79.600000</td>\n",
       "      <td>11.865077</td>\n",
       "      <td>0.000</td>\n",
       "      <td>10.6</td>\n",
       "      <td>1970</td>\n",
       "    </tr>\n",
       "    <tr>\n",
       "      <th>1</th>\n",
       "      <td>2016-02-01</td>\n",
       "      <td>18.235632</td>\n",
       "      <td>18.183908</td>\n",
       "      <td>63.262069</td>\n",
       "      <td>15.379821</td>\n",
       "      <td>0.275</td>\n",
       "      <td>10.8</td>\n",
       "      <td>1773</td>\n",
       "    </tr>\n",
       "    <tr>\n",
       "      <th>2</th>\n",
       "      <td>2016-03-01</td>\n",
       "      <td>24.465950</td>\n",
       "      <td>24.374552</td>\n",
       "      <td>56.951613</td>\n",
       "      <td>16.598652</td>\n",
       "      <td>3.580</td>\n",
       "      <td>11.1</td>\n",
       "      <td>1931</td>\n",
       "    </tr>\n",
       "    <tr>\n",
       "      <th>3</th>\n",
       "      <td>2016-04-01</td>\n",
       "      <td>31.527778</td>\n",
       "      <td>30.622222</td>\n",
       "      <td>30.230000</td>\n",
       "      <td>19.206097</td>\n",
       "      <td>0.025</td>\n",
       "      <td>6.3</td>\n",
       "      <td>2628</td>\n",
       "    </tr>\n",
       "    <tr>\n",
       "      <th>4</th>\n",
       "      <td>2016-05-01</td>\n",
       "      <td>33.718638</td>\n",
       "      <td>35.241935</td>\n",
       "      <td>41.312903</td>\n",
       "      <td>21.181706</td>\n",
       "      <td>2.425</td>\n",
       "      <td>17.3</td>\n",
       "      <td>3287</td>\n",
       "    </tr>\n",
       "    <tr>\n",
       "      <th>...</th>\n",
       "      <td>...</td>\n",
       "      <td>...</td>\n",
       "      <td>...</td>\n",
       "      <td>...</td>\n",
       "      <td>...</td>\n",
       "      <td>...</td>\n",
       "      <td>...</td>\n",
       "      <td>...</td>\n",
       "    </tr>\n",
       "    <tr>\n",
       "      <th>73</th>\n",
       "      <td>2022-02-01</td>\n",
       "      <td>17.057143</td>\n",
       "      <td>17.042857</td>\n",
       "      <td>71.653571</td>\n",
       "      <td>15.696429</td>\n",
       "      <td>1.775</td>\n",
       "      <td>9.3</td>\n",
       "      <td>1873</td>\n",
       "    </tr>\n",
       "    <tr>\n",
       "      <th>74</th>\n",
       "      <td>2022-03-01</td>\n",
       "      <td>25.561290</td>\n",
       "      <td>25.406452</td>\n",
       "      <td>56.387097</td>\n",
       "      <td>16.977419</td>\n",
       "      <td>1.160</td>\n",
       "      <td>8.9</td>\n",
       "      <td>2260</td>\n",
       "    </tr>\n",
       "    <tr>\n",
       "      <th>75</th>\n",
       "      <td>2022-04-01</td>\n",
       "      <td>32.523333</td>\n",
       "      <td>30.970000</td>\n",
       "      <td>24.743333</td>\n",
       "      <td>18.663333</td>\n",
       "      <td>0.025</td>\n",
       "      <td>11.2</td>\n",
       "      <td>3202</td>\n",
       "    </tr>\n",
       "    <tr>\n",
       "      <th>76</th>\n",
       "      <td>2022-05-01</td>\n",
       "      <td>33.335484</td>\n",
       "      <td>34.729032</td>\n",
       "      <td>44.229032</td>\n",
       "      <td>20.712903</td>\n",
       "      <td>13.050</td>\n",
       "      <td>13.6</td>\n",
       "      <td>3776</td>\n",
       "    </tr>\n",
       "    <tr>\n",
       "      <th>77</th>\n",
       "      <td>2022-06-01</td>\n",
       "      <td>38.115789</td>\n",
       "      <td>37.689474</td>\n",
       "      <td>23.636842</td>\n",
       "      <td>24.605263</td>\n",
       "      <td>4.160</td>\n",
       "      <td>10.3</td>\n",
       "      <td>3917</td>\n",
       "    </tr>\n",
       "  </tbody>\n",
       "</table>\n",
       "<p>78 rows × 8 columns</p>\n",
       "</div>"
      ],
      "text/plain": [
       "         Date    AvgTemp  AvgTempFeelLike  AvgHumidity  AvgWindspeed  \\\n",
       "0  2016-01-01  14.474910        14.363799    79.600000     11.865077   \n",
       "1  2016-02-01  18.235632        18.183908    63.262069     15.379821   \n",
       "2  2016-03-01  24.465950        24.374552    56.951613     16.598652   \n",
       "3  2016-04-01  31.527778        30.622222    30.230000     19.206097   \n",
       "4  2016-05-01  33.718638        35.241935    41.312903     21.181706   \n",
       "..        ...        ...              ...          ...           ...   \n",
       "73 2022-02-01  17.057143        17.042857    71.653571     15.696429   \n",
       "74 2022-03-01  25.561290        25.406452    56.387097     16.977419   \n",
       "75 2022-04-01  32.523333        30.970000    24.743333     18.663333   \n",
       "76 2022-05-01  33.335484        34.729032    44.229032     20.712903   \n",
       "77 2022-06-01  38.115789        37.689474    23.636842     24.605263   \n",
       "\n",
       "    AvgRainfall  UnemploymentRate  Demand  \n",
       "0         0.000              10.6    1970  \n",
       "1         0.275              10.8    1773  \n",
       "2         3.580              11.1    1931  \n",
       "3         0.025               6.3    2628  \n",
       "4         2.425              17.3    3287  \n",
       "..          ...               ...     ...  \n",
       "73        1.775               9.3    1873  \n",
       "74        1.160               8.9    2260  \n",
       "75        0.025              11.2    3202  \n",
       "76       13.050              13.6    3776  \n",
       "77        4.160              10.3    3917  \n",
       "\n",
       "[78 rows x 8 columns]"
      ]
     },
     "execution_count": 64,
     "metadata": {},
     "output_type": "execute_result"
    }
   ],
   "source": [
    "data=pd.read_excel(\"D://XParams.xlsx\",sheet_name='2016-2022')\n",
    "data.columns=['Date','AvgTemp','AvgTempFeelLike','AvgHumidity','AvgWindspeed','AvgRainfall','UnemploymentRate','Demand']\n",
    "data"
   ]
  },
  {
   "cell_type": "code",
   "execution_count": 65,
   "id": "b37db9f7",
   "metadata": {},
   "outputs": [
    {
     "data": {
      "text/html": [
       "<div>\n",
       "<style scoped>\n",
       "    .dataframe tbody tr th:only-of-type {\n",
       "        vertical-align: middle;\n",
       "    }\n",
       "\n",
       "    .dataframe tbody tr th {\n",
       "        vertical-align: top;\n",
       "    }\n",
       "\n",
       "    .dataframe thead th {\n",
       "        text-align: right;\n",
       "    }\n",
       "</style>\n",
       "<table border=\"1\" class=\"dataframe\">\n",
       "  <thead>\n",
       "    <tr style=\"text-align: right;\">\n",
       "      <th></th>\n",
       "      <th>Date</th>\n",
       "      <th>AvgTemp</th>\n",
       "      <th>AvgTempFeelLike</th>\n",
       "      <th>AvgHumidity</th>\n",
       "      <th>AvgWindspeed</th>\n",
       "      <th>AvgRainfall</th>\n",
       "      <th>UnemploymentRate</th>\n",
       "      <th>Demand</th>\n",
       "      <th>Month</th>\n",
       "      <th>Year</th>\n",
       "      <th>Series</th>\n",
       "    </tr>\n",
       "  </thead>\n",
       "  <tbody>\n",
       "    <tr>\n",
       "      <th>0</th>\n",
       "      <td>2016-01-01</td>\n",
       "      <td>14.474910</td>\n",
       "      <td>14.363799</td>\n",
       "      <td>79.600000</td>\n",
       "      <td>11.865077</td>\n",
       "      <td>0.000</td>\n",
       "      <td>10.6</td>\n",
       "      <td>1970</td>\n",
       "      <td>1</td>\n",
       "      <td>2016</td>\n",
       "      <td>1</td>\n",
       "    </tr>\n",
       "    <tr>\n",
       "      <th>1</th>\n",
       "      <td>2016-02-01</td>\n",
       "      <td>18.235632</td>\n",
       "      <td>18.183908</td>\n",
       "      <td>63.262069</td>\n",
       "      <td>15.379821</td>\n",
       "      <td>0.275</td>\n",
       "      <td>10.8</td>\n",
       "      <td>1773</td>\n",
       "      <td>2</td>\n",
       "      <td>2016</td>\n",
       "      <td>2</td>\n",
       "    </tr>\n",
       "    <tr>\n",
       "      <th>2</th>\n",
       "      <td>2016-03-01</td>\n",
       "      <td>24.465950</td>\n",
       "      <td>24.374552</td>\n",
       "      <td>56.951613</td>\n",
       "      <td>16.598652</td>\n",
       "      <td>3.580</td>\n",
       "      <td>11.1</td>\n",
       "      <td>1931</td>\n",
       "      <td>3</td>\n",
       "      <td>2016</td>\n",
       "      <td>3</td>\n",
       "    </tr>\n",
       "    <tr>\n",
       "      <th>3</th>\n",
       "      <td>2016-04-01</td>\n",
       "      <td>31.527778</td>\n",
       "      <td>30.622222</td>\n",
       "      <td>30.230000</td>\n",
       "      <td>19.206097</td>\n",
       "      <td>0.025</td>\n",
       "      <td>6.3</td>\n",
       "      <td>2628</td>\n",
       "      <td>4</td>\n",
       "      <td>2016</td>\n",
       "      <td>4</td>\n",
       "    </tr>\n",
       "    <tr>\n",
       "      <th>4</th>\n",
       "      <td>2016-05-01</td>\n",
       "      <td>33.718638</td>\n",
       "      <td>35.241935</td>\n",
       "      <td>41.312903</td>\n",
       "      <td>21.181706</td>\n",
       "      <td>2.425</td>\n",
       "      <td>17.3</td>\n",
       "      <td>3287</td>\n",
       "      <td>5</td>\n",
       "      <td>2016</td>\n",
       "      <td>5</td>\n",
       "    </tr>\n",
       "  </tbody>\n",
       "</table>\n",
       "</div>"
      ],
      "text/plain": [
       "        Date    AvgTemp  AvgTempFeelLike  AvgHumidity  AvgWindspeed  \\\n",
       "0 2016-01-01  14.474910        14.363799    79.600000     11.865077   \n",
       "1 2016-02-01  18.235632        18.183908    63.262069     15.379821   \n",
       "2 2016-03-01  24.465950        24.374552    56.951613     16.598652   \n",
       "3 2016-04-01  31.527778        30.622222    30.230000     19.206097   \n",
       "4 2016-05-01  33.718638        35.241935    41.312903     21.181706   \n",
       "\n",
       "   AvgRainfall  UnemploymentRate  Demand  Month  Year  Series  \n",
       "0        0.000              10.6    1970      1  2016       1  \n",
       "1        0.275              10.8    1773      2  2016       2  \n",
       "2        3.580              11.1    1931      3  2016       3  \n",
       "3        0.025               6.3    2628      4  2016       4  \n",
       "4        2.425              17.3    3287      5  2016       5  "
      ]
     },
     "execution_count": 65,
     "metadata": {},
     "output_type": "execute_result"
    }
   ],
   "source": [
    "import numpy as np\n",
    "# extract month and year from dates\n",
    "data['Month'] = [i.month for i in data['Date']]\n",
    "data['Year'] = [i.year for i in data['Date']]\n",
    "# create a sequence of numbers\n",
    "data['Series'] = np.arange(1,len(data)+1)\n",
    "# drop unnecessary columns and re-arrange\n",
    "#data.drop(['Date'], axis=1, inplace=True)\n",
    "#data = data[['Series', 'Year', 'Month', 'Rainfall']] \n",
    "# check the head of the dataset\n",
    "data.head()"
   ]
  },
  {
   "cell_type": "code",
   "execution_count": 66,
   "id": "ac891c32",
   "metadata": {},
   "outputs": [
    {
     "data": {
      "text/html": [
       "<div>\n",
       "<style scoped>\n",
       "    .dataframe tbody tr th:only-of-type {\n",
       "        vertical-align: middle;\n",
       "    }\n",
       "\n",
       "    .dataframe tbody tr th {\n",
       "        vertical-align: top;\n",
       "    }\n",
       "\n",
       "    .dataframe thead th {\n",
       "        text-align: right;\n",
       "    }\n",
       "</style>\n",
       "<table border=\"1\" class=\"dataframe\">\n",
       "  <thead>\n",
       "    <tr style=\"text-align: right;\">\n",
       "      <th></th>\n",
       "      <th>Date</th>\n",
       "      <th>AvgTemp</th>\n",
       "      <th>AvgTempFeelLike</th>\n",
       "      <th>AvgHumidity</th>\n",
       "      <th>AvgWindspeed</th>\n",
       "      <th>AvgRainfall</th>\n",
       "      <th>UnemploymentRate</th>\n",
       "      <th>Demand</th>\n",
       "      <th>Month</th>\n",
       "      <th>Year</th>\n",
       "      <th>Series</th>\n",
       "    </tr>\n",
       "  </thead>\n",
       "  <tbody>\n",
       "    <tr>\n",
       "      <th>73</th>\n",
       "      <td>2022-02-01</td>\n",
       "      <td>17.057143</td>\n",
       "      <td>17.042857</td>\n",
       "      <td>71.653571</td>\n",
       "      <td>15.696429</td>\n",
       "      <td>1.775</td>\n",
       "      <td>9.3</td>\n",
       "      <td>1873</td>\n",
       "      <td>2</td>\n",
       "      <td>2022</td>\n",
       "      <td>74</td>\n",
       "    </tr>\n",
       "    <tr>\n",
       "      <th>74</th>\n",
       "      <td>2022-03-01</td>\n",
       "      <td>25.561290</td>\n",
       "      <td>25.406452</td>\n",
       "      <td>56.387097</td>\n",
       "      <td>16.977419</td>\n",
       "      <td>1.160</td>\n",
       "      <td>8.9</td>\n",
       "      <td>2260</td>\n",
       "      <td>3</td>\n",
       "      <td>2022</td>\n",
       "      <td>75</td>\n",
       "    </tr>\n",
       "    <tr>\n",
       "      <th>75</th>\n",
       "      <td>2022-04-01</td>\n",
       "      <td>32.523333</td>\n",
       "      <td>30.970000</td>\n",
       "      <td>24.743333</td>\n",
       "      <td>18.663333</td>\n",
       "      <td>0.025</td>\n",
       "      <td>11.2</td>\n",
       "      <td>3202</td>\n",
       "      <td>4</td>\n",
       "      <td>2022</td>\n",
       "      <td>76</td>\n",
       "    </tr>\n",
       "    <tr>\n",
       "      <th>76</th>\n",
       "      <td>2022-05-01</td>\n",
       "      <td>33.335484</td>\n",
       "      <td>34.729032</td>\n",
       "      <td>44.229032</td>\n",
       "      <td>20.712903</td>\n",
       "      <td>13.050</td>\n",
       "      <td>13.6</td>\n",
       "      <td>3776</td>\n",
       "      <td>5</td>\n",
       "      <td>2022</td>\n",
       "      <td>77</td>\n",
       "    </tr>\n",
       "    <tr>\n",
       "      <th>77</th>\n",
       "      <td>2022-06-01</td>\n",
       "      <td>38.115789</td>\n",
       "      <td>37.689474</td>\n",
       "      <td>23.636842</td>\n",
       "      <td>24.605263</td>\n",
       "      <td>4.160</td>\n",
       "      <td>10.3</td>\n",
       "      <td>3917</td>\n",
       "      <td>6</td>\n",
       "      <td>2022</td>\n",
       "      <td>78</td>\n",
       "    </tr>\n",
       "  </tbody>\n",
       "</table>\n",
       "</div>"
      ],
      "text/plain": [
       "         Date    AvgTemp  AvgTempFeelLike  AvgHumidity  AvgWindspeed  \\\n",
       "73 2022-02-01  17.057143        17.042857    71.653571     15.696429   \n",
       "74 2022-03-01  25.561290        25.406452    56.387097     16.977419   \n",
       "75 2022-04-01  32.523333        30.970000    24.743333     18.663333   \n",
       "76 2022-05-01  33.335484        34.729032    44.229032     20.712903   \n",
       "77 2022-06-01  38.115789        37.689474    23.636842     24.605263   \n",
       "\n",
       "    AvgRainfall  UnemploymentRate  Demand  Month  Year  Series  \n",
       "73        1.775               9.3    1873      2  2022      74  \n",
       "74        1.160               8.9    2260      3  2022      75  \n",
       "75        0.025              11.2    3202      4  2022      76  \n",
       "76       13.050              13.6    3776      5  2022      77  \n",
       "77        4.160              10.3    3917      6  2022      78  "
      ]
     },
     "execution_count": 66,
     "metadata": {},
     "output_type": "execute_result"
    }
   ],
   "source": [
    "data.tail()"
   ]
  },
  {
   "cell_type": "code",
   "execution_count": 67,
   "id": "8fae0885",
   "metadata": {},
   "outputs": [],
   "source": [
    "TempData=data[['Date', 'AvgTemp', 'Month', 'Year', 'Series']]\n",
    "HumidityData=data[['Date','AvgHumidity','Month', 'Year', 'Series']]\n",
    "WindSpeedData=data[['Date', 'AvgWindspeed','Month', 'Year', 'Series']]\n",
    "RainfallData=data[['Date','AvgRainfall', 'Month', 'Year', 'Series']]\n",
    "UnemploymentRateData=data[['Date','UnemploymentRate', 'Month', 'Year', 'Series']]\n",
    "DemandData=data[['Date','Demand', 'Month', 'Year', 'Series']]"
   ]
  },
  {
   "cell_type": "code",
   "execution_count": 68,
   "id": "0337e89e",
   "metadata": {},
   "outputs": [],
   "source": [
    "TempData.drop(['Date'], axis=1, inplace=True)\n",
    "HumidityData.drop(['Date'], axis=1, inplace=True)\n",
    "WindSpeedData.drop(['Date'], axis=1, inplace=True)\n",
    "RainfallData.drop(['Date'], axis=1, inplace=True)\n",
    "UnemploymentRateData.drop(['Date'], axis=1, inplace=True)\n",
    "DemandData.drop(['Date'], axis=1, inplace=True)"
   ]
  },
  {
   "cell_type": "code",
   "execution_count": 69,
   "id": "60d702dc",
   "metadata": {},
   "outputs": [],
   "source": [
    "data.drop(['Date'],axis=1,inplace=True)"
   ]
  },
  {
   "cell_type": "code",
   "execution_count": 70,
   "id": "706d591b",
   "metadata": {},
   "outputs": [
    {
     "data": {
      "text/html": [
       "<div>\n",
       "<style scoped>\n",
       "    .dataframe tbody tr th:only-of-type {\n",
       "        vertical-align: middle;\n",
       "    }\n",
       "\n",
       "    .dataframe tbody tr th {\n",
       "        vertical-align: top;\n",
       "    }\n",
       "\n",
       "    .dataframe thead th {\n",
       "        text-align: right;\n",
       "    }\n",
       "</style>\n",
       "<table border=\"1\" class=\"dataframe\">\n",
       "  <thead>\n",
       "    <tr style=\"text-align: right;\">\n",
       "      <th></th>\n",
       "      <th>AvgWindspeed</th>\n",
       "      <th>Month</th>\n",
       "      <th>Year</th>\n",
       "      <th>Series</th>\n",
       "    </tr>\n",
       "  </thead>\n",
       "  <tbody>\n",
       "    <tr>\n",
       "      <th>0</th>\n",
       "      <td>11.865077</td>\n",
       "      <td>1</td>\n",
       "      <td>2016</td>\n",
       "      <td>1</td>\n",
       "    </tr>\n",
       "    <tr>\n",
       "      <th>1</th>\n",
       "      <td>15.379821</td>\n",
       "      <td>2</td>\n",
       "      <td>2016</td>\n",
       "      <td>2</td>\n",
       "    </tr>\n",
       "    <tr>\n",
       "      <th>2</th>\n",
       "      <td>16.598652</td>\n",
       "      <td>3</td>\n",
       "      <td>2016</td>\n",
       "      <td>3</td>\n",
       "    </tr>\n",
       "    <tr>\n",
       "      <th>3</th>\n",
       "      <td>19.206097</td>\n",
       "      <td>4</td>\n",
       "      <td>2016</td>\n",
       "      <td>4</td>\n",
       "    </tr>\n",
       "    <tr>\n",
       "      <th>4</th>\n",
       "      <td>21.181706</td>\n",
       "      <td>5</td>\n",
       "      <td>2016</td>\n",
       "      <td>5</td>\n",
       "    </tr>\n",
       "    <tr>\n",
       "      <th>...</th>\n",
       "      <td>...</td>\n",
       "      <td>...</td>\n",
       "      <td>...</td>\n",
       "      <td>...</td>\n",
       "    </tr>\n",
       "    <tr>\n",
       "      <th>73</th>\n",
       "      <td>15.696429</td>\n",
       "      <td>2</td>\n",
       "      <td>2022</td>\n",
       "      <td>74</td>\n",
       "    </tr>\n",
       "    <tr>\n",
       "      <th>74</th>\n",
       "      <td>16.977419</td>\n",
       "      <td>3</td>\n",
       "      <td>2022</td>\n",
       "      <td>75</td>\n",
       "    </tr>\n",
       "    <tr>\n",
       "      <th>75</th>\n",
       "      <td>18.663333</td>\n",
       "      <td>4</td>\n",
       "      <td>2022</td>\n",
       "      <td>76</td>\n",
       "    </tr>\n",
       "    <tr>\n",
       "      <th>76</th>\n",
       "      <td>20.712903</td>\n",
       "      <td>5</td>\n",
       "      <td>2022</td>\n",
       "      <td>77</td>\n",
       "    </tr>\n",
       "    <tr>\n",
       "      <th>77</th>\n",
       "      <td>24.605263</td>\n",
       "      <td>6</td>\n",
       "      <td>2022</td>\n",
       "      <td>78</td>\n",
       "    </tr>\n",
       "  </tbody>\n",
       "</table>\n",
       "<p>78 rows × 4 columns</p>\n",
       "</div>"
      ],
      "text/plain": [
       "    AvgWindspeed  Month  Year  Series\n",
       "0      11.865077      1  2016       1\n",
       "1      15.379821      2  2016       2\n",
       "2      16.598652      3  2016       3\n",
       "3      19.206097      4  2016       4\n",
       "4      21.181706      5  2016       5\n",
       "..           ...    ...   ...     ...\n",
       "73     15.696429      2  2022      74\n",
       "74     16.977419      3  2022      75\n",
       "75     18.663333      4  2022      76\n",
       "76     20.712903      5  2022      77\n",
       "77     24.605263      6  2022      78\n",
       "\n",
       "[78 rows x 4 columns]"
      ]
     },
     "execution_count": 70,
     "metadata": {},
     "output_type": "execute_result"
    }
   ],
   "source": [
    "WindSpeedData"
   ]
  },
  {
   "cell_type": "code",
   "execution_count": 71,
   "id": "32d718d5",
   "metadata": {},
   "outputs": [
    {
     "data": {
      "text/plain": [
       "((66, 10), (12, 10))"
      ]
     },
     "execution_count": 71,
     "metadata": {},
     "output_type": "execute_result"
    }
   ],
   "source": [
    "# split data into train-test set\n",
    "train = data[data['Series'] < 67]\n",
    "test = data[data['Series'] >= 67]\n",
    "# check shape\n",
    "train.shape, test.shape\n"
   ]
  },
  {
   "cell_type": "code",
   "execution_count": 72,
   "id": "dfb7d146",
   "metadata": {},
   "outputs": [
    {
     "data": {
      "text/plain": [
       "((66, 4), (12, 4))"
      ]
     },
     "execution_count": 72,
     "metadata": {},
     "output_type": "execute_result"
    }
   ],
   "source": [
    "# split data into train-test set\n",
    "\n",
    "traintemp = TempData[TempData['Series'] < 67]\n",
    "testtemp = TempData[TempData['Series'] >= 67]\n",
    "# check shape\n",
    "traintemp.shape, testtemp.shape"
   ]
  },
  {
   "cell_type": "code",
   "execution_count": 73,
   "id": "721112c4",
   "metadata": {},
   "outputs": [
    {
     "data": {
      "text/plain": [
       "((66, 4), (12, 4))"
      ]
     },
     "execution_count": 73,
     "metadata": {},
     "output_type": "execute_result"
    }
   ],
   "source": [
    "# split data into train-test set\n",
    "trainhumidity = HumidityData[HumidityData['Series'] < 67]\n",
    "testhumidity = HumidityData[HumidityData['Series'] >= 67]\n",
    "# check shape\n",
    "trainhumidity.shape, testhumidity.shape"
   ]
  },
  {
   "cell_type": "code",
   "execution_count": 74,
   "id": "b406e799",
   "metadata": {},
   "outputs": [
    {
     "data": {
      "text/plain": [
       "((66, 4), (12, 4))"
      ]
     },
     "execution_count": 74,
     "metadata": {},
     "output_type": "execute_result"
    }
   ],
   "source": [
    "# split data into train-test set\n",
    "trainwindspeed = WindSpeedData[HumidityData['Series'] < 67]\n",
    "testwindspeed = WindSpeedData[HumidityData['Series'] >= 67]\n",
    "# check shape\n",
    "trainwindspeed.shape, testwindspeed.shape"
   ]
  },
  {
   "cell_type": "code",
   "execution_count": 75,
   "id": "e58ffd70",
   "metadata": {},
   "outputs": [
    {
     "data": {
      "text/plain": [
       "((66, 4), (12, 4))"
      ]
     },
     "execution_count": 75,
     "metadata": {},
     "output_type": "execute_result"
    }
   ],
   "source": [
    "# split data into train-test set\n",
    "trainRainfall = RainfallData[HumidityData['Series'] < 67]\n",
    "testRainfall = RainfallData[HumidityData['Series'] >= 67]\n",
    "# check shape\n",
    "trainRainfall.shape, testRainfall.shape"
   ]
  },
  {
   "cell_type": "code",
   "execution_count": 76,
   "id": "88fa325d",
   "metadata": {},
   "outputs": [
    {
     "data": {
      "text/plain": [
       "((66, 4), (12, 4))"
      ]
     },
     "execution_count": 76,
     "metadata": {},
     "output_type": "execute_result"
    }
   ],
   "source": [
    "# split data into train-test set\n",
    "trainUR = UnemploymentRateData[HumidityData['Series'] < 67]\n",
    "testUR = UnemploymentRateData[HumidityData['Series'] >= 67]\n",
    "# check shape\n",
    "trainUR.shape, testUR.shape"
   ]
  },
  {
   "cell_type": "code",
   "execution_count": 81,
   "id": "96b218cd",
   "metadata": {},
   "outputs": [
    {
     "data": {
      "text/html": [
       "<style type=\"text/css\">\n",
       "#T_c77a5_row17_col1, #T_c77a5_row42_col1 {\n",
       "  background-color: lightgreen;\n",
       "}\n",
       "</style>\n",
       "<table id=\"T_c77a5\">\n",
       "  <thead>\n",
       "    <tr>\n",
       "      <th class=\"blank level0\" >&nbsp;</th>\n",
       "      <th id=\"T_c77a5_level0_col0\" class=\"col_heading level0 col0\" >Description</th>\n",
       "      <th id=\"T_c77a5_level0_col1\" class=\"col_heading level0 col1\" >Value</th>\n",
       "    </tr>\n",
       "  </thead>\n",
       "  <tbody>\n",
       "    <tr>\n",
       "      <th id=\"T_c77a5_level0_row0\" class=\"row_heading level0 row0\" >0</th>\n",
       "      <td id=\"T_c77a5_row0_col0\" class=\"data row0 col0\" >session_id</td>\n",
       "      <td id=\"T_c77a5_row0_col1\" class=\"data row0 col1\" >100</td>\n",
       "    </tr>\n",
       "    <tr>\n",
       "      <th id=\"T_c77a5_level0_row1\" class=\"row_heading level0 row1\" >1</th>\n",
       "      <td id=\"T_c77a5_row1_col0\" class=\"data row1 col0\" >Target</td>\n",
       "      <td id=\"T_c77a5_row1_col1\" class=\"data row1 col1\" >AvgTemp</td>\n",
       "    </tr>\n",
       "    <tr>\n",
       "      <th id=\"T_c77a5_level0_row2\" class=\"row_heading level0 row2\" >2</th>\n",
       "      <td id=\"T_c77a5_row2_col0\" class=\"data row2 col0\" >Original Data</td>\n",
       "      <td id=\"T_c77a5_row2_col1\" class=\"data row2 col1\" >(66, 4)</td>\n",
       "    </tr>\n",
       "    <tr>\n",
       "      <th id=\"T_c77a5_level0_row3\" class=\"row_heading level0 row3\" >3</th>\n",
       "      <td id=\"T_c77a5_row3_col0\" class=\"data row3 col0\" >Missing Values</td>\n",
       "      <td id=\"T_c77a5_row3_col1\" class=\"data row3 col1\" >False</td>\n",
       "    </tr>\n",
       "    <tr>\n",
       "      <th id=\"T_c77a5_level0_row4\" class=\"row_heading level0 row4\" >4</th>\n",
       "      <td id=\"T_c77a5_row4_col0\" class=\"data row4 col0\" >Numeric Features</td>\n",
       "      <td id=\"T_c77a5_row4_col1\" class=\"data row4 col1\" >2</td>\n",
       "    </tr>\n",
       "    <tr>\n",
       "      <th id=\"T_c77a5_level0_row5\" class=\"row_heading level0 row5\" >5</th>\n",
       "      <td id=\"T_c77a5_row5_col0\" class=\"data row5 col0\" >Categorical Features</td>\n",
       "      <td id=\"T_c77a5_row5_col1\" class=\"data row5 col1\" >1</td>\n",
       "    </tr>\n",
       "    <tr>\n",
       "      <th id=\"T_c77a5_level0_row6\" class=\"row_heading level0 row6\" >6</th>\n",
       "      <td id=\"T_c77a5_row6_col0\" class=\"data row6 col0\" >Ordinal Features</td>\n",
       "      <td id=\"T_c77a5_row6_col1\" class=\"data row6 col1\" >False</td>\n",
       "    </tr>\n",
       "    <tr>\n",
       "      <th id=\"T_c77a5_level0_row7\" class=\"row_heading level0 row7\" >7</th>\n",
       "      <td id=\"T_c77a5_row7_col0\" class=\"data row7 col0\" >High Cardinality Features</td>\n",
       "      <td id=\"T_c77a5_row7_col1\" class=\"data row7 col1\" >False</td>\n",
       "    </tr>\n",
       "    <tr>\n",
       "      <th id=\"T_c77a5_level0_row8\" class=\"row_heading level0 row8\" >8</th>\n",
       "      <td id=\"T_c77a5_row8_col0\" class=\"data row8 col0\" >High Cardinality Method</td>\n",
       "      <td id=\"T_c77a5_row8_col1\" class=\"data row8 col1\" >None</td>\n",
       "    </tr>\n",
       "    <tr>\n",
       "      <th id=\"T_c77a5_level0_row9\" class=\"row_heading level0 row9\" >9</th>\n",
       "      <td id=\"T_c77a5_row9_col0\" class=\"data row9 col0\" >Transformed Train Set</td>\n",
       "      <td id=\"T_c77a5_row9_col1\" class=\"data row9 col1\" >(66, 14)</td>\n",
       "    </tr>\n",
       "    <tr>\n",
       "      <th id=\"T_c77a5_level0_row10\" class=\"row_heading level0 row10\" >10</th>\n",
       "      <td id=\"T_c77a5_row10_col0\" class=\"data row10 col0\" >Transformed Test Set</td>\n",
       "      <td id=\"T_c77a5_row10_col1\" class=\"data row10 col1\" >(12, 14)</td>\n",
       "    </tr>\n",
       "    <tr>\n",
       "      <th id=\"T_c77a5_level0_row11\" class=\"row_heading level0 row11\" >11</th>\n",
       "      <td id=\"T_c77a5_row11_col0\" class=\"data row11 col0\" >Shuffle Train-Test</td>\n",
       "      <td id=\"T_c77a5_row11_col1\" class=\"data row11 col1\" >True</td>\n",
       "    </tr>\n",
       "    <tr>\n",
       "      <th id=\"T_c77a5_level0_row12\" class=\"row_heading level0 row12\" >12</th>\n",
       "      <td id=\"T_c77a5_row12_col0\" class=\"data row12 col0\" >Stratify Train-Test</td>\n",
       "      <td id=\"T_c77a5_row12_col1\" class=\"data row12 col1\" >False</td>\n",
       "    </tr>\n",
       "    <tr>\n",
       "      <th id=\"T_c77a5_level0_row13\" class=\"row_heading level0 row13\" >13</th>\n",
       "      <td id=\"T_c77a5_row13_col0\" class=\"data row13 col0\" >Fold Generator</td>\n",
       "      <td id=\"T_c77a5_row13_col1\" class=\"data row13 col1\" >TimeSeriesSplit</td>\n",
       "    </tr>\n",
       "    <tr>\n",
       "      <th id=\"T_c77a5_level0_row14\" class=\"row_heading level0 row14\" >14</th>\n",
       "      <td id=\"T_c77a5_row14_col0\" class=\"data row14 col0\" >Fold Number</td>\n",
       "      <td id=\"T_c77a5_row14_col1\" class=\"data row14 col1\" >3</td>\n",
       "    </tr>\n",
       "    <tr>\n",
       "      <th id=\"T_c77a5_level0_row15\" class=\"row_heading level0 row15\" >15</th>\n",
       "      <td id=\"T_c77a5_row15_col0\" class=\"data row15 col0\" >CPU Jobs</td>\n",
       "      <td id=\"T_c77a5_row15_col1\" class=\"data row15 col1\" >-1</td>\n",
       "    </tr>\n",
       "    <tr>\n",
       "      <th id=\"T_c77a5_level0_row16\" class=\"row_heading level0 row16\" >16</th>\n",
       "      <td id=\"T_c77a5_row16_col0\" class=\"data row16 col0\" >Use GPU</td>\n",
       "      <td id=\"T_c77a5_row16_col1\" class=\"data row16 col1\" >False</td>\n",
       "    </tr>\n",
       "    <tr>\n",
       "      <th id=\"T_c77a5_level0_row17\" class=\"row_heading level0 row17\" >17</th>\n",
       "      <td id=\"T_c77a5_row17_col0\" class=\"data row17 col0\" >Log Experiment</td>\n",
       "      <td id=\"T_c77a5_row17_col1\" class=\"data row17 col1\" >True</td>\n",
       "    </tr>\n",
       "    <tr>\n",
       "      <th id=\"T_c77a5_level0_row18\" class=\"row_heading level0 row18\" >18</th>\n",
       "      <td id=\"T_c77a5_row18_col0\" class=\"data row18 col0\" >Experiment Name</td>\n",
       "      <td id=\"T_c77a5_row18_col1\" class=\"data row18 col1\" >Temperature</td>\n",
       "    </tr>\n",
       "    <tr>\n",
       "      <th id=\"T_c77a5_level0_row19\" class=\"row_heading level0 row19\" >19</th>\n",
       "      <td id=\"T_c77a5_row19_col0\" class=\"data row19 col0\" >USI</td>\n",
       "      <td id=\"T_c77a5_row19_col1\" class=\"data row19 col1\" >f900</td>\n",
       "    </tr>\n",
       "    <tr>\n",
       "      <th id=\"T_c77a5_level0_row20\" class=\"row_heading level0 row20\" >20</th>\n",
       "      <td id=\"T_c77a5_row20_col0\" class=\"data row20 col0\" >Imputation Type</td>\n",
       "      <td id=\"T_c77a5_row20_col1\" class=\"data row20 col1\" >simple</td>\n",
       "    </tr>\n",
       "    <tr>\n",
       "      <th id=\"T_c77a5_level0_row21\" class=\"row_heading level0 row21\" >21</th>\n",
       "      <td id=\"T_c77a5_row21_col0\" class=\"data row21 col0\" >Iterative Imputation Iteration</td>\n",
       "      <td id=\"T_c77a5_row21_col1\" class=\"data row21 col1\" >None</td>\n",
       "    </tr>\n",
       "    <tr>\n",
       "      <th id=\"T_c77a5_level0_row22\" class=\"row_heading level0 row22\" >22</th>\n",
       "      <td id=\"T_c77a5_row22_col0\" class=\"data row22 col0\" >Numeric Imputer</td>\n",
       "      <td id=\"T_c77a5_row22_col1\" class=\"data row22 col1\" >mean</td>\n",
       "    </tr>\n",
       "    <tr>\n",
       "      <th id=\"T_c77a5_level0_row23\" class=\"row_heading level0 row23\" >23</th>\n",
       "      <td id=\"T_c77a5_row23_col0\" class=\"data row23 col0\" >Iterative Imputation Numeric Model</td>\n",
       "      <td id=\"T_c77a5_row23_col1\" class=\"data row23 col1\" >None</td>\n",
       "    </tr>\n",
       "    <tr>\n",
       "      <th id=\"T_c77a5_level0_row24\" class=\"row_heading level0 row24\" >24</th>\n",
       "      <td id=\"T_c77a5_row24_col0\" class=\"data row24 col0\" >Categorical Imputer</td>\n",
       "      <td id=\"T_c77a5_row24_col1\" class=\"data row24 col1\" >constant</td>\n",
       "    </tr>\n",
       "    <tr>\n",
       "      <th id=\"T_c77a5_level0_row25\" class=\"row_heading level0 row25\" >25</th>\n",
       "      <td id=\"T_c77a5_row25_col0\" class=\"data row25 col0\" >Iterative Imputation Categorical Model</td>\n",
       "      <td id=\"T_c77a5_row25_col1\" class=\"data row25 col1\" >None</td>\n",
       "    </tr>\n",
       "    <tr>\n",
       "      <th id=\"T_c77a5_level0_row26\" class=\"row_heading level0 row26\" >26</th>\n",
       "      <td id=\"T_c77a5_row26_col0\" class=\"data row26 col0\" >Unknown Categoricals Handling</td>\n",
       "      <td id=\"T_c77a5_row26_col1\" class=\"data row26 col1\" >least_frequent</td>\n",
       "    </tr>\n",
       "    <tr>\n",
       "      <th id=\"T_c77a5_level0_row27\" class=\"row_heading level0 row27\" >27</th>\n",
       "      <td id=\"T_c77a5_row27_col0\" class=\"data row27 col0\" >Normalize</td>\n",
       "      <td id=\"T_c77a5_row27_col1\" class=\"data row27 col1\" >False</td>\n",
       "    </tr>\n",
       "    <tr>\n",
       "      <th id=\"T_c77a5_level0_row28\" class=\"row_heading level0 row28\" >28</th>\n",
       "      <td id=\"T_c77a5_row28_col0\" class=\"data row28 col0\" >Normalize Method</td>\n",
       "      <td id=\"T_c77a5_row28_col1\" class=\"data row28 col1\" >None</td>\n",
       "    </tr>\n",
       "    <tr>\n",
       "      <th id=\"T_c77a5_level0_row29\" class=\"row_heading level0 row29\" >29</th>\n",
       "      <td id=\"T_c77a5_row29_col0\" class=\"data row29 col0\" >Transformation</td>\n",
       "      <td id=\"T_c77a5_row29_col1\" class=\"data row29 col1\" >False</td>\n",
       "    </tr>\n",
       "    <tr>\n",
       "      <th id=\"T_c77a5_level0_row30\" class=\"row_heading level0 row30\" >30</th>\n",
       "      <td id=\"T_c77a5_row30_col0\" class=\"data row30 col0\" >Transformation Method</td>\n",
       "      <td id=\"T_c77a5_row30_col1\" class=\"data row30 col1\" >None</td>\n",
       "    </tr>\n",
       "    <tr>\n",
       "      <th id=\"T_c77a5_level0_row31\" class=\"row_heading level0 row31\" >31</th>\n",
       "      <td id=\"T_c77a5_row31_col0\" class=\"data row31 col0\" >PCA</td>\n",
       "      <td id=\"T_c77a5_row31_col1\" class=\"data row31 col1\" >False</td>\n",
       "    </tr>\n",
       "    <tr>\n",
       "      <th id=\"T_c77a5_level0_row32\" class=\"row_heading level0 row32\" >32</th>\n",
       "      <td id=\"T_c77a5_row32_col0\" class=\"data row32 col0\" >PCA Method</td>\n",
       "      <td id=\"T_c77a5_row32_col1\" class=\"data row32 col1\" >None</td>\n",
       "    </tr>\n",
       "    <tr>\n",
       "      <th id=\"T_c77a5_level0_row33\" class=\"row_heading level0 row33\" >33</th>\n",
       "      <td id=\"T_c77a5_row33_col0\" class=\"data row33 col0\" >PCA Components</td>\n",
       "      <td id=\"T_c77a5_row33_col1\" class=\"data row33 col1\" >None</td>\n",
       "    </tr>\n",
       "    <tr>\n",
       "      <th id=\"T_c77a5_level0_row34\" class=\"row_heading level0 row34\" >34</th>\n",
       "      <td id=\"T_c77a5_row34_col0\" class=\"data row34 col0\" >Ignore Low Variance</td>\n",
       "      <td id=\"T_c77a5_row34_col1\" class=\"data row34 col1\" >False</td>\n",
       "    </tr>\n",
       "    <tr>\n",
       "      <th id=\"T_c77a5_level0_row35\" class=\"row_heading level0 row35\" >35</th>\n",
       "      <td id=\"T_c77a5_row35_col0\" class=\"data row35 col0\" >Combine Rare Levels</td>\n",
       "      <td id=\"T_c77a5_row35_col1\" class=\"data row35 col1\" >False</td>\n",
       "    </tr>\n",
       "    <tr>\n",
       "      <th id=\"T_c77a5_level0_row36\" class=\"row_heading level0 row36\" >36</th>\n",
       "      <td id=\"T_c77a5_row36_col0\" class=\"data row36 col0\" >Rare Level Threshold</td>\n",
       "      <td id=\"T_c77a5_row36_col1\" class=\"data row36 col1\" >None</td>\n",
       "    </tr>\n",
       "    <tr>\n",
       "      <th id=\"T_c77a5_level0_row37\" class=\"row_heading level0 row37\" >37</th>\n",
       "      <td id=\"T_c77a5_row37_col0\" class=\"data row37 col0\" >Numeric Binning</td>\n",
       "      <td id=\"T_c77a5_row37_col1\" class=\"data row37 col1\" >False</td>\n",
       "    </tr>\n",
       "    <tr>\n",
       "      <th id=\"T_c77a5_level0_row38\" class=\"row_heading level0 row38\" >38</th>\n",
       "      <td id=\"T_c77a5_row38_col0\" class=\"data row38 col0\" >Remove Outliers</td>\n",
       "      <td id=\"T_c77a5_row38_col1\" class=\"data row38 col1\" >False</td>\n",
       "    </tr>\n",
       "    <tr>\n",
       "      <th id=\"T_c77a5_level0_row39\" class=\"row_heading level0 row39\" >39</th>\n",
       "      <td id=\"T_c77a5_row39_col0\" class=\"data row39 col0\" >Outliers Threshold</td>\n",
       "      <td id=\"T_c77a5_row39_col1\" class=\"data row39 col1\" >None</td>\n",
       "    </tr>\n",
       "    <tr>\n",
       "      <th id=\"T_c77a5_level0_row40\" class=\"row_heading level0 row40\" >40</th>\n",
       "      <td id=\"T_c77a5_row40_col0\" class=\"data row40 col0\" >Remove Multicollinearity</td>\n",
       "      <td id=\"T_c77a5_row40_col1\" class=\"data row40 col1\" >False</td>\n",
       "    </tr>\n",
       "    <tr>\n",
       "      <th id=\"T_c77a5_level0_row41\" class=\"row_heading level0 row41\" >41</th>\n",
       "      <td id=\"T_c77a5_row41_col0\" class=\"data row41 col0\" >Multicollinearity Threshold</td>\n",
       "      <td id=\"T_c77a5_row41_col1\" class=\"data row41 col1\" >None</td>\n",
       "    </tr>\n",
       "    <tr>\n",
       "      <th id=\"T_c77a5_level0_row42\" class=\"row_heading level0 row42\" >42</th>\n",
       "      <td id=\"T_c77a5_row42_col0\" class=\"data row42 col0\" >Remove Perfect Collinearity</td>\n",
       "      <td id=\"T_c77a5_row42_col1\" class=\"data row42 col1\" >True</td>\n",
       "    </tr>\n",
       "    <tr>\n",
       "      <th id=\"T_c77a5_level0_row43\" class=\"row_heading level0 row43\" >43</th>\n",
       "      <td id=\"T_c77a5_row43_col0\" class=\"data row43 col0\" >Clustering</td>\n",
       "      <td id=\"T_c77a5_row43_col1\" class=\"data row43 col1\" >False</td>\n",
       "    </tr>\n",
       "    <tr>\n",
       "      <th id=\"T_c77a5_level0_row44\" class=\"row_heading level0 row44\" >44</th>\n",
       "      <td id=\"T_c77a5_row44_col0\" class=\"data row44 col0\" >Clustering Iteration</td>\n",
       "      <td id=\"T_c77a5_row44_col1\" class=\"data row44 col1\" >None</td>\n",
       "    </tr>\n",
       "    <tr>\n",
       "      <th id=\"T_c77a5_level0_row45\" class=\"row_heading level0 row45\" >45</th>\n",
       "      <td id=\"T_c77a5_row45_col0\" class=\"data row45 col0\" >Polynomial Features</td>\n",
       "      <td id=\"T_c77a5_row45_col1\" class=\"data row45 col1\" >False</td>\n",
       "    </tr>\n",
       "    <tr>\n",
       "      <th id=\"T_c77a5_level0_row46\" class=\"row_heading level0 row46\" >46</th>\n",
       "      <td id=\"T_c77a5_row46_col0\" class=\"data row46 col0\" >Polynomial Degree</td>\n",
       "      <td id=\"T_c77a5_row46_col1\" class=\"data row46 col1\" >None</td>\n",
       "    </tr>\n",
       "    <tr>\n",
       "      <th id=\"T_c77a5_level0_row47\" class=\"row_heading level0 row47\" >47</th>\n",
       "      <td id=\"T_c77a5_row47_col0\" class=\"data row47 col0\" >Trignometry Features</td>\n",
       "      <td id=\"T_c77a5_row47_col1\" class=\"data row47 col1\" >False</td>\n",
       "    </tr>\n",
       "    <tr>\n",
       "      <th id=\"T_c77a5_level0_row48\" class=\"row_heading level0 row48\" >48</th>\n",
       "      <td id=\"T_c77a5_row48_col0\" class=\"data row48 col0\" >Polynomial Threshold</td>\n",
       "      <td id=\"T_c77a5_row48_col1\" class=\"data row48 col1\" >None</td>\n",
       "    </tr>\n",
       "    <tr>\n",
       "      <th id=\"T_c77a5_level0_row49\" class=\"row_heading level0 row49\" >49</th>\n",
       "      <td id=\"T_c77a5_row49_col0\" class=\"data row49 col0\" >Group Features</td>\n",
       "      <td id=\"T_c77a5_row49_col1\" class=\"data row49 col1\" >False</td>\n",
       "    </tr>\n",
       "    <tr>\n",
       "      <th id=\"T_c77a5_level0_row50\" class=\"row_heading level0 row50\" >50</th>\n",
       "      <td id=\"T_c77a5_row50_col0\" class=\"data row50 col0\" >Feature Selection</td>\n",
       "      <td id=\"T_c77a5_row50_col1\" class=\"data row50 col1\" >False</td>\n",
       "    </tr>\n",
       "    <tr>\n",
       "      <th id=\"T_c77a5_level0_row51\" class=\"row_heading level0 row51\" >51</th>\n",
       "      <td id=\"T_c77a5_row51_col0\" class=\"data row51 col0\" >Feature Selection Method</td>\n",
       "      <td id=\"T_c77a5_row51_col1\" class=\"data row51 col1\" >classic</td>\n",
       "    </tr>\n",
       "    <tr>\n",
       "      <th id=\"T_c77a5_level0_row52\" class=\"row_heading level0 row52\" >52</th>\n",
       "      <td id=\"T_c77a5_row52_col0\" class=\"data row52 col0\" >Features Selection Threshold</td>\n",
       "      <td id=\"T_c77a5_row52_col1\" class=\"data row52 col1\" >None</td>\n",
       "    </tr>\n",
       "    <tr>\n",
       "      <th id=\"T_c77a5_level0_row53\" class=\"row_heading level0 row53\" >53</th>\n",
       "      <td id=\"T_c77a5_row53_col0\" class=\"data row53 col0\" >Feature Interaction</td>\n",
       "      <td id=\"T_c77a5_row53_col1\" class=\"data row53 col1\" >False</td>\n",
       "    </tr>\n",
       "    <tr>\n",
       "      <th id=\"T_c77a5_level0_row54\" class=\"row_heading level0 row54\" >54</th>\n",
       "      <td id=\"T_c77a5_row54_col0\" class=\"data row54 col0\" >Feature Ratio</td>\n",
       "      <td id=\"T_c77a5_row54_col1\" class=\"data row54 col1\" >False</td>\n",
       "    </tr>\n",
       "    <tr>\n",
       "      <th id=\"T_c77a5_level0_row55\" class=\"row_heading level0 row55\" >55</th>\n",
       "      <td id=\"T_c77a5_row55_col0\" class=\"data row55 col0\" >Interaction Threshold</td>\n",
       "      <td id=\"T_c77a5_row55_col1\" class=\"data row55 col1\" >None</td>\n",
       "    </tr>\n",
       "    <tr>\n",
       "      <th id=\"T_c77a5_level0_row56\" class=\"row_heading level0 row56\" >56</th>\n",
       "      <td id=\"T_c77a5_row56_col0\" class=\"data row56 col0\" >Transform Target</td>\n",
       "      <td id=\"T_c77a5_row56_col1\" class=\"data row56 col1\" >False</td>\n",
       "    </tr>\n",
       "    <tr>\n",
       "      <th id=\"T_c77a5_level0_row57\" class=\"row_heading level0 row57\" >57</th>\n",
       "      <td id=\"T_c77a5_row57_col0\" class=\"data row57 col0\" >Transform Target Method</td>\n",
       "      <td id=\"T_c77a5_row57_col1\" class=\"data row57 col1\" >box-cox</td>\n",
       "    </tr>\n",
       "  </tbody>\n",
       "</table>\n"
      ],
      "text/plain": [
       "<pandas.io.formats.style.Styler at 0x175e7598c40>"
      ]
     },
     "metadata": {},
     "output_type": "display_data"
    }
   ],
   "source": [
    "# import the regression module\n",
    "from pycaret.regression import *\n",
    "# initialize setup\n",
    "s_temp = setup(data = traintemp, test_data = testtemp, target = 'AvgTemp', fold_strategy = 'timeseries',numeric_features = ['Year', 'Series'], fold = 3, session_id = 100,log_experiment=True,experiment_name='Temperature')"
   ]
  },
  {
   "cell_type": "code",
   "execution_count": 82,
   "id": "a03bbe9f",
   "metadata": {},
   "outputs": [
    {
     "data": {
      "text/html": [
       "<style type=\"text/css\">\n",
       "#T_b31b2 th {\n",
       "  text-align: left;\n",
       "}\n",
       "#T_b31b2_row0_col0, #T_b31b2_row1_col0, #T_b31b2_row1_col1, #T_b31b2_row1_col2, #T_b31b2_row1_col3, #T_b31b2_row1_col4, #T_b31b2_row1_col5, #T_b31b2_row1_col6, #T_b31b2_row2_col0, #T_b31b2_row2_col1, #T_b31b2_row2_col2, #T_b31b2_row2_col3, #T_b31b2_row2_col4, #T_b31b2_row2_col5, #T_b31b2_row2_col6, #T_b31b2_row3_col0, #T_b31b2_row3_col1, #T_b31b2_row3_col2, #T_b31b2_row3_col3, #T_b31b2_row3_col4, #T_b31b2_row3_col5, #T_b31b2_row3_col6, #T_b31b2_row4_col0, #T_b31b2_row4_col1, #T_b31b2_row4_col2, #T_b31b2_row4_col3, #T_b31b2_row4_col4, #T_b31b2_row4_col5, #T_b31b2_row4_col6, #T_b31b2_row5_col0, #T_b31b2_row5_col1, #T_b31b2_row5_col2, #T_b31b2_row5_col3, #T_b31b2_row5_col4, #T_b31b2_row5_col5, #T_b31b2_row5_col6, #T_b31b2_row6_col0, #T_b31b2_row6_col1, #T_b31b2_row6_col2, #T_b31b2_row6_col3, #T_b31b2_row6_col4, #T_b31b2_row6_col5, #T_b31b2_row6_col6, #T_b31b2_row7_col0, #T_b31b2_row7_col1, #T_b31b2_row7_col2, #T_b31b2_row7_col3, #T_b31b2_row7_col4, #T_b31b2_row7_col5, #T_b31b2_row7_col6, #T_b31b2_row8_col0, #T_b31b2_row8_col1, #T_b31b2_row8_col2, #T_b31b2_row8_col3, #T_b31b2_row8_col4, #T_b31b2_row8_col5, #T_b31b2_row8_col6, #T_b31b2_row9_col0, #T_b31b2_row9_col1, #T_b31b2_row9_col2, #T_b31b2_row9_col3, #T_b31b2_row9_col4, #T_b31b2_row9_col5, #T_b31b2_row9_col6, #T_b31b2_row10_col0, #T_b31b2_row10_col1, #T_b31b2_row10_col2, #T_b31b2_row10_col3, #T_b31b2_row10_col4, #T_b31b2_row10_col5, #T_b31b2_row10_col6, #T_b31b2_row11_col0, #T_b31b2_row11_col1, #T_b31b2_row11_col2, #T_b31b2_row11_col3, #T_b31b2_row11_col4, #T_b31b2_row11_col5, #T_b31b2_row11_col6, #T_b31b2_row12_col0, #T_b31b2_row12_col1, #T_b31b2_row12_col2, #T_b31b2_row12_col3, #T_b31b2_row12_col4, #T_b31b2_row12_col5, #T_b31b2_row12_col6, #T_b31b2_row13_col0, #T_b31b2_row13_col1, #T_b31b2_row13_col2, #T_b31b2_row13_col3, #T_b31b2_row13_col4, #T_b31b2_row13_col5, #T_b31b2_row13_col6, #T_b31b2_row14_col0, #T_b31b2_row14_col1, #T_b31b2_row14_col2, #T_b31b2_row14_col3, #T_b31b2_row14_col4, #T_b31b2_row14_col5, #T_b31b2_row14_col6, #T_b31b2_row15_col0, #T_b31b2_row15_col1, #T_b31b2_row15_col2, #T_b31b2_row15_col3, #T_b31b2_row15_col4, #T_b31b2_row15_col5, #T_b31b2_row15_col6, #T_b31b2_row16_col0, #T_b31b2_row16_col1, #T_b31b2_row16_col2, #T_b31b2_row16_col3, #T_b31b2_row16_col4, #T_b31b2_row16_col5, #T_b31b2_row16_col6, #T_b31b2_row17_col0, #T_b31b2_row17_col1, #T_b31b2_row17_col2, #T_b31b2_row17_col3, #T_b31b2_row17_col4, #T_b31b2_row17_col5, #T_b31b2_row17_col6, #T_b31b2_row18_col0, #T_b31b2_row18_col1, #T_b31b2_row18_col2, #T_b31b2_row18_col3, #T_b31b2_row18_col4, #T_b31b2_row18_col5, #T_b31b2_row18_col6, #T_b31b2_row19_col0, #T_b31b2_row19_col1, #T_b31b2_row19_col2, #T_b31b2_row19_col3, #T_b31b2_row19_col4, #T_b31b2_row19_col5, #T_b31b2_row19_col6 {\n",
       "  text-align: left;\n",
       "}\n",
       "#T_b31b2_row0_col1, #T_b31b2_row0_col2, #T_b31b2_row0_col3, #T_b31b2_row0_col4, #T_b31b2_row0_col5, #T_b31b2_row0_col6 {\n",
       "  text-align: left;\n",
       "  background-color: yellow;\n",
       "}\n",
       "#T_b31b2_row0_col7, #T_b31b2_row1_col7, #T_b31b2_row12_col7, #T_b31b2_row14_col7, #T_b31b2_row16_col7, #T_b31b2_row19_col7 {\n",
       "  text-align: left;\n",
       "  background-color: yellow;\n",
       "  background-color: lightgrey;\n",
       "}\n",
       "#T_b31b2_row2_col7, #T_b31b2_row3_col7, #T_b31b2_row4_col7, #T_b31b2_row5_col7, #T_b31b2_row6_col7, #T_b31b2_row7_col7, #T_b31b2_row8_col7, #T_b31b2_row9_col7, #T_b31b2_row10_col7, #T_b31b2_row11_col7, #T_b31b2_row13_col7, #T_b31b2_row15_col7, #T_b31b2_row17_col7, #T_b31b2_row18_col7 {\n",
       "  text-align: left;\n",
       "  background-color: lightgrey;\n",
       "}\n",
       "</style>\n",
       "<table id=\"T_b31b2\">\n",
       "  <thead>\n",
       "    <tr>\n",
       "      <th class=\"blank level0\" >&nbsp;</th>\n",
       "      <th id=\"T_b31b2_level0_col0\" class=\"col_heading level0 col0\" >Model</th>\n",
       "      <th id=\"T_b31b2_level0_col1\" class=\"col_heading level0 col1\" >MAE</th>\n",
       "      <th id=\"T_b31b2_level0_col2\" class=\"col_heading level0 col2\" >MSE</th>\n",
       "      <th id=\"T_b31b2_level0_col3\" class=\"col_heading level0 col3\" >RMSE</th>\n",
       "      <th id=\"T_b31b2_level0_col4\" class=\"col_heading level0 col4\" >R2</th>\n",
       "      <th id=\"T_b31b2_level0_col5\" class=\"col_heading level0 col5\" >RMSLE</th>\n",
       "      <th id=\"T_b31b2_level0_col6\" class=\"col_heading level0 col6\" >MAPE</th>\n",
       "      <th id=\"T_b31b2_level0_col7\" class=\"col_heading level0 col7\" >TT (Sec)</th>\n",
       "    </tr>\n",
       "  </thead>\n",
       "  <tbody>\n",
       "    <tr>\n",
       "      <th id=\"T_b31b2_level0_row0\" class=\"row_heading level0 row0\" >lr</th>\n",
       "      <td id=\"T_b31b2_row0_col0\" class=\"data row0 col0\" >Linear Regression</td>\n",
       "      <td id=\"T_b31b2_row0_col1\" class=\"data row0 col1\" >1.0201</td>\n",
       "      <td id=\"T_b31b2_row0_col2\" class=\"data row0 col2\" >1.5620</td>\n",
       "      <td id=\"T_b31b2_row0_col3\" class=\"data row0 col3\" >1.2410</td>\n",
       "      <td id=\"T_b31b2_row0_col4\" class=\"data row0 col4\" >0.9659</td>\n",
       "      <td id=\"T_b31b2_row0_col5\" class=\"data row0 col5\" >0.0533</td>\n",
       "      <td id=\"T_b31b2_row0_col6\" class=\"data row0 col6\" >0.0445</td>\n",
       "      <td id=\"T_b31b2_row0_col7\" class=\"data row0 col7\" >0.0167</td>\n",
       "    </tr>\n",
       "    <tr>\n",
       "      <th id=\"T_b31b2_level0_row1\" class=\"row_heading level0 row1\" >lar</th>\n",
       "      <td id=\"T_b31b2_row1_col0\" class=\"data row1 col0\" >Least Angle Regression</td>\n",
       "      <td id=\"T_b31b2_row1_col1\" class=\"data row1 col1\" >1.0977</td>\n",
       "      <td id=\"T_b31b2_row1_col2\" class=\"data row1 col2\" >1.7741</td>\n",
       "      <td id=\"T_b31b2_row1_col3\" class=\"data row1 col3\" >1.3318</td>\n",
       "      <td id=\"T_b31b2_row1_col4\" class=\"data row1 col4\" >0.9604</td>\n",
       "      <td id=\"T_b31b2_row1_col5\" class=\"data row1 col5\" >0.0567</td>\n",
       "      <td id=\"T_b31b2_row1_col6\" class=\"data row1 col6\" >0.0474</td>\n",
       "      <td id=\"T_b31b2_row1_col7\" class=\"data row1 col7\" >0.0167</td>\n",
       "    </tr>\n",
       "    <tr>\n",
       "      <th id=\"T_b31b2_level0_row2\" class=\"row_heading level0 row2\" >huber</th>\n",
       "      <td id=\"T_b31b2_row2_col0\" class=\"data row2 col0\" >Huber Regressor</td>\n",
       "      <td id=\"T_b31b2_row2_col1\" class=\"data row2 col1\" >1.0861</td>\n",
       "      <td id=\"T_b31b2_row2_col2\" class=\"data row2 col2\" >1.9622</td>\n",
       "      <td id=\"T_b31b2_row2_col3\" class=\"data row2 col3\" >1.3898</td>\n",
       "      <td id=\"T_b31b2_row2_col4\" class=\"data row2 col4\" >0.9580</td>\n",
       "      <td id=\"T_b31b2_row2_col5\" class=\"data row2 col5\" >0.0658</td>\n",
       "      <td id=\"T_b31b2_row2_col6\" class=\"data row2 col6\" >0.0506</td>\n",
       "      <td id=\"T_b31b2_row2_col7\" class=\"data row2 col7\" >0.0367</td>\n",
       "    </tr>\n",
       "    <tr>\n",
       "      <th id=\"T_b31b2_level0_row3\" class=\"row_heading level0 row3\" >et</th>\n",
       "      <td id=\"T_b31b2_row3_col0\" class=\"data row3 col0\" >Extra Trees Regressor</td>\n",
       "      <td id=\"T_b31b2_row3_col1\" class=\"data row3 col1\" >1.1273</td>\n",
       "      <td id=\"T_b31b2_row3_col2\" class=\"data row3 col2\" >2.2225</td>\n",
       "      <td id=\"T_b31b2_row3_col3\" class=\"data row3 col3\" >1.4548</td>\n",
       "      <td id=\"T_b31b2_row3_col4\" class=\"data row3 col4\" >0.9516</td>\n",
       "      <td id=\"T_b31b2_row3_col5\" class=\"data row3 col5\" >0.0637</td>\n",
       "      <td id=\"T_b31b2_row3_col6\" class=\"data row3 col6\" >0.0509</td>\n",
       "      <td id=\"T_b31b2_row3_col7\" class=\"data row3 col7\" >0.1600</td>\n",
       "    </tr>\n",
       "    <tr>\n",
       "      <th id=\"T_b31b2_level0_row4\" class=\"row_heading level0 row4\" >dt</th>\n",
       "      <td id=\"T_b31b2_row4_col0\" class=\"data row4 col0\" >Decision Tree Regressor</td>\n",
       "      <td id=\"T_b31b2_row4_col1\" class=\"data row4 col1\" >1.2977</td>\n",
       "      <td id=\"T_b31b2_row4_col2\" class=\"data row4 col2\" >2.7537</td>\n",
       "      <td id=\"T_b31b2_row4_col3\" class=\"data row4 col3\" >1.6059</td>\n",
       "      <td id=\"T_b31b2_row4_col4\" class=\"data row4 col4\" >0.9414</td>\n",
       "      <td id=\"T_b31b2_row4_col5\" class=\"data row4 col5\" >0.0671</td>\n",
       "      <td id=\"T_b31b2_row4_col6\" class=\"data row4 col6\" >0.0566</td>\n",
       "      <td id=\"T_b31b2_row4_col7\" class=\"data row4 col7\" >0.0200</td>\n",
       "    </tr>\n",
       "    <tr>\n",
       "      <th id=\"T_b31b2_level0_row5\" class=\"row_heading level0 row5\" >xgboost</th>\n",
       "      <td id=\"T_b31b2_row5_col0\" class=\"data row5 col0\" >Extreme Gradient Boosting</td>\n",
       "      <td id=\"T_b31b2_row5_col1\" class=\"data row5 col1\" >1.5227</td>\n",
       "      <td id=\"T_b31b2_row5_col2\" class=\"data row5 col2\" >3.7479</td>\n",
       "      <td id=\"T_b31b2_row5_col3\" class=\"data row5 col3\" >1.8505</td>\n",
       "      <td id=\"T_b31b2_row5_col4\" class=\"data row5 col4\" >0.9212</td>\n",
       "      <td id=\"T_b31b2_row5_col5\" class=\"data row5 col5\" >0.0697</td>\n",
       "      <td id=\"T_b31b2_row5_col6\" class=\"data row5 col6\" >0.0611</td>\n",
       "      <td id=\"T_b31b2_row5_col7\" class=\"data row5 col7\" >0.0667</td>\n",
       "    </tr>\n",
       "    <tr>\n",
       "      <th id=\"T_b31b2_level0_row6\" class=\"row_heading level0 row6\" >gbr</th>\n",
       "      <td id=\"T_b31b2_row6_col0\" class=\"data row6 col0\" >Gradient Boosting Regressor</td>\n",
       "      <td id=\"T_b31b2_row6_col1\" class=\"data row6 col1\" >1.9958</td>\n",
       "      <td id=\"T_b31b2_row6_col2\" class=\"data row6 col2\" >8.4129</td>\n",
       "      <td id=\"T_b31b2_row6_col3\" class=\"data row6 col3\" >2.5311</td>\n",
       "      <td id=\"T_b31b2_row6_col4\" class=\"data row6 col4\" >0.7907</td>\n",
       "      <td id=\"T_b31b2_row6_col5\" class=\"data row6 col5\" >0.1124</td>\n",
       "      <td id=\"T_b31b2_row6_col6\" class=\"data row6 col6\" >0.0961</td>\n",
       "      <td id=\"T_b31b2_row6_col7\" class=\"data row6 col7\" >0.0400</td>\n",
       "    </tr>\n",
       "    <tr>\n",
       "      <th id=\"T_b31b2_level0_row7\" class=\"row_heading level0 row7\" >ridge</th>\n",
       "      <td id=\"T_b31b2_row7_col0\" class=\"data row7 col0\" >Ridge Regression</td>\n",
       "      <td id=\"T_b31b2_row7_col1\" class=\"data row7 col1\" >2.1532</td>\n",
       "      <td id=\"T_b31b2_row7_col2\" class=\"data row7 col2\" >7.0915</td>\n",
       "      <td id=\"T_b31b2_row7_col3\" class=\"data row7 col3\" >2.5695</td>\n",
       "      <td id=\"T_b31b2_row7_col4\" class=\"data row7 col4\" >0.8504</td>\n",
       "      <td id=\"T_b31b2_row7_col5\" class=\"data row7 col5\" >0.1244</td>\n",
       "      <td id=\"T_b31b2_row7_col6\" class=\"data row7 col6\" >0.1096</td>\n",
       "      <td id=\"T_b31b2_row7_col7\" class=\"data row7 col7\" >0.0200</td>\n",
       "    </tr>\n",
       "    <tr>\n",
       "      <th id=\"T_b31b2_level0_row8\" class=\"row_heading level0 row8\" >br</th>\n",
       "      <td id=\"T_b31b2_row8_col0\" class=\"data row8 col0\" >Bayesian Ridge</td>\n",
       "      <td id=\"T_b31b2_row8_col1\" class=\"data row8 col1\" >2.5223</td>\n",
       "      <td id=\"T_b31b2_row8_col2\" class=\"data row8 col2\" >14.2867</td>\n",
       "      <td id=\"T_b31b2_row8_col3\" class=\"data row8 col3\" >2.9872</td>\n",
       "      <td id=\"T_b31b2_row8_col4\" class=\"data row8 col4\" >0.6364</td>\n",
       "      <td id=\"T_b31b2_row8_col5\" class=\"data row8 col5\" >0.1282</td>\n",
       "      <td id=\"T_b31b2_row8_col6\" class=\"data row8 col6\" >0.1143</td>\n",
       "      <td id=\"T_b31b2_row8_col7\" class=\"data row8 col7\" >0.0200</td>\n",
       "    </tr>\n",
       "    <tr>\n",
       "      <th id=\"T_b31b2_level0_row9\" class=\"row_heading level0 row9\" >rf</th>\n",
       "      <td id=\"T_b31b2_row9_col0\" class=\"data row9 col0\" >Random Forest Regressor</td>\n",
       "      <td id=\"T_b31b2_row9_col1\" class=\"data row9 col1\" >2.2266</td>\n",
       "      <td id=\"T_b31b2_row9_col2\" class=\"data row9 col2\" >9.8737</td>\n",
       "      <td id=\"T_b31b2_row9_col3\" class=\"data row9 col3\" >2.9981</td>\n",
       "      <td id=\"T_b31b2_row9_col4\" class=\"data row9 col4\" >0.7740</td>\n",
       "      <td id=\"T_b31b2_row9_col5\" class=\"data row9 col5\" >0.1418</td>\n",
       "      <td id=\"T_b31b2_row9_col6\" class=\"data row9 col6\" >0.1163</td>\n",
       "      <td id=\"T_b31b2_row9_col7\" class=\"data row9 col7\" >0.1833</td>\n",
       "    </tr>\n",
       "    <tr>\n",
       "      <th id=\"T_b31b2_level0_row10\" class=\"row_heading level0 row10\" >ada</th>\n",
       "      <td id=\"T_b31b2_row10_col0\" class=\"data row10 col0\" >AdaBoost Regressor</td>\n",
       "      <td id=\"T_b31b2_row10_col1\" class=\"data row10 col1\" >2.4579</td>\n",
       "      <td id=\"T_b31b2_row10_col2\" class=\"data row10 col2\" >9.5734</td>\n",
       "      <td id=\"T_b31b2_row10_col3\" class=\"data row10 col3\" >3.0637</td>\n",
       "      <td id=\"T_b31b2_row10_col4\" class=\"data row10 col4\" >0.7923</td>\n",
       "      <td id=\"T_b31b2_row10_col5\" class=\"data row10 col5\" >0.1336</td>\n",
       "      <td id=\"T_b31b2_row10_col6\" class=\"data row10 col6\" >0.1150</td>\n",
       "      <td id=\"T_b31b2_row10_col7\" class=\"data row10 col7\" >0.0867</td>\n",
       "    </tr>\n",
       "    <tr>\n",
       "      <th id=\"T_b31b2_level0_row11\" class=\"row_heading level0 row11\" >catboost</th>\n",
       "      <td id=\"T_b31b2_row11_col0\" class=\"data row11 col0\" >CatBoost Regressor</td>\n",
       "      <td id=\"T_b31b2_row11_col1\" class=\"data row11 col1\" >4.2210</td>\n",
       "      <td id=\"T_b31b2_row11_col2\" class=\"data row11 col2\" >26.8285</td>\n",
       "      <td id=\"T_b31b2_row11_col3\" class=\"data row11 col3\" >5.1500</td>\n",
       "      <td id=\"T_b31b2_row11_col4\" class=\"data row11 col4\" >0.4085</td>\n",
       "      <td id=\"T_b31b2_row11_col5\" class=\"data row11 col5\" >0.2253</td>\n",
       "      <td id=\"T_b31b2_row11_col6\" class=\"data row11 col6\" >0.2074</td>\n",
       "      <td id=\"T_b31b2_row11_col7\" class=\"data row11 col7\" >0.4867</td>\n",
       "    </tr>\n",
       "    <tr>\n",
       "      <th id=\"T_b31b2_level0_row12\" class=\"row_heading level0 row12\" >omp</th>\n",
       "      <td id=\"T_b31b2_row12_col0\" class=\"data row12 col0\" >Orthogonal Matching Pursuit</td>\n",
       "      <td id=\"T_b31b2_row12_col1\" class=\"data row12 col1\" >4.9666</td>\n",
       "      <td id=\"T_b31b2_row12_col2\" class=\"data row12 col2\" >37.3454</td>\n",
       "      <td id=\"T_b31b2_row12_col3\" class=\"data row12 col3\" >6.0352</td>\n",
       "      <td id=\"T_b31b2_row12_col4\" class=\"data row12 col4\" >0.2122</td>\n",
       "      <td id=\"T_b31b2_row12_col5\" class=\"data row12 col5\" >0.2528</td>\n",
       "      <td id=\"T_b31b2_row12_col6\" class=\"data row12 col6\" >0.2373</td>\n",
       "      <td id=\"T_b31b2_row12_col7\" class=\"data row12 col7\" >0.0167</td>\n",
       "    </tr>\n",
       "    <tr>\n",
       "      <th id=\"T_b31b2_level0_row13\" class=\"row_heading level0 row13\" >llar</th>\n",
       "      <td id=\"T_b31b2_row13_col0\" class=\"data row13 col0\" >Lasso Least Angle Regression</td>\n",
       "      <td id=\"T_b31b2_row13_col1\" class=\"data row13 col1\" >6.1595</td>\n",
       "      <td id=\"T_b31b2_row13_col2\" class=\"data row13 col2\" >50.3732</td>\n",
       "      <td id=\"T_b31b2_row13_col3\" class=\"data row13 col3\" >7.0359</td>\n",
       "      <td id=\"T_b31b2_row13_col4\" class=\"data row13 col4\" >-0.0732</td>\n",
       "      <td id=\"T_b31b2_row13_col5\" class=\"data row13 col5\" >0.3066</td>\n",
       "      <td id=\"T_b31b2_row13_col6\" class=\"data row13 col6\" >0.3081</td>\n",
       "      <td id=\"T_b31b2_row13_col7\" class=\"data row13 col7\" >0.0200</td>\n",
       "    </tr>\n",
       "    <tr>\n",
       "      <th id=\"T_b31b2_level0_row14\" class=\"row_heading level0 row14\" >dummy</th>\n",
       "      <td id=\"T_b31b2_row14_col0\" class=\"data row14 col0\" >Dummy Regressor</td>\n",
       "      <td id=\"T_b31b2_row14_col1\" class=\"data row14 col1\" >6.1595</td>\n",
       "      <td id=\"T_b31b2_row14_col2\" class=\"data row14 col2\" >50.3732</td>\n",
       "      <td id=\"T_b31b2_row14_col3\" class=\"data row14 col3\" >7.0359</td>\n",
       "      <td id=\"T_b31b2_row14_col4\" class=\"data row14 col4\" >-0.0732</td>\n",
       "      <td id=\"T_b31b2_row14_col5\" class=\"data row14 col5\" >0.3066</td>\n",
       "      <td id=\"T_b31b2_row14_col6\" class=\"data row14 col6\" >0.3081</td>\n",
       "      <td id=\"T_b31b2_row14_col7\" class=\"data row14 col7\" >0.0167</td>\n",
       "    </tr>\n",
       "    <tr>\n",
       "      <th id=\"T_b31b2_level0_row15\" class=\"row_heading level0 row15\" >lightgbm</th>\n",
       "      <td id=\"T_b31b2_row15_col0\" class=\"data row15 col0\" >Light Gradient Boosting Machine</td>\n",
       "      <td id=\"T_b31b2_row15_col1\" class=\"data row15 col1\" >6.2289</td>\n",
       "      <td id=\"T_b31b2_row15_col2\" class=\"data row15 col2\" >50.8020</td>\n",
       "      <td id=\"T_b31b2_row15_col3\" class=\"data row15 col3\" >7.0687</td>\n",
       "      <td id=\"T_b31b2_row15_col4\" class=\"data row15 col4\" >-0.0835</td>\n",
       "      <td id=\"T_b31b2_row15_col5\" class=\"data row15 col5\" >0.3068</td>\n",
       "      <td id=\"T_b31b2_row15_col6\" class=\"data row15 col6\" >0.3088</td>\n",
       "      <td id=\"T_b31b2_row15_col7\" class=\"data row15 col7\" >0.0333</td>\n",
       "    </tr>\n",
       "    <tr>\n",
       "      <th id=\"T_b31b2_level0_row16\" class=\"row_heading level0 row16\" >en</th>\n",
       "      <td id=\"T_b31b2_row16_col0\" class=\"data row16 col0\" >Elastic Net</td>\n",
       "      <td id=\"T_b31b2_row16_col1\" class=\"data row16 col1\" >6.1785</td>\n",
       "      <td id=\"T_b31b2_row16_col2\" class=\"data row16 col2\" >53.9196</td>\n",
       "      <td id=\"T_b31b2_row16_col3\" class=\"data row16 col3\" >7.2187</td>\n",
       "      <td id=\"T_b31b2_row16_col4\" class=\"data row16 col4\" >-0.1262</td>\n",
       "      <td id=\"T_b31b2_row16_col5\" class=\"data row16 col5\" >0.3135</td>\n",
       "      <td id=\"T_b31b2_row16_col6\" class=\"data row16 col6\" >0.3162</td>\n",
       "      <td id=\"T_b31b2_row16_col7\" class=\"data row16 col7\" >0.0167</td>\n",
       "    </tr>\n",
       "    <tr>\n",
       "      <th id=\"T_b31b2_level0_row17\" class=\"row_heading level0 row17\" >lasso</th>\n",
       "      <td id=\"T_b31b2_row17_col0\" class=\"data row17 col0\" >Lasso Regression</td>\n",
       "      <td id=\"T_b31b2_row17_col1\" class=\"data row17 col1\" >6.2688</td>\n",
       "      <td id=\"T_b31b2_row17_col2\" class=\"data row17 col2\" >55.2073</td>\n",
       "      <td id=\"T_b31b2_row17_col3\" class=\"data row17 col3\" >7.2954</td>\n",
       "      <td id=\"T_b31b2_row17_col4\" class=\"data row17 col4\" >-0.1506</td>\n",
       "      <td id=\"T_b31b2_row17_col5\" class=\"data row17 col5\" >0.3155</td>\n",
       "      <td id=\"T_b31b2_row17_col6\" class=\"data row17 col6\" >0.3193</td>\n",
       "      <td id=\"T_b31b2_row17_col7\" class=\"data row17 col7\" >0.0233</td>\n",
       "    </tr>\n",
       "    <tr>\n",
       "      <th id=\"T_b31b2_level0_row18\" class=\"row_heading level0 row18\" >knn</th>\n",
       "      <td id=\"T_b31b2_row18_col0\" class=\"data row18 col0\" >K Neighbors Regressor</td>\n",
       "      <td id=\"T_b31b2_row18_col1\" class=\"data row18 col1\" >7.4321</td>\n",
       "      <td id=\"T_b31b2_row18_col2\" class=\"data row18 col2\" >84.8888</td>\n",
       "      <td id=\"T_b31b2_row18_col3\" class=\"data row18 col3\" >9.0150</td>\n",
       "      <td id=\"T_b31b2_row18_col4\" class=\"data row18 col4\" >-0.8087</td>\n",
       "      <td id=\"T_b31b2_row18_col5\" class=\"data row18 col5\" >0.3833</td>\n",
       "      <td id=\"T_b31b2_row18_col6\" class=\"data row18 col6\" >0.3618</td>\n",
       "      <td id=\"T_b31b2_row18_col7\" class=\"data row18 col7\" >0.0200</td>\n",
       "    </tr>\n",
       "    <tr>\n",
       "      <th id=\"T_b31b2_level0_row19\" class=\"row_heading level0 row19\" >par</th>\n",
       "      <td id=\"T_b31b2_row19_col0\" class=\"data row19 col0\" >Passive Aggressive Regressor</td>\n",
       "      <td id=\"T_b31b2_row19_col1\" class=\"data row19 col1\" >8.7898</td>\n",
       "      <td id=\"T_b31b2_row19_col2\" class=\"data row19 col2\" >121.8929</td>\n",
       "      <td id=\"T_b31b2_row19_col3\" class=\"data row19 col3\" >10.7802</td>\n",
       "      <td id=\"T_b31b2_row19_col4\" class=\"data row19 col4\" >-1.7619</td>\n",
       "      <td id=\"T_b31b2_row19_col5\" class=\"data row19 col5\" >0.4706</td>\n",
       "      <td id=\"T_b31b2_row19_col6\" class=\"data row19 col6\" >0.4228</td>\n",
       "      <td id=\"T_b31b2_row19_col7\" class=\"data row19 col7\" >0.0167</td>\n",
       "    </tr>\n",
       "  </tbody>\n",
       "</table>\n"
      ],
      "text/plain": [
       "<pandas.io.formats.style.Styler at 0x175f5d9e940>"
      ]
     },
     "metadata": {},
     "output_type": "display_data"
    }
   ],
   "source": [
    "best = compare_models(sort = 'RMSE')"
   ]
  },
  {
   "cell_type": "code",
   "execution_count": 83,
   "id": "558d83ec",
   "metadata": {},
   "outputs": [
    {
     "data": {
      "text/html": [
       "<style type=\"text/css\">\n",
       "</style>\n",
       "<table id=\"T_2717a\">\n",
       "  <thead>\n",
       "    <tr>\n",
       "      <th class=\"blank level0\" >&nbsp;</th>\n",
       "      <th id=\"T_2717a_level0_col0\" class=\"col_heading level0 col0\" >Model</th>\n",
       "      <th id=\"T_2717a_level0_col1\" class=\"col_heading level0 col1\" >MAE</th>\n",
       "      <th id=\"T_2717a_level0_col2\" class=\"col_heading level0 col2\" >MSE</th>\n",
       "      <th id=\"T_2717a_level0_col3\" class=\"col_heading level0 col3\" >RMSE</th>\n",
       "      <th id=\"T_2717a_level0_col4\" class=\"col_heading level0 col4\" >R2</th>\n",
       "      <th id=\"T_2717a_level0_col5\" class=\"col_heading level0 col5\" >RMSLE</th>\n",
       "      <th id=\"T_2717a_level0_col6\" class=\"col_heading level0 col6\" >MAPE</th>\n",
       "    </tr>\n",
       "  </thead>\n",
       "  <tbody>\n",
       "    <tr>\n",
       "      <th id=\"T_2717a_level0_row0\" class=\"row_heading level0 row0\" >0</th>\n",
       "      <td id=\"T_2717a_row0_col0\" class=\"data row0 col0\" >Linear Regression</td>\n",
       "      <td id=\"T_2717a_row0_col1\" class=\"data row0 col1\" >1.5268</td>\n",
       "      <td id=\"T_2717a_row0_col2\" class=\"data row0 col2\" >4.7387</td>\n",
       "      <td id=\"T_2717a_row0_col3\" class=\"data row0 col3\" >2.1769</td>\n",
       "      <td id=\"T_2717a_row0_col4\" class=\"data row0 col4\" >0.9206</td>\n",
       "      <td id=\"T_2717a_row0_col5\" class=\"data row0 col5\" >0.0708</td>\n",
       "      <td id=\"T_2717a_row0_col6\" class=\"data row0 col6\" >0.0524</td>\n",
       "    </tr>\n",
       "  </tbody>\n",
       "</table>\n"
      ],
      "text/plain": [
       "<pandas.io.formats.style.Styler at 0x175eb2629a0>"
      ]
     },
     "metadata": {},
     "output_type": "display_data"
    }
   ],
   "source": [
    "prediction_holdout = predict_model(best);"
   ]
  },
  {
   "cell_type": "code",
   "execution_count": 85,
   "id": "5ae3148f",
   "metadata": {
    "scrolled": true
   },
   "outputs": [
    {
     "data": {
      "text/html": [
       "<style type=\"text/css\">\n",
       "</style>\n",
       "<table id=\"T_7d179\">\n",
       "  <thead>\n",
       "    <tr>\n",
       "      <th class=\"blank level0\" >&nbsp;</th>\n",
       "      <th id=\"T_7d179_level0_col0\" class=\"col_heading level0 col0\" >Model</th>\n",
       "      <th id=\"T_7d179_level0_col1\" class=\"col_heading level0 col1\" >MAE</th>\n",
       "      <th id=\"T_7d179_level0_col2\" class=\"col_heading level0 col2\" >MSE</th>\n",
       "      <th id=\"T_7d179_level0_col3\" class=\"col_heading level0 col3\" >RMSE</th>\n",
       "      <th id=\"T_7d179_level0_col4\" class=\"col_heading level0 col4\" >R2</th>\n",
       "      <th id=\"T_7d179_level0_col5\" class=\"col_heading level0 col5\" >RMSLE</th>\n",
       "      <th id=\"T_7d179_level0_col6\" class=\"col_heading level0 col6\" >MAPE</th>\n",
       "    </tr>\n",
       "  </thead>\n",
       "  <tbody>\n",
       "    <tr>\n",
       "      <th id=\"T_7d179_level0_row0\" class=\"row_heading level0 row0\" >0</th>\n",
       "      <td id=\"T_7d179_row0_col0\" class=\"data row0 col0\" >Linear Regression</td>\n",
       "      <td id=\"T_7d179_row0_col1\" class=\"data row0 col1\" >0.7951</td>\n",
       "      <td id=\"T_7d179_row0_col2\" class=\"data row0 col2\" >1.3659</td>\n",
       "      <td id=\"T_7d179_row0_col3\" class=\"data row0 col3\" >1.1687</td>\n",
       "      <td id=\"T_7d179_row0_col4\" class=\"data row0 col4\" >0.9729</td>\n",
       "      <td id=\"T_7d179_row0_col5\" class=\"data row0 col5\" >0.0438</td>\n",
       "      <td id=\"T_7d179_row0_col6\" class=\"data row0 col6\" >0.0320</td>\n",
       "    </tr>\n",
       "  </tbody>\n",
       "</table>\n"
      ],
      "text/plain": [
       "<pandas.io.formats.style.Styler at 0x175e72ca280>"
      ]
     },
     "metadata": {},
     "output_type": "display_data"
    },
    {
     "data": {
      "application/vnd.plotly.v1+json": {
       "config": {
        "plotlyServerURL": "https://plot.ly"
       },
       "data": [
        {
         "hovertemplate": "variable=AvgTemp<br>Date=%{x}<br>value=%{y}<extra></extra>",
         "legendgroup": "AvgTemp",
         "line": {
          "color": "#636efa",
          "dash": "solid"
         },
         "marker": {
          "symbol": "circle"
         },
         "mode": "lines",
         "name": "AvgTemp",
         "orientation": "v",
         "showlegend": true,
         "type": "scatter",
         "x": [
          "2016-01-01T00:00:00",
          "2016-02-01T00:00:00",
          "2016-03-01T00:00:00",
          "2016-04-01T00:00:00",
          "2016-05-01T00:00:00",
          "2016-06-01T00:00:00",
          "2016-07-01T00:00:00",
          "2016-08-01T00:00:00",
          "2016-09-01T00:00:00",
          "2016-10-01T00:00:00",
          "2016-11-01T00:00:00",
          "2016-12-01T00:00:00",
          "2017-01-01T00:00:00",
          "2017-02-01T00:00:00",
          "2017-03-01T00:00:00",
          "2017-04-01T00:00:00",
          "2017-05-01T00:00:00",
          "2017-06-01T00:00:00",
          "2017-07-01T00:00:00",
          "2017-08-01T00:00:00",
          "2017-09-01T00:00:00",
          "2017-10-01T00:00:00",
          "2017-11-01T00:00:00",
          "2017-12-01T00:00:00",
          "2018-01-01T00:00:00",
          "2018-02-01T00:00:00",
          "2018-03-01T00:00:00",
          "2018-04-01T00:00:00",
          "2018-05-01T00:00:00",
          "2018-06-01T00:00:00",
          "2018-07-01T00:00:00",
          "2018-08-01T00:00:00",
          "2018-09-01T00:00:00",
          "2018-10-01T00:00:00",
          "2018-11-01T00:00:00",
          "2018-12-01T00:00:00",
          "2019-01-01T00:00:00",
          "2019-02-01T00:00:00",
          "2019-03-01T00:00:00",
          "2019-04-01T00:00:00",
          "2019-05-01T00:00:00",
          "2019-06-01T00:00:00",
          "2019-07-01T00:00:00",
          "2019-08-01T00:00:00",
          "2019-09-01T00:00:00",
          "2019-10-01T00:00:00",
          "2019-11-01T00:00:00",
          "2019-12-01T00:00:00",
          "2020-01-01T00:00:00",
          "2020-02-01T00:00:00",
          "2020-03-01T00:00:00",
          "2020-04-01T00:00:00",
          "2020-05-01T00:00:00",
          "2020-06-01T00:00:00",
          "2020-07-01T00:00:00",
          "2020-08-01T00:00:00",
          "2020-09-01T00:00:00",
          "2020-10-01T00:00:00",
          "2020-11-01T00:00:00",
          "2020-12-01T00:00:00",
          "2021-01-01T00:00:00",
          "2021-02-01T00:00:00",
          "2021-03-01T00:00:00",
          "2021-04-01T00:00:00",
          "2021-05-01T00:00:00",
          "2021-06-01T00:00:00",
          "2021-07-01T00:00:00",
          "2021-08-01T00:00:00",
          "2021-09-01T00:00:00",
          "2021-10-01T00:00:00",
          "2021-11-01T00:00:00",
          "2021-12-01T00:00:00",
          "2022-01-01T00:00:00",
          "2022-02-01T00:00:00",
          "2022-03-01T00:00:00",
          "2022-04-01T00:00:00",
          "2022-05-01T00:00:00",
          "2022-06-01T00:00:00"
         ],
         "xaxis": "x",
         "y": [
          14.47491039426524,
          18.235632183908038,
          24.465949820788538,
          31.52777777777778,
          33.71863799283156,
          34.101851851851855,
          30.33333333333334,
          30.14157706093189,
          30.364814814814807,
          27.3189964157706,
          20.738888888888887,
          16.059139784946233,
          14.408602150537632,
          18.440476190476186,
          23.442652329749098,
          31.362962962962975,
          33.47491039426524,
          32.62962962962961,
          30.879928315412183,
          30.365591397849446,
          29.733333333333334,
          27.216845878136205,
          20.053703703703693,
          15.774193548387107,
          13.493548387096773,
          18.589285714285715,
          25.09032258064516,
          30.800000000000004,
          34.012903225806454,
          34.70333333333333,
          31.148387096774186,
          30.354838709677416,
          28.369999999999997,
          25.903225806451616,
          20.60333333333333,
          14.425806451612903,
          13.59032258064516,
          16.185714285714287,
          21.6,
          30.52,
          32.651612903225804,
          35.07333333333334,
          31.419354838709676,
          30.35806451612903,
          29.946666666666665,
          26.141935483870956,
          21.160000000000004,
          12.632258064516126,
          13.258064516129032,
          16.868965517241378,
          21.477419354838712,
          28.156666666666673,
          32.222580645161294,
          32.93333333333333,
          31.264516129032266,
          30.158064516129027,
          30.919999999999998,
          26.048387096774196,
          18.62333333333333,
          14.470967741935485,
          12.832258064516129,
          18.735714285714288,
          25.016129032258064,
          29.066666666666666,
          30.541935483870965,
          32.333333333333336,
          31.41612903225806,
          30.51290322580645,
          28.636666666666674,
          26.241935483870964,
          19.693333333333335,
          15.1,
          12.67741935483871,
          17.05714285714286,
          25.56129032258065,
          32.523333333333326,
          33.33548387096774,
          38.11578947368421
         ],
         "yaxis": "y"
        },
        {
         "hovertemplate": "variable=Label<br>Date=%{x}<br>value=%{y}<extra></extra>",
         "legendgroup": "Label",
         "line": {
          "color": "#EF553B",
          "dash": "solid"
         },
         "marker": {
          "symbol": "circle"
         },
         "mode": "lines",
         "name": "Label",
         "orientation": "v",
         "showlegend": true,
         "type": "scatter",
         "x": [
          "2016-01-01T00:00:00",
          "2016-02-01T00:00:00",
          "2016-03-01T00:00:00",
          "2016-04-01T00:00:00",
          "2016-05-01T00:00:00",
          "2016-06-01T00:00:00",
          "2016-07-01T00:00:00",
          "2016-08-01T00:00:00",
          "2016-09-01T00:00:00",
          "2016-10-01T00:00:00",
          "2016-11-01T00:00:00",
          "2016-12-01T00:00:00",
          "2017-01-01T00:00:00",
          "2017-02-01T00:00:00",
          "2017-03-01T00:00:00",
          "2017-04-01T00:00:00",
          "2017-05-01T00:00:00",
          "2017-06-01T00:00:00",
          "2017-07-01T00:00:00",
          "2017-08-01T00:00:00",
          "2017-09-01T00:00:00",
          "2017-10-01T00:00:00",
          "2017-11-01T00:00:00",
          "2017-12-01T00:00:00",
          "2018-01-01T00:00:00",
          "2018-02-01T00:00:00",
          "2018-03-01T00:00:00",
          "2018-04-01T00:00:00",
          "2018-05-01T00:00:00",
          "2018-06-01T00:00:00",
          "2018-07-01T00:00:00",
          "2018-08-01T00:00:00",
          "2018-09-01T00:00:00",
          "2018-10-01T00:00:00",
          "2018-11-01T00:00:00",
          "2018-12-01T00:00:00",
          "2019-01-01T00:00:00",
          "2019-02-01T00:00:00",
          "2019-03-01T00:00:00",
          "2019-04-01T00:00:00",
          "2019-05-01T00:00:00",
          "2019-06-01T00:00:00",
          "2019-07-01T00:00:00",
          "2019-08-01T00:00:00",
          "2019-09-01T00:00:00",
          "2019-10-01T00:00:00",
          "2019-11-01T00:00:00",
          "2019-12-01T00:00:00",
          "2020-01-01T00:00:00",
          "2020-02-01T00:00:00",
          "2020-03-01T00:00:00",
          "2020-04-01T00:00:00",
          "2020-05-01T00:00:00",
          "2020-06-01T00:00:00",
          "2020-07-01T00:00:00",
          "2020-08-01T00:00:00",
          "2020-09-01T00:00:00",
          "2020-10-01T00:00:00",
          "2020-11-01T00:00:00",
          "2020-12-01T00:00:00",
          "2021-01-01T00:00:00",
          "2021-02-01T00:00:00",
          "2021-03-01T00:00:00",
          "2021-04-01T00:00:00",
          "2021-05-01T00:00:00",
          "2021-06-01T00:00:00",
          "2021-07-01T00:00:00",
          "2021-08-01T00:00:00",
          "2021-09-01T00:00:00",
          "2021-10-01T00:00:00",
          "2021-11-01T00:00:00",
          "2021-12-01T00:00:00",
          "2022-01-01T00:00:00",
          "2022-02-01T00:00:00",
          "2022-03-01T00:00:00",
          "2022-04-01T00:00:00",
          "2022-05-01T00:00:00",
          "2022-06-01T00:00:00"
         ],
         "xaxis": "x",
         "y": [
          14.376953125,
          18.54296875,
          24.21484375,
          30.939453125,
          33.470703125,
          34.330078125,
          31.5703125,
          30.8359375,
          30.427734375,
          27.0859375,
          20.796875,
          15.232421875,
          14.09765625,
          18.26171875,
          23.935546875,
          30.66015625,
          33.19140625,
          34.05078125,
          31.2890625,
          30.556640625,
          30.1484375,
          26.806640625,
          20.517578125,
          14.953125,
          13.81640625,
          17.982421875,
          23.65625,
          30.380859375,
          32.912109375,
          33.76953125,
          31.009765625,
          30.27734375,
          29.869140625,
          26.52734375,
          20.236328125,
          14.673828125,
          13.537109375,
          17.703125,
          23.376953125,
          30.099609375,
          32.630859375,
          33.490234375,
          30.73046875,
          29.998046875,
          29.58984375,
          26.24609375,
          19.95703125,
          14.39453125,
          13.2578125,
          17.423828125,
          23.095703125,
          29.8203125,
          32.3515625,
          33.2109375,
          30.451171875,
          29.716796875,
          29.30859375,
          25.966796875,
          19.677734375,
          14.115234375,
          12.98046875,
          17.14453125,
          22.818359375,
          29.54296875,
          32.07421875,
          32.93359375,
          30.171875,
          29.439453125,
          29.03125,
          25.689453125,
          19.400390625,
          13.8359375,
          12.69921875,
          16.865234375,
          22.5390625,
          29.263671875,
          31.794921875,
          32.65234375
         ],
         "yaxis": "y"
        }
       ],
       "layout": {
        "legend": {
         "title": {
          "text": "variable"
         },
         "tracegroupgap": 0
        },
        "margin": {
         "t": 60
        },
        "shapes": [
         {
          "fillcolor": "grey",
          "line": {
           "width": 0
          },
          "opacity": 0.25,
          "type": "rect",
          "x0": "2021-06-01",
          "x1": "2022-06-01",
          "xref": "x",
          "y0": 0,
          "y1": 1,
          "yref": "y domain"
         }
        ],
        "template": {
         "data": {
          "bar": [
           {
            "error_x": {
             "color": "#f2f5fa"
            },
            "error_y": {
             "color": "#f2f5fa"
            },
            "marker": {
             "line": {
              "color": "rgb(17,17,17)",
              "width": 0.5
             },
             "pattern": {
              "fillmode": "overlay",
              "size": 10,
              "solidity": 0.2
             }
            },
            "type": "bar"
           }
          ],
          "barpolar": [
           {
            "marker": {
             "line": {
              "color": "rgb(17,17,17)",
              "width": 0.5
             },
             "pattern": {
              "fillmode": "overlay",
              "size": 10,
              "solidity": 0.2
             }
            },
            "type": "barpolar"
           }
          ],
          "carpet": [
           {
            "aaxis": {
             "endlinecolor": "#A2B1C6",
             "gridcolor": "#506784",
             "linecolor": "#506784",
             "minorgridcolor": "#506784",
             "startlinecolor": "#A2B1C6"
            },
            "baxis": {
             "endlinecolor": "#A2B1C6",
             "gridcolor": "#506784",
             "linecolor": "#506784",
             "minorgridcolor": "#506784",
             "startlinecolor": "#A2B1C6"
            },
            "type": "carpet"
           }
          ],
          "choropleth": [
           {
            "colorbar": {
             "outlinewidth": 0,
             "ticks": ""
            },
            "type": "choropleth"
           }
          ],
          "contour": [
           {
            "colorbar": {
             "outlinewidth": 0,
             "ticks": ""
            },
            "colorscale": [
             [
              0,
              "#0d0887"
             ],
             [
              0.1111111111111111,
              "#46039f"
             ],
             [
              0.2222222222222222,
              "#7201a8"
             ],
             [
              0.3333333333333333,
              "#9c179e"
             ],
             [
              0.4444444444444444,
              "#bd3786"
             ],
             [
              0.5555555555555556,
              "#d8576b"
             ],
             [
              0.6666666666666666,
              "#ed7953"
             ],
             [
              0.7777777777777778,
              "#fb9f3a"
             ],
             [
              0.8888888888888888,
              "#fdca26"
             ],
             [
              1,
              "#f0f921"
             ]
            ],
            "type": "contour"
           }
          ],
          "contourcarpet": [
           {
            "colorbar": {
             "outlinewidth": 0,
             "ticks": ""
            },
            "type": "contourcarpet"
           }
          ],
          "heatmap": [
           {
            "colorbar": {
             "outlinewidth": 0,
             "ticks": ""
            },
            "colorscale": [
             [
              0,
              "#0d0887"
             ],
             [
              0.1111111111111111,
              "#46039f"
             ],
             [
              0.2222222222222222,
              "#7201a8"
             ],
             [
              0.3333333333333333,
              "#9c179e"
             ],
             [
              0.4444444444444444,
              "#bd3786"
             ],
             [
              0.5555555555555556,
              "#d8576b"
             ],
             [
              0.6666666666666666,
              "#ed7953"
             ],
             [
              0.7777777777777778,
              "#fb9f3a"
             ],
             [
              0.8888888888888888,
              "#fdca26"
             ],
             [
              1,
              "#f0f921"
             ]
            ],
            "type": "heatmap"
           }
          ],
          "heatmapgl": [
           {
            "colorbar": {
             "outlinewidth": 0,
             "ticks": ""
            },
            "colorscale": [
             [
              0,
              "#0d0887"
             ],
             [
              0.1111111111111111,
              "#46039f"
             ],
             [
              0.2222222222222222,
              "#7201a8"
             ],
             [
              0.3333333333333333,
              "#9c179e"
             ],
             [
              0.4444444444444444,
              "#bd3786"
             ],
             [
              0.5555555555555556,
              "#d8576b"
             ],
             [
              0.6666666666666666,
              "#ed7953"
             ],
             [
              0.7777777777777778,
              "#fb9f3a"
             ],
             [
              0.8888888888888888,
              "#fdca26"
             ],
             [
              1,
              "#f0f921"
             ]
            ],
            "type": "heatmapgl"
           }
          ],
          "histogram": [
           {
            "marker": {
             "pattern": {
              "fillmode": "overlay",
              "size": 10,
              "solidity": 0.2
             }
            },
            "type": "histogram"
           }
          ],
          "histogram2d": [
           {
            "colorbar": {
             "outlinewidth": 0,
             "ticks": ""
            },
            "colorscale": [
             [
              0,
              "#0d0887"
             ],
             [
              0.1111111111111111,
              "#46039f"
             ],
             [
              0.2222222222222222,
              "#7201a8"
             ],
             [
              0.3333333333333333,
              "#9c179e"
             ],
             [
              0.4444444444444444,
              "#bd3786"
             ],
             [
              0.5555555555555556,
              "#d8576b"
             ],
             [
              0.6666666666666666,
              "#ed7953"
             ],
             [
              0.7777777777777778,
              "#fb9f3a"
             ],
             [
              0.8888888888888888,
              "#fdca26"
             ],
             [
              1,
              "#f0f921"
             ]
            ],
            "type": "histogram2d"
           }
          ],
          "histogram2dcontour": [
           {
            "colorbar": {
             "outlinewidth": 0,
             "ticks": ""
            },
            "colorscale": [
             [
              0,
              "#0d0887"
             ],
             [
              0.1111111111111111,
              "#46039f"
             ],
             [
              0.2222222222222222,
              "#7201a8"
             ],
             [
              0.3333333333333333,
              "#9c179e"
             ],
             [
              0.4444444444444444,
              "#bd3786"
             ],
             [
              0.5555555555555556,
              "#d8576b"
             ],
             [
              0.6666666666666666,
              "#ed7953"
             ],
             [
              0.7777777777777778,
              "#fb9f3a"
             ],
             [
              0.8888888888888888,
              "#fdca26"
             ],
             [
              1,
              "#f0f921"
             ]
            ],
            "type": "histogram2dcontour"
           }
          ],
          "mesh3d": [
           {
            "colorbar": {
             "outlinewidth": 0,
             "ticks": ""
            },
            "type": "mesh3d"
           }
          ],
          "parcoords": [
           {
            "line": {
             "colorbar": {
              "outlinewidth": 0,
              "ticks": ""
             }
            },
            "type": "parcoords"
           }
          ],
          "pie": [
           {
            "automargin": true,
            "type": "pie"
           }
          ],
          "scatter": [
           {
            "marker": {
             "line": {
              "color": "#283442"
             }
            },
            "type": "scatter"
           }
          ],
          "scatter3d": [
           {
            "line": {
             "colorbar": {
              "outlinewidth": 0,
              "ticks": ""
             }
            },
            "marker": {
             "colorbar": {
              "outlinewidth": 0,
              "ticks": ""
             }
            },
            "type": "scatter3d"
           }
          ],
          "scattercarpet": [
           {
            "marker": {
             "colorbar": {
              "outlinewidth": 0,
              "ticks": ""
             }
            },
            "type": "scattercarpet"
           }
          ],
          "scattergeo": [
           {
            "marker": {
             "colorbar": {
              "outlinewidth": 0,
              "ticks": ""
             }
            },
            "type": "scattergeo"
           }
          ],
          "scattergl": [
           {
            "marker": {
             "line": {
              "color": "#283442"
             }
            },
            "type": "scattergl"
           }
          ],
          "scattermapbox": [
           {
            "marker": {
             "colorbar": {
              "outlinewidth": 0,
              "ticks": ""
             }
            },
            "type": "scattermapbox"
           }
          ],
          "scatterpolar": [
           {
            "marker": {
             "colorbar": {
              "outlinewidth": 0,
              "ticks": ""
             }
            },
            "type": "scatterpolar"
           }
          ],
          "scatterpolargl": [
           {
            "marker": {
             "colorbar": {
              "outlinewidth": 0,
              "ticks": ""
             }
            },
            "type": "scatterpolargl"
           }
          ],
          "scatterternary": [
           {
            "marker": {
             "colorbar": {
              "outlinewidth": 0,
              "ticks": ""
             }
            },
            "type": "scatterternary"
           }
          ],
          "surface": [
           {
            "colorbar": {
             "outlinewidth": 0,
             "ticks": ""
            },
            "colorscale": [
             [
              0,
              "#0d0887"
             ],
             [
              0.1111111111111111,
              "#46039f"
             ],
             [
              0.2222222222222222,
              "#7201a8"
             ],
             [
              0.3333333333333333,
              "#9c179e"
             ],
             [
              0.4444444444444444,
              "#bd3786"
             ],
             [
              0.5555555555555556,
              "#d8576b"
             ],
             [
              0.6666666666666666,
              "#ed7953"
             ],
             [
              0.7777777777777778,
              "#fb9f3a"
             ],
             [
              0.8888888888888888,
              "#fdca26"
             ],
             [
              1,
              "#f0f921"
             ]
            ],
            "type": "surface"
           }
          ],
          "table": [
           {
            "cells": {
             "fill": {
              "color": "#506784"
             },
             "line": {
              "color": "rgb(17,17,17)"
             }
            },
            "header": {
             "fill": {
              "color": "#2a3f5f"
             },
             "line": {
              "color": "rgb(17,17,17)"
             }
            },
            "type": "table"
           }
          ]
         },
         "layout": {
          "annotationdefaults": {
           "arrowcolor": "#f2f5fa",
           "arrowhead": 0,
           "arrowwidth": 1
          },
          "autotypenumbers": "strict",
          "coloraxis": {
           "colorbar": {
            "outlinewidth": 0,
            "ticks": ""
           }
          },
          "colorscale": {
           "diverging": [
            [
             0,
             "#8e0152"
            ],
            [
             0.1,
             "#c51b7d"
            ],
            [
             0.2,
             "#de77ae"
            ],
            [
             0.3,
             "#f1b6da"
            ],
            [
             0.4,
             "#fde0ef"
            ],
            [
             0.5,
             "#f7f7f7"
            ],
            [
             0.6,
             "#e6f5d0"
            ],
            [
             0.7,
             "#b8e186"
            ],
            [
             0.8,
             "#7fbc41"
            ],
            [
             0.9,
             "#4d9221"
            ],
            [
             1,
             "#276419"
            ]
           ],
           "sequential": [
            [
             0,
             "#0d0887"
            ],
            [
             0.1111111111111111,
             "#46039f"
            ],
            [
             0.2222222222222222,
             "#7201a8"
            ],
            [
             0.3333333333333333,
             "#9c179e"
            ],
            [
             0.4444444444444444,
             "#bd3786"
            ],
            [
             0.5555555555555556,
             "#d8576b"
            ],
            [
             0.6666666666666666,
             "#ed7953"
            ],
            [
             0.7777777777777778,
             "#fb9f3a"
            ],
            [
             0.8888888888888888,
             "#fdca26"
            ],
            [
             1,
             "#f0f921"
            ]
           ],
           "sequentialminus": [
            [
             0,
             "#0d0887"
            ],
            [
             0.1111111111111111,
             "#46039f"
            ],
            [
             0.2222222222222222,
             "#7201a8"
            ],
            [
             0.3333333333333333,
             "#9c179e"
            ],
            [
             0.4444444444444444,
             "#bd3786"
            ],
            [
             0.5555555555555556,
             "#d8576b"
            ],
            [
             0.6666666666666666,
             "#ed7953"
            ],
            [
             0.7777777777777778,
             "#fb9f3a"
            ],
            [
             0.8888888888888888,
             "#fdca26"
            ],
            [
             1,
             "#f0f921"
            ]
           ]
          },
          "colorway": [
           "#636efa",
           "#EF553B",
           "#00cc96",
           "#ab63fa",
           "#FFA15A",
           "#19d3f3",
           "#FF6692",
           "#B6E880",
           "#FF97FF",
           "#FECB52"
          ],
          "font": {
           "color": "#f2f5fa"
          },
          "geo": {
           "bgcolor": "rgb(17,17,17)",
           "lakecolor": "rgb(17,17,17)",
           "landcolor": "rgb(17,17,17)",
           "showlakes": true,
           "showland": true,
           "subunitcolor": "#506784"
          },
          "hoverlabel": {
           "align": "left"
          },
          "hovermode": "closest",
          "mapbox": {
           "style": "dark"
          },
          "paper_bgcolor": "rgb(17,17,17)",
          "plot_bgcolor": "rgb(17,17,17)",
          "polar": {
           "angularaxis": {
            "gridcolor": "#506784",
            "linecolor": "#506784",
            "ticks": ""
           },
           "bgcolor": "rgb(17,17,17)",
           "radialaxis": {
            "gridcolor": "#506784",
            "linecolor": "#506784",
            "ticks": ""
           }
          },
          "scene": {
           "xaxis": {
            "backgroundcolor": "rgb(17,17,17)",
            "gridcolor": "#506784",
            "gridwidth": 2,
            "linecolor": "#506784",
            "showbackground": true,
            "ticks": "",
            "zerolinecolor": "#C8D4E3"
           },
           "yaxis": {
            "backgroundcolor": "rgb(17,17,17)",
            "gridcolor": "#506784",
            "gridwidth": 2,
            "linecolor": "#506784",
            "showbackground": true,
            "ticks": "",
            "zerolinecolor": "#C8D4E3"
           },
           "zaxis": {
            "backgroundcolor": "rgb(17,17,17)",
            "gridcolor": "#506784",
            "gridwidth": 2,
            "linecolor": "#506784",
            "showbackground": true,
            "ticks": "",
            "zerolinecolor": "#C8D4E3"
           }
          },
          "shapedefaults": {
           "line": {
            "color": "#f2f5fa"
           }
          },
          "sliderdefaults": {
           "bgcolor": "#C8D4E3",
           "bordercolor": "rgb(17,17,17)",
           "borderwidth": 1,
           "tickwidth": 0
          },
          "ternary": {
           "aaxis": {
            "gridcolor": "#506784",
            "linecolor": "#506784",
            "ticks": ""
           },
           "baxis": {
            "gridcolor": "#506784",
            "linecolor": "#506784",
            "ticks": ""
           },
           "bgcolor": "rgb(17,17,17)",
           "caxis": {
            "gridcolor": "#506784",
            "linecolor": "#506784",
            "ticks": ""
           }
          },
          "title": {
           "x": 0.05
          },
          "updatemenudefaults": {
           "bgcolor": "#506784",
           "borderwidth": 0
          },
          "xaxis": {
           "automargin": true,
           "gridcolor": "#283442",
           "linecolor": "#506784",
           "ticks": "",
           "title": {
            "standoff": 15
           },
           "zerolinecolor": "#283442",
           "zerolinewidth": 2
          },
          "yaxis": {
           "automargin": true,
           "gridcolor": "#283442",
           "linecolor": "#506784",
           "ticks": "",
           "title": {
            "standoff": 15
           },
           "zerolinecolor": "#283442",
           "zerolinewidth": 2
          }
         }
        },
        "xaxis": {
         "anchor": "y",
         "domain": [
          0,
          1
         ],
         "title": {
          "text": "Date"
         }
        },
        "yaxis": {
         "anchor": "x",
         "domain": [
          0,
          1
         ],
         "title": {
          "text": "value"
         }
        }
       }
      },
      "text/html": [
       "<div>                            <div id=\"f85ee4d7-7743-414c-993a-6d066e436d37\" class=\"plotly-graph-div\" style=\"height:525px; width:100%;\"></div>            <script type=\"text/javascript\">                require([\"plotly\"], function(Plotly) {                    window.PLOTLYENV=window.PLOTLYENV || {};                                    if (document.getElementById(\"f85ee4d7-7743-414c-993a-6d066e436d37\")) {                    Plotly.newPlot(                        \"f85ee4d7-7743-414c-993a-6d066e436d37\",                        [{\"hovertemplate\":\"variable=AvgTemp<br>Date=%{x}<br>value=%{y}<extra></extra>\",\"legendgroup\":\"AvgTemp\",\"line\":{\"color\":\"#636efa\",\"dash\":\"solid\"},\"marker\":{\"symbol\":\"circle\"},\"mode\":\"lines\",\"name\":\"AvgTemp\",\"orientation\":\"v\",\"showlegend\":true,\"x\":[\"2016-01-01T00:00:00\",\"2016-02-01T00:00:00\",\"2016-03-01T00:00:00\",\"2016-04-01T00:00:00\",\"2016-05-01T00:00:00\",\"2016-06-01T00:00:00\",\"2016-07-01T00:00:00\",\"2016-08-01T00:00:00\",\"2016-09-01T00:00:00\",\"2016-10-01T00:00:00\",\"2016-11-01T00:00:00\",\"2016-12-01T00:00:00\",\"2017-01-01T00:00:00\",\"2017-02-01T00:00:00\",\"2017-03-01T00:00:00\",\"2017-04-01T00:00:00\",\"2017-05-01T00:00:00\",\"2017-06-01T00:00:00\",\"2017-07-01T00:00:00\",\"2017-08-01T00:00:00\",\"2017-09-01T00:00:00\",\"2017-10-01T00:00:00\",\"2017-11-01T00:00:00\",\"2017-12-01T00:00:00\",\"2018-01-01T00:00:00\",\"2018-02-01T00:00:00\",\"2018-03-01T00:00:00\",\"2018-04-01T00:00:00\",\"2018-05-01T00:00:00\",\"2018-06-01T00:00:00\",\"2018-07-01T00:00:00\",\"2018-08-01T00:00:00\",\"2018-09-01T00:00:00\",\"2018-10-01T00:00:00\",\"2018-11-01T00:00:00\",\"2018-12-01T00:00:00\",\"2019-01-01T00:00:00\",\"2019-02-01T00:00:00\",\"2019-03-01T00:00:00\",\"2019-04-01T00:00:00\",\"2019-05-01T00:00:00\",\"2019-06-01T00:00:00\",\"2019-07-01T00:00:00\",\"2019-08-01T00:00:00\",\"2019-09-01T00:00:00\",\"2019-10-01T00:00:00\",\"2019-11-01T00:00:00\",\"2019-12-01T00:00:00\",\"2020-01-01T00:00:00\",\"2020-02-01T00:00:00\",\"2020-03-01T00:00:00\",\"2020-04-01T00:00:00\",\"2020-05-01T00:00:00\",\"2020-06-01T00:00:00\",\"2020-07-01T00:00:00\",\"2020-08-01T00:00:00\",\"2020-09-01T00:00:00\",\"2020-10-01T00:00:00\",\"2020-11-01T00:00:00\",\"2020-12-01T00:00:00\",\"2021-01-01T00:00:00\",\"2021-02-01T00:00:00\",\"2021-03-01T00:00:00\",\"2021-04-01T00:00:00\",\"2021-05-01T00:00:00\",\"2021-06-01T00:00:00\",\"2021-07-01T00:00:00\",\"2021-08-01T00:00:00\",\"2021-09-01T00:00:00\",\"2021-10-01T00:00:00\",\"2021-11-01T00:00:00\",\"2021-12-01T00:00:00\",\"2022-01-01T00:00:00\",\"2022-02-01T00:00:00\",\"2022-03-01T00:00:00\",\"2022-04-01T00:00:00\",\"2022-05-01T00:00:00\",\"2022-06-01T00:00:00\"],\"xaxis\":\"x\",\"y\":[14.47491039426524,18.235632183908038,24.465949820788538,31.52777777777778,33.71863799283156,34.101851851851855,30.33333333333334,30.14157706093189,30.364814814814807,27.3189964157706,20.738888888888887,16.059139784946233,14.408602150537632,18.440476190476186,23.442652329749098,31.362962962962975,33.47491039426524,32.62962962962961,30.879928315412183,30.365591397849446,29.733333333333334,27.216845878136205,20.053703703703693,15.774193548387107,13.493548387096773,18.589285714285715,25.09032258064516,30.800000000000004,34.012903225806454,34.70333333333333,31.148387096774186,30.354838709677416,28.369999999999997,25.903225806451616,20.60333333333333,14.425806451612903,13.59032258064516,16.185714285714287,21.6,30.52,32.651612903225804,35.07333333333334,31.419354838709676,30.35806451612903,29.946666666666665,26.141935483870956,21.160000000000004,12.632258064516126,13.258064516129032,16.868965517241378,21.477419354838712,28.156666666666673,32.222580645161294,32.93333333333333,31.264516129032266,30.158064516129027,30.919999999999998,26.048387096774196,18.62333333333333,14.470967741935485,12.832258064516129,18.735714285714288,25.016129032258064,29.066666666666666,30.541935483870965,32.333333333333336,31.41612903225806,30.51290322580645,28.636666666666674,26.241935483870964,19.693333333333335,15.1,12.67741935483871,17.05714285714286,25.56129032258065,32.523333333333326,33.33548387096774,38.11578947368421],\"yaxis\":\"y\",\"type\":\"scatter\"},{\"hovertemplate\":\"variable=Label<br>Date=%{x}<br>value=%{y}<extra></extra>\",\"legendgroup\":\"Label\",\"line\":{\"color\":\"#EF553B\",\"dash\":\"solid\"},\"marker\":{\"symbol\":\"circle\"},\"mode\":\"lines\",\"name\":\"Label\",\"orientation\":\"v\",\"showlegend\":true,\"x\":[\"2016-01-01T00:00:00\",\"2016-02-01T00:00:00\",\"2016-03-01T00:00:00\",\"2016-04-01T00:00:00\",\"2016-05-01T00:00:00\",\"2016-06-01T00:00:00\",\"2016-07-01T00:00:00\",\"2016-08-01T00:00:00\",\"2016-09-01T00:00:00\",\"2016-10-01T00:00:00\",\"2016-11-01T00:00:00\",\"2016-12-01T00:00:00\",\"2017-01-01T00:00:00\",\"2017-02-01T00:00:00\",\"2017-03-01T00:00:00\",\"2017-04-01T00:00:00\",\"2017-05-01T00:00:00\",\"2017-06-01T00:00:00\",\"2017-07-01T00:00:00\",\"2017-08-01T00:00:00\",\"2017-09-01T00:00:00\",\"2017-10-01T00:00:00\",\"2017-11-01T00:00:00\",\"2017-12-01T00:00:00\",\"2018-01-01T00:00:00\",\"2018-02-01T00:00:00\",\"2018-03-01T00:00:00\",\"2018-04-01T00:00:00\",\"2018-05-01T00:00:00\",\"2018-06-01T00:00:00\",\"2018-07-01T00:00:00\",\"2018-08-01T00:00:00\",\"2018-09-01T00:00:00\",\"2018-10-01T00:00:00\",\"2018-11-01T00:00:00\",\"2018-12-01T00:00:00\",\"2019-01-01T00:00:00\",\"2019-02-01T00:00:00\",\"2019-03-01T00:00:00\",\"2019-04-01T00:00:00\",\"2019-05-01T00:00:00\",\"2019-06-01T00:00:00\",\"2019-07-01T00:00:00\",\"2019-08-01T00:00:00\",\"2019-09-01T00:00:00\",\"2019-10-01T00:00:00\",\"2019-11-01T00:00:00\",\"2019-12-01T00:00:00\",\"2020-01-01T00:00:00\",\"2020-02-01T00:00:00\",\"2020-03-01T00:00:00\",\"2020-04-01T00:00:00\",\"2020-05-01T00:00:00\",\"2020-06-01T00:00:00\",\"2020-07-01T00:00:00\",\"2020-08-01T00:00:00\",\"2020-09-01T00:00:00\",\"2020-10-01T00:00:00\",\"2020-11-01T00:00:00\",\"2020-12-01T00:00:00\",\"2021-01-01T00:00:00\",\"2021-02-01T00:00:00\",\"2021-03-01T00:00:00\",\"2021-04-01T00:00:00\",\"2021-05-01T00:00:00\",\"2021-06-01T00:00:00\",\"2021-07-01T00:00:00\",\"2021-08-01T00:00:00\",\"2021-09-01T00:00:00\",\"2021-10-01T00:00:00\",\"2021-11-01T00:00:00\",\"2021-12-01T00:00:00\",\"2022-01-01T00:00:00\",\"2022-02-01T00:00:00\",\"2022-03-01T00:00:00\",\"2022-04-01T00:00:00\",\"2022-05-01T00:00:00\",\"2022-06-01T00:00:00\"],\"xaxis\":\"x\",\"y\":[14.376953125,18.54296875,24.21484375,30.939453125,33.470703125,34.330078125,31.5703125,30.8359375,30.427734375,27.0859375,20.796875,15.232421875,14.09765625,18.26171875,23.935546875,30.66015625,33.19140625,34.05078125,31.2890625,30.556640625,30.1484375,26.806640625,20.517578125,14.953125,13.81640625,17.982421875,23.65625,30.380859375,32.912109375,33.76953125,31.009765625,30.27734375,29.869140625,26.52734375,20.236328125,14.673828125,13.537109375,17.703125,23.376953125,30.099609375,32.630859375,33.490234375,30.73046875,29.998046875,29.58984375,26.24609375,19.95703125,14.39453125,13.2578125,17.423828125,23.095703125,29.8203125,32.3515625,33.2109375,30.451171875,29.716796875,29.30859375,25.966796875,19.677734375,14.115234375,12.98046875,17.14453125,22.818359375,29.54296875,32.07421875,32.93359375,30.171875,29.439453125,29.03125,25.689453125,19.400390625,13.8359375,12.69921875,16.865234375,22.5390625,29.263671875,31.794921875,32.65234375],\"yaxis\":\"y\",\"type\":\"scatter\"}],                        {\"template\":{\"data\":{\"barpolar\":[{\"marker\":{\"line\":{\"color\":\"rgb(17,17,17)\",\"width\":0.5},\"pattern\":{\"fillmode\":\"overlay\",\"size\":10,\"solidity\":0.2}},\"type\":\"barpolar\"}],\"bar\":[{\"error_x\":{\"color\":\"#f2f5fa\"},\"error_y\":{\"color\":\"#f2f5fa\"},\"marker\":{\"line\":{\"color\":\"rgb(17,17,17)\",\"width\":0.5},\"pattern\":{\"fillmode\":\"overlay\",\"size\":10,\"solidity\":0.2}},\"type\":\"bar\"}],\"carpet\":[{\"aaxis\":{\"endlinecolor\":\"#A2B1C6\",\"gridcolor\":\"#506784\",\"linecolor\":\"#506784\",\"minorgridcolor\":\"#506784\",\"startlinecolor\":\"#A2B1C6\"},\"baxis\":{\"endlinecolor\":\"#A2B1C6\",\"gridcolor\":\"#506784\",\"linecolor\":\"#506784\",\"minorgridcolor\":\"#506784\",\"startlinecolor\":\"#A2B1C6\"},\"type\":\"carpet\"}],\"choropleth\":[{\"colorbar\":{\"outlinewidth\":0,\"ticks\":\"\"},\"type\":\"choropleth\"}],\"contourcarpet\":[{\"colorbar\":{\"outlinewidth\":0,\"ticks\":\"\"},\"type\":\"contourcarpet\"}],\"contour\":[{\"colorbar\":{\"outlinewidth\":0,\"ticks\":\"\"},\"colorscale\":[[0.0,\"#0d0887\"],[0.1111111111111111,\"#46039f\"],[0.2222222222222222,\"#7201a8\"],[0.3333333333333333,\"#9c179e\"],[0.4444444444444444,\"#bd3786\"],[0.5555555555555556,\"#d8576b\"],[0.6666666666666666,\"#ed7953\"],[0.7777777777777778,\"#fb9f3a\"],[0.8888888888888888,\"#fdca26\"],[1.0,\"#f0f921\"]],\"type\":\"contour\"}],\"heatmapgl\":[{\"colorbar\":{\"outlinewidth\":0,\"ticks\":\"\"},\"colorscale\":[[0.0,\"#0d0887\"],[0.1111111111111111,\"#46039f\"],[0.2222222222222222,\"#7201a8\"],[0.3333333333333333,\"#9c179e\"],[0.4444444444444444,\"#bd3786\"],[0.5555555555555556,\"#d8576b\"],[0.6666666666666666,\"#ed7953\"],[0.7777777777777778,\"#fb9f3a\"],[0.8888888888888888,\"#fdca26\"],[1.0,\"#f0f921\"]],\"type\":\"heatmapgl\"}],\"heatmap\":[{\"colorbar\":{\"outlinewidth\":0,\"ticks\":\"\"},\"colorscale\":[[0.0,\"#0d0887\"],[0.1111111111111111,\"#46039f\"],[0.2222222222222222,\"#7201a8\"],[0.3333333333333333,\"#9c179e\"],[0.4444444444444444,\"#bd3786\"],[0.5555555555555556,\"#d8576b\"],[0.6666666666666666,\"#ed7953\"],[0.7777777777777778,\"#fb9f3a\"],[0.8888888888888888,\"#fdca26\"],[1.0,\"#f0f921\"]],\"type\":\"heatmap\"}],\"histogram2dcontour\":[{\"colorbar\":{\"outlinewidth\":0,\"ticks\":\"\"},\"colorscale\":[[0.0,\"#0d0887\"],[0.1111111111111111,\"#46039f\"],[0.2222222222222222,\"#7201a8\"],[0.3333333333333333,\"#9c179e\"],[0.4444444444444444,\"#bd3786\"],[0.5555555555555556,\"#d8576b\"],[0.6666666666666666,\"#ed7953\"],[0.7777777777777778,\"#fb9f3a\"],[0.8888888888888888,\"#fdca26\"],[1.0,\"#f0f921\"]],\"type\":\"histogram2dcontour\"}],\"histogram2d\":[{\"colorbar\":{\"outlinewidth\":0,\"ticks\":\"\"},\"colorscale\":[[0.0,\"#0d0887\"],[0.1111111111111111,\"#46039f\"],[0.2222222222222222,\"#7201a8\"],[0.3333333333333333,\"#9c179e\"],[0.4444444444444444,\"#bd3786\"],[0.5555555555555556,\"#d8576b\"],[0.6666666666666666,\"#ed7953\"],[0.7777777777777778,\"#fb9f3a\"],[0.8888888888888888,\"#fdca26\"],[1.0,\"#f0f921\"]],\"type\":\"histogram2d\"}],\"histogram\":[{\"marker\":{\"pattern\":{\"fillmode\":\"overlay\",\"size\":10,\"solidity\":0.2}},\"type\":\"histogram\"}],\"mesh3d\":[{\"colorbar\":{\"outlinewidth\":0,\"ticks\":\"\"},\"type\":\"mesh3d\"}],\"parcoords\":[{\"line\":{\"colorbar\":{\"outlinewidth\":0,\"ticks\":\"\"}},\"type\":\"parcoords\"}],\"pie\":[{\"automargin\":true,\"type\":\"pie\"}],\"scatter3d\":[{\"line\":{\"colorbar\":{\"outlinewidth\":0,\"ticks\":\"\"}},\"marker\":{\"colorbar\":{\"outlinewidth\":0,\"ticks\":\"\"}},\"type\":\"scatter3d\"}],\"scattercarpet\":[{\"marker\":{\"colorbar\":{\"outlinewidth\":0,\"ticks\":\"\"}},\"type\":\"scattercarpet\"}],\"scattergeo\":[{\"marker\":{\"colorbar\":{\"outlinewidth\":0,\"ticks\":\"\"}},\"type\":\"scattergeo\"}],\"scattergl\":[{\"marker\":{\"line\":{\"color\":\"#283442\"}},\"type\":\"scattergl\"}],\"scattermapbox\":[{\"marker\":{\"colorbar\":{\"outlinewidth\":0,\"ticks\":\"\"}},\"type\":\"scattermapbox\"}],\"scatterpolargl\":[{\"marker\":{\"colorbar\":{\"outlinewidth\":0,\"ticks\":\"\"}},\"type\":\"scatterpolargl\"}],\"scatterpolar\":[{\"marker\":{\"colorbar\":{\"outlinewidth\":0,\"ticks\":\"\"}},\"type\":\"scatterpolar\"}],\"scatter\":[{\"marker\":{\"line\":{\"color\":\"#283442\"}},\"type\":\"scatter\"}],\"scatterternary\":[{\"marker\":{\"colorbar\":{\"outlinewidth\":0,\"ticks\":\"\"}},\"type\":\"scatterternary\"}],\"surface\":[{\"colorbar\":{\"outlinewidth\":0,\"ticks\":\"\"},\"colorscale\":[[0.0,\"#0d0887\"],[0.1111111111111111,\"#46039f\"],[0.2222222222222222,\"#7201a8\"],[0.3333333333333333,\"#9c179e\"],[0.4444444444444444,\"#bd3786\"],[0.5555555555555556,\"#d8576b\"],[0.6666666666666666,\"#ed7953\"],[0.7777777777777778,\"#fb9f3a\"],[0.8888888888888888,\"#fdca26\"],[1.0,\"#f0f921\"]],\"type\":\"surface\"}],\"table\":[{\"cells\":{\"fill\":{\"color\":\"#506784\"},\"line\":{\"color\":\"rgb(17,17,17)\"}},\"header\":{\"fill\":{\"color\":\"#2a3f5f\"},\"line\":{\"color\":\"rgb(17,17,17)\"}},\"type\":\"table\"}]},\"layout\":{\"annotationdefaults\":{\"arrowcolor\":\"#f2f5fa\",\"arrowhead\":0,\"arrowwidth\":1},\"autotypenumbers\":\"strict\",\"coloraxis\":{\"colorbar\":{\"outlinewidth\":0,\"ticks\":\"\"}},\"colorscale\":{\"diverging\":[[0,\"#8e0152\"],[0.1,\"#c51b7d\"],[0.2,\"#de77ae\"],[0.3,\"#f1b6da\"],[0.4,\"#fde0ef\"],[0.5,\"#f7f7f7\"],[0.6,\"#e6f5d0\"],[0.7,\"#b8e186\"],[0.8,\"#7fbc41\"],[0.9,\"#4d9221\"],[1,\"#276419\"]],\"sequential\":[[0.0,\"#0d0887\"],[0.1111111111111111,\"#46039f\"],[0.2222222222222222,\"#7201a8\"],[0.3333333333333333,\"#9c179e\"],[0.4444444444444444,\"#bd3786\"],[0.5555555555555556,\"#d8576b\"],[0.6666666666666666,\"#ed7953\"],[0.7777777777777778,\"#fb9f3a\"],[0.8888888888888888,\"#fdca26\"],[1.0,\"#f0f921\"]],\"sequentialminus\":[[0.0,\"#0d0887\"],[0.1111111111111111,\"#46039f\"],[0.2222222222222222,\"#7201a8\"],[0.3333333333333333,\"#9c179e\"],[0.4444444444444444,\"#bd3786\"],[0.5555555555555556,\"#d8576b\"],[0.6666666666666666,\"#ed7953\"],[0.7777777777777778,\"#fb9f3a\"],[0.8888888888888888,\"#fdca26\"],[1.0,\"#f0f921\"]]},\"colorway\":[\"#636efa\",\"#EF553B\",\"#00cc96\",\"#ab63fa\",\"#FFA15A\",\"#19d3f3\",\"#FF6692\",\"#B6E880\",\"#FF97FF\",\"#FECB52\"],\"font\":{\"color\":\"#f2f5fa\"},\"geo\":{\"bgcolor\":\"rgb(17,17,17)\",\"lakecolor\":\"rgb(17,17,17)\",\"landcolor\":\"rgb(17,17,17)\",\"showlakes\":true,\"showland\":true,\"subunitcolor\":\"#506784\"},\"hoverlabel\":{\"align\":\"left\"},\"hovermode\":\"closest\",\"mapbox\":{\"style\":\"dark\"},\"paper_bgcolor\":\"rgb(17,17,17)\",\"plot_bgcolor\":\"rgb(17,17,17)\",\"polar\":{\"angularaxis\":{\"gridcolor\":\"#506784\",\"linecolor\":\"#506784\",\"ticks\":\"\"},\"bgcolor\":\"rgb(17,17,17)\",\"radialaxis\":{\"gridcolor\":\"#506784\",\"linecolor\":\"#506784\",\"ticks\":\"\"}},\"scene\":{\"xaxis\":{\"backgroundcolor\":\"rgb(17,17,17)\",\"gridcolor\":\"#506784\",\"gridwidth\":2,\"linecolor\":\"#506784\",\"showbackground\":true,\"ticks\":\"\",\"zerolinecolor\":\"#C8D4E3\"},\"yaxis\":{\"backgroundcolor\":\"rgb(17,17,17)\",\"gridcolor\":\"#506784\",\"gridwidth\":2,\"linecolor\":\"#506784\",\"showbackground\":true,\"ticks\":\"\",\"zerolinecolor\":\"#C8D4E3\"},\"zaxis\":{\"backgroundcolor\":\"rgb(17,17,17)\",\"gridcolor\":\"#506784\",\"gridwidth\":2,\"linecolor\":\"#506784\",\"showbackground\":true,\"ticks\":\"\",\"zerolinecolor\":\"#C8D4E3\"}},\"shapedefaults\":{\"line\":{\"color\":\"#f2f5fa\"}},\"sliderdefaults\":{\"bgcolor\":\"#C8D4E3\",\"bordercolor\":\"rgb(17,17,17)\",\"borderwidth\":1,\"tickwidth\":0},\"ternary\":{\"aaxis\":{\"gridcolor\":\"#506784\",\"linecolor\":\"#506784\",\"ticks\":\"\"},\"baxis\":{\"gridcolor\":\"#506784\",\"linecolor\":\"#506784\",\"ticks\":\"\"},\"bgcolor\":\"rgb(17,17,17)\",\"caxis\":{\"gridcolor\":\"#506784\",\"linecolor\":\"#506784\",\"ticks\":\"\"}},\"title\":{\"x\":0.05},\"updatemenudefaults\":{\"bgcolor\":\"#506784\",\"borderwidth\":0},\"xaxis\":{\"automargin\":true,\"gridcolor\":\"#283442\",\"linecolor\":\"#506784\",\"ticks\":\"\",\"title\":{\"standoff\":15},\"zerolinecolor\":\"#283442\",\"zerolinewidth\":2},\"yaxis\":{\"automargin\":true,\"gridcolor\":\"#283442\",\"linecolor\":\"#506784\",\"ticks\":\"\",\"title\":{\"standoff\":15},\"zerolinecolor\":\"#283442\",\"zerolinewidth\":2}}},\"xaxis\":{\"anchor\":\"y\",\"domain\":[0.0,1.0],\"title\":{\"text\":\"Date\"}},\"yaxis\":{\"anchor\":\"x\",\"domain\":[0.0,1.0],\"title\":{\"text\":\"value\"}},\"legend\":{\"title\":{\"text\":\"variable\"},\"tracegroupgap\":0},\"margin\":{\"t\":60},\"shapes\":[{\"fillcolor\":\"grey\",\"line\":{\"width\":0},\"opacity\":0.25,\"type\":\"rect\",\"x0\":\"2021-06-01\",\"x1\":\"2022-06-01\",\"xref\":\"x\",\"y0\":0,\"y1\":1,\"yref\":\"y domain\"}]},                        {\"responsive\": true}                    ).then(function(){\n",
       "                            \n",
       "var gd = document.getElementById('f85ee4d7-7743-414c-993a-6d066e436d37');\n",
       "var x = new MutationObserver(function (mutations, observer) {{\n",
       "        var display = window.getComputedStyle(gd).display;\n",
       "        if (!display || display === 'none') {{\n",
       "            console.log([gd, 'removed!']);\n",
       "            Plotly.purge(gd);\n",
       "            observer.disconnect();\n",
       "        }}\n",
       "}});\n",
       "\n",
       "// Listen for the removal of the full notebook cells\n",
       "var notebookContainer = gd.closest('#notebook-container');\n",
       "if (notebookContainer) {{\n",
       "    x.observe(notebookContainer, {childList: true});\n",
       "}}\n",
       "\n",
       "// Listen for the clearing of the current output cell\n",
       "var outputEl = gd.closest('.output');\n",
       "if (outputEl) {{\n",
       "    x.observe(outputEl, {childList: true});\n",
       "}}\n",
       "\n",
       "                        })                };                });            </script>        </div>"
      ]
     },
     "metadata": {},
     "output_type": "display_data"
    }
   ],
   "source": [
    "# generate predictions on the original dataset\n",
    "import plotly.express as px\n",
    "predictions = predict_model(best, data=TempData)\n",
    "# add a date column in the dataset\n",
    "predictions['Date'] = pd.date_range(start='2016-01-01', end = '2022-06-01', freq = 'MS')\n",
    "# line plot\n",
    "fig = px.line(predictions, x='Date', y=[\"AvgTemp\", \"Label\"], template = 'plotly_dark')\n",
    "# add a vertical rectange for test-set separation\n",
    "fig.add_vrect(x0=\"2021-06-01\", x1=\"2022-06-01\", fillcolor=\"grey\", opacity=0.25, line_width=0)\n",
    "fig.show()"
   ]
  },
  {
   "cell_type": "code",
   "execution_count": 86,
   "id": "52362dd6",
   "metadata": {},
   "outputs": [],
   "source": [
    "final_best = finalize_model(best)"
   ]
  },
  {
   "cell_type": "code",
   "execution_count": 87,
   "id": "4305e28d",
   "metadata": {},
   "outputs": [
    {
     "name": "stdout",
     "output_type": "stream",
     "text": [
      "Transformation Pipeline and Model Successfully Saved\n"
     ]
    },
    {
     "data": {
      "text/plain": [
       "(Pipeline(memory=None,\n",
       "          steps=[('dtypes',\n",
       "                  DataTypes_Auto_infer(categorical_features=[],\n",
       "                                       display_types=True, features_todrop=[],\n",
       "                                       id_columns=[], ml_usecase='regression',\n",
       "                                       numerical_features=['Year', 'Series'],\n",
       "                                       target='AvgTemp', time_features=[])),\n",
       "                 ('imputer',\n",
       "                  Simple_Imputer(categorical_strategy='not_available',\n",
       "                                 fill_value_categorical=None,\n",
       "                                 fill_value_numerical=None,\n",
       "                                 n...\n",
       "                 ('cluster_all', 'passthrough'),\n",
       "                 ('dummy', Dummify(target='AvgTemp')),\n",
       "                 ('fix_perfect', Remove_100(target='AvgTemp')),\n",
       "                 ('clean_names', Clean_Colum_Names()),\n",
       "                 ('feature_select', 'passthrough'), ('fix_multi', 'passthrough'),\n",
       "                 ('dfs', 'passthrough'), ('pca', 'passthrough'),\n",
       "                 ['trained_model',\n",
       "                  LinearRegression(copy_X=True, fit_intercept=True, n_jobs=-1,\n",
       "                                   normalize=False)]],\n",
       "          verbose=False),\n",
       " 'TemperatureForecastingModel.pkl')"
      ]
     },
     "execution_count": 87,
     "metadata": {},
     "output_type": "execute_result"
    }
   ],
   "source": [
    "save_model(final_best, 'TemperatureForecastingModel')"
   ]
  },
  {
   "cell_type": "code",
   "execution_count": 22,
   "id": "1635852b",
   "metadata": {},
   "outputs": [
    {
     "data": {
      "text/html": [
       "<div>\n",
       "<style scoped>\n",
       "    .dataframe tbody tr th:only-of-type {\n",
       "        vertical-align: middle;\n",
       "    }\n",
       "\n",
       "    .dataframe tbody tr th {\n",
       "        vertical-align: top;\n",
       "    }\n",
       "\n",
       "    .dataframe thead th {\n",
       "        text-align: right;\n",
       "    }\n",
       "</style>\n",
       "<table border=\"1\" class=\"dataframe\">\n",
       "  <thead>\n",
       "    <tr style=\"text-align: right;\">\n",
       "      <th></th>\n",
       "      <th>Month</th>\n",
       "      <th>Year</th>\n",
       "      <th>Series</th>\n",
       "    </tr>\n",
       "  </thead>\n",
       "  <tbody>\n",
       "    <tr>\n",
       "      <th>0</th>\n",
       "      <td>6</td>\n",
       "      <td>2022</td>\n",
       "      <td>79</td>\n",
       "    </tr>\n",
       "    <tr>\n",
       "      <th>1</th>\n",
       "      <td>7</td>\n",
       "      <td>2022</td>\n",
       "      <td>80</td>\n",
       "    </tr>\n",
       "    <tr>\n",
       "      <th>2</th>\n",
       "      <td>8</td>\n",
       "      <td>2022</td>\n",
       "      <td>81</td>\n",
       "    </tr>\n",
       "    <tr>\n",
       "      <th>3</th>\n",
       "      <td>9</td>\n",
       "      <td>2022</td>\n",
       "      <td>82</td>\n",
       "    </tr>\n",
       "    <tr>\n",
       "      <th>4</th>\n",
       "      <td>10</td>\n",
       "      <td>2022</td>\n",
       "      <td>83</td>\n",
       "    </tr>\n",
       "  </tbody>\n",
       "</table>\n",
       "</div>"
      ],
      "text/plain": [
       "   Month  Year  Series\n",
       "0      6  2022      79\n",
       "1      7  2022      80\n",
       "2      8  2022      81\n",
       "3      9  2022      82\n",
       "4     10  2022      83"
      ]
     },
     "execution_count": 22,
     "metadata": {},
     "output_type": "execute_result"
    }
   ],
   "source": [
    "future_dates = pd.date_range(start = '2022-06-01', end = '2023-05-01', freq = 'MS')\n",
    "future_df = pd.DataFrame()\n",
    "future_df['Month'] = [i.month for i in future_dates]\n",
    "future_df['Year'] = [i.year for i in future_dates]    \n",
    "future_df['Series'] = np.arange(79,(79+len(future_dates)))\n",
    "future_df.head()"
   ]
  },
  {
   "cell_type": "code",
   "execution_count": 23,
   "id": "6210daed",
   "metadata": {},
   "outputs": [
    {
     "data": {
      "text/html": [
       "<div>\n",
       "<style scoped>\n",
       "    .dataframe tbody tr th:only-of-type {\n",
       "        vertical-align: middle;\n",
       "    }\n",
       "\n",
       "    .dataframe tbody tr th {\n",
       "        vertical-align: top;\n",
       "    }\n",
       "\n",
       "    .dataframe thead th {\n",
       "        text-align: right;\n",
       "    }\n",
       "</style>\n",
       "<table border=\"1\" class=\"dataframe\">\n",
       "  <thead>\n",
       "    <tr style=\"text-align: right;\">\n",
       "      <th></th>\n",
       "      <th>Month</th>\n",
       "      <th>Year</th>\n",
       "      <th>Series</th>\n",
       "      <th>Label</th>\n",
       "    </tr>\n",
       "  </thead>\n",
       "  <tbody>\n",
       "    <tr>\n",
       "      <th>0</th>\n",
       "      <td>6</td>\n",
       "      <td>2022</td>\n",
       "      <td>79</td>\n",
       "      <td>31.843750</td>\n",
       "    </tr>\n",
       "    <tr>\n",
       "      <th>1</th>\n",
       "      <td>7</td>\n",
       "      <td>2022</td>\n",
       "      <td>80</td>\n",
       "      <td>29.083984</td>\n",
       "    </tr>\n",
       "    <tr>\n",
       "      <th>2</th>\n",
       "      <td>8</td>\n",
       "      <td>2022</td>\n",
       "      <td>81</td>\n",
       "      <td>28.351562</td>\n",
       "    </tr>\n",
       "    <tr>\n",
       "      <th>3</th>\n",
       "      <td>9</td>\n",
       "      <td>2022</td>\n",
       "      <td>82</td>\n",
       "      <td>27.943359</td>\n",
       "    </tr>\n",
       "    <tr>\n",
       "      <th>4</th>\n",
       "      <td>10</td>\n",
       "      <td>2022</td>\n",
       "      <td>83</td>\n",
       "      <td>24.601562</td>\n",
       "    </tr>\n",
       "  </tbody>\n",
       "</table>\n",
       "</div>"
      ],
      "text/plain": [
       "   Month  Year  Series      Label\n",
       "0      6  2022      79  31.843750\n",
       "1      7  2022      80  29.083984\n",
       "2      8  2022      81  28.351562\n",
       "3      9  2022      82  27.943359\n",
       "4     10  2022      83  24.601562"
      ]
     },
     "execution_count": 23,
     "metadata": {},
     "output_type": "execute_result"
    }
   ],
   "source": [
    "predictions_future = predict_model(final_best, data=future_df)\n",
    "predictions_future.head()"
   ]
  },
  {
   "cell_type": "code",
   "execution_count": 18,
   "id": "790b5b74",
   "metadata": {},
   "outputs": [
    {
     "data": {
      "text/html": [
       "<div>\n",
       "<style scoped>\n",
       "    .dataframe tbody tr th:only-of-type {\n",
       "        vertical-align: middle;\n",
       "    }\n",
       "\n",
       "    .dataframe tbody tr th {\n",
       "        vertical-align: top;\n",
       "    }\n",
       "\n",
       "    .dataframe thead th {\n",
       "        text-align: right;\n",
       "    }\n",
       "</style>\n",
       "<table border=\"1\" class=\"dataframe\">\n",
       "  <thead>\n",
       "    <tr style=\"text-align: right;\">\n",
       "      <th></th>\n",
       "      <th>Month</th>\n",
       "      <th>Year</th>\n",
       "      <th>Series</th>\n",
       "      <th>Label</th>\n",
       "    </tr>\n",
       "  </thead>\n",
       "  <tbody>\n",
       "    <tr>\n",
       "      <th>19</th>\n",
       "      <td>1</td>\n",
       "      <td>2024</td>\n",
       "      <td>166</td>\n",
       "      <td>5.072034</td>\n",
       "    </tr>\n",
       "    <tr>\n",
       "      <th>20</th>\n",
       "      <td>2</td>\n",
       "      <td>2024</td>\n",
       "      <td>167</td>\n",
       "      <td>6.648650</td>\n",
       "    </tr>\n",
       "    <tr>\n",
       "      <th>21</th>\n",
       "      <td>3</td>\n",
       "      <td>2024</td>\n",
       "      <td>168</td>\n",
       "      <td>4.522786</td>\n",
       "    </tr>\n",
       "    <tr>\n",
       "      <th>22</th>\n",
       "      <td>4</td>\n",
       "      <td>2024</td>\n",
       "      <td>169</td>\n",
       "      <td>4.583020</td>\n",
       "    </tr>\n",
       "    <tr>\n",
       "      <th>23</th>\n",
       "      <td>5</td>\n",
       "      <td>2024</td>\n",
       "      <td>170</td>\n",
       "      <td>4.601388</td>\n",
       "    </tr>\n",
       "  </tbody>\n",
       "</table>\n",
       "</div>"
      ],
      "text/plain": [
       "    Month  Year  Series     Label\n",
       "19      1  2024     166  5.072034\n",
       "20      2  2024     167  6.648650\n",
       "21      3  2024     168  4.522786\n",
       "22      4  2024     169  4.583020\n",
       "23      5  2024     170  4.601388"
      ]
     },
     "execution_count": 18,
     "metadata": {},
     "output_type": "execute_result"
    }
   ],
   "source": [
    "predictions_future.tail()"
   ]
  },
  {
   "cell_type": "code",
   "execution_count": 19,
   "id": "9e16d12a",
   "metadata": {},
   "outputs": [
    {
     "data": {
      "application/vnd.plotly.v1+json": {
       "config": {
        "plotlyServerURL": "https://plot.ly"
       },
       "data": [
        {
         "hovertemplate": "variable=Rainfall<br>index=%{x}<br>value=%{y}<extra></extra>",
         "legendgroup": "Rainfall",
         "line": {
          "color": "#636efa",
          "dash": "solid"
         },
         "marker": {
          "symbol": "circle"
         },
         "mode": "lines",
         "name": "Rainfall",
         "orientation": "v",
         "showlegend": true,
         "type": "scatter",
         "x": [
          "2010-04-01T00:00:00",
          "2010-05-01T00:00:00",
          "2010-06-01T00:00:00",
          "2010-07-01T00:00:00",
          "2010-08-01T00:00:00",
          "2010-09-01T00:00:00",
          "2010-10-01T00:00:00",
          "2010-11-01T00:00:00",
          "2010-12-01T00:00:00",
          "2011-01-01T00:00:00",
          "2011-02-01T00:00:00",
          "2011-03-01T00:00:00",
          "2011-04-01T00:00:00",
          "2011-05-01T00:00:00",
          "2011-06-01T00:00:00",
          "2011-07-01T00:00:00",
          "2011-08-01T00:00:00",
          "2011-09-01T00:00:00",
          "2011-10-01T00:00:00",
          "2011-11-01T00:00:00",
          "2011-12-01T00:00:00",
          "2012-01-01T00:00:00",
          "2012-02-01T00:00:00",
          "2012-03-01T00:00:00",
          "2012-04-01T00:00:00",
          "2012-05-01T00:00:00",
          "2012-06-01T00:00:00",
          "2012-07-01T00:00:00",
          "2012-08-01T00:00:00",
          "2012-09-01T00:00:00",
          "2012-10-01T00:00:00",
          "2012-11-01T00:00:00",
          "2012-12-01T00:00:00",
          "2013-01-01T00:00:00",
          "2013-02-01T00:00:00",
          "2013-03-01T00:00:00",
          "2013-04-01T00:00:00",
          "2013-05-01T00:00:00",
          "2013-06-01T00:00:00",
          "2013-07-01T00:00:00",
          "2013-08-01T00:00:00",
          "2013-09-01T00:00:00",
          "2013-10-01T00:00:00",
          "2013-11-01T00:00:00",
          "2013-12-01T00:00:00",
          "2014-01-01T00:00:00",
          "2014-02-01T00:00:00",
          "2014-03-01T00:00:00",
          "2014-04-01T00:00:00",
          "2014-05-01T00:00:00",
          "2014-06-01T00:00:00",
          "2014-07-01T00:00:00",
          "2014-08-01T00:00:00",
          "2014-09-01T00:00:00",
          "2014-10-01T00:00:00",
          "2014-11-01T00:00:00",
          "2014-12-01T00:00:00",
          "2015-01-01T00:00:00",
          "2015-02-01T00:00:00",
          "2015-03-01T00:00:00",
          "2015-04-01T00:00:00",
          "2015-05-01T00:00:00",
          "2015-06-01T00:00:00",
          "2015-07-01T00:00:00",
          "2015-08-01T00:00:00",
          "2015-09-01T00:00:00",
          "2015-10-01T00:00:00",
          "2015-11-01T00:00:00",
          "2015-12-01T00:00:00",
          "2016-01-01T00:00:00",
          "2016-02-01T00:00:00",
          "2016-03-01T00:00:00",
          "2016-04-01T00:00:00",
          "2016-05-01T00:00:00",
          "2016-06-01T00:00:00",
          "2016-07-01T00:00:00",
          "2016-08-01T00:00:00",
          "2016-09-01T00:00:00",
          "2016-10-01T00:00:00",
          "2016-11-01T00:00:00",
          "2016-12-01T00:00:00",
          "2017-01-01T00:00:00",
          "2017-02-01T00:00:00",
          "2017-03-01T00:00:00",
          "2017-04-01T00:00:00",
          "2017-05-01T00:00:00",
          "2017-06-01T00:00:00",
          "2017-07-01T00:00:00",
          "2017-08-01T00:00:00",
          "2017-09-01T00:00:00",
          "2017-10-01T00:00:00",
          "2017-11-01T00:00:00",
          "2017-12-01T00:00:00",
          "2018-01-01T00:00:00",
          "2018-02-01T00:00:00",
          "2018-03-01T00:00:00",
          "2018-04-01T00:00:00",
          "2018-05-01T00:00:00",
          "2018-06-01T00:00:00",
          "2018-07-01T00:00:00",
          "2018-08-01T00:00:00",
          "2018-09-01T00:00:00",
          "2018-10-01T00:00:00",
          "2018-11-01T00:00:00",
          "2018-12-01T00:00:00",
          "2019-01-01T00:00:00",
          "2019-02-01T00:00:00",
          "2019-03-01T00:00:00",
          "2019-04-01T00:00:00",
          "2019-05-01T00:00:00",
          "2019-06-01T00:00:00",
          "2019-07-01T00:00:00",
          "2019-08-01T00:00:00",
          "2019-09-01T00:00:00",
          "2019-10-01T00:00:00",
          "2019-11-01T00:00:00",
          "2019-12-01T00:00:00",
          "2020-01-01T00:00:00",
          "2020-02-01T00:00:00",
          "2020-03-01T00:00:00",
          "2020-04-01T00:00:00",
          "2020-05-01T00:00:00",
          "2020-06-01T00:00:00",
          "2020-07-01T00:00:00",
          "2020-08-01T00:00:00",
          "2020-09-01T00:00:00",
          "2020-10-01T00:00:00",
          "2020-11-01T00:00:00",
          "2020-12-01T00:00:00",
          "2021-01-01T00:00:00",
          "2021-02-01T00:00:00",
          "2021-03-01T00:00:00",
          "2021-04-01T00:00:00",
          "2021-05-01T00:00:00",
          "2021-06-01T00:00:00",
          "2021-07-01T00:00:00",
          "2021-08-01T00:00:00",
          "2021-09-01T00:00:00",
          "2021-10-01T00:00:00",
          "2021-11-01T00:00:00",
          "2021-12-01T00:00:00",
          "2022-01-01T00:00:00",
          "2022-02-01T00:00:00",
          "2022-03-01T00:00:00",
          "2022-04-01T00:00:00",
          "2022-05-01T00:00:00",
          "2022-06-01T00:00:00",
          "2022-07-01T00:00:00",
          "2022-08-01T00:00:00",
          "2022-09-01T00:00:00",
          "2022-10-01T00:00:00",
          "2022-11-01T00:00:00",
          "2022-12-01T00:00:00",
          "2023-01-01T00:00:00",
          "2023-02-01T00:00:00",
          "2023-03-01T00:00:00",
          "2023-04-01T00:00:00",
          "2023-05-01T00:00:00",
          "2023-06-01T00:00:00",
          "2023-07-01T00:00:00",
          "2023-08-01T00:00:00",
          "2023-09-01T00:00:00",
          "2023-10-01T00:00:00",
          "2023-11-01T00:00:00",
          "2023-12-01T00:00:00",
          "2024-01-01T00:00:00",
          "2024-02-01T00:00:00",
          "2024-03-01T00:00:00",
          "2024-04-01T00:00:00",
          "2024-05-01T00:00:00"
         ],
         "xaxis": "x",
         "y": [
          0.175,
          0,
          3.06,
          46.95,
          62.75,
          68.14,
          2.45,
          2.1,
          0.46,
          0.975,
          8.2,
          2.02,
          1.95,
          6.625,
          14.54,
          21.775,
          29.04,
          49.25,
          0,
          0,
          0,
          2.825,
          0.1,
          1.1,
          2.6,
          1.16,
          1.75,
          16.55,
          50.56,
          17.575,
          1.325,
          0,
          1.7,
          5.64,
          20.975,
          0.25,
          2.55,
          0.24,
          21.5,
          36.02,
          43.525,
          13.925,
          10.12,
          0.1,
          0,
          3.18,
          5.9,
          8.575,
          1.82,
          7.075,
          5.25,
          23.58,
          13.25,
          24.725,
          0.2,
          0,
          2.24,
          4.425,
          0.45,
          22.775,
          7.02,
          3.025,
          11.8,
          56,
          61.425,
          5.22,
          0.05,
          0.375,
          0,
          0,
          0.275,
          3.58,
          0.025,
          2.425,
          12.84,
          40.925,
          36.26,
          11.575,
          1.1,
          0,
          0,
          0.85,
          11.9,
          1.72,
          5.1,
          3.76,
          19.95,
          26.7,
          22.5,
          30.5,
          0,
          0.02,
          1.175,
          0.96,
          0,
          0,
          2.625,
          3.84,
          6,
          45.8,
          55.08,
          40.7,
          0,
          0.925,
          0.1,
          6.5,
          5.75,
          1.275,
          2,
          2.66,
          0.06666666666667,
          28.54,
          31.775,
          13.8,
          3.02,
          0.475,
          5.9,
          4.72,
          0.55,
          14.975,
          3.7,
          1.325,
          10.85,
          31.14,
          57.95,
          10.62,
          0,
          0.15,
          0.04,
          7.4,
          0.35,
          0.24,
          0.675,
          18.075,
          5.94,
          71.025,
          49.4,
          46.38,
          13.95,
          0,
          0.8,
          22.175,
          1.775,
          1.16,
          0.025,
          13.05,
          null,
          null,
          null,
          null,
          null,
          null,
          null,
          null,
          null,
          null,
          null,
          null,
          null,
          null,
          null,
          null,
          null,
          null,
          null,
          null,
          null,
          null,
          null,
          null
         ],
         "yaxis": "y"
        },
        {
         "hovertemplate": "variable=Label<br>index=%{x}<br>value=%{y}<extra></extra>",
         "legendgroup": "Label",
         "line": {
          "color": "#EF553B",
          "dash": "solid"
         },
         "marker": {
          "symbol": "circle"
         },
         "mode": "lines",
         "name": "Label",
         "orientation": "v",
         "showlegend": true,
         "type": "scatter",
         "x": [
          "2010-04-01T00:00:00",
          "2010-05-01T00:00:00",
          "2010-06-01T00:00:00",
          "2010-07-01T00:00:00",
          "2010-08-01T00:00:00",
          "2010-09-01T00:00:00",
          "2010-10-01T00:00:00",
          "2010-11-01T00:00:00",
          "2010-12-01T00:00:00",
          "2011-01-01T00:00:00",
          "2011-02-01T00:00:00",
          "2011-03-01T00:00:00",
          "2011-04-01T00:00:00",
          "2011-05-01T00:00:00",
          "2011-06-01T00:00:00",
          "2011-07-01T00:00:00",
          "2011-08-01T00:00:00",
          "2011-09-01T00:00:00",
          "2011-10-01T00:00:00",
          "2011-11-01T00:00:00",
          "2011-12-01T00:00:00",
          "2012-01-01T00:00:00",
          "2012-02-01T00:00:00",
          "2012-03-01T00:00:00",
          "2012-04-01T00:00:00",
          "2012-05-01T00:00:00",
          "2012-06-01T00:00:00",
          "2012-07-01T00:00:00",
          "2012-08-01T00:00:00",
          "2012-09-01T00:00:00",
          "2012-10-01T00:00:00",
          "2012-11-01T00:00:00",
          "2012-12-01T00:00:00",
          "2013-01-01T00:00:00",
          "2013-02-01T00:00:00",
          "2013-03-01T00:00:00",
          "2013-04-01T00:00:00",
          "2013-05-01T00:00:00",
          "2013-06-01T00:00:00",
          "2013-07-01T00:00:00",
          "2013-08-01T00:00:00",
          "2013-09-01T00:00:00",
          "2013-10-01T00:00:00",
          "2013-11-01T00:00:00",
          "2013-12-01T00:00:00",
          "2014-01-01T00:00:00",
          "2014-02-01T00:00:00",
          "2014-03-01T00:00:00",
          "2014-04-01T00:00:00",
          "2014-05-01T00:00:00",
          "2014-06-01T00:00:00",
          "2014-07-01T00:00:00",
          "2014-08-01T00:00:00",
          "2014-09-01T00:00:00",
          "2014-10-01T00:00:00",
          "2014-11-01T00:00:00",
          "2014-12-01T00:00:00",
          "2015-01-01T00:00:00",
          "2015-02-01T00:00:00",
          "2015-03-01T00:00:00",
          "2015-04-01T00:00:00",
          "2015-05-01T00:00:00",
          "2015-06-01T00:00:00",
          "2015-07-01T00:00:00",
          "2015-08-01T00:00:00",
          "2015-09-01T00:00:00",
          "2015-10-01T00:00:00",
          "2015-11-01T00:00:00",
          "2015-12-01T00:00:00",
          "2016-01-01T00:00:00",
          "2016-02-01T00:00:00",
          "2016-03-01T00:00:00",
          "2016-04-01T00:00:00",
          "2016-05-01T00:00:00",
          "2016-06-01T00:00:00",
          "2016-07-01T00:00:00",
          "2016-08-01T00:00:00",
          "2016-09-01T00:00:00",
          "2016-10-01T00:00:00",
          "2016-11-01T00:00:00",
          "2016-12-01T00:00:00",
          "2017-01-01T00:00:00",
          "2017-02-01T00:00:00",
          "2017-03-01T00:00:00",
          "2017-04-01T00:00:00",
          "2017-05-01T00:00:00",
          "2017-06-01T00:00:00",
          "2017-07-01T00:00:00",
          "2017-08-01T00:00:00",
          "2017-09-01T00:00:00",
          "2017-10-01T00:00:00",
          "2017-11-01T00:00:00",
          "2017-12-01T00:00:00",
          "2018-01-01T00:00:00",
          "2018-02-01T00:00:00",
          "2018-03-01T00:00:00",
          "2018-04-01T00:00:00",
          "2018-05-01T00:00:00",
          "2018-06-01T00:00:00",
          "2018-07-01T00:00:00",
          "2018-08-01T00:00:00",
          "2018-09-01T00:00:00",
          "2018-10-01T00:00:00",
          "2018-11-01T00:00:00",
          "2018-12-01T00:00:00",
          "2019-01-01T00:00:00",
          "2019-02-01T00:00:00",
          "2019-03-01T00:00:00",
          "2019-04-01T00:00:00",
          "2019-05-01T00:00:00",
          "2019-06-01T00:00:00",
          "2019-07-01T00:00:00",
          "2019-08-01T00:00:00",
          "2019-09-01T00:00:00",
          "2019-10-01T00:00:00",
          "2019-11-01T00:00:00",
          "2019-12-01T00:00:00",
          "2020-01-01T00:00:00",
          "2020-02-01T00:00:00",
          "2020-03-01T00:00:00",
          "2020-04-01T00:00:00",
          "2020-05-01T00:00:00",
          "2020-06-01T00:00:00",
          "2020-07-01T00:00:00",
          "2020-08-01T00:00:00",
          "2020-09-01T00:00:00",
          "2020-10-01T00:00:00",
          "2020-11-01T00:00:00",
          "2020-12-01T00:00:00",
          "2021-01-01T00:00:00",
          "2021-02-01T00:00:00",
          "2021-03-01T00:00:00",
          "2021-04-01T00:00:00",
          "2021-05-01T00:00:00",
          "2021-06-01T00:00:00",
          "2021-07-01T00:00:00",
          "2021-08-01T00:00:00",
          "2021-09-01T00:00:00",
          "2021-10-01T00:00:00",
          "2021-11-01T00:00:00",
          "2021-12-01T00:00:00",
          "2022-01-01T00:00:00",
          "2022-02-01T00:00:00",
          "2022-03-01T00:00:00",
          "2022-04-01T00:00:00",
          "2022-05-01T00:00:00",
          "2022-06-01T00:00:00",
          "2022-07-01T00:00:00",
          "2022-08-01T00:00:00",
          "2022-09-01T00:00:00",
          "2022-10-01T00:00:00",
          "2022-11-01T00:00:00",
          "2022-12-01T00:00:00",
          "2023-01-01T00:00:00",
          "2023-02-01T00:00:00",
          "2023-03-01T00:00:00",
          "2023-04-01T00:00:00",
          "2023-05-01T00:00:00",
          "2023-06-01T00:00:00",
          "2023-07-01T00:00:00",
          "2023-08-01T00:00:00",
          "2023-09-01T00:00:00",
          "2023-10-01T00:00:00",
          "2023-11-01T00:00:00",
          "2023-12-01T00:00:00",
          "2024-01-01T00:00:00",
          "2024-02-01T00:00:00",
          "2024-03-01T00:00:00",
          "2024-04-01T00:00:00",
          "2024-05-01T00:00:00"
         ],
         "xaxis": "x",
         "y": [
          null,
          null,
          null,
          null,
          null,
          null,
          null,
          null,
          null,
          null,
          null,
          null,
          null,
          null,
          null,
          null,
          null,
          null,
          null,
          null,
          null,
          null,
          null,
          null,
          null,
          null,
          null,
          null,
          null,
          null,
          null,
          null,
          null,
          null,
          null,
          null,
          null,
          null,
          null,
          null,
          null,
          null,
          null,
          null,
          null,
          null,
          null,
          null,
          null,
          null,
          null,
          null,
          null,
          null,
          null,
          null,
          null,
          null,
          null,
          null,
          null,
          null,
          null,
          null,
          null,
          null,
          null,
          null,
          null,
          null,
          null,
          null,
          null,
          null,
          null,
          null,
          null,
          null,
          null,
          null,
          null,
          null,
          null,
          null,
          null,
          null,
          null,
          null,
          null,
          null,
          null,
          null,
          null,
          null,
          null,
          null,
          null,
          null,
          null,
          null,
          null,
          null,
          null,
          null,
          null,
          null,
          null,
          null,
          null,
          null,
          null,
          null,
          null,
          null,
          null,
          null,
          null,
          null,
          null,
          null,
          null,
          null,
          null,
          null,
          null,
          null,
          null,
          null,
          null,
          null,
          null,
          null,
          null,
          null,
          null,
          null,
          null,
          null,
          null,
          null,
          null,
          null,
          null,
          null,
          null,
          null,
          4.415441321662387,
          33.74489995445421,
          35.22406978306138,
          21.00871414455331,
          3.8538441963844376,
          2.4808400610548853,
          4.373434279800537,
          5.072033553592053,
          6.648649677227668,
          4.522786401086313,
          4.5830201052259945,
          4.6013875895822585,
          4.415441321662387,
          33.74489995445421,
          35.22406978306138,
          21.00871414455331,
          3.8538441963844376,
          2.4808400610548853,
          4.373434279800537,
          5.072033553592053,
          6.648649677227668,
          4.522786401086313,
          4.5830201052259945,
          4.6013875895822585
         ],
         "yaxis": "y"
        }
       ],
       "layout": {
        "legend": {
         "title": {
          "text": "variable"
         },
         "tracegroupgap": 0
        },
        "margin": {
         "t": 60
        },
        "template": {
         "data": {
          "bar": [
           {
            "error_x": {
             "color": "#f2f5fa"
            },
            "error_y": {
             "color": "#f2f5fa"
            },
            "marker": {
             "line": {
              "color": "rgb(17,17,17)",
              "width": 0.5
             },
             "pattern": {
              "fillmode": "overlay",
              "size": 10,
              "solidity": 0.2
             }
            },
            "type": "bar"
           }
          ],
          "barpolar": [
           {
            "marker": {
             "line": {
              "color": "rgb(17,17,17)",
              "width": 0.5
             },
             "pattern": {
              "fillmode": "overlay",
              "size": 10,
              "solidity": 0.2
             }
            },
            "type": "barpolar"
           }
          ],
          "carpet": [
           {
            "aaxis": {
             "endlinecolor": "#A2B1C6",
             "gridcolor": "#506784",
             "linecolor": "#506784",
             "minorgridcolor": "#506784",
             "startlinecolor": "#A2B1C6"
            },
            "baxis": {
             "endlinecolor": "#A2B1C6",
             "gridcolor": "#506784",
             "linecolor": "#506784",
             "minorgridcolor": "#506784",
             "startlinecolor": "#A2B1C6"
            },
            "type": "carpet"
           }
          ],
          "choropleth": [
           {
            "colorbar": {
             "outlinewidth": 0,
             "ticks": ""
            },
            "type": "choropleth"
           }
          ],
          "contour": [
           {
            "colorbar": {
             "outlinewidth": 0,
             "ticks": ""
            },
            "colorscale": [
             [
              0,
              "#0d0887"
             ],
             [
              0.1111111111111111,
              "#46039f"
             ],
             [
              0.2222222222222222,
              "#7201a8"
             ],
             [
              0.3333333333333333,
              "#9c179e"
             ],
             [
              0.4444444444444444,
              "#bd3786"
             ],
             [
              0.5555555555555556,
              "#d8576b"
             ],
             [
              0.6666666666666666,
              "#ed7953"
             ],
             [
              0.7777777777777778,
              "#fb9f3a"
             ],
             [
              0.8888888888888888,
              "#fdca26"
             ],
             [
              1,
              "#f0f921"
             ]
            ],
            "type": "contour"
           }
          ],
          "contourcarpet": [
           {
            "colorbar": {
             "outlinewidth": 0,
             "ticks": ""
            },
            "type": "contourcarpet"
           }
          ],
          "heatmap": [
           {
            "colorbar": {
             "outlinewidth": 0,
             "ticks": ""
            },
            "colorscale": [
             [
              0,
              "#0d0887"
             ],
             [
              0.1111111111111111,
              "#46039f"
             ],
             [
              0.2222222222222222,
              "#7201a8"
             ],
             [
              0.3333333333333333,
              "#9c179e"
             ],
             [
              0.4444444444444444,
              "#bd3786"
             ],
             [
              0.5555555555555556,
              "#d8576b"
             ],
             [
              0.6666666666666666,
              "#ed7953"
             ],
             [
              0.7777777777777778,
              "#fb9f3a"
             ],
             [
              0.8888888888888888,
              "#fdca26"
             ],
             [
              1,
              "#f0f921"
             ]
            ],
            "type": "heatmap"
           }
          ],
          "heatmapgl": [
           {
            "colorbar": {
             "outlinewidth": 0,
             "ticks": ""
            },
            "colorscale": [
             [
              0,
              "#0d0887"
             ],
             [
              0.1111111111111111,
              "#46039f"
             ],
             [
              0.2222222222222222,
              "#7201a8"
             ],
             [
              0.3333333333333333,
              "#9c179e"
             ],
             [
              0.4444444444444444,
              "#bd3786"
             ],
             [
              0.5555555555555556,
              "#d8576b"
             ],
             [
              0.6666666666666666,
              "#ed7953"
             ],
             [
              0.7777777777777778,
              "#fb9f3a"
             ],
             [
              0.8888888888888888,
              "#fdca26"
             ],
             [
              1,
              "#f0f921"
             ]
            ],
            "type": "heatmapgl"
           }
          ],
          "histogram": [
           {
            "marker": {
             "pattern": {
              "fillmode": "overlay",
              "size": 10,
              "solidity": 0.2
             }
            },
            "type": "histogram"
           }
          ],
          "histogram2d": [
           {
            "colorbar": {
             "outlinewidth": 0,
             "ticks": ""
            },
            "colorscale": [
             [
              0,
              "#0d0887"
             ],
             [
              0.1111111111111111,
              "#46039f"
             ],
             [
              0.2222222222222222,
              "#7201a8"
             ],
             [
              0.3333333333333333,
              "#9c179e"
             ],
             [
              0.4444444444444444,
              "#bd3786"
             ],
             [
              0.5555555555555556,
              "#d8576b"
             ],
             [
              0.6666666666666666,
              "#ed7953"
             ],
             [
              0.7777777777777778,
              "#fb9f3a"
             ],
             [
              0.8888888888888888,
              "#fdca26"
             ],
             [
              1,
              "#f0f921"
             ]
            ],
            "type": "histogram2d"
           }
          ],
          "histogram2dcontour": [
           {
            "colorbar": {
             "outlinewidth": 0,
             "ticks": ""
            },
            "colorscale": [
             [
              0,
              "#0d0887"
             ],
             [
              0.1111111111111111,
              "#46039f"
             ],
             [
              0.2222222222222222,
              "#7201a8"
             ],
             [
              0.3333333333333333,
              "#9c179e"
             ],
             [
              0.4444444444444444,
              "#bd3786"
             ],
             [
              0.5555555555555556,
              "#d8576b"
             ],
             [
              0.6666666666666666,
              "#ed7953"
             ],
             [
              0.7777777777777778,
              "#fb9f3a"
             ],
             [
              0.8888888888888888,
              "#fdca26"
             ],
             [
              1,
              "#f0f921"
             ]
            ],
            "type": "histogram2dcontour"
           }
          ],
          "mesh3d": [
           {
            "colorbar": {
             "outlinewidth": 0,
             "ticks": ""
            },
            "type": "mesh3d"
           }
          ],
          "parcoords": [
           {
            "line": {
             "colorbar": {
              "outlinewidth": 0,
              "ticks": ""
             }
            },
            "type": "parcoords"
           }
          ],
          "pie": [
           {
            "automargin": true,
            "type": "pie"
           }
          ],
          "scatter": [
           {
            "marker": {
             "line": {
              "color": "#283442"
             }
            },
            "type": "scatter"
           }
          ],
          "scatter3d": [
           {
            "line": {
             "colorbar": {
              "outlinewidth": 0,
              "ticks": ""
             }
            },
            "marker": {
             "colorbar": {
              "outlinewidth": 0,
              "ticks": ""
             }
            },
            "type": "scatter3d"
           }
          ],
          "scattercarpet": [
           {
            "marker": {
             "colorbar": {
              "outlinewidth": 0,
              "ticks": ""
             }
            },
            "type": "scattercarpet"
           }
          ],
          "scattergeo": [
           {
            "marker": {
             "colorbar": {
              "outlinewidth": 0,
              "ticks": ""
             }
            },
            "type": "scattergeo"
           }
          ],
          "scattergl": [
           {
            "marker": {
             "line": {
              "color": "#283442"
             }
            },
            "type": "scattergl"
           }
          ],
          "scattermapbox": [
           {
            "marker": {
             "colorbar": {
              "outlinewidth": 0,
              "ticks": ""
             }
            },
            "type": "scattermapbox"
           }
          ],
          "scatterpolar": [
           {
            "marker": {
             "colorbar": {
              "outlinewidth": 0,
              "ticks": ""
             }
            },
            "type": "scatterpolar"
           }
          ],
          "scatterpolargl": [
           {
            "marker": {
             "colorbar": {
              "outlinewidth": 0,
              "ticks": ""
             }
            },
            "type": "scatterpolargl"
           }
          ],
          "scatterternary": [
           {
            "marker": {
             "colorbar": {
              "outlinewidth": 0,
              "ticks": ""
             }
            },
            "type": "scatterternary"
           }
          ],
          "surface": [
           {
            "colorbar": {
             "outlinewidth": 0,
             "ticks": ""
            },
            "colorscale": [
             [
              0,
              "#0d0887"
             ],
             [
              0.1111111111111111,
              "#46039f"
             ],
             [
              0.2222222222222222,
              "#7201a8"
             ],
             [
              0.3333333333333333,
              "#9c179e"
             ],
             [
              0.4444444444444444,
              "#bd3786"
             ],
             [
              0.5555555555555556,
              "#d8576b"
             ],
             [
              0.6666666666666666,
              "#ed7953"
             ],
             [
              0.7777777777777778,
              "#fb9f3a"
             ],
             [
              0.8888888888888888,
              "#fdca26"
             ],
             [
              1,
              "#f0f921"
             ]
            ],
            "type": "surface"
           }
          ],
          "table": [
           {
            "cells": {
             "fill": {
              "color": "#506784"
             },
             "line": {
              "color": "rgb(17,17,17)"
             }
            },
            "header": {
             "fill": {
              "color": "#2a3f5f"
             },
             "line": {
              "color": "rgb(17,17,17)"
             }
            },
            "type": "table"
           }
          ]
         },
         "layout": {
          "annotationdefaults": {
           "arrowcolor": "#f2f5fa",
           "arrowhead": 0,
           "arrowwidth": 1
          },
          "autotypenumbers": "strict",
          "coloraxis": {
           "colorbar": {
            "outlinewidth": 0,
            "ticks": ""
           }
          },
          "colorscale": {
           "diverging": [
            [
             0,
             "#8e0152"
            ],
            [
             0.1,
             "#c51b7d"
            ],
            [
             0.2,
             "#de77ae"
            ],
            [
             0.3,
             "#f1b6da"
            ],
            [
             0.4,
             "#fde0ef"
            ],
            [
             0.5,
             "#f7f7f7"
            ],
            [
             0.6,
             "#e6f5d0"
            ],
            [
             0.7,
             "#b8e186"
            ],
            [
             0.8,
             "#7fbc41"
            ],
            [
             0.9,
             "#4d9221"
            ],
            [
             1,
             "#276419"
            ]
           ],
           "sequential": [
            [
             0,
             "#0d0887"
            ],
            [
             0.1111111111111111,
             "#46039f"
            ],
            [
             0.2222222222222222,
             "#7201a8"
            ],
            [
             0.3333333333333333,
             "#9c179e"
            ],
            [
             0.4444444444444444,
             "#bd3786"
            ],
            [
             0.5555555555555556,
             "#d8576b"
            ],
            [
             0.6666666666666666,
             "#ed7953"
            ],
            [
             0.7777777777777778,
             "#fb9f3a"
            ],
            [
             0.8888888888888888,
             "#fdca26"
            ],
            [
             1,
             "#f0f921"
            ]
           ],
           "sequentialminus": [
            [
             0,
             "#0d0887"
            ],
            [
             0.1111111111111111,
             "#46039f"
            ],
            [
             0.2222222222222222,
             "#7201a8"
            ],
            [
             0.3333333333333333,
             "#9c179e"
            ],
            [
             0.4444444444444444,
             "#bd3786"
            ],
            [
             0.5555555555555556,
             "#d8576b"
            ],
            [
             0.6666666666666666,
             "#ed7953"
            ],
            [
             0.7777777777777778,
             "#fb9f3a"
            ],
            [
             0.8888888888888888,
             "#fdca26"
            ],
            [
             1,
             "#f0f921"
            ]
           ]
          },
          "colorway": [
           "#636efa",
           "#EF553B",
           "#00cc96",
           "#ab63fa",
           "#FFA15A",
           "#19d3f3",
           "#FF6692",
           "#B6E880",
           "#FF97FF",
           "#FECB52"
          ],
          "font": {
           "color": "#f2f5fa"
          },
          "geo": {
           "bgcolor": "rgb(17,17,17)",
           "lakecolor": "rgb(17,17,17)",
           "landcolor": "rgb(17,17,17)",
           "showlakes": true,
           "showland": true,
           "subunitcolor": "#506784"
          },
          "hoverlabel": {
           "align": "left"
          },
          "hovermode": "closest",
          "mapbox": {
           "style": "dark"
          },
          "paper_bgcolor": "rgb(17,17,17)",
          "plot_bgcolor": "rgb(17,17,17)",
          "polar": {
           "angularaxis": {
            "gridcolor": "#506784",
            "linecolor": "#506784",
            "ticks": ""
           },
           "bgcolor": "rgb(17,17,17)",
           "radialaxis": {
            "gridcolor": "#506784",
            "linecolor": "#506784",
            "ticks": ""
           }
          },
          "scene": {
           "xaxis": {
            "backgroundcolor": "rgb(17,17,17)",
            "gridcolor": "#506784",
            "gridwidth": 2,
            "linecolor": "#506784",
            "showbackground": true,
            "ticks": "",
            "zerolinecolor": "#C8D4E3"
           },
           "yaxis": {
            "backgroundcolor": "rgb(17,17,17)",
            "gridcolor": "#506784",
            "gridwidth": 2,
            "linecolor": "#506784",
            "showbackground": true,
            "ticks": "",
            "zerolinecolor": "#C8D4E3"
           },
           "zaxis": {
            "backgroundcolor": "rgb(17,17,17)",
            "gridcolor": "#506784",
            "gridwidth": 2,
            "linecolor": "#506784",
            "showbackground": true,
            "ticks": "",
            "zerolinecolor": "#C8D4E3"
           }
          },
          "shapedefaults": {
           "line": {
            "color": "#f2f5fa"
           }
          },
          "sliderdefaults": {
           "bgcolor": "#C8D4E3",
           "bordercolor": "rgb(17,17,17)",
           "borderwidth": 1,
           "tickwidth": 0
          },
          "ternary": {
           "aaxis": {
            "gridcolor": "#506784",
            "linecolor": "#506784",
            "ticks": ""
           },
           "baxis": {
            "gridcolor": "#506784",
            "linecolor": "#506784",
            "ticks": ""
           },
           "bgcolor": "rgb(17,17,17)",
           "caxis": {
            "gridcolor": "#506784",
            "linecolor": "#506784",
            "ticks": ""
           }
          },
          "title": {
           "x": 0.05
          },
          "updatemenudefaults": {
           "bgcolor": "#506784",
           "borderwidth": 0
          },
          "xaxis": {
           "automargin": true,
           "gridcolor": "#283442",
           "linecolor": "#506784",
           "ticks": "",
           "title": {
            "standoff": 15
           },
           "zerolinecolor": "#283442",
           "zerolinewidth": 2
          },
          "yaxis": {
           "automargin": true,
           "gridcolor": "#283442",
           "linecolor": "#506784",
           "ticks": "",
           "title": {
            "standoff": 15
           },
           "zerolinecolor": "#283442",
           "zerolinewidth": 2
          }
         }
        },
        "xaxis": {
         "anchor": "y",
         "domain": [
          0,
          1
         ],
         "title": {
          "text": "index"
         }
        },
        "yaxis": {
         "anchor": "x",
         "domain": [
          0,
          1
         ],
         "title": {
          "text": "value"
         }
        }
       }
      },
      "text/html": [
       "<div>                            <div id=\"87981696-15f6-4e7e-8091-074c9e7be2dd\" class=\"plotly-graph-div\" style=\"height:525px; width:100%;\"></div>            <script type=\"text/javascript\">                require([\"plotly\"], function(Plotly) {                    window.PLOTLYENV=window.PLOTLYENV || {};                                    if (document.getElementById(\"87981696-15f6-4e7e-8091-074c9e7be2dd\")) {                    Plotly.newPlot(                        \"87981696-15f6-4e7e-8091-074c9e7be2dd\",                        [{\"hovertemplate\":\"variable=Rainfall<br>index=%{x}<br>value=%{y}<extra></extra>\",\"legendgroup\":\"Rainfall\",\"line\":{\"color\":\"#636efa\",\"dash\":\"solid\"},\"marker\":{\"symbol\":\"circle\"},\"mode\":\"lines\",\"name\":\"Rainfall\",\"orientation\":\"v\",\"showlegend\":true,\"x\":[\"2010-04-01T00:00:00\",\"2010-05-01T00:00:00\",\"2010-06-01T00:00:00\",\"2010-07-01T00:00:00\",\"2010-08-01T00:00:00\",\"2010-09-01T00:00:00\",\"2010-10-01T00:00:00\",\"2010-11-01T00:00:00\",\"2010-12-01T00:00:00\",\"2011-01-01T00:00:00\",\"2011-02-01T00:00:00\",\"2011-03-01T00:00:00\",\"2011-04-01T00:00:00\",\"2011-05-01T00:00:00\",\"2011-06-01T00:00:00\",\"2011-07-01T00:00:00\",\"2011-08-01T00:00:00\",\"2011-09-01T00:00:00\",\"2011-10-01T00:00:00\",\"2011-11-01T00:00:00\",\"2011-12-01T00:00:00\",\"2012-01-01T00:00:00\",\"2012-02-01T00:00:00\",\"2012-03-01T00:00:00\",\"2012-04-01T00:00:00\",\"2012-05-01T00:00:00\",\"2012-06-01T00:00:00\",\"2012-07-01T00:00:00\",\"2012-08-01T00:00:00\",\"2012-09-01T00:00:00\",\"2012-10-01T00:00:00\",\"2012-11-01T00:00:00\",\"2012-12-01T00:00:00\",\"2013-01-01T00:00:00\",\"2013-02-01T00:00:00\",\"2013-03-01T00:00:00\",\"2013-04-01T00:00:00\",\"2013-05-01T00:00:00\",\"2013-06-01T00:00:00\",\"2013-07-01T00:00:00\",\"2013-08-01T00:00:00\",\"2013-09-01T00:00:00\",\"2013-10-01T00:00:00\",\"2013-11-01T00:00:00\",\"2013-12-01T00:00:00\",\"2014-01-01T00:00:00\",\"2014-02-01T00:00:00\",\"2014-03-01T00:00:00\",\"2014-04-01T00:00:00\",\"2014-05-01T00:00:00\",\"2014-06-01T00:00:00\",\"2014-07-01T00:00:00\",\"2014-08-01T00:00:00\",\"2014-09-01T00:00:00\",\"2014-10-01T00:00:00\",\"2014-11-01T00:00:00\",\"2014-12-01T00:00:00\",\"2015-01-01T00:00:00\",\"2015-02-01T00:00:00\",\"2015-03-01T00:00:00\",\"2015-04-01T00:00:00\",\"2015-05-01T00:00:00\",\"2015-06-01T00:00:00\",\"2015-07-01T00:00:00\",\"2015-08-01T00:00:00\",\"2015-09-01T00:00:00\",\"2015-10-01T00:00:00\",\"2015-11-01T00:00:00\",\"2015-12-01T00:00:00\",\"2016-01-01T00:00:00\",\"2016-02-01T00:00:00\",\"2016-03-01T00:00:00\",\"2016-04-01T00:00:00\",\"2016-05-01T00:00:00\",\"2016-06-01T00:00:00\",\"2016-07-01T00:00:00\",\"2016-08-01T00:00:00\",\"2016-09-01T00:00:00\",\"2016-10-01T00:00:00\",\"2016-11-01T00:00:00\",\"2016-12-01T00:00:00\",\"2017-01-01T00:00:00\",\"2017-02-01T00:00:00\",\"2017-03-01T00:00:00\",\"2017-04-01T00:00:00\",\"2017-05-01T00:00:00\",\"2017-06-01T00:00:00\",\"2017-07-01T00:00:00\",\"2017-08-01T00:00:00\",\"2017-09-01T00:00:00\",\"2017-10-01T00:00:00\",\"2017-11-01T00:00:00\",\"2017-12-01T00:00:00\",\"2018-01-01T00:00:00\",\"2018-02-01T00:00:00\",\"2018-03-01T00:00:00\",\"2018-04-01T00:00:00\",\"2018-05-01T00:00:00\",\"2018-06-01T00:00:00\",\"2018-07-01T00:00:00\",\"2018-08-01T00:00:00\",\"2018-09-01T00:00:00\",\"2018-10-01T00:00:00\",\"2018-11-01T00:00:00\",\"2018-12-01T00:00:00\",\"2019-01-01T00:00:00\",\"2019-02-01T00:00:00\",\"2019-03-01T00:00:00\",\"2019-04-01T00:00:00\",\"2019-05-01T00:00:00\",\"2019-06-01T00:00:00\",\"2019-07-01T00:00:00\",\"2019-08-01T00:00:00\",\"2019-09-01T00:00:00\",\"2019-10-01T00:00:00\",\"2019-11-01T00:00:00\",\"2019-12-01T00:00:00\",\"2020-01-01T00:00:00\",\"2020-02-01T00:00:00\",\"2020-03-01T00:00:00\",\"2020-04-01T00:00:00\",\"2020-05-01T00:00:00\",\"2020-06-01T00:00:00\",\"2020-07-01T00:00:00\",\"2020-08-01T00:00:00\",\"2020-09-01T00:00:00\",\"2020-10-01T00:00:00\",\"2020-11-01T00:00:00\",\"2020-12-01T00:00:00\",\"2021-01-01T00:00:00\",\"2021-02-01T00:00:00\",\"2021-03-01T00:00:00\",\"2021-04-01T00:00:00\",\"2021-05-01T00:00:00\",\"2021-06-01T00:00:00\",\"2021-07-01T00:00:00\",\"2021-08-01T00:00:00\",\"2021-09-01T00:00:00\",\"2021-10-01T00:00:00\",\"2021-11-01T00:00:00\",\"2021-12-01T00:00:00\",\"2022-01-01T00:00:00\",\"2022-02-01T00:00:00\",\"2022-03-01T00:00:00\",\"2022-04-01T00:00:00\",\"2022-05-01T00:00:00\",\"2022-06-01T00:00:00\",\"2022-07-01T00:00:00\",\"2022-08-01T00:00:00\",\"2022-09-01T00:00:00\",\"2022-10-01T00:00:00\",\"2022-11-01T00:00:00\",\"2022-12-01T00:00:00\",\"2023-01-01T00:00:00\",\"2023-02-01T00:00:00\",\"2023-03-01T00:00:00\",\"2023-04-01T00:00:00\",\"2023-05-01T00:00:00\",\"2023-06-01T00:00:00\",\"2023-07-01T00:00:00\",\"2023-08-01T00:00:00\",\"2023-09-01T00:00:00\",\"2023-10-01T00:00:00\",\"2023-11-01T00:00:00\",\"2023-12-01T00:00:00\",\"2024-01-01T00:00:00\",\"2024-02-01T00:00:00\",\"2024-03-01T00:00:00\",\"2024-04-01T00:00:00\",\"2024-05-01T00:00:00\"],\"xaxis\":\"x\",\"y\":[0.175,0.0,3.06,46.95,62.75,68.14,2.45,2.1,0.46,0.975,8.2,2.02,1.95,6.625,14.54,21.775,29.04,49.25,0.0,0.0,0.0,2.825,0.1,1.1,2.6,1.16,1.75,16.55,50.56,17.575,1.325,0.0,1.7,5.64,20.975,0.25,2.55,0.24,21.5,36.02,43.525,13.925,10.12,0.1,0.0,3.18,5.9,8.575,1.82,7.075,5.25,23.58,13.25,24.725,0.2,0.0,2.24,4.425,0.45,22.775,7.02,3.025,11.8,56.0,61.425,5.22,0.05,0.375,0.0,0.0,0.275,3.58,0.025,2.425,12.84,40.925,36.26,11.575,1.1,0.0,0.0,0.85,11.9,1.72,5.1,3.76,19.95,26.7,22.5,30.5,0.0,0.02,1.175,0.96,0.0,0.0,2.625,3.84,6.0,45.8,55.08,40.7,0.0,0.925,0.1,6.5,5.75,1.275,2.0,2.66,0.06666666666667,28.54,31.775,13.8,3.02,0.475,5.9,4.72,0.55,14.975,3.7,1.325,10.85,31.14,57.95,10.62,0.0,0.15,0.04,7.4,0.35,0.24,0.675,18.075,5.94,71.025,49.4,46.38,13.95,0.0,0.8,22.175,1.775,1.16,0.025,13.05,null,null,null,null,null,null,null,null,null,null,null,null,null,null,null,null,null,null,null,null,null,null,null,null],\"yaxis\":\"y\",\"type\":\"scatter\"},{\"hovertemplate\":\"variable=Label<br>index=%{x}<br>value=%{y}<extra></extra>\",\"legendgroup\":\"Label\",\"line\":{\"color\":\"#EF553B\",\"dash\":\"solid\"},\"marker\":{\"symbol\":\"circle\"},\"mode\":\"lines\",\"name\":\"Label\",\"orientation\":\"v\",\"showlegend\":true,\"x\":[\"2010-04-01T00:00:00\",\"2010-05-01T00:00:00\",\"2010-06-01T00:00:00\",\"2010-07-01T00:00:00\",\"2010-08-01T00:00:00\",\"2010-09-01T00:00:00\",\"2010-10-01T00:00:00\",\"2010-11-01T00:00:00\",\"2010-12-01T00:00:00\",\"2011-01-01T00:00:00\",\"2011-02-01T00:00:00\",\"2011-03-01T00:00:00\",\"2011-04-01T00:00:00\",\"2011-05-01T00:00:00\",\"2011-06-01T00:00:00\",\"2011-07-01T00:00:00\",\"2011-08-01T00:00:00\",\"2011-09-01T00:00:00\",\"2011-10-01T00:00:00\",\"2011-11-01T00:00:00\",\"2011-12-01T00:00:00\",\"2012-01-01T00:00:00\",\"2012-02-01T00:00:00\",\"2012-03-01T00:00:00\",\"2012-04-01T00:00:00\",\"2012-05-01T00:00:00\",\"2012-06-01T00:00:00\",\"2012-07-01T00:00:00\",\"2012-08-01T00:00:00\",\"2012-09-01T00:00:00\",\"2012-10-01T00:00:00\",\"2012-11-01T00:00:00\",\"2012-12-01T00:00:00\",\"2013-01-01T00:00:00\",\"2013-02-01T00:00:00\",\"2013-03-01T00:00:00\",\"2013-04-01T00:00:00\",\"2013-05-01T00:00:00\",\"2013-06-01T00:00:00\",\"2013-07-01T00:00:00\",\"2013-08-01T00:00:00\",\"2013-09-01T00:00:00\",\"2013-10-01T00:00:00\",\"2013-11-01T00:00:00\",\"2013-12-01T00:00:00\",\"2014-01-01T00:00:00\",\"2014-02-01T00:00:00\",\"2014-03-01T00:00:00\",\"2014-04-01T00:00:00\",\"2014-05-01T00:00:00\",\"2014-06-01T00:00:00\",\"2014-07-01T00:00:00\",\"2014-08-01T00:00:00\",\"2014-09-01T00:00:00\",\"2014-10-01T00:00:00\",\"2014-11-01T00:00:00\",\"2014-12-01T00:00:00\",\"2015-01-01T00:00:00\",\"2015-02-01T00:00:00\",\"2015-03-01T00:00:00\",\"2015-04-01T00:00:00\",\"2015-05-01T00:00:00\",\"2015-06-01T00:00:00\",\"2015-07-01T00:00:00\",\"2015-08-01T00:00:00\",\"2015-09-01T00:00:00\",\"2015-10-01T00:00:00\",\"2015-11-01T00:00:00\",\"2015-12-01T00:00:00\",\"2016-01-01T00:00:00\",\"2016-02-01T00:00:00\",\"2016-03-01T00:00:00\",\"2016-04-01T00:00:00\",\"2016-05-01T00:00:00\",\"2016-06-01T00:00:00\",\"2016-07-01T00:00:00\",\"2016-08-01T00:00:00\",\"2016-09-01T00:00:00\",\"2016-10-01T00:00:00\",\"2016-11-01T00:00:00\",\"2016-12-01T00:00:00\",\"2017-01-01T00:00:00\",\"2017-02-01T00:00:00\",\"2017-03-01T00:00:00\",\"2017-04-01T00:00:00\",\"2017-05-01T00:00:00\",\"2017-06-01T00:00:00\",\"2017-07-01T00:00:00\",\"2017-08-01T00:00:00\",\"2017-09-01T00:00:00\",\"2017-10-01T00:00:00\",\"2017-11-01T00:00:00\",\"2017-12-01T00:00:00\",\"2018-01-01T00:00:00\",\"2018-02-01T00:00:00\",\"2018-03-01T00:00:00\",\"2018-04-01T00:00:00\",\"2018-05-01T00:00:00\",\"2018-06-01T00:00:00\",\"2018-07-01T00:00:00\",\"2018-08-01T00:00:00\",\"2018-09-01T00:00:00\",\"2018-10-01T00:00:00\",\"2018-11-01T00:00:00\",\"2018-12-01T00:00:00\",\"2019-01-01T00:00:00\",\"2019-02-01T00:00:00\",\"2019-03-01T00:00:00\",\"2019-04-01T00:00:00\",\"2019-05-01T00:00:00\",\"2019-06-01T00:00:00\",\"2019-07-01T00:00:00\",\"2019-08-01T00:00:00\",\"2019-09-01T00:00:00\",\"2019-10-01T00:00:00\",\"2019-11-01T00:00:00\",\"2019-12-01T00:00:00\",\"2020-01-01T00:00:00\",\"2020-02-01T00:00:00\",\"2020-03-01T00:00:00\",\"2020-04-01T00:00:00\",\"2020-05-01T00:00:00\",\"2020-06-01T00:00:00\",\"2020-07-01T00:00:00\",\"2020-08-01T00:00:00\",\"2020-09-01T00:00:00\",\"2020-10-01T00:00:00\",\"2020-11-01T00:00:00\",\"2020-12-01T00:00:00\",\"2021-01-01T00:00:00\",\"2021-02-01T00:00:00\",\"2021-03-01T00:00:00\",\"2021-04-01T00:00:00\",\"2021-05-01T00:00:00\",\"2021-06-01T00:00:00\",\"2021-07-01T00:00:00\",\"2021-08-01T00:00:00\",\"2021-09-01T00:00:00\",\"2021-10-01T00:00:00\",\"2021-11-01T00:00:00\",\"2021-12-01T00:00:00\",\"2022-01-01T00:00:00\",\"2022-02-01T00:00:00\",\"2022-03-01T00:00:00\",\"2022-04-01T00:00:00\",\"2022-05-01T00:00:00\",\"2022-06-01T00:00:00\",\"2022-07-01T00:00:00\",\"2022-08-01T00:00:00\",\"2022-09-01T00:00:00\",\"2022-10-01T00:00:00\",\"2022-11-01T00:00:00\",\"2022-12-01T00:00:00\",\"2023-01-01T00:00:00\",\"2023-02-01T00:00:00\",\"2023-03-01T00:00:00\",\"2023-04-01T00:00:00\",\"2023-05-01T00:00:00\",\"2023-06-01T00:00:00\",\"2023-07-01T00:00:00\",\"2023-08-01T00:00:00\",\"2023-09-01T00:00:00\",\"2023-10-01T00:00:00\",\"2023-11-01T00:00:00\",\"2023-12-01T00:00:00\",\"2024-01-01T00:00:00\",\"2024-02-01T00:00:00\",\"2024-03-01T00:00:00\",\"2024-04-01T00:00:00\",\"2024-05-01T00:00:00\"],\"xaxis\":\"x\",\"y\":[null,null,null,null,null,null,null,null,null,null,null,null,null,null,null,null,null,null,null,null,null,null,null,null,null,null,null,null,null,null,null,null,null,null,null,null,null,null,null,null,null,null,null,null,null,null,null,null,null,null,null,null,null,null,null,null,null,null,null,null,null,null,null,null,null,null,null,null,null,null,null,null,null,null,null,null,null,null,null,null,null,null,null,null,null,null,null,null,null,null,null,null,null,null,null,null,null,null,null,null,null,null,null,null,null,null,null,null,null,null,null,null,null,null,null,null,null,null,null,null,null,null,null,null,null,null,null,null,null,null,null,null,null,null,null,null,null,null,null,null,null,null,null,null,null,null,4.415441321662387,33.74489995445421,35.22406978306138,21.00871414455331,3.8538441963844376,2.4808400610548853,4.373434279800537,5.072033553592053,6.648649677227668,4.522786401086313,4.5830201052259945,4.6013875895822585,4.415441321662387,33.74489995445421,35.22406978306138,21.00871414455331,3.8538441963844376,2.4808400610548853,4.373434279800537,5.072033553592053,6.648649677227668,4.522786401086313,4.5830201052259945,4.6013875895822585],\"yaxis\":\"y\",\"type\":\"scatter\"}],                        {\"template\":{\"data\":{\"barpolar\":[{\"marker\":{\"line\":{\"color\":\"rgb(17,17,17)\",\"width\":0.5},\"pattern\":{\"fillmode\":\"overlay\",\"size\":10,\"solidity\":0.2}},\"type\":\"barpolar\"}],\"bar\":[{\"error_x\":{\"color\":\"#f2f5fa\"},\"error_y\":{\"color\":\"#f2f5fa\"},\"marker\":{\"line\":{\"color\":\"rgb(17,17,17)\",\"width\":0.5},\"pattern\":{\"fillmode\":\"overlay\",\"size\":10,\"solidity\":0.2}},\"type\":\"bar\"}],\"carpet\":[{\"aaxis\":{\"endlinecolor\":\"#A2B1C6\",\"gridcolor\":\"#506784\",\"linecolor\":\"#506784\",\"minorgridcolor\":\"#506784\",\"startlinecolor\":\"#A2B1C6\"},\"baxis\":{\"endlinecolor\":\"#A2B1C6\",\"gridcolor\":\"#506784\",\"linecolor\":\"#506784\",\"minorgridcolor\":\"#506784\",\"startlinecolor\":\"#A2B1C6\"},\"type\":\"carpet\"}],\"choropleth\":[{\"colorbar\":{\"outlinewidth\":0,\"ticks\":\"\"},\"type\":\"choropleth\"}],\"contourcarpet\":[{\"colorbar\":{\"outlinewidth\":0,\"ticks\":\"\"},\"type\":\"contourcarpet\"}],\"contour\":[{\"colorbar\":{\"outlinewidth\":0,\"ticks\":\"\"},\"colorscale\":[[0.0,\"#0d0887\"],[0.1111111111111111,\"#46039f\"],[0.2222222222222222,\"#7201a8\"],[0.3333333333333333,\"#9c179e\"],[0.4444444444444444,\"#bd3786\"],[0.5555555555555556,\"#d8576b\"],[0.6666666666666666,\"#ed7953\"],[0.7777777777777778,\"#fb9f3a\"],[0.8888888888888888,\"#fdca26\"],[1.0,\"#f0f921\"]],\"type\":\"contour\"}],\"heatmapgl\":[{\"colorbar\":{\"outlinewidth\":0,\"ticks\":\"\"},\"colorscale\":[[0.0,\"#0d0887\"],[0.1111111111111111,\"#46039f\"],[0.2222222222222222,\"#7201a8\"],[0.3333333333333333,\"#9c179e\"],[0.4444444444444444,\"#bd3786\"],[0.5555555555555556,\"#d8576b\"],[0.6666666666666666,\"#ed7953\"],[0.7777777777777778,\"#fb9f3a\"],[0.8888888888888888,\"#fdca26\"],[1.0,\"#f0f921\"]],\"type\":\"heatmapgl\"}],\"heatmap\":[{\"colorbar\":{\"outlinewidth\":0,\"ticks\":\"\"},\"colorscale\":[[0.0,\"#0d0887\"],[0.1111111111111111,\"#46039f\"],[0.2222222222222222,\"#7201a8\"],[0.3333333333333333,\"#9c179e\"],[0.4444444444444444,\"#bd3786\"],[0.5555555555555556,\"#d8576b\"],[0.6666666666666666,\"#ed7953\"],[0.7777777777777778,\"#fb9f3a\"],[0.8888888888888888,\"#fdca26\"],[1.0,\"#f0f921\"]],\"type\":\"heatmap\"}],\"histogram2dcontour\":[{\"colorbar\":{\"outlinewidth\":0,\"ticks\":\"\"},\"colorscale\":[[0.0,\"#0d0887\"],[0.1111111111111111,\"#46039f\"],[0.2222222222222222,\"#7201a8\"],[0.3333333333333333,\"#9c179e\"],[0.4444444444444444,\"#bd3786\"],[0.5555555555555556,\"#d8576b\"],[0.6666666666666666,\"#ed7953\"],[0.7777777777777778,\"#fb9f3a\"],[0.8888888888888888,\"#fdca26\"],[1.0,\"#f0f921\"]],\"type\":\"histogram2dcontour\"}],\"histogram2d\":[{\"colorbar\":{\"outlinewidth\":0,\"ticks\":\"\"},\"colorscale\":[[0.0,\"#0d0887\"],[0.1111111111111111,\"#46039f\"],[0.2222222222222222,\"#7201a8\"],[0.3333333333333333,\"#9c179e\"],[0.4444444444444444,\"#bd3786\"],[0.5555555555555556,\"#d8576b\"],[0.6666666666666666,\"#ed7953\"],[0.7777777777777778,\"#fb9f3a\"],[0.8888888888888888,\"#fdca26\"],[1.0,\"#f0f921\"]],\"type\":\"histogram2d\"}],\"histogram\":[{\"marker\":{\"pattern\":{\"fillmode\":\"overlay\",\"size\":10,\"solidity\":0.2}},\"type\":\"histogram\"}],\"mesh3d\":[{\"colorbar\":{\"outlinewidth\":0,\"ticks\":\"\"},\"type\":\"mesh3d\"}],\"parcoords\":[{\"line\":{\"colorbar\":{\"outlinewidth\":0,\"ticks\":\"\"}},\"type\":\"parcoords\"}],\"pie\":[{\"automargin\":true,\"type\":\"pie\"}],\"scatter3d\":[{\"line\":{\"colorbar\":{\"outlinewidth\":0,\"ticks\":\"\"}},\"marker\":{\"colorbar\":{\"outlinewidth\":0,\"ticks\":\"\"}},\"type\":\"scatter3d\"}],\"scattercarpet\":[{\"marker\":{\"colorbar\":{\"outlinewidth\":0,\"ticks\":\"\"}},\"type\":\"scattercarpet\"}],\"scattergeo\":[{\"marker\":{\"colorbar\":{\"outlinewidth\":0,\"ticks\":\"\"}},\"type\":\"scattergeo\"}],\"scattergl\":[{\"marker\":{\"line\":{\"color\":\"#283442\"}},\"type\":\"scattergl\"}],\"scattermapbox\":[{\"marker\":{\"colorbar\":{\"outlinewidth\":0,\"ticks\":\"\"}},\"type\":\"scattermapbox\"}],\"scatterpolargl\":[{\"marker\":{\"colorbar\":{\"outlinewidth\":0,\"ticks\":\"\"}},\"type\":\"scatterpolargl\"}],\"scatterpolar\":[{\"marker\":{\"colorbar\":{\"outlinewidth\":0,\"ticks\":\"\"}},\"type\":\"scatterpolar\"}],\"scatter\":[{\"marker\":{\"line\":{\"color\":\"#283442\"}},\"type\":\"scatter\"}],\"scatterternary\":[{\"marker\":{\"colorbar\":{\"outlinewidth\":0,\"ticks\":\"\"}},\"type\":\"scatterternary\"}],\"surface\":[{\"colorbar\":{\"outlinewidth\":0,\"ticks\":\"\"},\"colorscale\":[[0.0,\"#0d0887\"],[0.1111111111111111,\"#46039f\"],[0.2222222222222222,\"#7201a8\"],[0.3333333333333333,\"#9c179e\"],[0.4444444444444444,\"#bd3786\"],[0.5555555555555556,\"#d8576b\"],[0.6666666666666666,\"#ed7953\"],[0.7777777777777778,\"#fb9f3a\"],[0.8888888888888888,\"#fdca26\"],[1.0,\"#f0f921\"]],\"type\":\"surface\"}],\"table\":[{\"cells\":{\"fill\":{\"color\":\"#506784\"},\"line\":{\"color\":\"rgb(17,17,17)\"}},\"header\":{\"fill\":{\"color\":\"#2a3f5f\"},\"line\":{\"color\":\"rgb(17,17,17)\"}},\"type\":\"table\"}]},\"layout\":{\"annotationdefaults\":{\"arrowcolor\":\"#f2f5fa\",\"arrowhead\":0,\"arrowwidth\":1},\"autotypenumbers\":\"strict\",\"coloraxis\":{\"colorbar\":{\"outlinewidth\":0,\"ticks\":\"\"}},\"colorscale\":{\"diverging\":[[0,\"#8e0152\"],[0.1,\"#c51b7d\"],[0.2,\"#de77ae\"],[0.3,\"#f1b6da\"],[0.4,\"#fde0ef\"],[0.5,\"#f7f7f7\"],[0.6,\"#e6f5d0\"],[0.7,\"#b8e186\"],[0.8,\"#7fbc41\"],[0.9,\"#4d9221\"],[1,\"#276419\"]],\"sequential\":[[0.0,\"#0d0887\"],[0.1111111111111111,\"#46039f\"],[0.2222222222222222,\"#7201a8\"],[0.3333333333333333,\"#9c179e\"],[0.4444444444444444,\"#bd3786\"],[0.5555555555555556,\"#d8576b\"],[0.6666666666666666,\"#ed7953\"],[0.7777777777777778,\"#fb9f3a\"],[0.8888888888888888,\"#fdca26\"],[1.0,\"#f0f921\"]],\"sequentialminus\":[[0.0,\"#0d0887\"],[0.1111111111111111,\"#46039f\"],[0.2222222222222222,\"#7201a8\"],[0.3333333333333333,\"#9c179e\"],[0.4444444444444444,\"#bd3786\"],[0.5555555555555556,\"#d8576b\"],[0.6666666666666666,\"#ed7953\"],[0.7777777777777778,\"#fb9f3a\"],[0.8888888888888888,\"#fdca26\"],[1.0,\"#f0f921\"]]},\"colorway\":[\"#636efa\",\"#EF553B\",\"#00cc96\",\"#ab63fa\",\"#FFA15A\",\"#19d3f3\",\"#FF6692\",\"#B6E880\",\"#FF97FF\",\"#FECB52\"],\"font\":{\"color\":\"#f2f5fa\"},\"geo\":{\"bgcolor\":\"rgb(17,17,17)\",\"lakecolor\":\"rgb(17,17,17)\",\"landcolor\":\"rgb(17,17,17)\",\"showlakes\":true,\"showland\":true,\"subunitcolor\":\"#506784\"},\"hoverlabel\":{\"align\":\"left\"},\"hovermode\":\"closest\",\"mapbox\":{\"style\":\"dark\"},\"paper_bgcolor\":\"rgb(17,17,17)\",\"plot_bgcolor\":\"rgb(17,17,17)\",\"polar\":{\"angularaxis\":{\"gridcolor\":\"#506784\",\"linecolor\":\"#506784\",\"ticks\":\"\"},\"bgcolor\":\"rgb(17,17,17)\",\"radialaxis\":{\"gridcolor\":\"#506784\",\"linecolor\":\"#506784\",\"ticks\":\"\"}},\"scene\":{\"xaxis\":{\"backgroundcolor\":\"rgb(17,17,17)\",\"gridcolor\":\"#506784\",\"gridwidth\":2,\"linecolor\":\"#506784\",\"showbackground\":true,\"ticks\":\"\",\"zerolinecolor\":\"#C8D4E3\"},\"yaxis\":{\"backgroundcolor\":\"rgb(17,17,17)\",\"gridcolor\":\"#506784\",\"gridwidth\":2,\"linecolor\":\"#506784\",\"showbackground\":true,\"ticks\":\"\",\"zerolinecolor\":\"#C8D4E3\"},\"zaxis\":{\"backgroundcolor\":\"rgb(17,17,17)\",\"gridcolor\":\"#506784\",\"gridwidth\":2,\"linecolor\":\"#506784\",\"showbackground\":true,\"ticks\":\"\",\"zerolinecolor\":\"#C8D4E3\"}},\"shapedefaults\":{\"line\":{\"color\":\"#f2f5fa\"}},\"sliderdefaults\":{\"bgcolor\":\"#C8D4E3\",\"bordercolor\":\"rgb(17,17,17)\",\"borderwidth\":1,\"tickwidth\":0},\"ternary\":{\"aaxis\":{\"gridcolor\":\"#506784\",\"linecolor\":\"#506784\",\"ticks\":\"\"},\"baxis\":{\"gridcolor\":\"#506784\",\"linecolor\":\"#506784\",\"ticks\":\"\"},\"bgcolor\":\"rgb(17,17,17)\",\"caxis\":{\"gridcolor\":\"#506784\",\"linecolor\":\"#506784\",\"ticks\":\"\"}},\"title\":{\"x\":0.05},\"updatemenudefaults\":{\"bgcolor\":\"#506784\",\"borderwidth\":0},\"xaxis\":{\"automargin\":true,\"gridcolor\":\"#283442\",\"linecolor\":\"#506784\",\"ticks\":\"\",\"title\":{\"standoff\":15},\"zerolinecolor\":\"#283442\",\"zerolinewidth\":2},\"yaxis\":{\"automargin\":true,\"gridcolor\":\"#283442\",\"linecolor\":\"#506784\",\"ticks\":\"\",\"title\":{\"standoff\":15},\"zerolinecolor\":\"#283442\",\"zerolinewidth\":2}}},\"xaxis\":{\"anchor\":\"y\",\"domain\":[0.0,1.0],\"title\":{\"text\":\"index\"}},\"yaxis\":{\"anchor\":\"x\",\"domain\":[0.0,1.0],\"title\":{\"text\":\"value\"}},\"legend\":{\"title\":{\"text\":\"variable\"},\"tracegroupgap\":0},\"margin\":{\"t\":60}},                        {\"responsive\": true}                    ).then(function(){\n",
       "                            \n",
       "var gd = document.getElementById('87981696-15f6-4e7e-8091-074c9e7be2dd');\n",
       "var x = new MutationObserver(function (mutations, observer) {{\n",
       "        var display = window.getComputedStyle(gd).display;\n",
       "        if (!display || display === 'none') {{\n",
       "            console.log([gd, 'removed!']);\n",
       "            Plotly.purge(gd);\n",
       "            observer.disconnect();\n",
       "        }}\n",
       "}});\n",
       "\n",
       "// Listen for the removal of the full notebook cells\n",
       "var notebookContainer = gd.closest('#notebook-container');\n",
       "if (notebookContainer) {{\n",
       "    x.observe(notebookContainer, {childList: true});\n",
       "}}\n",
       "\n",
       "// Listen for the clearing of the current output cell\n",
       "var outputEl = gd.closest('.output');\n",
       "if (outputEl) {{\n",
       "    x.observe(outputEl, {childList: true});\n",
       "}}\n",
       "\n",
       "                        })                };                });            </script>        </div>"
      ]
     },
     "metadata": {},
     "output_type": "display_data"
    }
   ],
   "source": [
    "concat_df = pd.concat([data,predictions_future], axis=0)\n",
    "concat_df_i = pd.date_range(start='2010-04-01', end = '2024-05-01', freq = 'MS')\n",
    "concat_df.set_index(concat_df_i, inplace=True)\n",
    "fig = px.line(concat_df, x=concat_df.index, y=[\"Rainfall\", \"Label\"], template = 'plotly_dark')\n",
    "fig.show()"
   ]
  },
  {
   "cell_type": "code",
   "execution_count": 22,
   "id": "b9d3eebd",
   "metadata": {},
   "outputs": [
    {
     "name": "stdout",
     "output_type": "stream",
     "text": [
      "^C\n"
     ]
    }
   ],
   "source": [
    "#!mlflow ui"
   ]
  },
  {
   "cell_type": "code",
   "execution_count": 88,
   "id": "2b519496",
   "metadata": {},
   "outputs": [
    {
     "data": {
      "text/html": [
       "<style type=\"text/css\">\n",
       "#T_8a2fa_row17_col1, #T_8a2fa_row42_col1 {\n",
       "  background-color: lightgreen;\n",
       "}\n",
       "</style>\n",
       "<table id=\"T_8a2fa\">\n",
       "  <thead>\n",
       "    <tr>\n",
       "      <th class=\"blank level0\" >&nbsp;</th>\n",
       "      <th id=\"T_8a2fa_level0_col0\" class=\"col_heading level0 col0\" >Description</th>\n",
       "      <th id=\"T_8a2fa_level0_col1\" class=\"col_heading level0 col1\" >Value</th>\n",
       "    </tr>\n",
       "  </thead>\n",
       "  <tbody>\n",
       "    <tr>\n",
       "      <th id=\"T_8a2fa_level0_row0\" class=\"row_heading level0 row0\" >0</th>\n",
       "      <td id=\"T_8a2fa_row0_col0\" class=\"data row0 col0\" >session_id</td>\n",
       "      <td id=\"T_8a2fa_row0_col1\" class=\"data row0 col1\" >101</td>\n",
       "    </tr>\n",
       "    <tr>\n",
       "      <th id=\"T_8a2fa_level0_row1\" class=\"row_heading level0 row1\" >1</th>\n",
       "      <td id=\"T_8a2fa_row1_col0\" class=\"data row1 col0\" >Target</td>\n",
       "      <td id=\"T_8a2fa_row1_col1\" class=\"data row1 col1\" >AvgHumidity</td>\n",
       "    </tr>\n",
       "    <tr>\n",
       "      <th id=\"T_8a2fa_level0_row2\" class=\"row_heading level0 row2\" >2</th>\n",
       "      <td id=\"T_8a2fa_row2_col0\" class=\"data row2 col0\" >Original Data</td>\n",
       "      <td id=\"T_8a2fa_row2_col1\" class=\"data row2 col1\" >(66, 4)</td>\n",
       "    </tr>\n",
       "    <tr>\n",
       "      <th id=\"T_8a2fa_level0_row3\" class=\"row_heading level0 row3\" >3</th>\n",
       "      <td id=\"T_8a2fa_row3_col0\" class=\"data row3 col0\" >Missing Values</td>\n",
       "      <td id=\"T_8a2fa_row3_col1\" class=\"data row3 col1\" >False</td>\n",
       "    </tr>\n",
       "    <tr>\n",
       "      <th id=\"T_8a2fa_level0_row4\" class=\"row_heading level0 row4\" >4</th>\n",
       "      <td id=\"T_8a2fa_row4_col0\" class=\"data row4 col0\" >Numeric Features</td>\n",
       "      <td id=\"T_8a2fa_row4_col1\" class=\"data row4 col1\" >2</td>\n",
       "    </tr>\n",
       "    <tr>\n",
       "      <th id=\"T_8a2fa_level0_row5\" class=\"row_heading level0 row5\" >5</th>\n",
       "      <td id=\"T_8a2fa_row5_col0\" class=\"data row5 col0\" >Categorical Features</td>\n",
       "      <td id=\"T_8a2fa_row5_col1\" class=\"data row5 col1\" >1</td>\n",
       "    </tr>\n",
       "    <tr>\n",
       "      <th id=\"T_8a2fa_level0_row6\" class=\"row_heading level0 row6\" >6</th>\n",
       "      <td id=\"T_8a2fa_row6_col0\" class=\"data row6 col0\" >Ordinal Features</td>\n",
       "      <td id=\"T_8a2fa_row6_col1\" class=\"data row6 col1\" >False</td>\n",
       "    </tr>\n",
       "    <tr>\n",
       "      <th id=\"T_8a2fa_level0_row7\" class=\"row_heading level0 row7\" >7</th>\n",
       "      <td id=\"T_8a2fa_row7_col0\" class=\"data row7 col0\" >High Cardinality Features</td>\n",
       "      <td id=\"T_8a2fa_row7_col1\" class=\"data row7 col1\" >False</td>\n",
       "    </tr>\n",
       "    <tr>\n",
       "      <th id=\"T_8a2fa_level0_row8\" class=\"row_heading level0 row8\" >8</th>\n",
       "      <td id=\"T_8a2fa_row8_col0\" class=\"data row8 col0\" >High Cardinality Method</td>\n",
       "      <td id=\"T_8a2fa_row8_col1\" class=\"data row8 col1\" >None</td>\n",
       "    </tr>\n",
       "    <tr>\n",
       "      <th id=\"T_8a2fa_level0_row9\" class=\"row_heading level0 row9\" >9</th>\n",
       "      <td id=\"T_8a2fa_row9_col0\" class=\"data row9 col0\" >Transformed Train Set</td>\n",
       "      <td id=\"T_8a2fa_row9_col1\" class=\"data row9 col1\" >(66, 14)</td>\n",
       "    </tr>\n",
       "    <tr>\n",
       "      <th id=\"T_8a2fa_level0_row10\" class=\"row_heading level0 row10\" >10</th>\n",
       "      <td id=\"T_8a2fa_row10_col0\" class=\"data row10 col0\" >Transformed Test Set</td>\n",
       "      <td id=\"T_8a2fa_row10_col1\" class=\"data row10 col1\" >(12, 14)</td>\n",
       "    </tr>\n",
       "    <tr>\n",
       "      <th id=\"T_8a2fa_level0_row11\" class=\"row_heading level0 row11\" >11</th>\n",
       "      <td id=\"T_8a2fa_row11_col0\" class=\"data row11 col0\" >Shuffle Train-Test</td>\n",
       "      <td id=\"T_8a2fa_row11_col1\" class=\"data row11 col1\" >True</td>\n",
       "    </tr>\n",
       "    <tr>\n",
       "      <th id=\"T_8a2fa_level0_row12\" class=\"row_heading level0 row12\" >12</th>\n",
       "      <td id=\"T_8a2fa_row12_col0\" class=\"data row12 col0\" >Stratify Train-Test</td>\n",
       "      <td id=\"T_8a2fa_row12_col1\" class=\"data row12 col1\" >False</td>\n",
       "    </tr>\n",
       "    <tr>\n",
       "      <th id=\"T_8a2fa_level0_row13\" class=\"row_heading level0 row13\" >13</th>\n",
       "      <td id=\"T_8a2fa_row13_col0\" class=\"data row13 col0\" >Fold Generator</td>\n",
       "      <td id=\"T_8a2fa_row13_col1\" class=\"data row13 col1\" >TimeSeriesSplit</td>\n",
       "    </tr>\n",
       "    <tr>\n",
       "      <th id=\"T_8a2fa_level0_row14\" class=\"row_heading level0 row14\" >14</th>\n",
       "      <td id=\"T_8a2fa_row14_col0\" class=\"data row14 col0\" >Fold Number</td>\n",
       "      <td id=\"T_8a2fa_row14_col1\" class=\"data row14 col1\" >3</td>\n",
       "    </tr>\n",
       "    <tr>\n",
       "      <th id=\"T_8a2fa_level0_row15\" class=\"row_heading level0 row15\" >15</th>\n",
       "      <td id=\"T_8a2fa_row15_col0\" class=\"data row15 col0\" >CPU Jobs</td>\n",
       "      <td id=\"T_8a2fa_row15_col1\" class=\"data row15 col1\" >-1</td>\n",
       "    </tr>\n",
       "    <tr>\n",
       "      <th id=\"T_8a2fa_level0_row16\" class=\"row_heading level0 row16\" >16</th>\n",
       "      <td id=\"T_8a2fa_row16_col0\" class=\"data row16 col0\" >Use GPU</td>\n",
       "      <td id=\"T_8a2fa_row16_col1\" class=\"data row16 col1\" >False</td>\n",
       "    </tr>\n",
       "    <tr>\n",
       "      <th id=\"T_8a2fa_level0_row17\" class=\"row_heading level0 row17\" >17</th>\n",
       "      <td id=\"T_8a2fa_row17_col0\" class=\"data row17 col0\" >Log Experiment</td>\n",
       "      <td id=\"T_8a2fa_row17_col1\" class=\"data row17 col1\" >True</td>\n",
       "    </tr>\n",
       "    <tr>\n",
       "      <th id=\"T_8a2fa_level0_row18\" class=\"row_heading level0 row18\" >18</th>\n",
       "      <td id=\"T_8a2fa_row18_col0\" class=\"data row18 col0\" >Experiment Name</td>\n",
       "      <td id=\"T_8a2fa_row18_col1\" class=\"data row18 col1\" >Humidity</td>\n",
       "    </tr>\n",
       "    <tr>\n",
       "      <th id=\"T_8a2fa_level0_row19\" class=\"row_heading level0 row19\" >19</th>\n",
       "      <td id=\"T_8a2fa_row19_col0\" class=\"data row19 col0\" >USI</td>\n",
       "      <td id=\"T_8a2fa_row19_col1\" class=\"data row19 col1\" >2e37</td>\n",
       "    </tr>\n",
       "    <tr>\n",
       "      <th id=\"T_8a2fa_level0_row20\" class=\"row_heading level0 row20\" >20</th>\n",
       "      <td id=\"T_8a2fa_row20_col0\" class=\"data row20 col0\" >Imputation Type</td>\n",
       "      <td id=\"T_8a2fa_row20_col1\" class=\"data row20 col1\" >simple</td>\n",
       "    </tr>\n",
       "    <tr>\n",
       "      <th id=\"T_8a2fa_level0_row21\" class=\"row_heading level0 row21\" >21</th>\n",
       "      <td id=\"T_8a2fa_row21_col0\" class=\"data row21 col0\" >Iterative Imputation Iteration</td>\n",
       "      <td id=\"T_8a2fa_row21_col1\" class=\"data row21 col1\" >None</td>\n",
       "    </tr>\n",
       "    <tr>\n",
       "      <th id=\"T_8a2fa_level0_row22\" class=\"row_heading level0 row22\" >22</th>\n",
       "      <td id=\"T_8a2fa_row22_col0\" class=\"data row22 col0\" >Numeric Imputer</td>\n",
       "      <td id=\"T_8a2fa_row22_col1\" class=\"data row22 col1\" >mean</td>\n",
       "    </tr>\n",
       "    <tr>\n",
       "      <th id=\"T_8a2fa_level0_row23\" class=\"row_heading level0 row23\" >23</th>\n",
       "      <td id=\"T_8a2fa_row23_col0\" class=\"data row23 col0\" >Iterative Imputation Numeric Model</td>\n",
       "      <td id=\"T_8a2fa_row23_col1\" class=\"data row23 col1\" >None</td>\n",
       "    </tr>\n",
       "    <tr>\n",
       "      <th id=\"T_8a2fa_level0_row24\" class=\"row_heading level0 row24\" >24</th>\n",
       "      <td id=\"T_8a2fa_row24_col0\" class=\"data row24 col0\" >Categorical Imputer</td>\n",
       "      <td id=\"T_8a2fa_row24_col1\" class=\"data row24 col1\" >constant</td>\n",
       "    </tr>\n",
       "    <tr>\n",
       "      <th id=\"T_8a2fa_level0_row25\" class=\"row_heading level0 row25\" >25</th>\n",
       "      <td id=\"T_8a2fa_row25_col0\" class=\"data row25 col0\" >Iterative Imputation Categorical Model</td>\n",
       "      <td id=\"T_8a2fa_row25_col1\" class=\"data row25 col1\" >None</td>\n",
       "    </tr>\n",
       "    <tr>\n",
       "      <th id=\"T_8a2fa_level0_row26\" class=\"row_heading level0 row26\" >26</th>\n",
       "      <td id=\"T_8a2fa_row26_col0\" class=\"data row26 col0\" >Unknown Categoricals Handling</td>\n",
       "      <td id=\"T_8a2fa_row26_col1\" class=\"data row26 col1\" >least_frequent</td>\n",
       "    </tr>\n",
       "    <tr>\n",
       "      <th id=\"T_8a2fa_level0_row27\" class=\"row_heading level0 row27\" >27</th>\n",
       "      <td id=\"T_8a2fa_row27_col0\" class=\"data row27 col0\" >Normalize</td>\n",
       "      <td id=\"T_8a2fa_row27_col1\" class=\"data row27 col1\" >False</td>\n",
       "    </tr>\n",
       "    <tr>\n",
       "      <th id=\"T_8a2fa_level0_row28\" class=\"row_heading level0 row28\" >28</th>\n",
       "      <td id=\"T_8a2fa_row28_col0\" class=\"data row28 col0\" >Normalize Method</td>\n",
       "      <td id=\"T_8a2fa_row28_col1\" class=\"data row28 col1\" >None</td>\n",
       "    </tr>\n",
       "    <tr>\n",
       "      <th id=\"T_8a2fa_level0_row29\" class=\"row_heading level0 row29\" >29</th>\n",
       "      <td id=\"T_8a2fa_row29_col0\" class=\"data row29 col0\" >Transformation</td>\n",
       "      <td id=\"T_8a2fa_row29_col1\" class=\"data row29 col1\" >False</td>\n",
       "    </tr>\n",
       "    <tr>\n",
       "      <th id=\"T_8a2fa_level0_row30\" class=\"row_heading level0 row30\" >30</th>\n",
       "      <td id=\"T_8a2fa_row30_col0\" class=\"data row30 col0\" >Transformation Method</td>\n",
       "      <td id=\"T_8a2fa_row30_col1\" class=\"data row30 col1\" >None</td>\n",
       "    </tr>\n",
       "    <tr>\n",
       "      <th id=\"T_8a2fa_level0_row31\" class=\"row_heading level0 row31\" >31</th>\n",
       "      <td id=\"T_8a2fa_row31_col0\" class=\"data row31 col0\" >PCA</td>\n",
       "      <td id=\"T_8a2fa_row31_col1\" class=\"data row31 col1\" >False</td>\n",
       "    </tr>\n",
       "    <tr>\n",
       "      <th id=\"T_8a2fa_level0_row32\" class=\"row_heading level0 row32\" >32</th>\n",
       "      <td id=\"T_8a2fa_row32_col0\" class=\"data row32 col0\" >PCA Method</td>\n",
       "      <td id=\"T_8a2fa_row32_col1\" class=\"data row32 col1\" >None</td>\n",
       "    </tr>\n",
       "    <tr>\n",
       "      <th id=\"T_8a2fa_level0_row33\" class=\"row_heading level0 row33\" >33</th>\n",
       "      <td id=\"T_8a2fa_row33_col0\" class=\"data row33 col0\" >PCA Components</td>\n",
       "      <td id=\"T_8a2fa_row33_col1\" class=\"data row33 col1\" >None</td>\n",
       "    </tr>\n",
       "    <tr>\n",
       "      <th id=\"T_8a2fa_level0_row34\" class=\"row_heading level0 row34\" >34</th>\n",
       "      <td id=\"T_8a2fa_row34_col0\" class=\"data row34 col0\" >Ignore Low Variance</td>\n",
       "      <td id=\"T_8a2fa_row34_col1\" class=\"data row34 col1\" >False</td>\n",
       "    </tr>\n",
       "    <tr>\n",
       "      <th id=\"T_8a2fa_level0_row35\" class=\"row_heading level0 row35\" >35</th>\n",
       "      <td id=\"T_8a2fa_row35_col0\" class=\"data row35 col0\" >Combine Rare Levels</td>\n",
       "      <td id=\"T_8a2fa_row35_col1\" class=\"data row35 col1\" >False</td>\n",
       "    </tr>\n",
       "    <tr>\n",
       "      <th id=\"T_8a2fa_level0_row36\" class=\"row_heading level0 row36\" >36</th>\n",
       "      <td id=\"T_8a2fa_row36_col0\" class=\"data row36 col0\" >Rare Level Threshold</td>\n",
       "      <td id=\"T_8a2fa_row36_col1\" class=\"data row36 col1\" >None</td>\n",
       "    </tr>\n",
       "    <tr>\n",
       "      <th id=\"T_8a2fa_level0_row37\" class=\"row_heading level0 row37\" >37</th>\n",
       "      <td id=\"T_8a2fa_row37_col0\" class=\"data row37 col0\" >Numeric Binning</td>\n",
       "      <td id=\"T_8a2fa_row37_col1\" class=\"data row37 col1\" >False</td>\n",
       "    </tr>\n",
       "    <tr>\n",
       "      <th id=\"T_8a2fa_level0_row38\" class=\"row_heading level0 row38\" >38</th>\n",
       "      <td id=\"T_8a2fa_row38_col0\" class=\"data row38 col0\" >Remove Outliers</td>\n",
       "      <td id=\"T_8a2fa_row38_col1\" class=\"data row38 col1\" >False</td>\n",
       "    </tr>\n",
       "    <tr>\n",
       "      <th id=\"T_8a2fa_level0_row39\" class=\"row_heading level0 row39\" >39</th>\n",
       "      <td id=\"T_8a2fa_row39_col0\" class=\"data row39 col0\" >Outliers Threshold</td>\n",
       "      <td id=\"T_8a2fa_row39_col1\" class=\"data row39 col1\" >None</td>\n",
       "    </tr>\n",
       "    <tr>\n",
       "      <th id=\"T_8a2fa_level0_row40\" class=\"row_heading level0 row40\" >40</th>\n",
       "      <td id=\"T_8a2fa_row40_col0\" class=\"data row40 col0\" >Remove Multicollinearity</td>\n",
       "      <td id=\"T_8a2fa_row40_col1\" class=\"data row40 col1\" >False</td>\n",
       "    </tr>\n",
       "    <tr>\n",
       "      <th id=\"T_8a2fa_level0_row41\" class=\"row_heading level0 row41\" >41</th>\n",
       "      <td id=\"T_8a2fa_row41_col0\" class=\"data row41 col0\" >Multicollinearity Threshold</td>\n",
       "      <td id=\"T_8a2fa_row41_col1\" class=\"data row41 col1\" >None</td>\n",
       "    </tr>\n",
       "    <tr>\n",
       "      <th id=\"T_8a2fa_level0_row42\" class=\"row_heading level0 row42\" >42</th>\n",
       "      <td id=\"T_8a2fa_row42_col0\" class=\"data row42 col0\" >Remove Perfect Collinearity</td>\n",
       "      <td id=\"T_8a2fa_row42_col1\" class=\"data row42 col1\" >True</td>\n",
       "    </tr>\n",
       "    <tr>\n",
       "      <th id=\"T_8a2fa_level0_row43\" class=\"row_heading level0 row43\" >43</th>\n",
       "      <td id=\"T_8a2fa_row43_col0\" class=\"data row43 col0\" >Clustering</td>\n",
       "      <td id=\"T_8a2fa_row43_col1\" class=\"data row43 col1\" >False</td>\n",
       "    </tr>\n",
       "    <tr>\n",
       "      <th id=\"T_8a2fa_level0_row44\" class=\"row_heading level0 row44\" >44</th>\n",
       "      <td id=\"T_8a2fa_row44_col0\" class=\"data row44 col0\" >Clustering Iteration</td>\n",
       "      <td id=\"T_8a2fa_row44_col1\" class=\"data row44 col1\" >None</td>\n",
       "    </tr>\n",
       "    <tr>\n",
       "      <th id=\"T_8a2fa_level0_row45\" class=\"row_heading level0 row45\" >45</th>\n",
       "      <td id=\"T_8a2fa_row45_col0\" class=\"data row45 col0\" >Polynomial Features</td>\n",
       "      <td id=\"T_8a2fa_row45_col1\" class=\"data row45 col1\" >False</td>\n",
       "    </tr>\n",
       "    <tr>\n",
       "      <th id=\"T_8a2fa_level0_row46\" class=\"row_heading level0 row46\" >46</th>\n",
       "      <td id=\"T_8a2fa_row46_col0\" class=\"data row46 col0\" >Polynomial Degree</td>\n",
       "      <td id=\"T_8a2fa_row46_col1\" class=\"data row46 col1\" >None</td>\n",
       "    </tr>\n",
       "    <tr>\n",
       "      <th id=\"T_8a2fa_level0_row47\" class=\"row_heading level0 row47\" >47</th>\n",
       "      <td id=\"T_8a2fa_row47_col0\" class=\"data row47 col0\" >Trignometry Features</td>\n",
       "      <td id=\"T_8a2fa_row47_col1\" class=\"data row47 col1\" >False</td>\n",
       "    </tr>\n",
       "    <tr>\n",
       "      <th id=\"T_8a2fa_level0_row48\" class=\"row_heading level0 row48\" >48</th>\n",
       "      <td id=\"T_8a2fa_row48_col0\" class=\"data row48 col0\" >Polynomial Threshold</td>\n",
       "      <td id=\"T_8a2fa_row48_col1\" class=\"data row48 col1\" >None</td>\n",
       "    </tr>\n",
       "    <tr>\n",
       "      <th id=\"T_8a2fa_level0_row49\" class=\"row_heading level0 row49\" >49</th>\n",
       "      <td id=\"T_8a2fa_row49_col0\" class=\"data row49 col0\" >Group Features</td>\n",
       "      <td id=\"T_8a2fa_row49_col1\" class=\"data row49 col1\" >False</td>\n",
       "    </tr>\n",
       "    <tr>\n",
       "      <th id=\"T_8a2fa_level0_row50\" class=\"row_heading level0 row50\" >50</th>\n",
       "      <td id=\"T_8a2fa_row50_col0\" class=\"data row50 col0\" >Feature Selection</td>\n",
       "      <td id=\"T_8a2fa_row50_col1\" class=\"data row50 col1\" >False</td>\n",
       "    </tr>\n",
       "    <tr>\n",
       "      <th id=\"T_8a2fa_level0_row51\" class=\"row_heading level0 row51\" >51</th>\n",
       "      <td id=\"T_8a2fa_row51_col0\" class=\"data row51 col0\" >Feature Selection Method</td>\n",
       "      <td id=\"T_8a2fa_row51_col1\" class=\"data row51 col1\" >classic</td>\n",
       "    </tr>\n",
       "    <tr>\n",
       "      <th id=\"T_8a2fa_level0_row52\" class=\"row_heading level0 row52\" >52</th>\n",
       "      <td id=\"T_8a2fa_row52_col0\" class=\"data row52 col0\" >Features Selection Threshold</td>\n",
       "      <td id=\"T_8a2fa_row52_col1\" class=\"data row52 col1\" >None</td>\n",
       "    </tr>\n",
       "    <tr>\n",
       "      <th id=\"T_8a2fa_level0_row53\" class=\"row_heading level0 row53\" >53</th>\n",
       "      <td id=\"T_8a2fa_row53_col0\" class=\"data row53 col0\" >Feature Interaction</td>\n",
       "      <td id=\"T_8a2fa_row53_col1\" class=\"data row53 col1\" >False</td>\n",
       "    </tr>\n",
       "    <tr>\n",
       "      <th id=\"T_8a2fa_level0_row54\" class=\"row_heading level0 row54\" >54</th>\n",
       "      <td id=\"T_8a2fa_row54_col0\" class=\"data row54 col0\" >Feature Ratio</td>\n",
       "      <td id=\"T_8a2fa_row54_col1\" class=\"data row54 col1\" >False</td>\n",
       "    </tr>\n",
       "    <tr>\n",
       "      <th id=\"T_8a2fa_level0_row55\" class=\"row_heading level0 row55\" >55</th>\n",
       "      <td id=\"T_8a2fa_row55_col0\" class=\"data row55 col0\" >Interaction Threshold</td>\n",
       "      <td id=\"T_8a2fa_row55_col1\" class=\"data row55 col1\" >None</td>\n",
       "    </tr>\n",
       "    <tr>\n",
       "      <th id=\"T_8a2fa_level0_row56\" class=\"row_heading level0 row56\" >56</th>\n",
       "      <td id=\"T_8a2fa_row56_col0\" class=\"data row56 col0\" >Transform Target</td>\n",
       "      <td id=\"T_8a2fa_row56_col1\" class=\"data row56 col1\" >False</td>\n",
       "    </tr>\n",
       "    <tr>\n",
       "      <th id=\"T_8a2fa_level0_row57\" class=\"row_heading level0 row57\" >57</th>\n",
       "      <td id=\"T_8a2fa_row57_col0\" class=\"data row57 col0\" >Transform Target Method</td>\n",
       "      <td id=\"T_8a2fa_row57_col1\" class=\"data row57 col1\" >box-cox</td>\n",
       "    </tr>\n",
       "  </tbody>\n",
       "</table>\n"
      ],
      "text/plain": [
       "<pandas.io.formats.style.Styler at 0x175f5dae820>"
      ]
     },
     "metadata": {},
     "output_type": "display_data"
    }
   ],
   "source": [
    "# initialize setup\n",
    "s_humidity = setup(data = trainhumidity, test_data = testhumidity, target = 'AvgHumidity', fold_strategy = 'timeseries',numeric_features = ['Year', 'Series'], fold = 3, session_id = 101,log_experiment=True,experiment_name='Humidity')"
   ]
  },
  {
   "cell_type": "code",
   "execution_count": 89,
   "id": "7e602671",
   "metadata": {},
   "outputs": [
    {
     "data": {
      "text/html": [
       "<style type=\"text/css\">\n",
       "#T_7831d th {\n",
       "  text-align: left;\n",
       "}\n",
       "#T_7831d_row0_col0, #T_7831d_row1_col0, #T_7831d_row1_col1, #T_7831d_row1_col2, #T_7831d_row1_col3, #T_7831d_row1_col4, #T_7831d_row1_col6, #T_7831d_row2_col0, #T_7831d_row2_col1, #T_7831d_row2_col2, #T_7831d_row2_col3, #T_7831d_row2_col4, #T_7831d_row2_col5, #T_7831d_row2_col6, #T_7831d_row3_col0, #T_7831d_row3_col1, #T_7831d_row3_col2, #T_7831d_row3_col3, #T_7831d_row3_col4, #T_7831d_row3_col5, #T_7831d_row3_col6, #T_7831d_row4_col0, #T_7831d_row4_col1, #T_7831d_row4_col2, #T_7831d_row4_col3, #T_7831d_row4_col4, #T_7831d_row4_col5, #T_7831d_row4_col6, #T_7831d_row5_col0, #T_7831d_row5_col1, #T_7831d_row5_col2, #T_7831d_row5_col3, #T_7831d_row5_col4, #T_7831d_row5_col5, #T_7831d_row5_col6, #T_7831d_row6_col0, #T_7831d_row6_col1, #T_7831d_row6_col2, #T_7831d_row6_col3, #T_7831d_row6_col4, #T_7831d_row6_col5, #T_7831d_row6_col6, #T_7831d_row7_col0, #T_7831d_row7_col1, #T_7831d_row7_col2, #T_7831d_row7_col3, #T_7831d_row7_col4, #T_7831d_row7_col5, #T_7831d_row7_col6, #T_7831d_row8_col0, #T_7831d_row8_col1, #T_7831d_row8_col2, #T_7831d_row8_col3, #T_7831d_row8_col4, #T_7831d_row8_col5, #T_7831d_row8_col6, #T_7831d_row9_col0, #T_7831d_row9_col1, #T_7831d_row9_col2, #T_7831d_row9_col3, #T_7831d_row9_col4, #T_7831d_row9_col5, #T_7831d_row9_col6, #T_7831d_row10_col0, #T_7831d_row10_col1, #T_7831d_row10_col2, #T_7831d_row10_col3, #T_7831d_row10_col4, #T_7831d_row10_col5, #T_7831d_row10_col6, #T_7831d_row11_col0, #T_7831d_row11_col1, #T_7831d_row11_col2, #T_7831d_row11_col3, #T_7831d_row11_col4, #T_7831d_row11_col5, #T_7831d_row11_col6, #T_7831d_row12_col0, #T_7831d_row12_col1, #T_7831d_row12_col2, #T_7831d_row12_col3, #T_7831d_row12_col4, #T_7831d_row12_col5, #T_7831d_row12_col6, #T_7831d_row13_col0, #T_7831d_row13_col1, #T_7831d_row13_col2, #T_7831d_row13_col3, #T_7831d_row13_col4, #T_7831d_row13_col5, #T_7831d_row13_col6, #T_7831d_row14_col0, #T_7831d_row14_col1, #T_7831d_row14_col2, #T_7831d_row14_col3, #T_7831d_row14_col4, #T_7831d_row14_col5, #T_7831d_row14_col6, #T_7831d_row15_col0, #T_7831d_row15_col1, #T_7831d_row15_col2, #T_7831d_row15_col3, #T_7831d_row15_col4, #T_7831d_row15_col5, #T_7831d_row15_col6, #T_7831d_row16_col0, #T_7831d_row16_col1, #T_7831d_row16_col2, #T_7831d_row16_col3, #T_7831d_row16_col4, #T_7831d_row16_col5, #T_7831d_row16_col6, #T_7831d_row17_col0, #T_7831d_row17_col1, #T_7831d_row17_col2, #T_7831d_row17_col3, #T_7831d_row17_col4, #T_7831d_row17_col5, #T_7831d_row17_col6, #T_7831d_row18_col0, #T_7831d_row18_col1, #T_7831d_row18_col2, #T_7831d_row18_col3, #T_7831d_row18_col4, #T_7831d_row18_col5, #T_7831d_row18_col6, #T_7831d_row19_col0, #T_7831d_row19_col1, #T_7831d_row19_col2, #T_7831d_row19_col3, #T_7831d_row19_col4, #T_7831d_row19_col5, #T_7831d_row19_col6 {\n",
       "  text-align: left;\n",
       "}\n",
       "#T_7831d_row0_col1, #T_7831d_row0_col2, #T_7831d_row0_col3, #T_7831d_row0_col4, #T_7831d_row0_col5, #T_7831d_row0_col6, #T_7831d_row1_col5 {\n",
       "  text-align: left;\n",
       "  background-color: yellow;\n",
       "}\n",
       "#T_7831d_row0_col7, #T_7831d_row1_col7, #T_7831d_row2_col7, #T_7831d_row3_col7, #T_7831d_row4_col7, #T_7831d_row5_col7, #T_7831d_row6_col7, #T_7831d_row7_col7, #T_7831d_row8_col7, #T_7831d_row9_col7, #T_7831d_row10_col7, #T_7831d_row11_col7, #T_7831d_row12_col7, #T_7831d_row13_col7, #T_7831d_row15_col7, #T_7831d_row16_col7, #T_7831d_row17_col7, #T_7831d_row18_col7, #T_7831d_row19_col7 {\n",
       "  text-align: left;\n",
       "  background-color: lightgrey;\n",
       "}\n",
       "#T_7831d_row14_col7 {\n",
       "  text-align: left;\n",
       "  background-color: yellow;\n",
       "  background-color: lightgrey;\n",
       "}\n",
       "</style>\n",
       "<table id=\"T_7831d\">\n",
       "  <thead>\n",
       "    <tr>\n",
       "      <th class=\"blank level0\" >&nbsp;</th>\n",
       "      <th id=\"T_7831d_level0_col0\" class=\"col_heading level0 col0\" >Model</th>\n",
       "      <th id=\"T_7831d_level0_col1\" class=\"col_heading level0 col1\" >MAE</th>\n",
       "      <th id=\"T_7831d_level0_col2\" class=\"col_heading level0 col2\" >MSE</th>\n",
       "      <th id=\"T_7831d_level0_col3\" class=\"col_heading level0 col3\" >RMSE</th>\n",
       "      <th id=\"T_7831d_level0_col4\" class=\"col_heading level0 col4\" >R2</th>\n",
       "      <th id=\"T_7831d_level0_col5\" class=\"col_heading level0 col5\" >RMSLE</th>\n",
       "      <th id=\"T_7831d_level0_col6\" class=\"col_heading level0 col6\" >MAPE</th>\n",
       "      <th id=\"T_7831d_level0_col7\" class=\"col_heading level0 col7\" >TT (Sec)</th>\n",
       "    </tr>\n",
       "  </thead>\n",
       "  <tbody>\n",
       "    <tr>\n",
       "      <th id=\"T_7831d_level0_row0\" class=\"row_heading level0 row0\" >lr</th>\n",
       "      <td id=\"T_7831d_row0_col0\" class=\"data row0 col0\" >Linear Regression</td>\n",
       "      <td id=\"T_7831d_row0_col1\" class=\"data row0 col1\" >5.1225</td>\n",
       "      <td id=\"T_7831d_row0_col2\" class=\"data row0 col2\" >39.7240</td>\n",
       "      <td id=\"T_7831d_row0_col3\" class=\"data row0 col3\" >6.1452</td>\n",
       "      <td id=\"T_7831d_row0_col4\" class=\"data row0 col4\" >0.7881</td>\n",
       "      <td id=\"T_7831d_row0_col5\" class=\"data row0 col5\" >0.1071</td>\n",
       "      <td id=\"T_7831d_row0_col6\" class=\"data row0 col6\" >0.0866</td>\n",
       "      <td id=\"T_7831d_row0_col7\" class=\"data row0 col7\" >0.0167</td>\n",
       "    </tr>\n",
       "    <tr>\n",
       "      <th id=\"T_7831d_level0_row1\" class=\"row_heading level0 row1\" >lar</th>\n",
       "      <td id=\"T_7831d_row1_col0\" class=\"data row1 col0\" >Least Angle Regression</td>\n",
       "      <td id=\"T_7831d_row1_col1\" class=\"data row1 col1\" >5.1238</td>\n",
       "      <td id=\"T_7831d_row1_col2\" class=\"data row1 col2\" >39.7465</td>\n",
       "      <td id=\"T_7831d_row1_col3\" class=\"data row1 col3\" >6.1465</td>\n",
       "      <td id=\"T_7831d_row1_col4\" class=\"data row1 col4\" >0.7880</td>\n",
       "      <td id=\"T_7831d_row1_col5\" class=\"data row1 col5\" >0.1071</td>\n",
       "      <td id=\"T_7831d_row1_col6\" class=\"data row1 col6\" >0.0867</td>\n",
       "      <td id=\"T_7831d_row1_col7\" class=\"data row1 col7\" >0.0200</td>\n",
       "    </tr>\n",
       "    <tr>\n",
       "      <th id=\"T_7831d_level0_row2\" class=\"row_heading level0 row2\" >huber</th>\n",
       "      <td id=\"T_7831d_row2_col0\" class=\"data row2 col0\" >Huber Regressor</td>\n",
       "      <td id=\"T_7831d_row2_col1\" class=\"data row2 col1\" >5.2833</td>\n",
       "      <td id=\"T_7831d_row2_col2\" class=\"data row2 col2\" >44.8232</td>\n",
       "      <td id=\"T_7831d_row2_col3\" class=\"data row2 col3\" >6.4238</td>\n",
       "      <td id=\"T_7831d_row2_col4\" class=\"data row2 col4\" >0.7592</td>\n",
       "      <td id=\"T_7831d_row2_col5\" class=\"data row2 col5\" >0.1123</td>\n",
       "      <td id=\"T_7831d_row2_col6\" class=\"data row2 col6\" >0.0893</td>\n",
       "      <td id=\"T_7831d_row2_col7\" class=\"data row2 col7\" >0.0400</td>\n",
       "    </tr>\n",
       "    <tr>\n",
       "      <th id=\"T_7831d_level0_row3\" class=\"row_heading level0 row3\" >xgboost</th>\n",
       "      <td id=\"T_7831d_row3_col0\" class=\"data row3 col0\" >Extreme Gradient Boosting</td>\n",
       "      <td id=\"T_7831d_row3_col1\" class=\"data row3 col1\" >5.6043</td>\n",
       "      <td id=\"T_7831d_row3_col2\" class=\"data row3 col2\" >44.8085</td>\n",
       "      <td id=\"T_7831d_row3_col3\" class=\"data row3 col3\" >6.6934</td>\n",
       "      <td id=\"T_7831d_row3_col4\" class=\"data row3 col4\" >0.7672</td>\n",
       "      <td id=\"T_7831d_row3_col5\" class=\"data row3 col5\" >0.1139</td>\n",
       "      <td id=\"T_7831d_row3_col6\" class=\"data row3 col6\" >0.0926</td>\n",
       "      <td id=\"T_7831d_row3_col7\" class=\"data row3 col7\" >0.1167</td>\n",
       "    </tr>\n",
       "    <tr>\n",
       "      <th id=\"T_7831d_level0_row4\" class=\"row_heading level0 row4\" >gbr</th>\n",
       "      <td id=\"T_7831d_row4_col0\" class=\"data row4 col0\" >Gradient Boosting Regressor</td>\n",
       "      <td id=\"T_7831d_row4_col1\" class=\"data row4 col1\" >5.6079</td>\n",
       "      <td id=\"T_7831d_row4_col2\" class=\"data row4 col2\" >49.8149</td>\n",
       "      <td id=\"T_7831d_row4_col3\" class=\"data row4 col3\" >7.0497</td>\n",
       "      <td id=\"T_7831d_row4_col4\" class=\"data row4 col4\" >0.7399</td>\n",
       "      <td id=\"T_7831d_row4_col5\" class=\"data row4 col5\" >0.1186</td>\n",
       "      <td id=\"T_7831d_row4_col6\" class=\"data row4 col6\" >0.0931</td>\n",
       "      <td id=\"T_7831d_row4_col7\" class=\"data row4 col7\" >0.0333</td>\n",
       "    </tr>\n",
       "    <tr>\n",
       "      <th id=\"T_7831d_level0_row5\" class=\"row_heading level0 row5\" >ridge</th>\n",
       "      <td id=\"T_7831d_row5_col0\" class=\"data row5 col0\" >Ridge Regression</td>\n",
       "      <td id=\"T_7831d_row5_col1\" class=\"data row5 col1\" >5.7512</td>\n",
       "      <td id=\"T_7831d_row5_col2\" class=\"data row5 col2\" >52.5582</td>\n",
       "      <td id=\"T_7831d_row5_col3\" class=\"data row5 col3\" >7.1057</td>\n",
       "      <td id=\"T_7831d_row5_col4\" class=\"data row5 col4\" >0.7222</td>\n",
       "      <td id=\"T_7831d_row5_col5\" class=\"data row5 col5\" >0.1181</td>\n",
       "      <td id=\"T_7831d_row5_col6\" class=\"data row5 col6\" >0.0939</td>\n",
       "      <td id=\"T_7831d_row5_col7\" class=\"data row5 col7\" >0.0167</td>\n",
       "    </tr>\n",
       "    <tr>\n",
       "      <th id=\"T_7831d_level0_row6\" class=\"row_heading level0 row6\" >et</th>\n",
       "      <td id=\"T_7831d_row6_col0\" class=\"data row6 col0\" >Extra Trees Regressor</td>\n",
       "      <td id=\"T_7831d_row6_col1\" class=\"data row6 col1\" >5.9306</td>\n",
       "      <td id=\"T_7831d_row6_col2\" class=\"data row6 col2\" >53.6599</td>\n",
       "      <td id=\"T_7831d_row6_col3\" class=\"data row6 col3\" >7.2319</td>\n",
       "      <td id=\"T_7831d_row6_col4\" class=\"data row6 col4\" >0.7184</td>\n",
       "      <td id=\"T_7831d_row6_col5\" class=\"data row6 col5\" >0.1235</td>\n",
       "      <td id=\"T_7831d_row6_col6\" class=\"data row6 col6\" >0.0998</td>\n",
       "      <td id=\"T_7831d_row6_col7\" class=\"data row6 col7\" >0.1333</td>\n",
       "    </tr>\n",
       "    <tr>\n",
       "      <th id=\"T_7831d_level0_row7\" class=\"row_heading level0 row7\" >dt</th>\n",
       "      <td id=\"T_7831d_row7_col0\" class=\"data row7 col0\" >Decision Tree Regressor</td>\n",
       "      <td id=\"T_7831d_row7_col1\" class=\"data row7 col1\" >6.3375</td>\n",
       "      <td id=\"T_7831d_row7_col2\" class=\"data row7 col2\" >58.8534</td>\n",
       "      <td id=\"T_7831d_row7_col3\" class=\"data row7 col3\" >7.6101</td>\n",
       "      <td id=\"T_7831d_row7_col4\" class=\"data row7 col4\" >0.6924</td>\n",
       "      <td id=\"T_7831d_row7_col5\" class=\"data row7 col5\" >0.1288</td>\n",
       "      <td id=\"T_7831d_row7_col6\" class=\"data row7 col6\" >0.1058</td>\n",
       "      <td id=\"T_7831d_row7_col7\" class=\"data row7 col7\" >0.0200</td>\n",
       "    </tr>\n",
       "    <tr>\n",
       "      <th id=\"T_7831d_level0_row8\" class=\"row_heading level0 row8\" >rf</th>\n",
       "      <td id=\"T_7831d_row8_col0\" class=\"data row8 col0\" >Random Forest Regressor</td>\n",
       "      <td id=\"T_7831d_row8_col1\" class=\"data row8 col1\" >6.2549</td>\n",
       "      <td id=\"T_7831d_row8_col2\" class=\"data row8 col2\" >66.0732</td>\n",
       "      <td id=\"T_7831d_row8_col3\" class=\"data row8 col3\" >7.8171</td>\n",
       "      <td id=\"T_7831d_row8_col4\" class=\"data row8 col4\" >0.6592</td>\n",
       "      <td id=\"T_7831d_row8_col5\" class=\"data row8 col5\" >0.1290</td>\n",
       "      <td id=\"T_7831d_row8_col6\" class=\"data row8 col6\" >0.1015</td>\n",
       "      <td id=\"T_7831d_row8_col7\" class=\"data row8 col7\" >0.1633</td>\n",
       "    </tr>\n",
       "    <tr>\n",
       "      <th id=\"T_7831d_level0_row9\" class=\"row_heading level0 row9\" >ada</th>\n",
       "      <td id=\"T_7831d_row9_col0\" class=\"data row9 col0\" >AdaBoost Regressor</td>\n",
       "      <td id=\"T_7831d_row9_col1\" class=\"data row9 col1\" >7.0224</td>\n",
       "      <td id=\"T_7831d_row9_col2\" class=\"data row9 col2\" >75.1319</td>\n",
       "      <td id=\"T_7831d_row9_col3\" class=\"data row9 col3\" >8.4876</td>\n",
       "      <td id=\"T_7831d_row9_col4\" class=\"data row9 col4\" >0.6136</td>\n",
       "      <td id=\"T_7831d_row9_col5\" class=\"data row9 col5\" >0.1394</td>\n",
       "      <td id=\"T_7831d_row9_col6\" class=\"data row9 col6\" >0.1147</td>\n",
       "      <td id=\"T_7831d_row9_col7\" class=\"data row9 col7\" >0.0633</td>\n",
       "    </tr>\n",
       "    <tr>\n",
       "      <th id=\"T_7831d_level0_row10\" class=\"row_heading level0 row10\" >catboost</th>\n",
       "      <td id=\"T_7831d_row10_col0\" class=\"data row10 col0\" >CatBoost Regressor</td>\n",
       "      <td id=\"T_7831d_row10_col1\" class=\"data row10 col1\" >7.4344</td>\n",
       "      <td id=\"T_7831d_row10_col2\" class=\"data row10 col2\" >91.3552</td>\n",
       "      <td id=\"T_7831d_row10_col3\" class=\"data row10 col3\" >9.3206</td>\n",
       "      <td id=\"T_7831d_row10_col4\" class=\"data row10 col4\" >0.5315</td>\n",
       "      <td id=\"T_7831d_row10_col5\" class=\"data row10 col5\" >0.1596</td>\n",
       "      <td id=\"T_7831d_row10_col6\" class=\"data row10 col6\" >0.1272</td>\n",
       "      <td id=\"T_7831d_row10_col7\" class=\"data row10 col7\" >0.3200</td>\n",
       "    </tr>\n",
       "    <tr>\n",
       "      <th id=\"T_7831d_level0_row11\" class=\"row_heading level0 row11\" >lasso</th>\n",
       "      <td id=\"T_7831d_row11_col0\" class=\"data row11 col0\" >Lasso Regression</td>\n",
       "      <td id=\"T_7831d_row11_col1\" class=\"data row11 col1\" >9.2318</td>\n",
       "      <td id=\"T_7831d_row11_col2\" class=\"data row11 col2\" >124.1969</td>\n",
       "      <td id=\"T_7831d_row11_col3\" class=\"data row11 col3\" >11.1151</td>\n",
       "      <td id=\"T_7831d_row11_col4\" class=\"data row11 col4\" >0.3555</td>\n",
       "      <td id=\"T_7831d_row11_col5\" class=\"data row11 col5\" >0.1834</td>\n",
       "      <td id=\"T_7831d_row11_col6\" class=\"data row11 col6\" >0.1539</td>\n",
       "      <td id=\"T_7831d_row11_col7\" class=\"data row11 col7\" >0.0200</td>\n",
       "    </tr>\n",
       "    <tr>\n",
       "      <th id=\"T_7831d_level0_row12\" class=\"row_heading level0 row12\" >omp</th>\n",
       "      <td id=\"T_7831d_row12_col0\" class=\"data row12 col0\" >Orthogonal Matching Pursuit</td>\n",
       "      <td id=\"T_7831d_row12_col1\" class=\"data row12 col1\" >10.1328</td>\n",
       "      <td id=\"T_7831d_row12_col2\" class=\"data row12 col2\" >148.2453</td>\n",
       "      <td id=\"T_7831d_row12_col3\" class=\"data row12 col3\" >12.1635</td>\n",
       "      <td id=\"T_7831d_row12_col4\" class=\"data row12 col4\" >0.2265</td>\n",
       "      <td id=\"T_7831d_row12_col5\" class=\"data row12 col5\" >0.2053</td>\n",
       "      <td id=\"T_7831d_row12_col6\" class=\"data row12 col6\" >0.1754</td>\n",
       "      <td id=\"T_7831d_row12_col7\" class=\"data row12 col7\" >0.0333</td>\n",
       "    </tr>\n",
       "    <tr>\n",
       "      <th id=\"T_7831d_level0_row13\" class=\"row_heading level0 row13\" >llar</th>\n",
       "      <td id=\"T_7831d_row13_col0\" class=\"data row13 col0\" >Lasso Least Angle Regression</td>\n",
       "      <td id=\"T_7831d_row13_col1\" class=\"data row13 col1\" >10.6584</td>\n",
       "      <td id=\"T_7831d_row13_col2\" class=\"data row13 col2\" >156.1435</td>\n",
       "      <td id=\"T_7831d_row13_col3\" class=\"data row13 col3\" >12.4561</td>\n",
       "      <td id=\"T_7831d_row13_col4\" class=\"data row13 col4\" >0.1903</td>\n",
       "      <td id=\"T_7831d_row13_col5\" class=\"data row13 col5\" >0.2112</td>\n",
       "      <td id=\"T_7831d_row13_col6\" class=\"data row13 col6\" >0.1858</td>\n",
       "      <td id=\"T_7831d_row13_col7\" class=\"data row13 col7\" >0.0167</td>\n",
       "    </tr>\n",
       "    <tr>\n",
       "      <th id=\"T_7831d_level0_row14\" class=\"row_heading level0 row14\" >dummy</th>\n",
       "      <td id=\"T_7831d_row14_col0\" class=\"data row14 col0\" >Dummy Regressor</td>\n",
       "      <td id=\"T_7831d_row14_col1\" class=\"data row14 col1\" >12.3268</td>\n",
       "      <td id=\"T_7831d_row14_col2\" class=\"data row14 col2\" >207.7817</td>\n",
       "      <td id=\"T_7831d_row14_col3\" class=\"data row14 col3\" >14.4146</td>\n",
       "      <td id=\"T_7831d_row14_col4\" class=\"data row14 col4\" >-0.0791</td>\n",
       "      <td id=\"T_7831d_row14_col5\" class=\"data row14 col5\" >0.2477</td>\n",
       "      <td id=\"T_7831d_row14_col6\" class=\"data row14 col6\" >0.2193</td>\n",
       "      <td id=\"T_7831d_row14_col7\" class=\"data row14 col7\" >0.0133</td>\n",
       "    </tr>\n",
       "    <tr>\n",
       "      <th id=\"T_7831d_level0_row15\" class=\"row_heading level0 row15\" >br</th>\n",
       "      <td id=\"T_7831d_row15_col0\" class=\"data row15 col0\" >Bayesian Ridge</td>\n",
       "      <td id=\"T_7831d_row15_col1\" class=\"data row15 col1\" >12.3459</td>\n",
       "      <td id=\"T_7831d_row15_col2\" class=\"data row15 col2\" >211.4604</td>\n",
       "      <td id=\"T_7831d_row15_col3\" class=\"data row15 col3\" >14.5407</td>\n",
       "      <td id=\"T_7831d_row15_col4\" class=\"data row15 col4\" >-0.0970</td>\n",
       "      <td id=\"T_7831d_row15_col5\" class=\"data row15 col5\" >0.2505</td>\n",
       "      <td id=\"T_7831d_row15_col6\" class=\"data row15 col6\" >0.2220</td>\n",
       "      <td id=\"T_7831d_row15_col7\" class=\"data row15 col7\" >0.0267</td>\n",
       "    </tr>\n",
       "    <tr>\n",
       "      <th id=\"T_7831d_level0_row16\" class=\"row_heading level0 row16\" >en</th>\n",
       "      <td id=\"T_7831d_row16_col0\" class=\"data row16 col0\" >Elastic Net</td>\n",
       "      <td id=\"T_7831d_row16_col1\" class=\"data row16 col1\" >12.4434</td>\n",
       "      <td id=\"T_7831d_row16_col2\" class=\"data row16 col2\" >219.5265</td>\n",
       "      <td id=\"T_7831d_row16_col3\" class=\"data row16 col3\" >14.7646</td>\n",
       "      <td id=\"T_7831d_row16_col4\" class=\"data row16 col4\" >-0.1328</td>\n",
       "      <td id=\"T_7831d_row16_col5\" class=\"data row16 col5\" >0.2503</td>\n",
       "      <td id=\"T_7831d_row16_col6\" class=\"data row16 col6\" >0.2165</td>\n",
       "      <td id=\"T_7831d_row16_col7\" class=\"data row16 col7\" >0.0233</td>\n",
       "    </tr>\n",
       "    <tr>\n",
       "      <th id=\"T_7831d_level0_row17\" class=\"row_heading level0 row17\" >lightgbm</th>\n",
       "      <td id=\"T_7831d_row17_col0\" class=\"data row17 col0\" >Light Gradient Boosting Machine</td>\n",
       "      <td id=\"T_7831d_row17_col1\" class=\"data row17 col1\" >12.4208</td>\n",
       "      <td id=\"T_7831d_row17_col2\" class=\"data row17 col2\" >218.2793</td>\n",
       "      <td id=\"T_7831d_row17_col3\" class=\"data row17 col3\" >14.7661</td>\n",
       "      <td id=\"T_7831d_row17_col4\" class=\"data row17 col4\" >-0.1303</td>\n",
       "      <td id=\"T_7831d_row17_col5\" class=\"data row17 col5\" >0.2546</td>\n",
       "      <td id=\"T_7831d_row17_col6\" class=\"data row17 col6\" >0.2260</td>\n",
       "      <td id=\"T_7831d_row17_col7\" class=\"data row17 col7\" >0.0800</td>\n",
       "    </tr>\n",
       "    <tr>\n",
       "      <th id=\"T_7831d_level0_row18\" class=\"row_heading level0 row18\" >knn</th>\n",
       "      <td id=\"T_7831d_row18_col0\" class=\"data row18 col0\" >K Neighbors Regressor</td>\n",
       "      <td id=\"T_7831d_row18_col1\" class=\"data row18 col1\" >13.9393</td>\n",
       "      <td id=\"T_7831d_row18_col2\" class=\"data row18 col2\" >300.4052</td>\n",
       "      <td id=\"T_7831d_row18_col3\" class=\"data row18 col3\" >17.1377</td>\n",
       "      <td id=\"T_7831d_row18_col4\" class=\"data row18 col4\" >-0.5369</td>\n",
       "      <td id=\"T_7831d_row18_col5\" class=\"data row18 col5\" >0.2933</td>\n",
       "      <td id=\"T_7831d_row18_col6\" class=\"data row18 col6\" >0.2540</td>\n",
       "      <td id=\"T_7831d_row18_col7\" class=\"data row18 col7\" >0.0300</td>\n",
       "    </tr>\n",
       "    <tr>\n",
       "      <th id=\"T_7831d_level0_row19\" class=\"row_heading level0 row19\" >par</th>\n",
       "      <td id=\"T_7831d_row19_col0\" class=\"data row19 col0\" >Passive Aggressive Regressor</td>\n",
       "      <td id=\"T_7831d_row19_col1\" class=\"data row19 col1\" >24.2661</td>\n",
       "      <td id=\"T_7831d_row19_col2\" class=\"data row19 col2\" >794.5881</td>\n",
       "      <td id=\"T_7831d_row19_col3\" class=\"data row19 col3\" >26.7947</td>\n",
       "      <td id=\"T_7831d_row19_col4\" class=\"data row19 col4\" >-3.0185</td>\n",
       "      <td id=\"T_7831d_row19_col5\" class=\"data row19 col5\" >0.5152</td>\n",
       "      <td id=\"T_7831d_row19_col6\" class=\"data row19 col6\" >0.3679</td>\n",
       "      <td id=\"T_7831d_row19_col7\" class=\"data row19 col7\" >0.0167</td>\n",
       "    </tr>\n",
       "  </tbody>\n",
       "</table>\n"
      ],
      "text/plain": [
       "<pandas.io.formats.style.Styler at 0x175eb09e8b0>"
      ]
     },
     "metadata": {},
     "output_type": "display_data"
    }
   ],
   "source": [
    "best = compare_models(sort = 'RMSE')"
   ]
  },
  {
   "cell_type": "code",
   "execution_count": 91,
   "id": "2a34b99c",
   "metadata": {},
   "outputs": [
    {
     "data": {
      "text/html": [
       "<style type=\"text/css\">\n",
       "</style>\n",
       "<table id=\"T_7bc0e\">\n",
       "  <thead>\n",
       "    <tr>\n",
       "      <th class=\"blank level0\" >&nbsp;</th>\n",
       "      <th id=\"T_7bc0e_level0_col0\" class=\"col_heading level0 col0\" >Model</th>\n",
       "      <th id=\"T_7bc0e_level0_col1\" class=\"col_heading level0 col1\" >MAE</th>\n",
       "      <th id=\"T_7bc0e_level0_col2\" class=\"col_heading level0 col2\" >MSE</th>\n",
       "      <th id=\"T_7bc0e_level0_col3\" class=\"col_heading level0 col3\" >RMSE</th>\n",
       "      <th id=\"T_7bc0e_level0_col4\" class=\"col_heading level0 col4\" >R2</th>\n",
       "      <th id=\"T_7bc0e_level0_col5\" class=\"col_heading level0 col5\" >RMSLE</th>\n",
       "      <th id=\"T_7bc0e_level0_col6\" class=\"col_heading level0 col6\" >MAPE</th>\n",
       "    </tr>\n",
       "  </thead>\n",
       "  <tbody>\n",
       "    <tr>\n",
       "      <th id=\"T_7bc0e_level0_row0\" class=\"row_heading level0 row0\" >0</th>\n",
       "      <td id=\"T_7bc0e_row0_col0\" class=\"data row0 col0\" >Linear Regression</td>\n",
       "      <td id=\"T_7bc0e_row0_col1\" class=\"data row0 col1\" >3.8220</td>\n",
       "      <td id=\"T_7bc0e_row0_col2\" class=\"data row0 col2\" >34.8378</td>\n",
       "      <td id=\"T_7bc0e_row0_col3\" class=\"data row0 col3\" >5.9024</td>\n",
       "      <td id=\"T_7bc0e_row0_col4\" class=\"data row0 col4\" >0.8594</td>\n",
       "      <td id=\"T_7bc0e_row0_col5\" class=\"data row0 col5\" >0.1319</td>\n",
       "      <td id=\"T_7bc0e_row0_col6\" class=\"data row0 col6\" >0.0805</td>\n",
       "    </tr>\n",
       "  </tbody>\n",
       "</table>\n"
      ],
      "text/plain": [
       "<pandas.io.formats.style.Styler at 0x175f562a430>"
      ]
     },
     "metadata": {},
     "output_type": "display_data"
    },
    {
     "data": {
      "application/vnd.plotly.v1+json": {
       "config": {
        "plotlyServerURL": "https://plot.ly"
       },
       "data": [
        {
         "hovertemplate": "variable=AvgHumidity<br>Date=%{x}<br>value=%{y}<extra></extra>",
         "legendgroup": "AvgHumidity",
         "line": {
          "color": "#636efa",
          "dash": "solid"
         },
         "marker": {
          "symbol": "circle"
         },
         "mode": "lines",
         "name": "AvgHumidity",
         "orientation": "v",
         "showlegend": true,
         "type": "scatter",
         "x": [
          "2016-01-01T00:00:00",
          "2016-02-01T00:00:00",
          "2016-03-01T00:00:00",
          "2016-04-01T00:00:00",
          "2016-05-01T00:00:00",
          "2016-06-01T00:00:00",
          "2016-07-01T00:00:00",
          "2016-08-01T00:00:00",
          "2016-09-01T00:00:00",
          "2016-10-01T00:00:00",
          "2016-11-01T00:00:00",
          "2016-12-01T00:00:00",
          "2017-01-01T00:00:00",
          "2017-02-01T00:00:00",
          "2017-03-01T00:00:00",
          "2017-04-01T00:00:00",
          "2017-05-01T00:00:00",
          "2017-06-01T00:00:00",
          "2017-07-01T00:00:00",
          "2017-08-01T00:00:00",
          "2017-09-01T00:00:00",
          "2017-10-01T00:00:00",
          "2017-11-01T00:00:00",
          "2017-12-01T00:00:00",
          "2018-01-01T00:00:00",
          "2018-02-01T00:00:00",
          "2018-03-01T00:00:00",
          "2018-04-01T00:00:00",
          "2018-05-01T00:00:00",
          "2018-06-01T00:00:00",
          "2018-07-01T00:00:00",
          "2018-08-01T00:00:00",
          "2018-09-01T00:00:00",
          "2018-10-01T00:00:00",
          "2018-11-01T00:00:00",
          "2018-12-01T00:00:00",
          "2019-01-01T00:00:00",
          "2019-02-01T00:00:00",
          "2019-03-01T00:00:00",
          "2019-04-01T00:00:00",
          "2019-05-01T00:00:00",
          "2019-06-01T00:00:00",
          "2019-07-01T00:00:00",
          "2019-08-01T00:00:00",
          "2019-09-01T00:00:00",
          "2019-10-01T00:00:00",
          "2019-11-01T00:00:00",
          "2019-12-01T00:00:00",
          "2020-01-01T00:00:00",
          "2020-02-01T00:00:00",
          "2020-03-01T00:00:00",
          "2020-04-01T00:00:00",
          "2020-05-01T00:00:00",
          "2020-06-01T00:00:00",
          "2020-07-01T00:00:00",
          "2020-08-01T00:00:00",
          "2020-09-01T00:00:00",
          "2020-10-01T00:00:00",
          "2020-11-01T00:00:00",
          "2020-12-01T00:00:00",
          "2021-01-01T00:00:00",
          "2021-02-01T00:00:00",
          "2021-03-01T00:00:00",
          "2021-04-01T00:00:00",
          "2021-05-01T00:00:00",
          "2021-06-01T00:00:00",
          "2021-07-01T00:00:00",
          "2021-08-01T00:00:00",
          "2021-09-01T00:00:00",
          "2021-10-01T00:00:00",
          "2021-11-01T00:00:00",
          "2021-12-01T00:00:00",
          "2022-01-01T00:00:00",
          "2022-02-01T00:00:00",
          "2022-03-01T00:00:00",
          "2022-04-01T00:00:00",
          "2022-05-01T00:00:00",
          "2022-06-01T00:00:00"
         ],
         "xaxis": "x",
         "y": [
          79.6,
          63.26206896551724,
          56.95161290322581,
          30.229999999999997,
          41.312903225806444,
          54.27333333333334,
          79.06774193548388,
          78.65483870967739,
          67.89666666666666,
          59.477419354838716,
          59.61333333333333,
          75.38709677419355,
          80.61935483870968,
          65.80357142857143,
          51.874193548387105,
          32.806666666666665,
          39.72903225806452,
          56.91666666666667,
          75.65161290322581,
          76.93548387096773,
          71.38333333333334,
          57.764516129032245,
          61.62666666666667,
          64.33870967741936,
          74.48064516129033,
          61.646428571428565,
          48.71612903225806,
          35.99999999999999,
          34.70967741935483,
          50.843333333333334,
          75.94193548387096,
          78.17741935483868,
          79.36666666666665,
          60.27741935483872,
          64.75000000000001,
          72.78064516129031,
          75.23548387096773,
          78.69642857142857,
          60.819354838709685,
          42.43333333333332,
          39.55161290322581,
          43.849999999999994,
          71.13225806451612,
          78.47419354838712,
          74.75666666666666,
          63.99677419354839,
          65.72,
          82.04193548387099,
          81.73548387096773,
          70.89655172413795,
          67.58709677419354,
          45.226666666666674,
          41.983870967741936,
          58.83,
          74.95161290322581,
          80.16129032258067,
          69.26666666666667,
          56.854838709677416,
          64.94666666666666,
          74.71935483870969,
          83.04193548387094,
          73.2142857142857,
          54.73548387096775,
          31.44,
          46.148387096774194,
          58.78666666666666,
          73.88064516129032,
          78.62258064516128,
          86.46666666666667,
          69.53870967741938,
          67.34333333333333,
          75.23225806451612,
          87.88064516129033,
          71.65357142857144,
          56.38709677419356,
          24.743333333333336,
          44.22903225806452,
          23.63684210526316
         ],
         "yaxis": "y"
        },
        {
         "hovertemplate": "variable=Label<br>Date=%{x}<br>value=%{y}<extra></extra>",
         "legendgroup": "Label",
         "line": {
          "color": "#EF553B",
          "dash": "solid"
         },
         "marker": {
          "symbol": "circle"
         },
         "mode": "lines",
         "name": "Label",
         "orientation": "v",
         "showlegend": true,
         "type": "scatter",
         "x": [
          "2016-01-01T00:00:00",
          "2016-02-01T00:00:00",
          "2016-03-01T00:00:00",
          "2016-04-01T00:00:00",
          "2016-05-01T00:00:00",
          "2016-06-01T00:00:00",
          "2016-07-01T00:00:00",
          "2016-08-01T00:00:00",
          "2016-09-01T00:00:00",
          "2016-10-01T00:00:00",
          "2016-11-01T00:00:00",
          "2016-12-01T00:00:00",
          "2017-01-01T00:00:00",
          "2017-02-01T00:00:00",
          "2017-03-01T00:00:00",
          "2017-04-01T00:00:00",
          "2017-05-01T00:00:00",
          "2017-06-01T00:00:00",
          "2017-07-01T00:00:00",
          "2017-08-01T00:00:00",
          "2017-09-01T00:00:00",
          "2017-10-01T00:00:00",
          "2017-11-01T00:00:00",
          "2017-12-01T00:00:00",
          "2018-01-01T00:00:00",
          "2018-02-01T00:00:00",
          "2018-03-01T00:00:00",
          "2018-04-01T00:00:00",
          "2018-05-01T00:00:00",
          "2018-06-01T00:00:00",
          "2018-07-01T00:00:00",
          "2018-08-01T00:00:00",
          "2018-09-01T00:00:00",
          "2018-10-01T00:00:00",
          "2018-11-01T00:00:00",
          "2018-12-01T00:00:00",
          "2019-01-01T00:00:00",
          "2019-02-01T00:00:00",
          "2019-03-01T00:00:00",
          "2019-04-01T00:00:00",
          "2019-05-01T00:00:00",
          "2019-06-01T00:00:00",
          "2019-07-01T00:00:00",
          "2019-08-01T00:00:00",
          "2019-09-01T00:00:00",
          "2019-10-01T00:00:00",
          "2019-11-01T00:00:00",
          "2019-12-01T00:00:00",
          "2020-01-01T00:00:00",
          "2020-02-01T00:00:00",
          "2020-03-01T00:00:00",
          "2020-04-01T00:00:00",
          "2020-05-01T00:00:00",
          "2020-06-01T00:00:00",
          "2020-07-01T00:00:00",
          "2020-08-01T00:00:00",
          "2020-09-01T00:00:00",
          "2020-10-01T00:00:00",
          "2020-11-01T00:00:00",
          "2020-12-01T00:00:00",
          "2021-01-01T00:00:00",
          "2021-02-01T00:00:00",
          "2021-03-01T00:00:00",
          "2021-04-01T00:00:00",
          "2021-05-01T00:00:00",
          "2021-06-01T00:00:00",
          "2021-07-01T00:00:00",
          "2021-08-01T00:00:00",
          "2021-09-01T00:00:00",
          "2021-10-01T00:00:00",
          "2021-11-01T00:00:00",
          "2021-12-01T00:00:00",
          "2022-01-01T00:00:00",
          "2022-02-01T00:00:00",
          "2022-03-01T00:00:00",
          "2022-04-01T00:00:00",
          "2022-05-01T00:00:00",
          "2022-06-01T00:00:00"
         ],
         "xaxis": "x",
         "y": [
          76.703125,
          66.515625,
          54.359375,
          33.9375,
          38.15625,
          51.5,
          73.421875,
          76.546875,
          70.59375,
          57.734375,
          61.390625,
          71.921875,
          77.671875,
          67.46875,
          55.328125,
          34.90625,
          39.125,
          52.46875,
          74.375,
          77.5,
          71.5625,
          58.703125,
          62.359375,
          72.890625,
          78.625,
          68.4375,
          56.296875,
          35.875,
          40.09375,
          53.421875,
          75.34375,
          78.46875,
          72.53125,
          59.671875,
          63.3125,
          73.84375,
          79.59375,
          69.40625,
          57.265625,
          36.84375,
          41.046875,
          54.390625,
          76.3125,
          79.4375,
          73.5,
          60.625,
          64.28125,
          74.8125,
          80.5625,
          70.375,
          58.21875,
          37.796875,
          42.015625,
          55.359375,
          77.28125,
          80.40625,
          74.453125,
          61.59375,
          65.25,
          75.78125,
          81.53125,
          71.328125,
          59.1875,
          38.765625,
          42.984375,
          56.328125,
          78.234375,
          81.359375,
          75.421875,
          62.5625,
          66.21875,
          76.75,
          82.484375,
          72.296875,
          60.15625,
          39.734375,
          43.953125,
          57.28125
         ],
         "yaxis": "y"
        }
       ],
       "layout": {
        "legend": {
         "title": {
          "text": "variable"
         },
         "tracegroupgap": 0
        },
        "margin": {
         "t": 60
        },
        "shapes": [
         {
          "fillcolor": "grey",
          "line": {
           "width": 0
          },
          "opacity": 0.25,
          "type": "rect",
          "x0": "2021-06-01",
          "x1": "2022-06-01",
          "xref": "x",
          "y0": 0,
          "y1": 1,
          "yref": "y domain"
         }
        ],
        "template": {
         "data": {
          "bar": [
           {
            "error_x": {
             "color": "#f2f5fa"
            },
            "error_y": {
             "color": "#f2f5fa"
            },
            "marker": {
             "line": {
              "color": "rgb(17,17,17)",
              "width": 0.5
             },
             "pattern": {
              "fillmode": "overlay",
              "size": 10,
              "solidity": 0.2
             }
            },
            "type": "bar"
           }
          ],
          "barpolar": [
           {
            "marker": {
             "line": {
              "color": "rgb(17,17,17)",
              "width": 0.5
             },
             "pattern": {
              "fillmode": "overlay",
              "size": 10,
              "solidity": 0.2
             }
            },
            "type": "barpolar"
           }
          ],
          "carpet": [
           {
            "aaxis": {
             "endlinecolor": "#A2B1C6",
             "gridcolor": "#506784",
             "linecolor": "#506784",
             "minorgridcolor": "#506784",
             "startlinecolor": "#A2B1C6"
            },
            "baxis": {
             "endlinecolor": "#A2B1C6",
             "gridcolor": "#506784",
             "linecolor": "#506784",
             "minorgridcolor": "#506784",
             "startlinecolor": "#A2B1C6"
            },
            "type": "carpet"
           }
          ],
          "choropleth": [
           {
            "colorbar": {
             "outlinewidth": 0,
             "ticks": ""
            },
            "type": "choropleth"
           }
          ],
          "contour": [
           {
            "colorbar": {
             "outlinewidth": 0,
             "ticks": ""
            },
            "colorscale": [
             [
              0,
              "#0d0887"
             ],
             [
              0.1111111111111111,
              "#46039f"
             ],
             [
              0.2222222222222222,
              "#7201a8"
             ],
             [
              0.3333333333333333,
              "#9c179e"
             ],
             [
              0.4444444444444444,
              "#bd3786"
             ],
             [
              0.5555555555555556,
              "#d8576b"
             ],
             [
              0.6666666666666666,
              "#ed7953"
             ],
             [
              0.7777777777777778,
              "#fb9f3a"
             ],
             [
              0.8888888888888888,
              "#fdca26"
             ],
             [
              1,
              "#f0f921"
             ]
            ],
            "type": "contour"
           }
          ],
          "contourcarpet": [
           {
            "colorbar": {
             "outlinewidth": 0,
             "ticks": ""
            },
            "type": "contourcarpet"
           }
          ],
          "heatmap": [
           {
            "colorbar": {
             "outlinewidth": 0,
             "ticks": ""
            },
            "colorscale": [
             [
              0,
              "#0d0887"
             ],
             [
              0.1111111111111111,
              "#46039f"
             ],
             [
              0.2222222222222222,
              "#7201a8"
             ],
             [
              0.3333333333333333,
              "#9c179e"
             ],
             [
              0.4444444444444444,
              "#bd3786"
             ],
             [
              0.5555555555555556,
              "#d8576b"
             ],
             [
              0.6666666666666666,
              "#ed7953"
             ],
             [
              0.7777777777777778,
              "#fb9f3a"
             ],
             [
              0.8888888888888888,
              "#fdca26"
             ],
             [
              1,
              "#f0f921"
             ]
            ],
            "type": "heatmap"
           }
          ],
          "heatmapgl": [
           {
            "colorbar": {
             "outlinewidth": 0,
             "ticks": ""
            },
            "colorscale": [
             [
              0,
              "#0d0887"
             ],
             [
              0.1111111111111111,
              "#46039f"
             ],
             [
              0.2222222222222222,
              "#7201a8"
             ],
             [
              0.3333333333333333,
              "#9c179e"
             ],
             [
              0.4444444444444444,
              "#bd3786"
             ],
             [
              0.5555555555555556,
              "#d8576b"
             ],
             [
              0.6666666666666666,
              "#ed7953"
             ],
             [
              0.7777777777777778,
              "#fb9f3a"
             ],
             [
              0.8888888888888888,
              "#fdca26"
             ],
             [
              1,
              "#f0f921"
             ]
            ],
            "type": "heatmapgl"
           }
          ],
          "histogram": [
           {
            "marker": {
             "pattern": {
              "fillmode": "overlay",
              "size": 10,
              "solidity": 0.2
             }
            },
            "type": "histogram"
           }
          ],
          "histogram2d": [
           {
            "colorbar": {
             "outlinewidth": 0,
             "ticks": ""
            },
            "colorscale": [
             [
              0,
              "#0d0887"
             ],
             [
              0.1111111111111111,
              "#46039f"
             ],
             [
              0.2222222222222222,
              "#7201a8"
             ],
             [
              0.3333333333333333,
              "#9c179e"
             ],
             [
              0.4444444444444444,
              "#bd3786"
             ],
             [
              0.5555555555555556,
              "#d8576b"
             ],
             [
              0.6666666666666666,
              "#ed7953"
             ],
             [
              0.7777777777777778,
              "#fb9f3a"
             ],
             [
              0.8888888888888888,
              "#fdca26"
             ],
             [
              1,
              "#f0f921"
             ]
            ],
            "type": "histogram2d"
           }
          ],
          "histogram2dcontour": [
           {
            "colorbar": {
             "outlinewidth": 0,
             "ticks": ""
            },
            "colorscale": [
             [
              0,
              "#0d0887"
             ],
             [
              0.1111111111111111,
              "#46039f"
             ],
             [
              0.2222222222222222,
              "#7201a8"
             ],
             [
              0.3333333333333333,
              "#9c179e"
             ],
             [
              0.4444444444444444,
              "#bd3786"
             ],
             [
              0.5555555555555556,
              "#d8576b"
             ],
             [
              0.6666666666666666,
              "#ed7953"
             ],
             [
              0.7777777777777778,
              "#fb9f3a"
             ],
             [
              0.8888888888888888,
              "#fdca26"
             ],
             [
              1,
              "#f0f921"
             ]
            ],
            "type": "histogram2dcontour"
           }
          ],
          "mesh3d": [
           {
            "colorbar": {
             "outlinewidth": 0,
             "ticks": ""
            },
            "type": "mesh3d"
           }
          ],
          "parcoords": [
           {
            "line": {
             "colorbar": {
              "outlinewidth": 0,
              "ticks": ""
             }
            },
            "type": "parcoords"
           }
          ],
          "pie": [
           {
            "automargin": true,
            "type": "pie"
           }
          ],
          "scatter": [
           {
            "marker": {
             "line": {
              "color": "#283442"
             }
            },
            "type": "scatter"
           }
          ],
          "scatter3d": [
           {
            "line": {
             "colorbar": {
              "outlinewidth": 0,
              "ticks": ""
             }
            },
            "marker": {
             "colorbar": {
              "outlinewidth": 0,
              "ticks": ""
             }
            },
            "type": "scatter3d"
           }
          ],
          "scattercarpet": [
           {
            "marker": {
             "colorbar": {
              "outlinewidth": 0,
              "ticks": ""
             }
            },
            "type": "scattercarpet"
           }
          ],
          "scattergeo": [
           {
            "marker": {
             "colorbar": {
              "outlinewidth": 0,
              "ticks": ""
             }
            },
            "type": "scattergeo"
           }
          ],
          "scattergl": [
           {
            "marker": {
             "line": {
              "color": "#283442"
             }
            },
            "type": "scattergl"
           }
          ],
          "scattermapbox": [
           {
            "marker": {
             "colorbar": {
              "outlinewidth": 0,
              "ticks": ""
             }
            },
            "type": "scattermapbox"
           }
          ],
          "scatterpolar": [
           {
            "marker": {
             "colorbar": {
              "outlinewidth": 0,
              "ticks": ""
             }
            },
            "type": "scatterpolar"
           }
          ],
          "scatterpolargl": [
           {
            "marker": {
             "colorbar": {
              "outlinewidth": 0,
              "ticks": ""
             }
            },
            "type": "scatterpolargl"
           }
          ],
          "scatterternary": [
           {
            "marker": {
             "colorbar": {
              "outlinewidth": 0,
              "ticks": ""
             }
            },
            "type": "scatterternary"
           }
          ],
          "surface": [
           {
            "colorbar": {
             "outlinewidth": 0,
             "ticks": ""
            },
            "colorscale": [
             [
              0,
              "#0d0887"
             ],
             [
              0.1111111111111111,
              "#46039f"
             ],
             [
              0.2222222222222222,
              "#7201a8"
             ],
             [
              0.3333333333333333,
              "#9c179e"
             ],
             [
              0.4444444444444444,
              "#bd3786"
             ],
             [
              0.5555555555555556,
              "#d8576b"
             ],
             [
              0.6666666666666666,
              "#ed7953"
             ],
             [
              0.7777777777777778,
              "#fb9f3a"
             ],
             [
              0.8888888888888888,
              "#fdca26"
             ],
             [
              1,
              "#f0f921"
             ]
            ],
            "type": "surface"
           }
          ],
          "table": [
           {
            "cells": {
             "fill": {
              "color": "#506784"
             },
             "line": {
              "color": "rgb(17,17,17)"
             }
            },
            "header": {
             "fill": {
              "color": "#2a3f5f"
             },
             "line": {
              "color": "rgb(17,17,17)"
             }
            },
            "type": "table"
           }
          ]
         },
         "layout": {
          "annotationdefaults": {
           "arrowcolor": "#f2f5fa",
           "arrowhead": 0,
           "arrowwidth": 1
          },
          "autotypenumbers": "strict",
          "coloraxis": {
           "colorbar": {
            "outlinewidth": 0,
            "ticks": ""
           }
          },
          "colorscale": {
           "diverging": [
            [
             0,
             "#8e0152"
            ],
            [
             0.1,
             "#c51b7d"
            ],
            [
             0.2,
             "#de77ae"
            ],
            [
             0.3,
             "#f1b6da"
            ],
            [
             0.4,
             "#fde0ef"
            ],
            [
             0.5,
             "#f7f7f7"
            ],
            [
             0.6,
             "#e6f5d0"
            ],
            [
             0.7,
             "#b8e186"
            ],
            [
             0.8,
             "#7fbc41"
            ],
            [
             0.9,
             "#4d9221"
            ],
            [
             1,
             "#276419"
            ]
           ],
           "sequential": [
            [
             0,
             "#0d0887"
            ],
            [
             0.1111111111111111,
             "#46039f"
            ],
            [
             0.2222222222222222,
             "#7201a8"
            ],
            [
             0.3333333333333333,
             "#9c179e"
            ],
            [
             0.4444444444444444,
             "#bd3786"
            ],
            [
             0.5555555555555556,
             "#d8576b"
            ],
            [
             0.6666666666666666,
             "#ed7953"
            ],
            [
             0.7777777777777778,
             "#fb9f3a"
            ],
            [
             0.8888888888888888,
             "#fdca26"
            ],
            [
             1,
             "#f0f921"
            ]
           ],
           "sequentialminus": [
            [
             0,
             "#0d0887"
            ],
            [
             0.1111111111111111,
             "#46039f"
            ],
            [
             0.2222222222222222,
             "#7201a8"
            ],
            [
             0.3333333333333333,
             "#9c179e"
            ],
            [
             0.4444444444444444,
             "#bd3786"
            ],
            [
             0.5555555555555556,
             "#d8576b"
            ],
            [
             0.6666666666666666,
             "#ed7953"
            ],
            [
             0.7777777777777778,
             "#fb9f3a"
            ],
            [
             0.8888888888888888,
             "#fdca26"
            ],
            [
             1,
             "#f0f921"
            ]
           ]
          },
          "colorway": [
           "#636efa",
           "#EF553B",
           "#00cc96",
           "#ab63fa",
           "#FFA15A",
           "#19d3f3",
           "#FF6692",
           "#B6E880",
           "#FF97FF",
           "#FECB52"
          ],
          "font": {
           "color": "#f2f5fa"
          },
          "geo": {
           "bgcolor": "rgb(17,17,17)",
           "lakecolor": "rgb(17,17,17)",
           "landcolor": "rgb(17,17,17)",
           "showlakes": true,
           "showland": true,
           "subunitcolor": "#506784"
          },
          "hoverlabel": {
           "align": "left"
          },
          "hovermode": "closest",
          "mapbox": {
           "style": "dark"
          },
          "paper_bgcolor": "rgb(17,17,17)",
          "plot_bgcolor": "rgb(17,17,17)",
          "polar": {
           "angularaxis": {
            "gridcolor": "#506784",
            "linecolor": "#506784",
            "ticks": ""
           },
           "bgcolor": "rgb(17,17,17)",
           "radialaxis": {
            "gridcolor": "#506784",
            "linecolor": "#506784",
            "ticks": ""
           }
          },
          "scene": {
           "xaxis": {
            "backgroundcolor": "rgb(17,17,17)",
            "gridcolor": "#506784",
            "gridwidth": 2,
            "linecolor": "#506784",
            "showbackground": true,
            "ticks": "",
            "zerolinecolor": "#C8D4E3"
           },
           "yaxis": {
            "backgroundcolor": "rgb(17,17,17)",
            "gridcolor": "#506784",
            "gridwidth": 2,
            "linecolor": "#506784",
            "showbackground": true,
            "ticks": "",
            "zerolinecolor": "#C8D4E3"
           },
           "zaxis": {
            "backgroundcolor": "rgb(17,17,17)",
            "gridcolor": "#506784",
            "gridwidth": 2,
            "linecolor": "#506784",
            "showbackground": true,
            "ticks": "",
            "zerolinecolor": "#C8D4E3"
           }
          },
          "shapedefaults": {
           "line": {
            "color": "#f2f5fa"
           }
          },
          "sliderdefaults": {
           "bgcolor": "#C8D4E3",
           "bordercolor": "rgb(17,17,17)",
           "borderwidth": 1,
           "tickwidth": 0
          },
          "ternary": {
           "aaxis": {
            "gridcolor": "#506784",
            "linecolor": "#506784",
            "ticks": ""
           },
           "baxis": {
            "gridcolor": "#506784",
            "linecolor": "#506784",
            "ticks": ""
           },
           "bgcolor": "rgb(17,17,17)",
           "caxis": {
            "gridcolor": "#506784",
            "linecolor": "#506784",
            "ticks": ""
           }
          },
          "title": {
           "x": 0.05
          },
          "updatemenudefaults": {
           "bgcolor": "#506784",
           "borderwidth": 0
          },
          "xaxis": {
           "automargin": true,
           "gridcolor": "#283442",
           "linecolor": "#506784",
           "ticks": "",
           "title": {
            "standoff": 15
           },
           "zerolinecolor": "#283442",
           "zerolinewidth": 2
          },
          "yaxis": {
           "automargin": true,
           "gridcolor": "#283442",
           "linecolor": "#506784",
           "ticks": "",
           "title": {
            "standoff": 15
           },
           "zerolinecolor": "#283442",
           "zerolinewidth": 2
          }
         }
        },
        "xaxis": {
         "anchor": "y",
         "domain": [
          0,
          1
         ],
         "title": {
          "text": "Date"
         }
        },
        "yaxis": {
         "anchor": "x",
         "domain": [
          0,
          1
         ],
         "title": {
          "text": "value"
         }
        }
       }
      },
      "text/html": [
       "<div>                            <div id=\"94f281b3-9e9d-4228-b4ae-330eb1717aa7\" class=\"plotly-graph-div\" style=\"height:525px; width:100%;\"></div>            <script type=\"text/javascript\">                require([\"plotly\"], function(Plotly) {                    window.PLOTLYENV=window.PLOTLYENV || {};                                    if (document.getElementById(\"94f281b3-9e9d-4228-b4ae-330eb1717aa7\")) {                    Plotly.newPlot(                        \"94f281b3-9e9d-4228-b4ae-330eb1717aa7\",                        [{\"hovertemplate\":\"variable=AvgHumidity<br>Date=%{x}<br>value=%{y}<extra></extra>\",\"legendgroup\":\"AvgHumidity\",\"line\":{\"color\":\"#636efa\",\"dash\":\"solid\"},\"marker\":{\"symbol\":\"circle\"},\"mode\":\"lines\",\"name\":\"AvgHumidity\",\"orientation\":\"v\",\"showlegend\":true,\"x\":[\"2016-01-01T00:00:00\",\"2016-02-01T00:00:00\",\"2016-03-01T00:00:00\",\"2016-04-01T00:00:00\",\"2016-05-01T00:00:00\",\"2016-06-01T00:00:00\",\"2016-07-01T00:00:00\",\"2016-08-01T00:00:00\",\"2016-09-01T00:00:00\",\"2016-10-01T00:00:00\",\"2016-11-01T00:00:00\",\"2016-12-01T00:00:00\",\"2017-01-01T00:00:00\",\"2017-02-01T00:00:00\",\"2017-03-01T00:00:00\",\"2017-04-01T00:00:00\",\"2017-05-01T00:00:00\",\"2017-06-01T00:00:00\",\"2017-07-01T00:00:00\",\"2017-08-01T00:00:00\",\"2017-09-01T00:00:00\",\"2017-10-01T00:00:00\",\"2017-11-01T00:00:00\",\"2017-12-01T00:00:00\",\"2018-01-01T00:00:00\",\"2018-02-01T00:00:00\",\"2018-03-01T00:00:00\",\"2018-04-01T00:00:00\",\"2018-05-01T00:00:00\",\"2018-06-01T00:00:00\",\"2018-07-01T00:00:00\",\"2018-08-01T00:00:00\",\"2018-09-01T00:00:00\",\"2018-10-01T00:00:00\",\"2018-11-01T00:00:00\",\"2018-12-01T00:00:00\",\"2019-01-01T00:00:00\",\"2019-02-01T00:00:00\",\"2019-03-01T00:00:00\",\"2019-04-01T00:00:00\",\"2019-05-01T00:00:00\",\"2019-06-01T00:00:00\",\"2019-07-01T00:00:00\",\"2019-08-01T00:00:00\",\"2019-09-01T00:00:00\",\"2019-10-01T00:00:00\",\"2019-11-01T00:00:00\",\"2019-12-01T00:00:00\",\"2020-01-01T00:00:00\",\"2020-02-01T00:00:00\",\"2020-03-01T00:00:00\",\"2020-04-01T00:00:00\",\"2020-05-01T00:00:00\",\"2020-06-01T00:00:00\",\"2020-07-01T00:00:00\",\"2020-08-01T00:00:00\",\"2020-09-01T00:00:00\",\"2020-10-01T00:00:00\",\"2020-11-01T00:00:00\",\"2020-12-01T00:00:00\",\"2021-01-01T00:00:00\",\"2021-02-01T00:00:00\",\"2021-03-01T00:00:00\",\"2021-04-01T00:00:00\",\"2021-05-01T00:00:00\",\"2021-06-01T00:00:00\",\"2021-07-01T00:00:00\",\"2021-08-01T00:00:00\",\"2021-09-01T00:00:00\",\"2021-10-01T00:00:00\",\"2021-11-01T00:00:00\",\"2021-12-01T00:00:00\",\"2022-01-01T00:00:00\",\"2022-02-01T00:00:00\",\"2022-03-01T00:00:00\",\"2022-04-01T00:00:00\",\"2022-05-01T00:00:00\",\"2022-06-01T00:00:00\"],\"xaxis\":\"x\",\"y\":[79.6,63.26206896551724,56.95161290322581,30.229999999999997,41.312903225806444,54.27333333333334,79.06774193548388,78.65483870967739,67.89666666666666,59.477419354838716,59.61333333333333,75.38709677419355,80.61935483870968,65.80357142857143,51.874193548387105,32.806666666666665,39.72903225806452,56.91666666666667,75.65161290322581,76.93548387096773,71.38333333333334,57.764516129032245,61.62666666666667,64.33870967741936,74.48064516129033,61.646428571428565,48.71612903225806,35.99999999999999,34.70967741935483,50.843333333333334,75.94193548387096,78.17741935483868,79.36666666666665,60.27741935483872,64.75000000000001,72.78064516129031,75.23548387096773,78.69642857142857,60.819354838709685,42.43333333333332,39.55161290322581,43.849999999999994,71.13225806451612,78.47419354838712,74.75666666666666,63.99677419354839,65.72,82.04193548387099,81.73548387096773,70.89655172413795,67.58709677419354,45.226666666666674,41.983870967741936,58.83,74.95161290322581,80.16129032258067,69.26666666666667,56.854838709677416,64.94666666666666,74.71935483870969,83.04193548387094,73.2142857142857,54.73548387096775,31.44,46.148387096774194,58.78666666666666,73.88064516129032,78.62258064516128,86.46666666666667,69.53870967741938,67.34333333333333,75.23225806451612,87.88064516129033,71.65357142857144,56.38709677419356,24.743333333333336,44.22903225806452,23.63684210526316],\"yaxis\":\"y\",\"type\":\"scatter\"},{\"hovertemplate\":\"variable=Label<br>Date=%{x}<br>value=%{y}<extra></extra>\",\"legendgroup\":\"Label\",\"line\":{\"color\":\"#EF553B\",\"dash\":\"solid\"},\"marker\":{\"symbol\":\"circle\"},\"mode\":\"lines\",\"name\":\"Label\",\"orientation\":\"v\",\"showlegend\":true,\"x\":[\"2016-01-01T00:00:00\",\"2016-02-01T00:00:00\",\"2016-03-01T00:00:00\",\"2016-04-01T00:00:00\",\"2016-05-01T00:00:00\",\"2016-06-01T00:00:00\",\"2016-07-01T00:00:00\",\"2016-08-01T00:00:00\",\"2016-09-01T00:00:00\",\"2016-10-01T00:00:00\",\"2016-11-01T00:00:00\",\"2016-12-01T00:00:00\",\"2017-01-01T00:00:00\",\"2017-02-01T00:00:00\",\"2017-03-01T00:00:00\",\"2017-04-01T00:00:00\",\"2017-05-01T00:00:00\",\"2017-06-01T00:00:00\",\"2017-07-01T00:00:00\",\"2017-08-01T00:00:00\",\"2017-09-01T00:00:00\",\"2017-10-01T00:00:00\",\"2017-11-01T00:00:00\",\"2017-12-01T00:00:00\",\"2018-01-01T00:00:00\",\"2018-02-01T00:00:00\",\"2018-03-01T00:00:00\",\"2018-04-01T00:00:00\",\"2018-05-01T00:00:00\",\"2018-06-01T00:00:00\",\"2018-07-01T00:00:00\",\"2018-08-01T00:00:00\",\"2018-09-01T00:00:00\",\"2018-10-01T00:00:00\",\"2018-11-01T00:00:00\",\"2018-12-01T00:00:00\",\"2019-01-01T00:00:00\",\"2019-02-01T00:00:00\",\"2019-03-01T00:00:00\",\"2019-04-01T00:00:00\",\"2019-05-01T00:00:00\",\"2019-06-01T00:00:00\",\"2019-07-01T00:00:00\",\"2019-08-01T00:00:00\",\"2019-09-01T00:00:00\",\"2019-10-01T00:00:00\",\"2019-11-01T00:00:00\",\"2019-12-01T00:00:00\",\"2020-01-01T00:00:00\",\"2020-02-01T00:00:00\",\"2020-03-01T00:00:00\",\"2020-04-01T00:00:00\",\"2020-05-01T00:00:00\",\"2020-06-01T00:00:00\",\"2020-07-01T00:00:00\",\"2020-08-01T00:00:00\",\"2020-09-01T00:00:00\",\"2020-10-01T00:00:00\",\"2020-11-01T00:00:00\",\"2020-12-01T00:00:00\",\"2021-01-01T00:00:00\",\"2021-02-01T00:00:00\",\"2021-03-01T00:00:00\",\"2021-04-01T00:00:00\",\"2021-05-01T00:00:00\",\"2021-06-01T00:00:00\",\"2021-07-01T00:00:00\",\"2021-08-01T00:00:00\",\"2021-09-01T00:00:00\",\"2021-10-01T00:00:00\",\"2021-11-01T00:00:00\",\"2021-12-01T00:00:00\",\"2022-01-01T00:00:00\",\"2022-02-01T00:00:00\",\"2022-03-01T00:00:00\",\"2022-04-01T00:00:00\",\"2022-05-01T00:00:00\",\"2022-06-01T00:00:00\"],\"xaxis\":\"x\",\"y\":[76.703125,66.515625,54.359375,33.9375,38.15625,51.5,73.421875,76.546875,70.59375,57.734375,61.390625,71.921875,77.671875,67.46875,55.328125,34.90625,39.125,52.46875,74.375,77.5,71.5625,58.703125,62.359375,72.890625,78.625,68.4375,56.296875,35.875,40.09375,53.421875,75.34375,78.46875,72.53125,59.671875,63.3125,73.84375,79.59375,69.40625,57.265625,36.84375,41.046875,54.390625,76.3125,79.4375,73.5,60.625,64.28125,74.8125,80.5625,70.375,58.21875,37.796875,42.015625,55.359375,77.28125,80.40625,74.453125,61.59375,65.25,75.78125,81.53125,71.328125,59.1875,38.765625,42.984375,56.328125,78.234375,81.359375,75.421875,62.5625,66.21875,76.75,82.484375,72.296875,60.15625,39.734375,43.953125,57.28125],\"yaxis\":\"y\",\"type\":\"scatter\"}],                        {\"template\":{\"data\":{\"barpolar\":[{\"marker\":{\"line\":{\"color\":\"rgb(17,17,17)\",\"width\":0.5},\"pattern\":{\"fillmode\":\"overlay\",\"size\":10,\"solidity\":0.2}},\"type\":\"barpolar\"}],\"bar\":[{\"error_x\":{\"color\":\"#f2f5fa\"},\"error_y\":{\"color\":\"#f2f5fa\"},\"marker\":{\"line\":{\"color\":\"rgb(17,17,17)\",\"width\":0.5},\"pattern\":{\"fillmode\":\"overlay\",\"size\":10,\"solidity\":0.2}},\"type\":\"bar\"}],\"carpet\":[{\"aaxis\":{\"endlinecolor\":\"#A2B1C6\",\"gridcolor\":\"#506784\",\"linecolor\":\"#506784\",\"minorgridcolor\":\"#506784\",\"startlinecolor\":\"#A2B1C6\"},\"baxis\":{\"endlinecolor\":\"#A2B1C6\",\"gridcolor\":\"#506784\",\"linecolor\":\"#506784\",\"minorgridcolor\":\"#506784\",\"startlinecolor\":\"#A2B1C6\"},\"type\":\"carpet\"}],\"choropleth\":[{\"colorbar\":{\"outlinewidth\":0,\"ticks\":\"\"},\"type\":\"choropleth\"}],\"contourcarpet\":[{\"colorbar\":{\"outlinewidth\":0,\"ticks\":\"\"},\"type\":\"contourcarpet\"}],\"contour\":[{\"colorbar\":{\"outlinewidth\":0,\"ticks\":\"\"},\"colorscale\":[[0.0,\"#0d0887\"],[0.1111111111111111,\"#46039f\"],[0.2222222222222222,\"#7201a8\"],[0.3333333333333333,\"#9c179e\"],[0.4444444444444444,\"#bd3786\"],[0.5555555555555556,\"#d8576b\"],[0.6666666666666666,\"#ed7953\"],[0.7777777777777778,\"#fb9f3a\"],[0.8888888888888888,\"#fdca26\"],[1.0,\"#f0f921\"]],\"type\":\"contour\"}],\"heatmapgl\":[{\"colorbar\":{\"outlinewidth\":0,\"ticks\":\"\"},\"colorscale\":[[0.0,\"#0d0887\"],[0.1111111111111111,\"#46039f\"],[0.2222222222222222,\"#7201a8\"],[0.3333333333333333,\"#9c179e\"],[0.4444444444444444,\"#bd3786\"],[0.5555555555555556,\"#d8576b\"],[0.6666666666666666,\"#ed7953\"],[0.7777777777777778,\"#fb9f3a\"],[0.8888888888888888,\"#fdca26\"],[1.0,\"#f0f921\"]],\"type\":\"heatmapgl\"}],\"heatmap\":[{\"colorbar\":{\"outlinewidth\":0,\"ticks\":\"\"},\"colorscale\":[[0.0,\"#0d0887\"],[0.1111111111111111,\"#46039f\"],[0.2222222222222222,\"#7201a8\"],[0.3333333333333333,\"#9c179e\"],[0.4444444444444444,\"#bd3786\"],[0.5555555555555556,\"#d8576b\"],[0.6666666666666666,\"#ed7953\"],[0.7777777777777778,\"#fb9f3a\"],[0.8888888888888888,\"#fdca26\"],[1.0,\"#f0f921\"]],\"type\":\"heatmap\"}],\"histogram2dcontour\":[{\"colorbar\":{\"outlinewidth\":0,\"ticks\":\"\"},\"colorscale\":[[0.0,\"#0d0887\"],[0.1111111111111111,\"#46039f\"],[0.2222222222222222,\"#7201a8\"],[0.3333333333333333,\"#9c179e\"],[0.4444444444444444,\"#bd3786\"],[0.5555555555555556,\"#d8576b\"],[0.6666666666666666,\"#ed7953\"],[0.7777777777777778,\"#fb9f3a\"],[0.8888888888888888,\"#fdca26\"],[1.0,\"#f0f921\"]],\"type\":\"histogram2dcontour\"}],\"histogram2d\":[{\"colorbar\":{\"outlinewidth\":0,\"ticks\":\"\"},\"colorscale\":[[0.0,\"#0d0887\"],[0.1111111111111111,\"#46039f\"],[0.2222222222222222,\"#7201a8\"],[0.3333333333333333,\"#9c179e\"],[0.4444444444444444,\"#bd3786\"],[0.5555555555555556,\"#d8576b\"],[0.6666666666666666,\"#ed7953\"],[0.7777777777777778,\"#fb9f3a\"],[0.8888888888888888,\"#fdca26\"],[1.0,\"#f0f921\"]],\"type\":\"histogram2d\"}],\"histogram\":[{\"marker\":{\"pattern\":{\"fillmode\":\"overlay\",\"size\":10,\"solidity\":0.2}},\"type\":\"histogram\"}],\"mesh3d\":[{\"colorbar\":{\"outlinewidth\":0,\"ticks\":\"\"},\"type\":\"mesh3d\"}],\"parcoords\":[{\"line\":{\"colorbar\":{\"outlinewidth\":0,\"ticks\":\"\"}},\"type\":\"parcoords\"}],\"pie\":[{\"automargin\":true,\"type\":\"pie\"}],\"scatter3d\":[{\"line\":{\"colorbar\":{\"outlinewidth\":0,\"ticks\":\"\"}},\"marker\":{\"colorbar\":{\"outlinewidth\":0,\"ticks\":\"\"}},\"type\":\"scatter3d\"}],\"scattercarpet\":[{\"marker\":{\"colorbar\":{\"outlinewidth\":0,\"ticks\":\"\"}},\"type\":\"scattercarpet\"}],\"scattergeo\":[{\"marker\":{\"colorbar\":{\"outlinewidth\":0,\"ticks\":\"\"}},\"type\":\"scattergeo\"}],\"scattergl\":[{\"marker\":{\"line\":{\"color\":\"#283442\"}},\"type\":\"scattergl\"}],\"scattermapbox\":[{\"marker\":{\"colorbar\":{\"outlinewidth\":0,\"ticks\":\"\"}},\"type\":\"scattermapbox\"}],\"scatterpolargl\":[{\"marker\":{\"colorbar\":{\"outlinewidth\":0,\"ticks\":\"\"}},\"type\":\"scatterpolargl\"}],\"scatterpolar\":[{\"marker\":{\"colorbar\":{\"outlinewidth\":0,\"ticks\":\"\"}},\"type\":\"scatterpolar\"}],\"scatter\":[{\"marker\":{\"line\":{\"color\":\"#283442\"}},\"type\":\"scatter\"}],\"scatterternary\":[{\"marker\":{\"colorbar\":{\"outlinewidth\":0,\"ticks\":\"\"}},\"type\":\"scatterternary\"}],\"surface\":[{\"colorbar\":{\"outlinewidth\":0,\"ticks\":\"\"},\"colorscale\":[[0.0,\"#0d0887\"],[0.1111111111111111,\"#46039f\"],[0.2222222222222222,\"#7201a8\"],[0.3333333333333333,\"#9c179e\"],[0.4444444444444444,\"#bd3786\"],[0.5555555555555556,\"#d8576b\"],[0.6666666666666666,\"#ed7953\"],[0.7777777777777778,\"#fb9f3a\"],[0.8888888888888888,\"#fdca26\"],[1.0,\"#f0f921\"]],\"type\":\"surface\"}],\"table\":[{\"cells\":{\"fill\":{\"color\":\"#506784\"},\"line\":{\"color\":\"rgb(17,17,17)\"}},\"header\":{\"fill\":{\"color\":\"#2a3f5f\"},\"line\":{\"color\":\"rgb(17,17,17)\"}},\"type\":\"table\"}]},\"layout\":{\"annotationdefaults\":{\"arrowcolor\":\"#f2f5fa\",\"arrowhead\":0,\"arrowwidth\":1},\"autotypenumbers\":\"strict\",\"coloraxis\":{\"colorbar\":{\"outlinewidth\":0,\"ticks\":\"\"}},\"colorscale\":{\"diverging\":[[0,\"#8e0152\"],[0.1,\"#c51b7d\"],[0.2,\"#de77ae\"],[0.3,\"#f1b6da\"],[0.4,\"#fde0ef\"],[0.5,\"#f7f7f7\"],[0.6,\"#e6f5d0\"],[0.7,\"#b8e186\"],[0.8,\"#7fbc41\"],[0.9,\"#4d9221\"],[1,\"#276419\"]],\"sequential\":[[0.0,\"#0d0887\"],[0.1111111111111111,\"#46039f\"],[0.2222222222222222,\"#7201a8\"],[0.3333333333333333,\"#9c179e\"],[0.4444444444444444,\"#bd3786\"],[0.5555555555555556,\"#d8576b\"],[0.6666666666666666,\"#ed7953\"],[0.7777777777777778,\"#fb9f3a\"],[0.8888888888888888,\"#fdca26\"],[1.0,\"#f0f921\"]],\"sequentialminus\":[[0.0,\"#0d0887\"],[0.1111111111111111,\"#46039f\"],[0.2222222222222222,\"#7201a8\"],[0.3333333333333333,\"#9c179e\"],[0.4444444444444444,\"#bd3786\"],[0.5555555555555556,\"#d8576b\"],[0.6666666666666666,\"#ed7953\"],[0.7777777777777778,\"#fb9f3a\"],[0.8888888888888888,\"#fdca26\"],[1.0,\"#f0f921\"]]},\"colorway\":[\"#636efa\",\"#EF553B\",\"#00cc96\",\"#ab63fa\",\"#FFA15A\",\"#19d3f3\",\"#FF6692\",\"#B6E880\",\"#FF97FF\",\"#FECB52\"],\"font\":{\"color\":\"#f2f5fa\"},\"geo\":{\"bgcolor\":\"rgb(17,17,17)\",\"lakecolor\":\"rgb(17,17,17)\",\"landcolor\":\"rgb(17,17,17)\",\"showlakes\":true,\"showland\":true,\"subunitcolor\":\"#506784\"},\"hoverlabel\":{\"align\":\"left\"},\"hovermode\":\"closest\",\"mapbox\":{\"style\":\"dark\"},\"paper_bgcolor\":\"rgb(17,17,17)\",\"plot_bgcolor\":\"rgb(17,17,17)\",\"polar\":{\"angularaxis\":{\"gridcolor\":\"#506784\",\"linecolor\":\"#506784\",\"ticks\":\"\"},\"bgcolor\":\"rgb(17,17,17)\",\"radialaxis\":{\"gridcolor\":\"#506784\",\"linecolor\":\"#506784\",\"ticks\":\"\"}},\"scene\":{\"xaxis\":{\"backgroundcolor\":\"rgb(17,17,17)\",\"gridcolor\":\"#506784\",\"gridwidth\":2,\"linecolor\":\"#506784\",\"showbackground\":true,\"ticks\":\"\",\"zerolinecolor\":\"#C8D4E3\"},\"yaxis\":{\"backgroundcolor\":\"rgb(17,17,17)\",\"gridcolor\":\"#506784\",\"gridwidth\":2,\"linecolor\":\"#506784\",\"showbackground\":true,\"ticks\":\"\",\"zerolinecolor\":\"#C8D4E3\"},\"zaxis\":{\"backgroundcolor\":\"rgb(17,17,17)\",\"gridcolor\":\"#506784\",\"gridwidth\":2,\"linecolor\":\"#506784\",\"showbackground\":true,\"ticks\":\"\",\"zerolinecolor\":\"#C8D4E3\"}},\"shapedefaults\":{\"line\":{\"color\":\"#f2f5fa\"}},\"sliderdefaults\":{\"bgcolor\":\"#C8D4E3\",\"bordercolor\":\"rgb(17,17,17)\",\"borderwidth\":1,\"tickwidth\":0},\"ternary\":{\"aaxis\":{\"gridcolor\":\"#506784\",\"linecolor\":\"#506784\",\"ticks\":\"\"},\"baxis\":{\"gridcolor\":\"#506784\",\"linecolor\":\"#506784\",\"ticks\":\"\"},\"bgcolor\":\"rgb(17,17,17)\",\"caxis\":{\"gridcolor\":\"#506784\",\"linecolor\":\"#506784\",\"ticks\":\"\"}},\"title\":{\"x\":0.05},\"updatemenudefaults\":{\"bgcolor\":\"#506784\",\"borderwidth\":0},\"xaxis\":{\"automargin\":true,\"gridcolor\":\"#283442\",\"linecolor\":\"#506784\",\"ticks\":\"\",\"title\":{\"standoff\":15},\"zerolinecolor\":\"#283442\",\"zerolinewidth\":2},\"yaxis\":{\"automargin\":true,\"gridcolor\":\"#283442\",\"linecolor\":\"#506784\",\"ticks\":\"\",\"title\":{\"standoff\":15},\"zerolinecolor\":\"#283442\",\"zerolinewidth\":2}}},\"xaxis\":{\"anchor\":\"y\",\"domain\":[0.0,1.0],\"title\":{\"text\":\"Date\"}},\"yaxis\":{\"anchor\":\"x\",\"domain\":[0.0,1.0],\"title\":{\"text\":\"value\"}},\"legend\":{\"title\":{\"text\":\"variable\"},\"tracegroupgap\":0},\"margin\":{\"t\":60},\"shapes\":[{\"fillcolor\":\"grey\",\"line\":{\"width\":0},\"opacity\":0.25,\"type\":\"rect\",\"x0\":\"2021-06-01\",\"x1\":\"2022-06-01\",\"xref\":\"x\",\"y0\":0,\"y1\":1,\"yref\":\"y domain\"}]},                        {\"responsive\": true}                    ).then(function(){\n",
       "                            \n",
       "var gd = document.getElementById('94f281b3-9e9d-4228-b4ae-330eb1717aa7');\n",
       "var x = new MutationObserver(function (mutations, observer) {{\n",
       "        var display = window.getComputedStyle(gd).display;\n",
       "        if (!display || display === 'none') {{\n",
       "            console.log([gd, 'removed!']);\n",
       "            Plotly.purge(gd);\n",
       "            observer.disconnect();\n",
       "        }}\n",
       "}});\n",
       "\n",
       "// Listen for the removal of the full notebook cells\n",
       "var notebookContainer = gd.closest('#notebook-container');\n",
       "if (notebookContainer) {{\n",
       "    x.observe(notebookContainer, {childList: true});\n",
       "}}\n",
       "\n",
       "// Listen for the clearing of the current output cell\n",
       "var outputEl = gd.closest('.output');\n",
       "if (outputEl) {{\n",
       "    x.observe(outputEl, {childList: true});\n",
       "}}\n",
       "\n",
       "                        })                };                });            </script>        </div>"
      ]
     },
     "metadata": {},
     "output_type": "display_data"
    }
   ],
   "source": [
    "# generate predictions on the original dataset\n",
    "predictions = predict_model(best, data=HumidityData)\n",
    "# add a date column in the dataset\n",
    "predictions['Date'] = pd.date_range(start='2016-01-01', end = '2022-06-01', freq = 'MS')\n",
    "# line plot\n",
    "fig = px.line(predictions, x='Date', y=[\"AvgHumidity\", \"Label\"], template = 'plotly_dark')\n",
    "# add a vertical rectange for test-set separation\n",
    "fig.add_vrect(x0=\"2021-06-01\", x1=\"2022-06-01\", fillcolor=\"grey\", opacity=0.25, line_width=0)\n",
    "fig.show()"
   ]
  },
  {
   "cell_type": "code",
   "execution_count": 92,
   "id": "c290497b",
   "metadata": {},
   "outputs": [],
   "source": [
    "final_best = finalize_model(best)"
   ]
  },
  {
   "cell_type": "code",
   "execution_count": 93,
   "id": "6e076d73",
   "metadata": {},
   "outputs": [
    {
     "name": "stdout",
     "output_type": "stream",
     "text": [
      "Transformation Pipeline and Model Successfully Saved\n"
     ]
    },
    {
     "data": {
      "text/plain": [
       "(Pipeline(memory=None,\n",
       "          steps=[('dtypes',\n",
       "                  DataTypes_Auto_infer(categorical_features=[],\n",
       "                                       display_types=True, features_todrop=[],\n",
       "                                       id_columns=[], ml_usecase='regression',\n",
       "                                       numerical_features=['Year', 'Series'],\n",
       "                                       target='AvgHumidity', time_features=[])),\n",
       "                 ('imputer',\n",
       "                  Simple_Imputer(categorical_strategy='not_available',\n",
       "                                 fill_value_categorical=None,\n",
       "                                 fill_value_numerical=No...\n",
       "                 ('cluster_all', 'passthrough'),\n",
       "                 ('dummy', Dummify(target='AvgHumidity')),\n",
       "                 ('fix_perfect', Remove_100(target='AvgHumidity')),\n",
       "                 ('clean_names', Clean_Colum_Names()),\n",
       "                 ('feature_select', 'passthrough'), ('fix_multi', 'passthrough'),\n",
       "                 ('dfs', 'passthrough'), ('pca', 'passthrough'),\n",
       "                 ['trained_model',\n",
       "                  LinearRegression(copy_X=True, fit_intercept=True, n_jobs=-1,\n",
       "                                   normalize=False)]],\n",
       "          verbose=False),\n",
       " 'HumidityForecastingModel.pkl')"
      ]
     },
     "execution_count": 93,
     "metadata": {},
     "output_type": "execute_result"
    }
   ],
   "source": [
    "save_model(final_best, 'HumidityForecastingModel')"
   ]
  },
  {
   "cell_type": "code",
   "execution_count": 45,
   "id": "bb4663a9",
   "metadata": {},
   "outputs": [
    {
     "data": {
      "text/html": [
       "<style type=\"text/css\">\n",
       "#T_af459_row17_col1, #T_af459_row42_col1 {\n",
       "  background-color: lightgreen;\n",
       "}\n",
       "</style>\n",
       "<table id=\"T_af459\">\n",
       "  <thead>\n",
       "    <tr>\n",
       "      <th class=\"blank level0\" >&nbsp;</th>\n",
       "      <th id=\"T_af459_level0_col0\" class=\"col_heading level0 col0\" >Description</th>\n",
       "      <th id=\"T_af459_level0_col1\" class=\"col_heading level0 col1\" >Value</th>\n",
       "    </tr>\n",
       "  </thead>\n",
       "  <tbody>\n",
       "    <tr>\n",
       "      <th id=\"T_af459_level0_row0\" class=\"row_heading level0 row0\" >0</th>\n",
       "      <td id=\"T_af459_row0_col0\" class=\"data row0 col0\" >session_id</td>\n",
       "      <td id=\"T_af459_row0_col1\" class=\"data row0 col1\" >102</td>\n",
       "    </tr>\n",
       "    <tr>\n",
       "      <th id=\"T_af459_level0_row1\" class=\"row_heading level0 row1\" >1</th>\n",
       "      <td id=\"T_af459_row1_col0\" class=\"data row1 col0\" >Target</td>\n",
       "      <td id=\"T_af459_row1_col1\" class=\"data row1 col1\" >AvgWindspeed</td>\n",
       "    </tr>\n",
       "    <tr>\n",
       "      <th id=\"T_af459_level0_row2\" class=\"row_heading level0 row2\" >2</th>\n",
       "      <td id=\"T_af459_row2_col0\" class=\"data row2 col0\" >Original Data</td>\n",
       "      <td id=\"T_af459_row2_col1\" class=\"data row2 col1\" >(66, 4)</td>\n",
       "    </tr>\n",
       "    <tr>\n",
       "      <th id=\"T_af459_level0_row3\" class=\"row_heading level0 row3\" >3</th>\n",
       "      <td id=\"T_af459_row3_col0\" class=\"data row3 col0\" >Missing Values</td>\n",
       "      <td id=\"T_af459_row3_col1\" class=\"data row3 col1\" >False</td>\n",
       "    </tr>\n",
       "    <tr>\n",
       "      <th id=\"T_af459_level0_row4\" class=\"row_heading level0 row4\" >4</th>\n",
       "      <td id=\"T_af459_row4_col0\" class=\"data row4 col0\" >Numeric Features</td>\n",
       "      <td id=\"T_af459_row4_col1\" class=\"data row4 col1\" >2</td>\n",
       "    </tr>\n",
       "    <tr>\n",
       "      <th id=\"T_af459_level0_row5\" class=\"row_heading level0 row5\" >5</th>\n",
       "      <td id=\"T_af459_row5_col0\" class=\"data row5 col0\" >Categorical Features</td>\n",
       "      <td id=\"T_af459_row5_col1\" class=\"data row5 col1\" >1</td>\n",
       "    </tr>\n",
       "    <tr>\n",
       "      <th id=\"T_af459_level0_row6\" class=\"row_heading level0 row6\" >6</th>\n",
       "      <td id=\"T_af459_row6_col0\" class=\"data row6 col0\" >Ordinal Features</td>\n",
       "      <td id=\"T_af459_row6_col1\" class=\"data row6 col1\" >False</td>\n",
       "    </tr>\n",
       "    <tr>\n",
       "      <th id=\"T_af459_level0_row7\" class=\"row_heading level0 row7\" >7</th>\n",
       "      <td id=\"T_af459_row7_col0\" class=\"data row7 col0\" >High Cardinality Features</td>\n",
       "      <td id=\"T_af459_row7_col1\" class=\"data row7 col1\" >False</td>\n",
       "    </tr>\n",
       "    <tr>\n",
       "      <th id=\"T_af459_level0_row8\" class=\"row_heading level0 row8\" >8</th>\n",
       "      <td id=\"T_af459_row8_col0\" class=\"data row8 col0\" >High Cardinality Method</td>\n",
       "      <td id=\"T_af459_row8_col1\" class=\"data row8 col1\" >None</td>\n",
       "    </tr>\n",
       "    <tr>\n",
       "      <th id=\"T_af459_level0_row9\" class=\"row_heading level0 row9\" >9</th>\n",
       "      <td id=\"T_af459_row9_col0\" class=\"data row9 col0\" >Transformed Train Set</td>\n",
       "      <td id=\"T_af459_row9_col1\" class=\"data row9 col1\" >(66, 14)</td>\n",
       "    </tr>\n",
       "    <tr>\n",
       "      <th id=\"T_af459_level0_row10\" class=\"row_heading level0 row10\" >10</th>\n",
       "      <td id=\"T_af459_row10_col0\" class=\"data row10 col0\" >Transformed Test Set</td>\n",
       "      <td id=\"T_af459_row10_col1\" class=\"data row10 col1\" >(12, 14)</td>\n",
       "    </tr>\n",
       "    <tr>\n",
       "      <th id=\"T_af459_level0_row11\" class=\"row_heading level0 row11\" >11</th>\n",
       "      <td id=\"T_af459_row11_col0\" class=\"data row11 col0\" >Shuffle Train-Test</td>\n",
       "      <td id=\"T_af459_row11_col1\" class=\"data row11 col1\" >True</td>\n",
       "    </tr>\n",
       "    <tr>\n",
       "      <th id=\"T_af459_level0_row12\" class=\"row_heading level0 row12\" >12</th>\n",
       "      <td id=\"T_af459_row12_col0\" class=\"data row12 col0\" >Stratify Train-Test</td>\n",
       "      <td id=\"T_af459_row12_col1\" class=\"data row12 col1\" >False</td>\n",
       "    </tr>\n",
       "    <tr>\n",
       "      <th id=\"T_af459_level0_row13\" class=\"row_heading level0 row13\" >13</th>\n",
       "      <td id=\"T_af459_row13_col0\" class=\"data row13 col0\" >Fold Generator</td>\n",
       "      <td id=\"T_af459_row13_col1\" class=\"data row13 col1\" >TimeSeriesSplit</td>\n",
       "    </tr>\n",
       "    <tr>\n",
       "      <th id=\"T_af459_level0_row14\" class=\"row_heading level0 row14\" >14</th>\n",
       "      <td id=\"T_af459_row14_col0\" class=\"data row14 col0\" >Fold Number</td>\n",
       "      <td id=\"T_af459_row14_col1\" class=\"data row14 col1\" >3</td>\n",
       "    </tr>\n",
       "    <tr>\n",
       "      <th id=\"T_af459_level0_row15\" class=\"row_heading level0 row15\" >15</th>\n",
       "      <td id=\"T_af459_row15_col0\" class=\"data row15 col0\" >CPU Jobs</td>\n",
       "      <td id=\"T_af459_row15_col1\" class=\"data row15 col1\" >-1</td>\n",
       "    </tr>\n",
       "    <tr>\n",
       "      <th id=\"T_af459_level0_row16\" class=\"row_heading level0 row16\" >16</th>\n",
       "      <td id=\"T_af459_row16_col0\" class=\"data row16 col0\" >Use GPU</td>\n",
       "      <td id=\"T_af459_row16_col1\" class=\"data row16 col1\" >False</td>\n",
       "    </tr>\n",
       "    <tr>\n",
       "      <th id=\"T_af459_level0_row17\" class=\"row_heading level0 row17\" >17</th>\n",
       "      <td id=\"T_af459_row17_col0\" class=\"data row17 col0\" >Log Experiment</td>\n",
       "      <td id=\"T_af459_row17_col1\" class=\"data row17 col1\" >True</td>\n",
       "    </tr>\n",
       "    <tr>\n",
       "      <th id=\"T_af459_level0_row18\" class=\"row_heading level0 row18\" >18</th>\n",
       "      <td id=\"T_af459_row18_col0\" class=\"data row18 col0\" >Experiment Name</td>\n",
       "      <td id=\"T_af459_row18_col1\" class=\"data row18 col1\" >WindSpeed</td>\n",
       "    </tr>\n",
       "    <tr>\n",
       "      <th id=\"T_af459_level0_row19\" class=\"row_heading level0 row19\" >19</th>\n",
       "      <td id=\"T_af459_row19_col0\" class=\"data row19 col0\" >USI</td>\n",
       "      <td id=\"T_af459_row19_col1\" class=\"data row19 col1\" >1da0</td>\n",
       "    </tr>\n",
       "    <tr>\n",
       "      <th id=\"T_af459_level0_row20\" class=\"row_heading level0 row20\" >20</th>\n",
       "      <td id=\"T_af459_row20_col0\" class=\"data row20 col0\" >Imputation Type</td>\n",
       "      <td id=\"T_af459_row20_col1\" class=\"data row20 col1\" >simple</td>\n",
       "    </tr>\n",
       "    <tr>\n",
       "      <th id=\"T_af459_level0_row21\" class=\"row_heading level0 row21\" >21</th>\n",
       "      <td id=\"T_af459_row21_col0\" class=\"data row21 col0\" >Iterative Imputation Iteration</td>\n",
       "      <td id=\"T_af459_row21_col1\" class=\"data row21 col1\" >None</td>\n",
       "    </tr>\n",
       "    <tr>\n",
       "      <th id=\"T_af459_level0_row22\" class=\"row_heading level0 row22\" >22</th>\n",
       "      <td id=\"T_af459_row22_col0\" class=\"data row22 col0\" >Numeric Imputer</td>\n",
       "      <td id=\"T_af459_row22_col1\" class=\"data row22 col1\" >mean</td>\n",
       "    </tr>\n",
       "    <tr>\n",
       "      <th id=\"T_af459_level0_row23\" class=\"row_heading level0 row23\" >23</th>\n",
       "      <td id=\"T_af459_row23_col0\" class=\"data row23 col0\" >Iterative Imputation Numeric Model</td>\n",
       "      <td id=\"T_af459_row23_col1\" class=\"data row23 col1\" >None</td>\n",
       "    </tr>\n",
       "    <tr>\n",
       "      <th id=\"T_af459_level0_row24\" class=\"row_heading level0 row24\" >24</th>\n",
       "      <td id=\"T_af459_row24_col0\" class=\"data row24 col0\" >Categorical Imputer</td>\n",
       "      <td id=\"T_af459_row24_col1\" class=\"data row24 col1\" >constant</td>\n",
       "    </tr>\n",
       "    <tr>\n",
       "      <th id=\"T_af459_level0_row25\" class=\"row_heading level0 row25\" >25</th>\n",
       "      <td id=\"T_af459_row25_col0\" class=\"data row25 col0\" >Iterative Imputation Categorical Model</td>\n",
       "      <td id=\"T_af459_row25_col1\" class=\"data row25 col1\" >None</td>\n",
       "    </tr>\n",
       "    <tr>\n",
       "      <th id=\"T_af459_level0_row26\" class=\"row_heading level0 row26\" >26</th>\n",
       "      <td id=\"T_af459_row26_col0\" class=\"data row26 col0\" >Unknown Categoricals Handling</td>\n",
       "      <td id=\"T_af459_row26_col1\" class=\"data row26 col1\" >least_frequent</td>\n",
       "    </tr>\n",
       "    <tr>\n",
       "      <th id=\"T_af459_level0_row27\" class=\"row_heading level0 row27\" >27</th>\n",
       "      <td id=\"T_af459_row27_col0\" class=\"data row27 col0\" >Normalize</td>\n",
       "      <td id=\"T_af459_row27_col1\" class=\"data row27 col1\" >False</td>\n",
       "    </tr>\n",
       "    <tr>\n",
       "      <th id=\"T_af459_level0_row28\" class=\"row_heading level0 row28\" >28</th>\n",
       "      <td id=\"T_af459_row28_col0\" class=\"data row28 col0\" >Normalize Method</td>\n",
       "      <td id=\"T_af459_row28_col1\" class=\"data row28 col1\" >None</td>\n",
       "    </tr>\n",
       "    <tr>\n",
       "      <th id=\"T_af459_level0_row29\" class=\"row_heading level0 row29\" >29</th>\n",
       "      <td id=\"T_af459_row29_col0\" class=\"data row29 col0\" >Transformation</td>\n",
       "      <td id=\"T_af459_row29_col1\" class=\"data row29 col1\" >False</td>\n",
       "    </tr>\n",
       "    <tr>\n",
       "      <th id=\"T_af459_level0_row30\" class=\"row_heading level0 row30\" >30</th>\n",
       "      <td id=\"T_af459_row30_col0\" class=\"data row30 col0\" >Transformation Method</td>\n",
       "      <td id=\"T_af459_row30_col1\" class=\"data row30 col1\" >None</td>\n",
       "    </tr>\n",
       "    <tr>\n",
       "      <th id=\"T_af459_level0_row31\" class=\"row_heading level0 row31\" >31</th>\n",
       "      <td id=\"T_af459_row31_col0\" class=\"data row31 col0\" >PCA</td>\n",
       "      <td id=\"T_af459_row31_col1\" class=\"data row31 col1\" >False</td>\n",
       "    </tr>\n",
       "    <tr>\n",
       "      <th id=\"T_af459_level0_row32\" class=\"row_heading level0 row32\" >32</th>\n",
       "      <td id=\"T_af459_row32_col0\" class=\"data row32 col0\" >PCA Method</td>\n",
       "      <td id=\"T_af459_row32_col1\" class=\"data row32 col1\" >None</td>\n",
       "    </tr>\n",
       "    <tr>\n",
       "      <th id=\"T_af459_level0_row33\" class=\"row_heading level0 row33\" >33</th>\n",
       "      <td id=\"T_af459_row33_col0\" class=\"data row33 col0\" >PCA Components</td>\n",
       "      <td id=\"T_af459_row33_col1\" class=\"data row33 col1\" >None</td>\n",
       "    </tr>\n",
       "    <tr>\n",
       "      <th id=\"T_af459_level0_row34\" class=\"row_heading level0 row34\" >34</th>\n",
       "      <td id=\"T_af459_row34_col0\" class=\"data row34 col0\" >Ignore Low Variance</td>\n",
       "      <td id=\"T_af459_row34_col1\" class=\"data row34 col1\" >False</td>\n",
       "    </tr>\n",
       "    <tr>\n",
       "      <th id=\"T_af459_level0_row35\" class=\"row_heading level0 row35\" >35</th>\n",
       "      <td id=\"T_af459_row35_col0\" class=\"data row35 col0\" >Combine Rare Levels</td>\n",
       "      <td id=\"T_af459_row35_col1\" class=\"data row35 col1\" >False</td>\n",
       "    </tr>\n",
       "    <tr>\n",
       "      <th id=\"T_af459_level0_row36\" class=\"row_heading level0 row36\" >36</th>\n",
       "      <td id=\"T_af459_row36_col0\" class=\"data row36 col0\" >Rare Level Threshold</td>\n",
       "      <td id=\"T_af459_row36_col1\" class=\"data row36 col1\" >None</td>\n",
       "    </tr>\n",
       "    <tr>\n",
       "      <th id=\"T_af459_level0_row37\" class=\"row_heading level0 row37\" >37</th>\n",
       "      <td id=\"T_af459_row37_col0\" class=\"data row37 col0\" >Numeric Binning</td>\n",
       "      <td id=\"T_af459_row37_col1\" class=\"data row37 col1\" >False</td>\n",
       "    </tr>\n",
       "    <tr>\n",
       "      <th id=\"T_af459_level0_row38\" class=\"row_heading level0 row38\" >38</th>\n",
       "      <td id=\"T_af459_row38_col0\" class=\"data row38 col0\" >Remove Outliers</td>\n",
       "      <td id=\"T_af459_row38_col1\" class=\"data row38 col1\" >False</td>\n",
       "    </tr>\n",
       "    <tr>\n",
       "      <th id=\"T_af459_level0_row39\" class=\"row_heading level0 row39\" >39</th>\n",
       "      <td id=\"T_af459_row39_col0\" class=\"data row39 col0\" >Outliers Threshold</td>\n",
       "      <td id=\"T_af459_row39_col1\" class=\"data row39 col1\" >None</td>\n",
       "    </tr>\n",
       "    <tr>\n",
       "      <th id=\"T_af459_level0_row40\" class=\"row_heading level0 row40\" >40</th>\n",
       "      <td id=\"T_af459_row40_col0\" class=\"data row40 col0\" >Remove Multicollinearity</td>\n",
       "      <td id=\"T_af459_row40_col1\" class=\"data row40 col1\" >False</td>\n",
       "    </tr>\n",
       "    <tr>\n",
       "      <th id=\"T_af459_level0_row41\" class=\"row_heading level0 row41\" >41</th>\n",
       "      <td id=\"T_af459_row41_col0\" class=\"data row41 col0\" >Multicollinearity Threshold</td>\n",
       "      <td id=\"T_af459_row41_col1\" class=\"data row41 col1\" >None</td>\n",
       "    </tr>\n",
       "    <tr>\n",
       "      <th id=\"T_af459_level0_row42\" class=\"row_heading level0 row42\" >42</th>\n",
       "      <td id=\"T_af459_row42_col0\" class=\"data row42 col0\" >Remove Perfect Collinearity</td>\n",
       "      <td id=\"T_af459_row42_col1\" class=\"data row42 col1\" >True</td>\n",
       "    </tr>\n",
       "    <tr>\n",
       "      <th id=\"T_af459_level0_row43\" class=\"row_heading level0 row43\" >43</th>\n",
       "      <td id=\"T_af459_row43_col0\" class=\"data row43 col0\" >Clustering</td>\n",
       "      <td id=\"T_af459_row43_col1\" class=\"data row43 col1\" >False</td>\n",
       "    </tr>\n",
       "    <tr>\n",
       "      <th id=\"T_af459_level0_row44\" class=\"row_heading level0 row44\" >44</th>\n",
       "      <td id=\"T_af459_row44_col0\" class=\"data row44 col0\" >Clustering Iteration</td>\n",
       "      <td id=\"T_af459_row44_col1\" class=\"data row44 col1\" >None</td>\n",
       "    </tr>\n",
       "    <tr>\n",
       "      <th id=\"T_af459_level0_row45\" class=\"row_heading level0 row45\" >45</th>\n",
       "      <td id=\"T_af459_row45_col0\" class=\"data row45 col0\" >Polynomial Features</td>\n",
       "      <td id=\"T_af459_row45_col1\" class=\"data row45 col1\" >False</td>\n",
       "    </tr>\n",
       "    <tr>\n",
       "      <th id=\"T_af459_level0_row46\" class=\"row_heading level0 row46\" >46</th>\n",
       "      <td id=\"T_af459_row46_col0\" class=\"data row46 col0\" >Polynomial Degree</td>\n",
       "      <td id=\"T_af459_row46_col1\" class=\"data row46 col1\" >None</td>\n",
       "    </tr>\n",
       "    <tr>\n",
       "      <th id=\"T_af459_level0_row47\" class=\"row_heading level0 row47\" >47</th>\n",
       "      <td id=\"T_af459_row47_col0\" class=\"data row47 col0\" >Trignometry Features</td>\n",
       "      <td id=\"T_af459_row47_col1\" class=\"data row47 col1\" >False</td>\n",
       "    </tr>\n",
       "    <tr>\n",
       "      <th id=\"T_af459_level0_row48\" class=\"row_heading level0 row48\" >48</th>\n",
       "      <td id=\"T_af459_row48_col0\" class=\"data row48 col0\" >Polynomial Threshold</td>\n",
       "      <td id=\"T_af459_row48_col1\" class=\"data row48 col1\" >None</td>\n",
       "    </tr>\n",
       "    <tr>\n",
       "      <th id=\"T_af459_level0_row49\" class=\"row_heading level0 row49\" >49</th>\n",
       "      <td id=\"T_af459_row49_col0\" class=\"data row49 col0\" >Group Features</td>\n",
       "      <td id=\"T_af459_row49_col1\" class=\"data row49 col1\" >False</td>\n",
       "    </tr>\n",
       "    <tr>\n",
       "      <th id=\"T_af459_level0_row50\" class=\"row_heading level0 row50\" >50</th>\n",
       "      <td id=\"T_af459_row50_col0\" class=\"data row50 col0\" >Feature Selection</td>\n",
       "      <td id=\"T_af459_row50_col1\" class=\"data row50 col1\" >False</td>\n",
       "    </tr>\n",
       "    <tr>\n",
       "      <th id=\"T_af459_level0_row51\" class=\"row_heading level0 row51\" >51</th>\n",
       "      <td id=\"T_af459_row51_col0\" class=\"data row51 col0\" >Feature Selection Method</td>\n",
       "      <td id=\"T_af459_row51_col1\" class=\"data row51 col1\" >classic</td>\n",
       "    </tr>\n",
       "    <tr>\n",
       "      <th id=\"T_af459_level0_row52\" class=\"row_heading level0 row52\" >52</th>\n",
       "      <td id=\"T_af459_row52_col0\" class=\"data row52 col0\" >Features Selection Threshold</td>\n",
       "      <td id=\"T_af459_row52_col1\" class=\"data row52 col1\" >None</td>\n",
       "    </tr>\n",
       "    <tr>\n",
       "      <th id=\"T_af459_level0_row53\" class=\"row_heading level0 row53\" >53</th>\n",
       "      <td id=\"T_af459_row53_col0\" class=\"data row53 col0\" >Feature Interaction</td>\n",
       "      <td id=\"T_af459_row53_col1\" class=\"data row53 col1\" >False</td>\n",
       "    </tr>\n",
       "    <tr>\n",
       "      <th id=\"T_af459_level0_row54\" class=\"row_heading level0 row54\" >54</th>\n",
       "      <td id=\"T_af459_row54_col0\" class=\"data row54 col0\" >Feature Ratio</td>\n",
       "      <td id=\"T_af459_row54_col1\" class=\"data row54 col1\" >False</td>\n",
       "    </tr>\n",
       "    <tr>\n",
       "      <th id=\"T_af459_level0_row55\" class=\"row_heading level0 row55\" >55</th>\n",
       "      <td id=\"T_af459_row55_col0\" class=\"data row55 col0\" >Interaction Threshold</td>\n",
       "      <td id=\"T_af459_row55_col1\" class=\"data row55 col1\" >None</td>\n",
       "    </tr>\n",
       "    <tr>\n",
       "      <th id=\"T_af459_level0_row56\" class=\"row_heading level0 row56\" >56</th>\n",
       "      <td id=\"T_af459_row56_col0\" class=\"data row56 col0\" >Transform Target</td>\n",
       "      <td id=\"T_af459_row56_col1\" class=\"data row56 col1\" >False</td>\n",
       "    </tr>\n",
       "    <tr>\n",
       "      <th id=\"T_af459_level0_row57\" class=\"row_heading level0 row57\" >57</th>\n",
       "      <td id=\"T_af459_row57_col0\" class=\"data row57 col0\" >Transform Target Method</td>\n",
       "      <td id=\"T_af459_row57_col1\" class=\"data row57 col1\" >box-cox</td>\n",
       "    </tr>\n",
       "  </tbody>\n",
       "</table>\n"
      ],
      "text/plain": [
       "<pandas.io.formats.style.Styler at 0x175f5514610>"
      ]
     },
     "metadata": {},
     "output_type": "display_data"
    }
   ],
   "source": [
    "# initialize setup\n",
    "s_windspeed = setup(data = trainwindspeed, test_data = testwindspeed, target = 'AvgWindspeed', fold_strategy = 'timeseries',numeric_features = ['Year', 'Series'], fold = 3, session_id = 102,log_experiment=True,experiment_name='WindSpeed')"
   ]
  },
  {
   "cell_type": "code",
   "execution_count": 94,
   "id": "ae28f9e3",
   "metadata": {},
   "outputs": [
    {
     "data": {
      "text/html": [
       "<style type=\"text/css\">\n",
       "#T_af583 th {\n",
       "  text-align: left;\n",
       "}\n",
       "#T_af583_row0_col0, #T_af583_row1_col0, #T_af583_row1_col1, #T_af583_row1_col2, #T_af583_row1_col3, #T_af583_row1_col4, #T_af583_row1_col6, #T_af583_row2_col0, #T_af583_row2_col1, #T_af583_row2_col2, #T_af583_row2_col3, #T_af583_row2_col4, #T_af583_row2_col5, #T_af583_row2_col6, #T_af583_row3_col0, #T_af583_row3_col1, #T_af583_row3_col2, #T_af583_row3_col3, #T_af583_row3_col4, #T_af583_row3_col5, #T_af583_row3_col6, #T_af583_row4_col0, #T_af583_row4_col1, #T_af583_row4_col2, #T_af583_row4_col3, #T_af583_row4_col4, #T_af583_row4_col5, #T_af583_row4_col6, #T_af583_row5_col0, #T_af583_row5_col1, #T_af583_row5_col2, #T_af583_row5_col3, #T_af583_row5_col4, #T_af583_row5_col5, #T_af583_row5_col6, #T_af583_row6_col0, #T_af583_row6_col1, #T_af583_row6_col2, #T_af583_row6_col3, #T_af583_row6_col4, #T_af583_row6_col5, #T_af583_row6_col6, #T_af583_row7_col0, #T_af583_row7_col1, #T_af583_row7_col2, #T_af583_row7_col3, #T_af583_row7_col4, #T_af583_row7_col5, #T_af583_row7_col6, #T_af583_row8_col0, #T_af583_row8_col1, #T_af583_row8_col2, #T_af583_row8_col3, #T_af583_row8_col4, #T_af583_row8_col5, #T_af583_row8_col6, #T_af583_row9_col0, #T_af583_row9_col1, #T_af583_row9_col2, #T_af583_row9_col3, #T_af583_row9_col4, #T_af583_row9_col5, #T_af583_row9_col6, #T_af583_row10_col0, #T_af583_row10_col1, #T_af583_row10_col2, #T_af583_row10_col3, #T_af583_row10_col4, #T_af583_row10_col5, #T_af583_row10_col6, #T_af583_row11_col0, #T_af583_row11_col1, #T_af583_row11_col2, #T_af583_row11_col3, #T_af583_row11_col4, #T_af583_row11_col5, #T_af583_row11_col6, #T_af583_row12_col0, #T_af583_row12_col1, #T_af583_row12_col2, #T_af583_row12_col3, #T_af583_row12_col4, #T_af583_row12_col5, #T_af583_row12_col6, #T_af583_row13_col0, #T_af583_row13_col1, #T_af583_row13_col2, #T_af583_row13_col3, #T_af583_row13_col4, #T_af583_row13_col5, #T_af583_row13_col6, #T_af583_row14_col0, #T_af583_row14_col1, #T_af583_row14_col2, #T_af583_row14_col3, #T_af583_row14_col4, #T_af583_row14_col5, #T_af583_row14_col6, #T_af583_row15_col0, #T_af583_row15_col1, #T_af583_row15_col2, #T_af583_row15_col3, #T_af583_row15_col4, #T_af583_row15_col5, #T_af583_row15_col6, #T_af583_row16_col0, #T_af583_row16_col1, #T_af583_row16_col2, #T_af583_row16_col3, #T_af583_row16_col4, #T_af583_row16_col5, #T_af583_row16_col6, #T_af583_row17_col0, #T_af583_row17_col1, #T_af583_row17_col2, #T_af583_row17_col3, #T_af583_row17_col4, #T_af583_row17_col5, #T_af583_row17_col6, #T_af583_row18_col0, #T_af583_row18_col1, #T_af583_row18_col2, #T_af583_row18_col3, #T_af583_row18_col4, #T_af583_row18_col5, #T_af583_row18_col6, #T_af583_row19_col0, #T_af583_row19_col1, #T_af583_row19_col2, #T_af583_row19_col3, #T_af583_row19_col4, #T_af583_row19_col5, #T_af583_row19_col6 {\n",
       "  text-align: left;\n",
       "}\n",
       "#T_af583_row0_col1, #T_af583_row0_col2, #T_af583_row0_col3, #T_af583_row0_col4, #T_af583_row0_col5, #T_af583_row0_col6, #T_af583_row1_col5 {\n",
       "  text-align: left;\n",
       "  background-color: yellow;\n",
       "}\n",
       "#T_af583_row0_col7, #T_af583_row12_col7, #T_af583_row14_col7 {\n",
       "  text-align: left;\n",
       "  background-color: yellow;\n",
       "  background-color: lightgrey;\n",
       "}\n",
       "#T_af583_row1_col7, #T_af583_row2_col7, #T_af583_row3_col7, #T_af583_row4_col7, #T_af583_row5_col7, #T_af583_row6_col7, #T_af583_row7_col7, #T_af583_row8_col7, #T_af583_row9_col7, #T_af583_row10_col7, #T_af583_row11_col7, #T_af583_row13_col7, #T_af583_row15_col7, #T_af583_row16_col7, #T_af583_row17_col7, #T_af583_row18_col7, #T_af583_row19_col7 {\n",
       "  text-align: left;\n",
       "  background-color: lightgrey;\n",
       "}\n",
       "</style>\n",
       "<table id=\"T_af583\">\n",
       "  <thead>\n",
       "    <tr>\n",
       "      <th class=\"blank level0\" >&nbsp;</th>\n",
       "      <th id=\"T_af583_level0_col0\" class=\"col_heading level0 col0\" >Model</th>\n",
       "      <th id=\"T_af583_level0_col1\" class=\"col_heading level0 col1\" >MAE</th>\n",
       "      <th id=\"T_af583_level0_col2\" class=\"col_heading level0 col2\" >MSE</th>\n",
       "      <th id=\"T_af583_level0_col3\" class=\"col_heading level0 col3\" >RMSE</th>\n",
       "      <th id=\"T_af583_level0_col4\" class=\"col_heading level0 col4\" >R2</th>\n",
       "      <th id=\"T_af583_level0_col5\" class=\"col_heading level0 col5\" >RMSLE</th>\n",
       "      <th id=\"T_af583_level0_col6\" class=\"col_heading level0 col6\" >MAPE</th>\n",
       "      <th id=\"T_af583_level0_col7\" class=\"col_heading level0 col7\" >TT (Sec)</th>\n",
       "    </tr>\n",
       "  </thead>\n",
       "  <tbody>\n",
       "    <tr>\n",
       "      <th id=\"T_af583_level0_row0\" class=\"row_heading level0 row0\" >lr</th>\n",
       "      <td id=\"T_af583_row0_col0\" class=\"data row0 col0\" >Linear Regression</td>\n",
       "      <td id=\"T_af583_row0_col1\" class=\"data row0 col1\" >5.1225</td>\n",
       "      <td id=\"T_af583_row0_col2\" class=\"data row0 col2\" >39.7240</td>\n",
       "      <td id=\"T_af583_row0_col3\" class=\"data row0 col3\" >6.1452</td>\n",
       "      <td id=\"T_af583_row0_col4\" class=\"data row0 col4\" >0.7881</td>\n",
       "      <td id=\"T_af583_row0_col5\" class=\"data row0 col5\" >0.1071</td>\n",
       "      <td id=\"T_af583_row0_col6\" class=\"data row0 col6\" >0.0866</td>\n",
       "      <td id=\"T_af583_row0_col7\" class=\"data row0 col7\" >0.0133</td>\n",
       "    </tr>\n",
       "    <tr>\n",
       "      <th id=\"T_af583_level0_row1\" class=\"row_heading level0 row1\" >lar</th>\n",
       "      <td id=\"T_af583_row1_col0\" class=\"data row1 col0\" >Least Angle Regression</td>\n",
       "      <td id=\"T_af583_row1_col1\" class=\"data row1 col1\" >5.1238</td>\n",
       "      <td id=\"T_af583_row1_col2\" class=\"data row1 col2\" >39.7465</td>\n",
       "      <td id=\"T_af583_row1_col3\" class=\"data row1 col3\" >6.1465</td>\n",
       "      <td id=\"T_af583_row1_col4\" class=\"data row1 col4\" >0.7880</td>\n",
       "      <td id=\"T_af583_row1_col5\" class=\"data row1 col5\" >0.1071</td>\n",
       "      <td id=\"T_af583_row1_col6\" class=\"data row1 col6\" >0.0867</td>\n",
       "      <td id=\"T_af583_row1_col7\" class=\"data row1 col7\" >0.0367</td>\n",
       "    </tr>\n",
       "    <tr>\n",
       "      <th id=\"T_af583_level0_row2\" class=\"row_heading level0 row2\" >huber</th>\n",
       "      <td id=\"T_af583_row2_col0\" class=\"data row2 col0\" >Huber Regressor</td>\n",
       "      <td id=\"T_af583_row2_col1\" class=\"data row2 col1\" >5.2833</td>\n",
       "      <td id=\"T_af583_row2_col2\" class=\"data row2 col2\" >44.8232</td>\n",
       "      <td id=\"T_af583_row2_col3\" class=\"data row2 col3\" >6.4238</td>\n",
       "      <td id=\"T_af583_row2_col4\" class=\"data row2 col4\" >0.7592</td>\n",
       "      <td id=\"T_af583_row2_col5\" class=\"data row2 col5\" >0.1123</td>\n",
       "      <td id=\"T_af583_row2_col6\" class=\"data row2 col6\" >0.0893</td>\n",
       "      <td id=\"T_af583_row2_col7\" class=\"data row2 col7\" >0.0300</td>\n",
       "    </tr>\n",
       "    <tr>\n",
       "      <th id=\"T_af583_level0_row3\" class=\"row_heading level0 row3\" >xgboost</th>\n",
       "      <td id=\"T_af583_row3_col0\" class=\"data row3 col0\" >Extreme Gradient Boosting</td>\n",
       "      <td id=\"T_af583_row3_col1\" class=\"data row3 col1\" >5.6043</td>\n",
       "      <td id=\"T_af583_row3_col2\" class=\"data row3 col2\" >44.8085</td>\n",
       "      <td id=\"T_af583_row3_col3\" class=\"data row3 col3\" >6.6934</td>\n",
       "      <td id=\"T_af583_row3_col4\" class=\"data row3 col4\" >0.7672</td>\n",
       "      <td id=\"T_af583_row3_col5\" class=\"data row3 col5\" >0.1139</td>\n",
       "      <td id=\"T_af583_row3_col6\" class=\"data row3 col6\" >0.0926</td>\n",
       "      <td id=\"T_af583_row3_col7\" class=\"data row3 col7\" >0.0767</td>\n",
       "    </tr>\n",
       "    <tr>\n",
       "      <th id=\"T_af583_level0_row4\" class=\"row_heading level0 row4\" >gbr</th>\n",
       "      <td id=\"T_af583_row4_col0\" class=\"data row4 col0\" >Gradient Boosting Regressor</td>\n",
       "      <td id=\"T_af583_row4_col1\" class=\"data row4 col1\" >5.6079</td>\n",
       "      <td id=\"T_af583_row4_col2\" class=\"data row4 col2\" >49.8149</td>\n",
       "      <td id=\"T_af583_row4_col3\" class=\"data row4 col3\" >7.0497</td>\n",
       "      <td id=\"T_af583_row4_col4\" class=\"data row4 col4\" >0.7399</td>\n",
       "      <td id=\"T_af583_row4_col5\" class=\"data row4 col5\" >0.1186</td>\n",
       "      <td id=\"T_af583_row4_col6\" class=\"data row4 col6\" >0.0931</td>\n",
       "      <td id=\"T_af583_row4_col7\" class=\"data row4 col7\" >0.0467</td>\n",
       "    </tr>\n",
       "    <tr>\n",
       "      <th id=\"T_af583_level0_row5\" class=\"row_heading level0 row5\" >ridge</th>\n",
       "      <td id=\"T_af583_row5_col0\" class=\"data row5 col0\" >Ridge Regression</td>\n",
       "      <td id=\"T_af583_row5_col1\" class=\"data row5 col1\" >5.7512</td>\n",
       "      <td id=\"T_af583_row5_col2\" class=\"data row5 col2\" >52.5582</td>\n",
       "      <td id=\"T_af583_row5_col3\" class=\"data row5 col3\" >7.1057</td>\n",
       "      <td id=\"T_af583_row5_col4\" class=\"data row5 col4\" >0.7222</td>\n",
       "      <td id=\"T_af583_row5_col5\" class=\"data row5 col5\" >0.1181</td>\n",
       "      <td id=\"T_af583_row5_col6\" class=\"data row5 col6\" >0.0939</td>\n",
       "      <td id=\"T_af583_row5_col7\" class=\"data row5 col7\" >0.0333</td>\n",
       "    </tr>\n",
       "    <tr>\n",
       "      <th id=\"T_af583_level0_row6\" class=\"row_heading level0 row6\" >et</th>\n",
       "      <td id=\"T_af583_row6_col0\" class=\"data row6 col0\" >Extra Trees Regressor</td>\n",
       "      <td id=\"T_af583_row6_col1\" class=\"data row6 col1\" >5.9306</td>\n",
       "      <td id=\"T_af583_row6_col2\" class=\"data row6 col2\" >53.6599</td>\n",
       "      <td id=\"T_af583_row6_col3\" class=\"data row6 col3\" >7.2319</td>\n",
       "      <td id=\"T_af583_row6_col4\" class=\"data row6 col4\" >0.7184</td>\n",
       "      <td id=\"T_af583_row6_col5\" class=\"data row6 col5\" >0.1235</td>\n",
       "      <td id=\"T_af583_row6_col6\" class=\"data row6 col6\" >0.0998</td>\n",
       "      <td id=\"T_af583_row6_col7\" class=\"data row6 col7\" >0.1633</td>\n",
       "    </tr>\n",
       "    <tr>\n",
       "      <th id=\"T_af583_level0_row7\" class=\"row_heading level0 row7\" >dt</th>\n",
       "      <td id=\"T_af583_row7_col0\" class=\"data row7 col0\" >Decision Tree Regressor</td>\n",
       "      <td id=\"T_af583_row7_col1\" class=\"data row7 col1\" >6.3375</td>\n",
       "      <td id=\"T_af583_row7_col2\" class=\"data row7 col2\" >58.8534</td>\n",
       "      <td id=\"T_af583_row7_col3\" class=\"data row7 col3\" >7.6101</td>\n",
       "      <td id=\"T_af583_row7_col4\" class=\"data row7 col4\" >0.6924</td>\n",
       "      <td id=\"T_af583_row7_col5\" class=\"data row7 col5\" >0.1288</td>\n",
       "      <td id=\"T_af583_row7_col6\" class=\"data row7 col6\" >0.1058</td>\n",
       "      <td id=\"T_af583_row7_col7\" class=\"data row7 col7\" >0.0167</td>\n",
       "    </tr>\n",
       "    <tr>\n",
       "      <th id=\"T_af583_level0_row8\" class=\"row_heading level0 row8\" >rf</th>\n",
       "      <td id=\"T_af583_row8_col0\" class=\"data row8 col0\" >Random Forest Regressor</td>\n",
       "      <td id=\"T_af583_row8_col1\" class=\"data row8 col1\" >6.2549</td>\n",
       "      <td id=\"T_af583_row8_col2\" class=\"data row8 col2\" >66.0732</td>\n",
       "      <td id=\"T_af583_row8_col3\" class=\"data row8 col3\" >7.8171</td>\n",
       "      <td id=\"T_af583_row8_col4\" class=\"data row8 col4\" >0.6592</td>\n",
       "      <td id=\"T_af583_row8_col5\" class=\"data row8 col5\" >0.1290</td>\n",
       "      <td id=\"T_af583_row8_col6\" class=\"data row8 col6\" >0.1015</td>\n",
       "      <td id=\"T_af583_row8_col7\" class=\"data row8 col7\" >0.1400</td>\n",
       "    </tr>\n",
       "    <tr>\n",
       "      <th id=\"T_af583_level0_row9\" class=\"row_heading level0 row9\" >ada</th>\n",
       "      <td id=\"T_af583_row9_col0\" class=\"data row9 col0\" >AdaBoost Regressor</td>\n",
       "      <td id=\"T_af583_row9_col1\" class=\"data row9 col1\" >7.0224</td>\n",
       "      <td id=\"T_af583_row9_col2\" class=\"data row9 col2\" >75.1319</td>\n",
       "      <td id=\"T_af583_row9_col3\" class=\"data row9 col3\" >8.4876</td>\n",
       "      <td id=\"T_af583_row9_col4\" class=\"data row9 col4\" >0.6136</td>\n",
       "      <td id=\"T_af583_row9_col5\" class=\"data row9 col5\" >0.1394</td>\n",
       "      <td id=\"T_af583_row9_col6\" class=\"data row9 col6\" >0.1147</td>\n",
       "      <td id=\"T_af583_row9_col7\" class=\"data row9 col7\" >0.0733</td>\n",
       "    </tr>\n",
       "    <tr>\n",
       "      <th id=\"T_af583_level0_row10\" class=\"row_heading level0 row10\" >catboost</th>\n",
       "      <td id=\"T_af583_row10_col0\" class=\"data row10 col0\" >CatBoost Regressor</td>\n",
       "      <td id=\"T_af583_row10_col1\" class=\"data row10 col1\" >7.4344</td>\n",
       "      <td id=\"T_af583_row10_col2\" class=\"data row10 col2\" >91.3552</td>\n",
       "      <td id=\"T_af583_row10_col3\" class=\"data row10 col3\" >9.3206</td>\n",
       "      <td id=\"T_af583_row10_col4\" class=\"data row10 col4\" >0.5315</td>\n",
       "      <td id=\"T_af583_row10_col5\" class=\"data row10 col5\" >0.1596</td>\n",
       "      <td id=\"T_af583_row10_col6\" class=\"data row10 col6\" >0.1272</td>\n",
       "      <td id=\"T_af583_row10_col7\" class=\"data row10 col7\" >0.2833</td>\n",
       "    </tr>\n",
       "    <tr>\n",
       "      <th id=\"T_af583_level0_row11\" class=\"row_heading level0 row11\" >lasso</th>\n",
       "      <td id=\"T_af583_row11_col0\" class=\"data row11 col0\" >Lasso Regression</td>\n",
       "      <td id=\"T_af583_row11_col1\" class=\"data row11 col1\" >9.2318</td>\n",
       "      <td id=\"T_af583_row11_col2\" class=\"data row11 col2\" >124.1969</td>\n",
       "      <td id=\"T_af583_row11_col3\" class=\"data row11 col3\" >11.1151</td>\n",
       "      <td id=\"T_af583_row11_col4\" class=\"data row11 col4\" >0.3555</td>\n",
       "      <td id=\"T_af583_row11_col5\" class=\"data row11 col5\" >0.1834</td>\n",
       "      <td id=\"T_af583_row11_col6\" class=\"data row11 col6\" >0.1539</td>\n",
       "      <td id=\"T_af583_row11_col7\" class=\"data row11 col7\" >0.0200</td>\n",
       "    </tr>\n",
       "    <tr>\n",
       "      <th id=\"T_af583_level0_row12\" class=\"row_heading level0 row12\" >omp</th>\n",
       "      <td id=\"T_af583_row12_col0\" class=\"data row12 col0\" >Orthogonal Matching Pursuit</td>\n",
       "      <td id=\"T_af583_row12_col1\" class=\"data row12 col1\" >10.1328</td>\n",
       "      <td id=\"T_af583_row12_col2\" class=\"data row12 col2\" >148.2453</td>\n",
       "      <td id=\"T_af583_row12_col3\" class=\"data row12 col3\" >12.1635</td>\n",
       "      <td id=\"T_af583_row12_col4\" class=\"data row12 col4\" >0.2265</td>\n",
       "      <td id=\"T_af583_row12_col5\" class=\"data row12 col5\" >0.2053</td>\n",
       "      <td id=\"T_af583_row12_col6\" class=\"data row12 col6\" >0.1754</td>\n",
       "      <td id=\"T_af583_row12_col7\" class=\"data row12 col7\" >0.0133</td>\n",
       "    </tr>\n",
       "    <tr>\n",
       "      <th id=\"T_af583_level0_row13\" class=\"row_heading level0 row13\" >llar</th>\n",
       "      <td id=\"T_af583_row13_col0\" class=\"data row13 col0\" >Lasso Least Angle Regression</td>\n",
       "      <td id=\"T_af583_row13_col1\" class=\"data row13 col1\" >10.6584</td>\n",
       "      <td id=\"T_af583_row13_col2\" class=\"data row13 col2\" >156.1435</td>\n",
       "      <td id=\"T_af583_row13_col3\" class=\"data row13 col3\" >12.4561</td>\n",
       "      <td id=\"T_af583_row13_col4\" class=\"data row13 col4\" >0.1903</td>\n",
       "      <td id=\"T_af583_row13_col5\" class=\"data row13 col5\" >0.2112</td>\n",
       "      <td id=\"T_af583_row13_col6\" class=\"data row13 col6\" >0.1858</td>\n",
       "      <td id=\"T_af583_row13_col7\" class=\"data row13 col7\" >0.0167</td>\n",
       "    </tr>\n",
       "    <tr>\n",
       "      <th id=\"T_af583_level0_row14\" class=\"row_heading level0 row14\" >dummy</th>\n",
       "      <td id=\"T_af583_row14_col0\" class=\"data row14 col0\" >Dummy Regressor</td>\n",
       "      <td id=\"T_af583_row14_col1\" class=\"data row14 col1\" >12.3268</td>\n",
       "      <td id=\"T_af583_row14_col2\" class=\"data row14 col2\" >207.7817</td>\n",
       "      <td id=\"T_af583_row14_col3\" class=\"data row14 col3\" >14.4146</td>\n",
       "      <td id=\"T_af583_row14_col4\" class=\"data row14 col4\" >-0.0791</td>\n",
       "      <td id=\"T_af583_row14_col5\" class=\"data row14 col5\" >0.2477</td>\n",
       "      <td id=\"T_af583_row14_col6\" class=\"data row14 col6\" >0.2193</td>\n",
       "      <td id=\"T_af583_row14_col7\" class=\"data row14 col7\" >0.0133</td>\n",
       "    </tr>\n",
       "    <tr>\n",
       "      <th id=\"T_af583_level0_row15\" class=\"row_heading level0 row15\" >br</th>\n",
       "      <td id=\"T_af583_row15_col0\" class=\"data row15 col0\" >Bayesian Ridge</td>\n",
       "      <td id=\"T_af583_row15_col1\" class=\"data row15 col1\" >12.3459</td>\n",
       "      <td id=\"T_af583_row15_col2\" class=\"data row15 col2\" >211.4604</td>\n",
       "      <td id=\"T_af583_row15_col3\" class=\"data row15 col3\" >14.5407</td>\n",
       "      <td id=\"T_af583_row15_col4\" class=\"data row15 col4\" >-0.0970</td>\n",
       "      <td id=\"T_af583_row15_col5\" class=\"data row15 col5\" >0.2505</td>\n",
       "      <td id=\"T_af583_row15_col6\" class=\"data row15 col6\" >0.2220</td>\n",
       "      <td id=\"T_af583_row15_col7\" class=\"data row15 col7\" >0.0200</td>\n",
       "    </tr>\n",
       "    <tr>\n",
       "      <th id=\"T_af583_level0_row16\" class=\"row_heading level0 row16\" >en</th>\n",
       "      <td id=\"T_af583_row16_col0\" class=\"data row16 col0\" >Elastic Net</td>\n",
       "      <td id=\"T_af583_row16_col1\" class=\"data row16 col1\" >12.4434</td>\n",
       "      <td id=\"T_af583_row16_col2\" class=\"data row16 col2\" >219.5265</td>\n",
       "      <td id=\"T_af583_row16_col3\" class=\"data row16 col3\" >14.7646</td>\n",
       "      <td id=\"T_af583_row16_col4\" class=\"data row16 col4\" >-0.1328</td>\n",
       "      <td id=\"T_af583_row16_col5\" class=\"data row16 col5\" >0.2503</td>\n",
       "      <td id=\"T_af583_row16_col6\" class=\"data row16 col6\" >0.2165</td>\n",
       "      <td id=\"T_af583_row16_col7\" class=\"data row16 col7\" >0.0300</td>\n",
       "    </tr>\n",
       "    <tr>\n",
       "      <th id=\"T_af583_level0_row17\" class=\"row_heading level0 row17\" >lightgbm</th>\n",
       "      <td id=\"T_af583_row17_col0\" class=\"data row17 col0\" >Light Gradient Boosting Machine</td>\n",
       "      <td id=\"T_af583_row17_col1\" class=\"data row17 col1\" >12.4208</td>\n",
       "      <td id=\"T_af583_row17_col2\" class=\"data row17 col2\" >218.2793</td>\n",
       "      <td id=\"T_af583_row17_col3\" class=\"data row17 col3\" >14.7661</td>\n",
       "      <td id=\"T_af583_row17_col4\" class=\"data row17 col4\" >-0.1303</td>\n",
       "      <td id=\"T_af583_row17_col5\" class=\"data row17 col5\" >0.2546</td>\n",
       "      <td id=\"T_af583_row17_col6\" class=\"data row17 col6\" >0.2260</td>\n",
       "      <td id=\"T_af583_row17_col7\" class=\"data row17 col7\" >0.0200</td>\n",
       "    </tr>\n",
       "    <tr>\n",
       "      <th id=\"T_af583_level0_row18\" class=\"row_heading level0 row18\" >knn</th>\n",
       "      <td id=\"T_af583_row18_col0\" class=\"data row18 col0\" >K Neighbors Regressor</td>\n",
       "      <td id=\"T_af583_row18_col1\" class=\"data row18 col1\" >13.9393</td>\n",
       "      <td id=\"T_af583_row18_col2\" class=\"data row18 col2\" >300.4052</td>\n",
       "      <td id=\"T_af583_row18_col3\" class=\"data row18 col3\" >17.1377</td>\n",
       "      <td id=\"T_af583_row18_col4\" class=\"data row18 col4\" >-0.5369</td>\n",
       "      <td id=\"T_af583_row18_col5\" class=\"data row18 col5\" >0.2933</td>\n",
       "      <td id=\"T_af583_row18_col6\" class=\"data row18 col6\" >0.2540</td>\n",
       "      <td id=\"T_af583_row18_col7\" class=\"data row18 col7\" >0.0200</td>\n",
       "    </tr>\n",
       "    <tr>\n",
       "      <th id=\"T_af583_level0_row19\" class=\"row_heading level0 row19\" >par</th>\n",
       "      <td id=\"T_af583_row19_col0\" class=\"data row19 col0\" >Passive Aggressive Regressor</td>\n",
       "      <td id=\"T_af583_row19_col1\" class=\"data row19 col1\" >24.2661</td>\n",
       "      <td id=\"T_af583_row19_col2\" class=\"data row19 col2\" >794.5881</td>\n",
       "      <td id=\"T_af583_row19_col3\" class=\"data row19 col3\" >26.7947</td>\n",
       "      <td id=\"T_af583_row19_col4\" class=\"data row19 col4\" >-3.0185</td>\n",
       "      <td id=\"T_af583_row19_col5\" class=\"data row19 col5\" >0.5152</td>\n",
       "      <td id=\"T_af583_row19_col6\" class=\"data row19 col6\" >0.3679</td>\n",
       "      <td id=\"T_af583_row19_col7\" class=\"data row19 col7\" >0.0233</td>\n",
       "    </tr>\n",
       "  </tbody>\n",
       "</table>\n"
      ],
      "text/plain": [
       "<pandas.io.formats.style.Styler at 0x175ed644ca0>"
      ]
     },
     "metadata": {},
     "output_type": "display_data"
    }
   ],
   "source": [
    "best = compare_models(sort = 'RMSE')"
   ]
  },
  {
   "cell_type": "code",
   "execution_count": 96,
   "id": "777951a5",
   "metadata": {},
   "outputs": [
    {
     "data": {
      "application/vnd.plotly.v1+json": {
       "config": {
        "plotlyServerURL": "https://plot.ly"
       },
       "data": [
        {
         "hovertemplate": "variable=AvgWindspeed<br>Date=%{x}<br>value=%{y}<extra></extra>",
         "legendgroup": "AvgWindspeed",
         "line": {
          "color": "#636efa",
          "dash": "solid"
         },
         "marker": {
          "symbol": "circle"
         },
         "mode": "lines",
         "name": "AvgWindspeed",
         "orientation": "v",
         "showlegend": true,
         "type": "scatter",
         "x": [
          "2016-01-01T00:00:00",
          "2016-02-01T00:00:00",
          "2016-03-01T00:00:00",
          "2016-04-01T00:00:00",
          "2016-05-01T00:00:00",
          "2016-06-01T00:00:00",
          "2016-07-01T00:00:00",
          "2016-08-01T00:00:00",
          "2016-09-01T00:00:00",
          "2016-10-01T00:00:00",
          "2016-11-01T00:00:00",
          "2016-12-01T00:00:00",
          "2017-01-01T00:00:00",
          "2017-02-01T00:00:00",
          "2017-03-01T00:00:00",
          "2017-04-01T00:00:00",
          "2017-05-01T00:00:00",
          "2017-06-01T00:00:00",
          "2017-07-01T00:00:00",
          "2017-08-01T00:00:00",
          "2017-09-01T00:00:00",
          "2017-10-01T00:00:00",
          "2017-11-01T00:00:00",
          "2017-12-01T00:00:00",
          "2018-01-01T00:00:00",
          "2018-02-01T00:00:00",
          "2018-03-01T00:00:00",
          "2018-04-01T00:00:00",
          "2018-05-01T00:00:00",
          "2018-06-01T00:00:00",
          "2018-07-01T00:00:00",
          "2018-08-01T00:00:00",
          "2018-09-01T00:00:00",
          "2018-10-01T00:00:00",
          "2018-11-01T00:00:00",
          "2018-12-01T00:00:00",
          "2019-01-01T00:00:00",
          "2019-02-01T00:00:00",
          "2019-03-01T00:00:00",
          "2019-04-01T00:00:00",
          "2019-05-01T00:00:00",
          "2019-06-01T00:00:00",
          "2019-07-01T00:00:00",
          "2019-08-01T00:00:00",
          "2019-09-01T00:00:00",
          "2019-10-01T00:00:00",
          "2019-11-01T00:00:00",
          "2019-12-01T00:00:00",
          "2020-01-01T00:00:00",
          "2020-02-01T00:00:00",
          "2020-03-01T00:00:00",
          "2020-04-01T00:00:00",
          "2020-05-01T00:00:00",
          "2020-06-01T00:00:00",
          "2020-07-01T00:00:00",
          "2020-08-01T00:00:00",
          "2020-09-01T00:00:00",
          "2020-10-01T00:00:00",
          "2020-11-01T00:00:00",
          "2020-12-01T00:00:00",
          "2021-01-01T00:00:00",
          "2021-02-01T00:00:00",
          "2021-03-01T00:00:00",
          "2021-04-01T00:00:00",
          "2021-05-01T00:00:00",
          "2021-06-01T00:00:00",
          "2021-07-01T00:00:00",
          "2021-08-01T00:00:00",
          "2021-09-01T00:00:00",
          "2021-10-01T00:00:00",
          "2021-11-01T00:00:00",
          "2021-12-01T00:00:00",
          "2022-01-01T00:00:00",
          "2022-02-01T00:00:00",
          "2022-03-01T00:00:00",
          "2022-04-01T00:00:00",
          "2022-05-01T00:00:00",
          "2022-06-01T00:00:00"
         ],
         "xaxis": "x",
         "y": [
          11.865077419354837,
          15.379820689655174,
          16.59865161290322,
          19.206096666666667,
          21.181706451612904,
          23.845379999999995,
          16.33394516129032,
          15.015603225806448,
          14.502453333333333,
          15.342593548387102,
          13.07580666666667,
          12.835667741935485,
          14.621138709677421,
          18.0208,
          27.197290322580642,
          22.129113333333333,
          19.344332258064515,
          20.262673333333325,
          17.13325483870968,
          17.47062580645161,
          15.188960000000002,
          12.669577419354844,
          13.263523333333337,
          14.361622580645157,
          15.71935483870968,
          18.75,
          20.44516129032258,
          26.639999999999993,
          22.58709677419354,
          22.63666666666667,
          18.732258064516127,
          16.62903225806452,
          17.87,
          11.996774193548386,
          12.466666666666667,
          12.319354838709678,
          16.925806451612903,
          17.960714285714285,
          16.687096774193556,
          17.736666666666668,
          20.5741935483871,
          18.83,
          17.703225806451616,
          14.138709677419357,
          14.326666666666664,
          12.122580645161289,
          13.699999999999998,
          12.790322580645162,
          14.880645161290321,
          19.57931034482759,
          17.445161290322577,
          16.843333333333337,
          19.79032258064516,
          18.15,
          15.874193548387098,
          16.512903225806454,
          13.216666666666667,
          10.883870967741936,
          11.456666666666669,
          12.519354838709674,
          14.593548387096773,
          12.925000000000002,
          18.68387096774193,
          19.7,
          20.667741935483868,
          19.540000000000003,
          18.258064516129036,
          17.299999999999997,
          15.653333333333338,
          15.716129032258063,
          10.989999999999998,
          12.63548387096774,
          14.274193548387096,
          15.696428571428573,
          16.97741935483871,
          18.66333333333333,
          20.712903225806453,
          24.605263157894733
         ],
         "yaxis": "y"
        },
        {
         "hovertemplate": "variable=Label<br>Date=%{x}<br>value=%{y}<extra></extra>",
         "legendgroup": "Label",
         "line": {
          "color": "#EF553B",
          "dash": "solid"
         },
         "marker": {
          "symbol": "circle"
         },
         "mode": "lines",
         "name": "Label",
         "orientation": "v",
         "showlegend": true,
         "type": "scatter",
         "x": [
          "2016-01-01T00:00:00",
          "2016-02-01T00:00:00",
          "2016-03-01T00:00:00",
          "2016-04-01T00:00:00",
          "2016-05-01T00:00:00",
          "2016-06-01T00:00:00",
          "2016-07-01T00:00:00",
          "2016-08-01T00:00:00",
          "2016-09-01T00:00:00",
          "2016-10-01T00:00:00",
          "2016-11-01T00:00:00",
          "2016-12-01T00:00:00",
          "2017-01-01T00:00:00",
          "2017-02-01T00:00:00",
          "2017-03-01T00:00:00",
          "2017-04-01T00:00:00",
          "2017-05-01T00:00:00",
          "2017-06-01T00:00:00",
          "2017-07-01T00:00:00",
          "2017-08-01T00:00:00",
          "2017-09-01T00:00:00",
          "2017-10-01T00:00:00",
          "2017-11-01T00:00:00",
          "2017-12-01T00:00:00",
          "2018-01-01T00:00:00",
          "2018-02-01T00:00:00",
          "2018-03-01T00:00:00",
          "2018-04-01T00:00:00",
          "2018-05-01T00:00:00",
          "2018-06-01T00:00:00",
          "2018-07-01T00:00:00",
          "2018-08-01T00:00:00",
          "2018-09-01T00:00:00",
          "2018-10-01T00:00:00",
          "2018-11-01T00:00:00",
          "2018-12-01T00:00:00",
          "2019-01-01T00:00:00",
          "2019-02-01T00:00:00",
          "2019-03-01T00:00:00",
          "2019-04-01T00:00:00",
          "2019-05-01T00:00:00",
          "2019-06-01T00:00:00",
          "2019-07-01T00:00:00",
          "2019-08-01T00:00:00",
          "2019-09-01T00:00:00",
          "2019-10-01T00:00:00",
          "2019-11-01T00:00:00",
          "2019-12-01T00:00:00",
          "2020-01-01T00:00:00",
          "2020-02-01T00:00:00",
          "2020-03-01T00:00:00",
          "2020-04-01T00:00:00",
          "2020-05-01T00:00:00",
          "2020-06-01T00:00:00",
          "2020-07-01T00:00:00",
          "2020-08-01T00:00:00",
          "2020-09-01T00:00:00",
          "2020-10-01T00:00:00",
          "2020-11-01T00:00:00",
          "2020-12-01T00:00:00",
          "2021-01-01T00:00:00",
          "2021-02-01T00:00:00",
          "2021-03-01T00:00:00",
          "2021-04-01T00:00:00",
          "2021-05-01T00:00:00",
          "2021-06-01T00:00:00",
          "2021-07-01T00:00:00",
          "2021-08-01T00:00:00",
          "2021-09-01T00:00:00",
          "2021-10-01T00:00:00",
          "2021-11-01T00:00:00",
          "2021-12-01T00:00:00",
          "2022-01-01T00:00:00",
          "2022-02-01T00:00:00",
          "2022-03-01T00:00:00",
          "2022-04-01T00:00:00",
          "2022-05-01T00:00:00",
          "2022-06-01T00:00:00"
         ],
         "xaxis": "x",
         "y": [
          76.703125,
          66.515625,
          54.359375,
          33.9375,
          38.15625,
          51.5,
          73.421875,
          76.546875,
          70.59375,
          57.734375,
          61.390625,
          71.921875,
          77.671875,
          67.46875,
          55.328125,
          34.90625,
          39.125,
          52.46875,
          74.375,
          77.5,
          71.5625,
          58.703125,
          62.359375,
          72.890625,
          78.625,
          68.4375,
          56.296875,
          35.875,
          40.09375,
          53.421875,
          75.34375,
          78.46875,
          72.53125,
          59.671875,
          63.3125,
          73.84375,
          79.59375,
          69.40625,
          57.265625,
          36.84375,
          41.046875,
          54.390625,
          76.3125,
          79.4375,
          73.5,
          60.625,
          64.28125,
          74.8125,
          80.5625,
          70.375,
          58.21875,
          37.796875,
          42.015625,
          55.359375,
          77.28125,
          80.40625,
          74.453125,
          61.59375,
          65.25,
          75.78125,
          81.53125,
          71.328125,
          59.1875,
          38.765625,
          42.984375,
          56.328125,
          78.234375,
          81.359375,
          75.421875,
          62.5625,
          66.21875,
          76.75,
          82.484375,
          72.296875,
          60.15625,
          39.734375,
          43.953125,
          57.28125
         ],
         "yaxis": "y"
        }
       ],
       "layout": {
        "legend": {
         "title": {
          "text": "variable"
         },
         "tracegroupgap": 0
        },
        "margin": {
         "t": 60
        },
        "shapes": [
         {
          "fillcolor": "grey",
          "line": {
           "width": 0
          },
          "opacity": 0.25,
          "type": "rect",
          "x0": "2021-06-01",
          "x1": "2022-06-01",
          "xref": "x",
          "y0": 0,
          "y1": 1,
          "yref": "y domain"
         }
        ],
        "template": {
         "data": {
          "bar": [
           {
            "error_x": {
             "color": "#f2f5fa"
            },
            "error_y": {
             "color": "#f2f5fa"
            },
            "marker": {
             "line": {
              "color": "rgb(17,17,17)",
              "width": 0.5
             },
             "pattern": {
              "fillmode": "overlay",
              "size": 10,
              "solidity": 0.2
             }
            },
            "type": "bar"
           }
          ],
          "barpolar": [
           {
            "marker": {
             "line": {
              "color": "rgb(17,17,17)",
              "width": 0.5
             },
             "pattern": {
              "fillmode": "overlay",
              "size": 10,
              "solidity": 0.2
             }
            },
            "type": "barpolar"
           }
          ],
          "carpet": [
           {
            "aaxis": {
             "endlinecolor": "#A2B1C6",
             "gridcolor": "#506784",
             "linecolor": "#506784",
             "minorgridcolor": "#506784",
             "startlinecolor": "#A2B1C6"
            },
            "baxis": {
             "endlinecolor": "#A2B1C6",
             "gridcolor": "#506784",
             "linecolor": "#506784",
             "minorgridcolor": "#506784",
             "startlinecolor": "#A2B1C6"
            },
            "type": "carpet"
           }
          ],
          "choropleth": [
           {
            "colorbar": {
             "outlinewidth": 0,
             "ticks": ""
            },
            "type": "choropleth"
           }
          ],
          "contour": [
           {
            "colorbar": {
             "outlinewidth": 0,
             "ticks": ""
            },
            "colorscale": [
             [
              0,
              "#0d0887"
             ],
             [
              0.1111111111111111,
              "#46039f"
             ],
             [
              0.2222222222222222,
              "#7201a8"
             ],
             [
              0.3333333333333333,
              "#9c179e"
             ],
             [
              0.4444444444444444,
              "#bd3786"
             ],
             [
              0.5555555555555556,
              "#d8576b"
             ],
             [
              0.6666666666666666,
              "#ed7953"
             ],
             [
              0.7777777777777778,
              "#fb9f3a"
             ],
             [
              0.8888888888888888,
              "#fdca26"
             ],
             [
              1,
              "#f0f921"
             ]
            ],
            "type": "contour"
           }
          ],
          "contourcarpet": [
           {
            "colorbar": {
             "outlinewidth": 0,
             "ticks": ""
            },
            "type": "contourcarpet"
           }
          ],
          "heatmap": [
           {
            "colorbar": {
             "outlinewidth": 0,
             "ticks": ""
            },
            "colorscale": [
             [
              0,
              "#0d0887"
             ],
             [
              0.1111111111111111,
              "#46039f"
             ],
             [
              0.2222222222222222,
              "#7201a8"
             ],
             [
              0.3333333333333333,
              "#9c179e"
             ],
             [
              0.4444444444444444,
              "#bd3786"
             ],
             [
              0.5555555555555556,
              "#d8576b"
             ],
             [
              0.6666666666666666,
              "#ed7953"
             ],
             [
              0.7777777777777778,
              "#fb9f3a"
             ],
             [
              0.8888888888888888,
              "#fdca26"
             ],
             [
              1,
              "#f0f921"
             ]
            ],
            "type": "heatmap"
           }
          ],
          "heatmapgl": [
           {
            "colorbar": {
             "outlinewidth": 0,
             "ticks": ""
            },
            "colorscale": [
             [
              0,
              "#0d0887"
             ],
             [
              0.1111111111111111,
              "#46039f"
             ],
             [
              0.2222222222222222,
              "#7201a8"
             ],
             [
              0.3333333333333333,
              "#9c179e"
             ],
             [
              0.4444444444444444,
              "#bd3786"
             ],
             [
              0.5555555555555556,
              "#d8576b"
             ],
             [
              0.6666666666666666,
              "#ed7953"
             ],
             [
              0.7777777777777778,
              "#fb9f3a"
             ],
             [
              0.8888888888888888,
              "#fdca26"
             ],
             [
              1,
              "#f0f921"
             ]
            ],
            "type": "heatmapgl"
           }
          ],
          "histogram": [
           {
            "marker": {
             "pattern": {
              "fillmode": "overlay",
              "size": 10,
              "solidity": 0.2
             }
            },
            "type": "histogram"
           }
          ],
          "histogram2d": [
           {
            "colorbar": {
             "outlinewidth": 0,
             "ticks": ""
            },
            "colorscale": [
             [
              0,
              "#0d0887"
             ],
             [
              0.1111111111111111,
              "#46039f"
             ],
             [
              0.2222222222222222,
              "#7201a8"
             ],
             [
              0.3333333333333333,
              "#9c179e"
             ],
             [
              0.4444444444444444,
              "#bd3786"
             ],
             [
              0.5555555555555556,
              "#d8576b"
             ],
             [
              0.6666666666666666,
              "#ed7953"
             ],
             [
              0.7777777777777778,
              "#fb9f3a"
             ],
             [
              0.8888888888888888,
              "#fdca26"
             ],
             [
              1,
              "#f0f921"
             ]
            ],
            "type": "histogram2d"
           }
          ],
          "histogram2dcontour": [
           {
            "colorbar": {
             "outlinewidth": 0,
             "ticks": ""
            },
            "colorscale": [
             [
              0,
              "#0d0887"
             ],
             [
              0.1111111111111111,
              "#46039f"
             ],
             [
              0.2222222222222222,
              "#7201a8"
             ],
             [
              0.3333333333333333,
              "#9c179e"
             ],
             [
              0.4444444444444444,
              "#bd3786"
             ],
             [
              0.5555555555555556,
              "#d8576b"
             ],
             [
              0.6666666666666666,
              "#ed7953"
             ],
             [
              0.7777777777777778,
              "#fb9f3a"
             ],
             [
              0.8888888888888888,
              "#fdca26"
             ],
             [
              1,
              "#f0f921"
             ]
            ],
            "type": "histogram2dcontour"
           }
          ],
          "mesh3d": [
           {
            "colorbar": {
             "outlinewidth": 0,
             "ticks": ""
            },
            "type": "mesh3d"
           }
          ],
          "parcoords": [
           {
            "line": {
             "colorbar": {
              "outlinewidth": 0,
              "ticks": ""
             }
            },
            "type": "parcoords"
           }
          ],
          "pie": [
           {
            "automargin": true,
            "type": "pie"
           }
          ],
          "scatter": [
           {
            "marker": {
             "line": {
              "color": "#283442"
             }
            },
            "type": "scatter"
           }
          ],
          "scatter3d": [
           {
            "line": {
             "colorbar": {
              "outlinewidth": 0,
              "ticks": ""
             }
            },
            "marker": {
             "colorbar": {
              "outlinewidth": 0,
              "ticks": ""
             }
            },
            "type": "scatter3d"
           }
          ],
          "scattercarpet": [
           {
            "marker": {
             "colorbar": {
              "outlinewidth": 0,
              "ticks": ""
             }
            },
            "type": "scattercarpet"
           }
          ],
          "scattergeo": [
           {
            "marker": {
             "colorbar": {
              "outlinewidth": 0,
              "ticks": ""
             }
            },
            "type": "scattergeo"
           }
          ],
          "scattergl": [
           {
            "marker": {
             "line": {
              "color": "#283442"
             }
            },
            "type": "scattergl"
           }
          ],
          "scattermapbox": [
           {
            "marker": {
             "colorbar": {
              "outlinewidth": 0,
              "ticks": ""
             }
            },
            "type": "scattermapbox"
           }
          ],
          "scatterpolar": [
           {
            "marker": {
             "colorbar": {
              "outlinewidth": 0,
              "ticks": ""
             }
            },
            "type": "scatterpolar"
           }
          ],
          "scatterpolargl": [
           {
            "marker": {
             "colorbar": {
              "outlinewidth": 0,
              "ticks": ""
             }
            },
            "type": "scatterpolargl"
           }
          ],
          "scatterternary": [
           {
            "marker": {
             "colorbar": {
              "outlinewidth": 0,
              "ticks": ""
             }
            },
            "type": "scatterternary"
           }
          ],
          "surface": [
           {
            "colorbar": {
             "outlinewidth": 0,
             "ticks": ""
            },
            "colorscale": [
             [
              0,
              "#0d0887"
             ],
             [
              0.1111111111111111,
              "#46039f"
             ],
             [
              0.2222222222222222,
              "#7201a8"
             ],
             [
              0.3333333333333333,
              "#9c179e"
             ],
             [
              0.4444444444444444,
              "#bd3786"
             ],
             [
              0.5555555555555556,
              "#d8576b"
             ],
             [
              0.6666666666666666,
              "#ed7953"
             ],
             [
              0.7777777777777778,
              "#fb9f3a"
             ],
             [
              0.8888888888888888,
              "#fdca26"
             ],
             [
              1,
              "#f0f921"
             ]
            ],
            "type": "surface"
           }
          ],
          "table": [
           {
            "cells": {
             "fill": {
              "color": "#506784"
             },
             "line": {
              "color": "rgb(17,17,17)"
             }
            },
            "header": {
             "fill": {
              "color": "#2a3f5f"
             },
             "line": {
              "color": "rgb(17,17,17)"
             }
            },
            "type": "table"
           }
          ]
         },
         "layout": {
          "annotationdefaults": {
           "arrowcolor": "#f2f5fa",
           "arrowhead": 0,
           "arrowwidth": 1
          },
          "autotypenumbers": "strict",
          "coloraxis": {
           "colorbar": {
            "outlinewidth": 0,
            "ticks": ""
           }
          },
          "colorscale": {
           "diverging": [
            [
             0,
             "#8e0152"
            ],
            [
             0.1,
             "#c51b7d"
            ],
            [
             0.2,
             "#de77ae"
            ],
            [
             0.3,
             "#f1b6da"
            ],
            [
             0.4,
             "#fde0ef"
            ],
            [
             0.5,
             "#f7f7f7"
            ],
            [
             0.6,
             "#e6f5d0"
            ],
            [
             0.7,
             "#b8e186"
            ],
            [
             0.8,
             "#7fbc41"
            ],
            [
             0.9,
             "#4d9221"
            ],
            [
             1,
             "#276419"
            ]
           ],
           "sequential": [
            [
             0,
             "#0d0887"
            ],
            [
             0.1111111111111111,
             "#46039f"
            ],
            [
             0.2222222222222222,
             "#7201a8"
            ],
            [
             0.3333333333333333,
             "#9c179e"
            ],
            [
             0.4444444444444444,
             "#bd3786"
            ],
            [
             0.5555555555555556,
             "#d8576b"
            ],
            [
             0.6666666666666666,
             "#ed7953"
            ],
            [
             0.7777777777777778,
             "#fb9f3a"
            ],
            [
             0.8888888888888888,
             "#fdca26"
            ],
            [
             1,
             "#f0f921"
            ]
           ],
           "sequentialminus": [
            [
             0,
             "#0d0887"
            ],
            [
             0.1111111111111111,
             "#46039f"
            ],
            [
             0.2222222222222222,
             "#7201a8"
            ],
            [
             0.3333333333333333,
             "#9c179e"
            ],
            [
             0.4444444444444444,
             "#bd3786"
            ],
            [
             0.5555555555555556,
             "#d8576b"
            ],
            [
             0.6666666666666666,
             "#ed7953"
            ],
            [
             0.7777777777777778,
             "#fb9f3a"
            ],
            [
             0.8888888888888888,
             "#fdca26"
            ],
            [
             1,
             "#f0f921"
            ]
           ]
          },
          "colorway": [
           "#636efa",
           "#EF553B",
           "#00cc96",
           "#ab63fa",
           "#FFA15A",
           "#19d3f3",
           "#FF6692",
           "#B6E880",
           "#FF97FF",
           "#FECB52"
          ],
          "font": {
           "color": "#f2f5fa"
          },
          "geo": {
           "bgcolor": "rgb(17,17,17)",
           "lakecolor": "rgb(17,17,17)",
           "landcolor": "rgb(17,17,17)",
           "showlakes": true,
           "showland": true,
           "subunitcolor": "#506784"
          },
          "hoverlabel": {
           "align": "left"
          },
          "hovermode": "closest",
          "mapbox": {
           "style": "dark"
          },
          "paper_bgcolor": "rgb(17,17,17)",
          "plot_bgcolor": "rgb(17,17,17)",
          "polar": {
           "angularaxis": {
            "gridcolor": "#506784",
            "linecolor": "#506784",
            "ticks": ""
           },
           "bgcolor": "rgb(17,17,17)",
           "radialaxis": {
            "gridcolor": "#506784",
            "linecolor": "#506784",
            "ticks": ""
           }
          },
          "scene": {
           "xaxis": {
            "backgroundcolor": "rgb(17,17,17)",
            "gridcolor": "#506784",
            "gridwidth": 2,
            "linecolor": "#506784",
            "showbackground": true,
            "ticks": "",
            "zerolinecolor": "#C8D4E3"
           },
           "yaxis": {
            "backgroundcolor": "rgb(17,17,17)",
            "gridcolor": "#506784",
            "gridwidth": 2,
            "linecolor": "#506784",
            "showbackground": true,
            "ticks": "",
            "zerolinecolor": "#C8D4E3"
           },
           "zaxis": {
            "backgroundcolor": "rgb(17,17,17)",
            "gridcolor": "#506784",
            "gridwidth": 2,
            "linecolor": "#506784",
            "showbackground": true,
            "ticks": "",
            "zerolinecolor": "#C8D4E3"
           }
          },
          "shapedefaults": {
           "line": {
            "color": "#f2f5fa"
           }
          },
          "sliderdefaults": {
           "bgcolor": "#C8D4E3",
           "bordercolor": "rgb(17,17,17)",
           "borderwidth": 1,
           "tickwidth": 0
          },
          "ternary": {
           "aaxis": {
            "gridcolor": "#506784",
            "linecolor": "#506784",
            "ticks": ""
           },
           "baxis": {
            "gridcolor": "#506784",
            "linecolor": "#506784",
            "ticks": ""
           },
           "bgcolor": "rgb(17,17,17)",
           "caxis": {
            "gridcolor": "#506784",
            "linecolor": "#506784",
            "ticks": ""
           }
          },
          "title": {
           "x": 0.05
          },
          "updatemenudefaults": {
           "bgcolor": "#506784",
           "borderwidth": 0
          },
          "xaxis": {
           "automargin": true,
           "gridcolor": "#283442",
           "linecolor": "#506784",
           "ticks": "",
           "title": {
            "standoff": 15
           },
           "zerolinecolor": "#283442",
           "zerolinewidth": 2
          },
          "yaxis": {
           "automargin": true,
           "gridcolor": "#283442",
           "linecolor": "#506784",
           "ticks": "",
           "title": {
            "standoff": 15
           },
           "zerolinecolor": "#283442",
           "zerolinewidth": 2
          }
         }
        },
        "xaxis": {
         "anchor": "y",
         "domain": [
          0,
          1
         ],
         "title": {
          "text": "Date"
         }
        },
        "yaxis": {
         "anchor": "x",
         "domain": [
          0,
          1
         ],
         "title": {
          "text": "value"
         }
        }
       }
      },
      "text/html": [
       "<div>                            <div id=\"20ffb5b5-754c-4a56-af29-4ed08022d06f\" class=\"plotly-graph-div\" style=\"height:525px; width:100%;\"></div>            <script type=\"text/javascript\">                require([\"plotly\"], function(Plotly) {                    window.PLOTLYENV=window.PLOTLYENV || {};                                    if (document.getElementById(\"20ffb5b5-754c-4a56-af29-4ed08022d06f\")) {                    Plotly.newPlot(                        \"20ffb5b5-754c-4a56-af29-4ed08022d06f\",                        [{\"hovertemplate\":\"variable=AvgWindspeed<br>Date=%{x}<br>value=%{y}<extra></extra>\",\"legendgroup\":\"AvgWindspeed\",\"line\":{\"color\":\"#636efa\",\"dash\":\"solid\"},\"marker\":{\"symbol\":\"circle\"},\"mode\":\"lines\",\"name\":\"AvgWindspeed\",\"orientation\":\"v\",\"showlegend\":true,\"x\":[\"2016-01-01T00:00:00\",\"2016-02-01T00:00:00\",\"2016-03-01T00:00:00\",\"2016-04-01T00:00:00\",\"2016-05-01T00:00:00\",\"2016-06-01T00:00:00\",\"2016-07-01T00:00:00\",\"2016-08-01T00:00:00\",\"2016-09-01T00:00:00\",\"2016-10-01T00:00:00\",\"2016-11-01T00:00:00\",\"2016-12-01T00:00:00\",\"2017-01-01T00:00:00\",\"2017-02-01T00:00:00\",\"2017-03-01T00:00:00\",\"2017-04-01T00:00:00\",\"2017-05-01T00:00:00\",\"2017-06-01T00:00:00\",\"2017-07-01T00:00:00\",\"2017-08-01T00:00:00\",\"2017-09-01T00:00:00\",\"2017-10-01T00:00:00\",\"2017-11-01T00:00:00\",\"2017-12-01T00:00:00\",\"2018-01-01T00:00:00\",\"2018-02-01T00:00:00\",\"2018-03-01T00:00:00\",\"2018-04-01T00:00:00\",\"2018-05-01T00:00:00\",\"2018-06-01T00:00:00\",\"2018-07-01T00:00:00\",\"2018-08-01T00:00:00\",\"2018-09-01T00:00:00\",\"2018-10-01T00:00:00\",\"2018-11-01T00:00:00\",\"2018-12-01T00:00:00\",\"2019-01-01T00:00:00\",\"2019-02-01T00:00:00\",\"2019-03-01T00:00:00\",\"2019-04-01T00:00:00\",\"2019-05-01T00:00:00\",\"2019-06-01T00:00:00\",\"2019-07-01T00:00:00\",\"2019-08-01T00:00:00\",\"2019-09-01T00:00:00\",\"2019-10-01T00:00:00\",\"2019-11-01T00:00:00\",\"2019-12-01T00:00:00\",\"2020-01-01T00:00:00\",\"2020-02-01T00:00:00\",\"2020-03-01T00:00:00\",\"2020-04-01T00:00:00\",\"2020-05-01T00:00:00\",\"2020-06-01T00:00:00\",\"2020-07-01T00:00:00\",\"2020-08-01T00:00:00\",\"2020-09-01T00:00:00\",\"2020-10-01T00:00:00\",\"2020-11-01T00:00:00\",\"2020-12-01T00:00:00\",\"2021-01-01T00:00:00\",\"2021-02-01T00:00:00\",\"2021-03-01T00:00:00\",\"2021-04-01T00:00:00\",\"2021-05-01T00:00:00\",\"2021-06-01T00:00:00\",\"2021-07-01T00:00:00\",\"2021-08-01T00:00:00\",\"2021-09-01T00:00:00\",\"2021-10-01T00:00:00\",\"2021-11-01T00:00:00\",\"2021-12-01T00:00:00\",\"2022-01-01T00:00:00\",\"2022-02-01T00:00:00\",\"2022-03-01T00:00:00\",\"2022-04-01T00:00:00\",\"2022-05-01T00:00:00\",\"2022-06-01T00:00:00\"],\"xaxis\":\"x\",\"y\":[11.865077419354837,15.379820689655174,16.59865161290322,19.206096666666667,21.181706451612904,23.845379999999995,16.33394516129032,15.015603225806448,14.502453333333333,15.342593548387102,13.07580666666667,12.835667741935485,14.621138709677421,18.0208,27.197290322580642,22.129113333333333,19.344332258064515,20.262673333333325,17.13325483870968,17.47062580645161,15.188960000000002,12.669577419354844,13.263523333333337,14.361622580645157,15.71935483870968,18.75,20.44516129032258,26.639999999999993,22.58709677419354,22.63666666666667,18.732258064516127,16.62903225806452,17.87,11.996774193548386,12.466666666666667,12.319354838709678,16.925806451612903,17.960714285714285,16.687096774193556,17.736666666666668,20.5741935483871,18.83,17.703225806451616,14.138709677419357,14.326666666666664,12.122580645161289,13.699999999999998,12.790322580645162,14.880645161290321,19.57931034482759,17.445161290322577,16.843333333333337,19.79032258064516,18.15,15.874193548387098,16.512903225806454,13.216666666666667,10.883870967741936,11.456666666666669,12.519354838709674,14.593548387096773,12.925000000000002,18.68387096774193,19.7,20.667741935483868,19.540000000000003,18.258064516129036,17.299999999999997,15.653333333333338,15.716129032258063,10.989999999999998,12.63548387096774,14.274193548387096,15.696428571428573,16.97741935483871,18.66333333333333,20.712903225806453,24.605263157894733],\"yaxis\":\"y\",\"type\":\"scatter\"},{\"hovertemplate\":\"variable=Label<br>Date=%{x}<br>value=%{y}<extra></extra>\",\"legendgroup\":\"Label\",\"line\":{\"color\":\"#EF553B\",\"dash\":\"solid\"},\"marker\":{\"symbol\":\"circle\"},\"mode\":\"lines\",\"name\":\"Label\",\"orientation\":\"v\",\"showlegend\":true,\"x\":[\"2016-01-01T00:00:00\",\"2016-02-01T00:00:00\",\"2016-03-01T00:00:00\",\"2016-04-01T00:00:00\",\"2016-05-01T00:00:00\",\"2016-06-01T00:00:00\",\"2016-07-01T00:00:00\",\"2016-08-01T00:00:00\",\"2016-09-01T00:00:00\",\"2016-10-01T00:00:00\",\"2016-11-01T00:00:00\",\"2016-12-01T00:00:00\",\"2017-01-01T00:00:00\",\"2017-02-01T00:00:00\",\"2017-03-01T00:00:00\",\"2017-04-01T00:00:00\",\"2017-05-01T00:00:00\",\"2017-06-01T00:00:00\",\"2017-07-01T00:00:00\",\"2017-08-01T00:00:00\",\"2017-09-01T00:00:00\",\"2017-10-01T00:00:00\",\"2017-11-01T00:00:00\",\"2017-12-01T00:00:00\",\"2018-01-01T00:00:00\",\"2018-02-01T00:00:00\",\"2018-03-01T00:00:00\",\"2018-04-01T00:00:00\",\"2018-05-01T00:00:00\",\"2018-06-01T00:00:00\",\"2018-07-01T00:00:00\",\"2018-08-01T00:00:00\",\"2018-09-01T00:00:00\",\"2018-10-01T00:00:00\",\"2018-11-01T00:00:00\",\"2018-12-01T00:00:00\",\"2019-01-01T00:00:00\",\"2019-02-01T00:00:00\",\"2019-03-01T00:00:00\",\"2019-04-01T00:00:00\",\"2019-05-01T00:00:00\",\"2019-06-01T00:00:00\",\"2019-07-01T00:00:00\",\"2019-08-01T00:00:00\",\"2019-09-01T00:00:00\",\"2019-10-01T00:00:00\",\"2019-11-01T00:00:00\",\"2019-12-01T00:00:00\",\"2020-01-01T00:00:00\",\"2020-02-01T00:00:00\",\"2020-03-01T00:00:00\",\"2020-04-01T00:00:00\",\"2020-05-01T00:00:00\",\"2020-06-01T00:00:00\",\"2020-07-01T00:00:00\",\"2020-08-01T00:00:00\",\"2020-09-01T00:00:00\",\"2020-10-01T00:00:00\",\"2020-11-01T00:00:00\",\"2020-12-01T00:00:00\",\"2021-01-01T00:00:00\",\"2021-02-01T00:00:00\",\"2021-03-01T00:00:00\",\"2021-04-01T00:00:00\",\"2021-05-01T00:00:00\",\"2021-06-01T00:00:00\",\"2021-07-01T00:00:00\",\"2021-08-01T00:00:00\",\"2021-09-01T00:00:00\",\"2021-10-01T00:00:00\",\"2021-11-01T00:00:00\",\"2021-12-01T00:00:00\",\"2022-01-01T00:00:00\",\"2022-02-01T00:00:00\",\"2022-03-01T00:00:00\",\"2022-04-01T00:00:00\",\"2022-05-01T00:00:00\",\"2022-06-01T00:00:00\"],\"xaxis\":\"x\",\"y\":[76.703125,66.515625,54.359375,33.9375,38.15625,51.5,73.421875,76.546875,70.59375,57.734375,61.390625,71.921875,77.671875,67.46875,55.328125,34.90625,39.125,52.46875,74.375,77.5,71.5625,58.703125,62.359375,72.890625,78.625,68.4375,56.296875,35.875,40.09375,53.421875,75.34375,78.46875,72.53125,59.671875,63.3125,73.84375,79.59375,69.40625,57.265625,36.84375,41.046875,54.390625,76.3125,79.4375,73.5,60.625,64.28125,74.8125,80.5625,70.375,58.21875,37.796875,42.015625,55.359375,77.28125,80.40625,74.453125,61.59375,65.25,75.78125,81.53125,71.328125,59.1875,38.765625,42.984375,56.328125,78.234375,81.359375,75.421875,62.5625,66.21875,76.75,82.484375,72.296875,60.15625,39.734375,43.953125,57.28125],\"yaxis\":\"y\",\"type\":\"scatter\"}],                        {\"template\":{\"data\":{\"barpolar\":[{\"marker\":{\"line\":{\"color\":\"rgb(17,17,17)\",\"width\":0.5},\"pattern\":{\"fillmode\":\"overlay\",\"size\":10,\"solidity\":0.2}},\"type\":\"barpolar\"}],\"bar\":[{\"error_x\":{\"color\":\"#f2f5fa\"},\"error_y\":{\"color\":\"#f2f5fa\"},\"marker\":{\"line\":{\"color\":\"rgb(17,17,17)\",\"width\":0.5},\"pattern\":{\"fillmode\":\"overlay\",\"size\":10,\"solidity\":0.2}},\"type\":\"bar\"}],\"carpet\":[{\"aaxis\":{\"endlinecolor\":\"#A2B1C6\",\"gridcolor\":\"#506784\",\"linecolor\":\"#506784\",\"minorgridcolor\":\"#506784\",\"startlinecolor\":\"#A2B1C6\"},\"baxis\":{\"endlinecolor\":\"#A2B1C6\",\"gridcolor\":\"#506784\",\"linecolor\":\"#506784\",\"minorgridcolor\":\"#506784\",\"startlinecolor\":\"#A2B1C6\"},\"type\":\"carpet\"}],\"choropleth\":[{\"colorbar\":{\"outlinewidth\":0,\"ticks\":\"\"},\"type\":\"choropleth\"}],\"contourcarpet\":[{\"colorbar\":{\"outlinewidth\":0,\"ticks\":\"\"},\"type\":\"contourcarpet\"}],\"contour\":[{\"colorbar\":{\"outlinewidth\":0,\"ticks\":\"\"},\"colorscale\":[[0.0,\"#0d0887\"],[0.1111111111111111,\"#46039f\"],[0.2222222222222222,\"#7201a8\"],[0.3333333333333333,\"#9c179e\"],[0.4444444444444444,\"#bd3786\"],[0.5555555555555556,\"#d8576b\"],[0.6666666666666666,\"#ed7953\"],[0.7777777777777778,\"#fb9f3a\"],[0.8888888888888888,\"#fdca26\"],[1.0,\"#f0f921\"]],\"type\":\"contour\"}],\"heatmapgl\":[{\"colorbar\":{\"outlinewidth\":0,\"ticks\":\"\"},\"colorscale\":[[0.0,\"#0d0887\"],[0.1111111111111111,\"#46039f\"],[0.2222222222222222,\"#7201a8\"],[0.3333333333333333,\"#9c179e\"],[0.4444444444444444,\"#bd3786\"],[0.5555555555555556,\"#d8576b\"],[0.6666666666666666,\"#ed7953\"],[0.7777777777777778,\"#fb9f3a\"],[0.8888888888888888,\"#fdca26\"],[1.0,\"#f0f921\"]],\"type\":\"heatmapgl\"}],\"heatmap\":[{\"colorbar\":{\"outlinewidth\":0,\"ticks\":\"\"},\"colorscale\":[[0.0,\"#0d0887\"],[0.1111111111111111,\"#46039f\"],[0.2222222222222222,\"#7201a8\"],[0.3333333333333333,\"#9c179e\"],[0.4444444444444444,\"#bd3786\"],[0.5555555555555556,\"#d8576b\"],[0.6666666666666666,\"#ed7953\"],[0.7777777777777778,\"#fb9f3a\"],[0.8888888888888888,\"#fdca26\"],[1.0,\"#f0f921\"]],\"type\":\"heatmap\"}],\"histogram2dcontour\":[{\"colorbar\":{\"outlinewidth\":0,\"ticks\":\"\"},\"colorscale\":[[0.0,\"#0d0887\"],[0.1111111111111111,\"#46039f\"],[0.2222222222222222,\"#7201a8\"],[0.3333333333333333,\"#9c179e\"],[0.4444444444444444,\"#bd3786\"],[0.5555555555555556,\"#d8576b\"],[0.6666666666666666,\"#ed7953\"],[0.7777777777777778,\"#fb9f3a\"],[0.8888888888888888,\"#fdca26\"],[1.0,\"#f0f921\"]],\"type\":\"histogram2dcontour\"}],\"histogram2d\":[{\"colorbar\":{\"outlinewidth\":0,\"ticks\":\"\"},\"colorscale\":[[0.0,\"#0d0887\"],[0.1111111111111111,\"#46039f\"],[0.2222222222222222,\"#7201a8\"],[0.3333333333333333,\"#9c179e\"],[0.4444444444444444,\"#bd3786\"],[0.5555555555555556,\"#d8576b\"],[0.6666666666666666,\"#ed7953\"],[0.7777777777777778,\"#fb9f3a\"],[0.8888888888888888,\"#fdca26\"],[1.0,\"#f0f921\"]],\"type\":\"histogram2d\"}],\"histogram\":[{\"marker\":{\"pattern\":{\"fillmode\":\"overlay\",\"size\":10,\"solidity\":0.2}},\"type\":\"histogram\"}],\"mesh3d\":[{\"colorbar\":{\"outlinewidth\":0,\"ticks\":\"\"},\"type\":\"mesh3d\"}],\"parcoords\":[{\"line\":{\"colorbar\":{\"outlinewidth\":0,\"ticks\":\"\"}},\"type\":\"parcoords\"}],\"pie\":[{\"automargin\":true,\"type\":\"pie\"}],\"scatter3d\":[{\"line\":{\"colorbar\":{\"outlinewidth\":0,\"ticks\":\"\"}},\"marker\":{\"colorbar\":{\"outlinewidth\":0,\"ticks\":\"\"}},\"type\":\"scatter3d\"}],\"scattercarpet\":[{\"marker\":{\"colorbar\":{\"outlinewidth\":0,\"ticks\":\"\"}},\"type\":\"scattercarpet\"}],\"scattergeo\":[{\"marker\":{\"colorbar\":{\"outlinewidth\":0,\"ticks\":\"\"}},\"type\":\"scattergeo\"}],\"scattergl\":[{\"marker\":{\"line\":{\"color\":\"#283442\"}},\"type\":\"scattergl\"}],\"scattermapbox\":[{\"marker\":{\"colorbar\":{\"outlinewidth\":0,\"ticks\":\"\"}},\"type\":\"scattermapbox\"}],\"scatterpolargl\":[{\"marker\":{\"colorbar\":{\"outlinewidth\":0,\"ticks\":\"\"}},\"type\":\"scatterpolargl\"}],\"scatterpolar\":[{\"marker\":{\"colorbar\":{\"outlinewidth\":0,\"ticks\":\"\"}},\"type\":\"scatterpolar\"}],\"scatter\":[{\"marker\":{\"line\":{\"color\":\"#283442\"}},\"type\":\"scatter\"}],\"scatterternary\":[{\"marker\":{\"colorbar\":{\"outlinewidth\":0,\"ticks\":\"\"}},\"type\":\"scatterternary\"}],\"surface\":[{\"colorbar\":{\"outlinewidth\":0,\"ticks\":\"\"},\"colorscale\":[[0.0,\"#0d0887\"],[0.1111111111111111,\"#46039f\"],[0.2222222222222222,\"#7201a8\"],[0.3333333333333333,\"#9c179e\"],[0.4444444444444444,\"#bd3786\"],[0.5555555555555556,\"#d8576b\"],[0.6666666666666666,\"#ed7953\"],[0.7777777777777778,\"#fb9f3a\"],[0.8888888888888888,\"#fdca26\"],[1.0,\"#f0f921\"]],\"type\":\"surface\"}],\"table\":[{\"cells\":{\"fill\":{\"color\":\"#506784\"},\"line\":{\"color\":\"rgb(17,17,17)\"}},\"header\":{\"fill\":{\"color\":\"#2a3f5f\"},\"line\":{\"color\":\"rgb(17,17,17)\"}},\"type\":\"table\"}]},\"layout\":{\"annotationdefaults\":{\"arrowcolor\":\"#f2f5fa\",\"arrowhead\":0,\"arrowwidth\":1},\"autotypenumbers\":\"strict\",\"coloraxis\":{\"colorbar\":{\"outlinewidth\":0,\"ticks\":\"\"}},\"colorscale\":{\"diverging\":[[0,\"#8e0152\"],[0.1,\"#c51b7d\"],[0.2,\"#de77ae\"],[0.3,\"#f1b6da\"],[0.4,\"#fde0ef\"],[0.5,\"#f7f7f7\"],[0.6,\"#e6f5d0\"],[0.7,\"#b8e186\"],[0.8,\"#7fbc41\"],[0.9,\"#4d9221\"],[1,\"#276419\"]],\"sequential\":[[0.0,\"#0d0887\"],[0.1111111111111111,\"#46039f\"],[0.2222222222222222,\"#7201a8\"],[0.3333333333333333,\"#9c179e\"],[0.4444444444444444,\"#bd3786\"],[0.5555555555555556,\"#d8576b\"],[0.6666666666666666,\"#ed7953\"],[0.7777777777777778,\"#fb9f3a\"],[0.8888888888888888,\"#fdca26\"],[1.0,\"#f0f921\"]],\"sequentialminus\":[[0.0,\"#0d0887\"],[0.1111111111111111,\"#46039f\"],[0.2222222222222222,\"#7201a8\"],[0.3333333333333333,\"#9c179e\"],[0.4444444444444444,\"#bd3786\"],[0.5555555555555556,\"#d8576b\"],[0.6666666666666666,\"#ed7953\"],[0.7777777777777778,\"#fb9f3a\"],[0.8888888888888888,\"#fdca26\"],[1.0,\"#f0f921\"]]},\"colorway\":[\"#636efa\",\"#EF553B\",\"#00cc96\",\"#ab63fa\",\"#FFA15A\",\"#19d3f3\",\"#FF6692\",\"#B6E880\",\"#FF97FF\",\"#FECB52\"],\"font\":{\"color\":\"#f2f5fa\"},\"geo\":{\"bgcolor\":\"rgb(17,17,17)\",\"lakecolor\":\"rgb(17,17,17)\",\"landcolor\":\"rgb(17,17,17)\",\"showlakes\":true,\"showland\":true,\"subunitcolor\":\"#506784\"},\"hoverlabel\":{\"align\":\"left\"},\"hovermode\":\"closest\",\"mapbox\":{\"style\":\"dark\"},\"paper_bgcolor\":\"rgb(17,17,17)\",\"plot_bgcolor\":\"rgb(17,17,17)\",\"polar\":{\"angularaxis\":{\"gridcolor\":\"#506784\",\"linecolor\":\"#506784\",\"ticks\":\"\"},\"bgcolor\":\"rgb(17,17,17)\",\"radialaxis\":{\"gridcolor\":\"#506784\",\"linecolor\":\"#506784\",\"ticks\":\"\"}},\"scene\":{\"xaxis\":{\"backgroundcolor\":\"rgb(17,17,17)\",\"gridcolor\":\"#506784\",\"gridwidth\":2,\"linecolor\":\"#506784\",\"showbackground\":true,\"ticks\":\"\",\"zerolinecolor\":\"#C8D4E3\"},\"yaxis\":{\"backgroundcolor\":\"rgb(17,17,17)\",\"gridcolor\":\"#506784\",\"gridwidth\":2,\"linecolor\":\"#506784\",\"showbackground\":true,\"ticks\":\"\",\"zerolinecolor\":\"#C8D4E3\"},\"zaxis\":{\"backgroundcolor\":\"rgb(17,17,17)\",\"gridcolor\":\"#506784\",\"gridwidth\":2,\"linecolor\":\"#506784\",\"showbackground\":true,\"ticks\":\"\",\"zerolinecolor\":\"#C8D4E3\"}},\"shapedefaults\":{\"line\":{\"color\":\"#f2f5fa\"}},\"sliderdefaults\":{\"bgcolor\":\"#C8D4E3\",\"bordercolor\":\"rgb(17,17,17)\",\"borderwidth\":1,\"tickwidth\":0},\"ternary\":{\"aaxis\":{\"gridcolor\":\"#506784\",\"linecolor\":\"#506784\",\"ticks\":\"\"},\"baxis\":{\"gridcolor\":\"#506784\",\"linecolor\":\"#506784\",\"ticks\":\"\"},\"bgcolor\":\"rgb(17,17,17)\",\"caxis\":{\"gridcolor\":\"#506784\",\"linecolor\":\"#506784\",\"ticks\":\"\"}},\"title\":{\"x\":0.05},\"updatemenudefaults\":{\"bgcolor\":\"#506784\",\"borderwidth\":0},\"xaxis\":{\"automargin\":true,\"gridcolor\":\"#283442\",\"linecolor\":\"#506784\",\"ticks\":\"\",\"title\":{\"standoff\":15},\"zerolinecolor\":\"#283442\",\"zerolinewidth\":2},\"yaxis\":{\"automargin\":true,\"gridcolor\":\"#283442\",\"linecolor\":\"#506784\",\"ticks\":\"\",\"title\":{\"standoff\":15},\"zerolinecolor\":\"#283442\",\"zerolinewidth\":2}}},\"xaxis\":{\"anchor\":\"y\",\"domain\":[0.0,1.0],\"title\":{\"text\":\"Date\"}},\"yaxis\":{\"anchor\":\"x\",\"domain\":[0.0,1.0],\"title\":{\"text\":\"value\"}},\"legend\":{\"title\":{\"text\":\"variable\"},\"tracegroupgap\":0},\"margin\":{\"t\":60},\"shapes\":[{\"fillcolor\":\"grey\",\"line\":{\"width\":0},\"opacity\":0.25,\"type\":\"rect\",\"x0\":\"2021-06-01\",\"x1\":\"2022-06-01\",\"xref\":\"x\",\"y0\":0,\"y1\":1,\"yref\":\"y domain\"}]},                        {\"responsive\": true}                    ).then(function(){\n",
       "                            \n",
       "var gd = document.getElementById('20ffb5b5-754c-4a56-af29-4ed08022d06f');\n",
       "var x = new MutationObserver(function (mutations, observer) {{\n",
       "        var display = window.getComputedStyle(gd).display;\n",
       "        if (!display || display === 'none') {{\n",
       "            console.log([gd, 'removed!']);\n",
       "            Plotly.purge(gd);\n",
       "            observer.disconnect();\n",
       "        }}\n",
       "}});\n",
       "\n",
       "// Listen for the removal of the full notebook cells\n",
       "var notebookContainer = gd.closest('#notebook-container');\n",
       "if (notebookContainer) {{\n",
       "    x.observe(notebookContainer, {childList: true});\n",
       "}}\n",
       "\n",
       "// Listen for the clearing of the current output cell\n",
       "var outputEl = gd.closest('.output');\n",
       "if (outputEl) {{\n",
       "    x.observe(outputEl, {childList: true});\n",
       "}}\n",
       "\n",
       "                        })                };                });            </script>        </div>"
      ]
     },
     "metadata": {},
     "output_type": "display_data"
    }
   ],
   "source": [
    "# generate predictions on the original dataset\n",
    "predictions = predict_model(best, data=WindSpeedData)\n",
    "# add a date column in the dataset\n",
    "predictions['Date'] = pd.date_range(start='2016-01-01', end = '2022-06-01', freq = 'MS')\n",
    "# line plot\n",
    "fig = px.line(predictions, x='Date', y=[\"AvgWindspeed\", \"Label\"], template = 'plotly_dark')\n",
    "# add a vertical rectange for test-set separation\n",
    "fig.add_vrect(x0=\"2021-06-01\", x1=\"2022-06-01\", fillcolor=\"grey\", opacity=0.25, line_width=0)\n",
    "fig.show()"
   ]
  },
  {
   "cell_type": "code",
   "execution_count": 97,
   "id": "468f98b7",
   "metadata": {},
   "outputs": [],
   "source": [
    "final_best = finalize_model(best)"
   ]
  },
  {
   "cell_type": "code",
   "execution_count": 98,
   "id": "51f7f462",
   "metadata": {},
   "outputs": [
    {
     "name": "stdout",
     "output_type": "stream",
     "text": [
      "Transformation Pipeline and Model Successfully Saved\n"
     ]
    },
    {
     "data": {
      "text/plain": [
       "(Pipeline(memory=None,\n",
       "          steps=[('dtypes',\n",
       "                  DataTypes_Auto_infer(categorical_features=[],\n",
       "                                       display_types=True, features_todrop=[],\n",
       "                                       id_columns=[], ml_usecase='regression',\n",
       "                                       numerical_features=['Year', 'Series'],\n",
       "                                       target='AvgHumidity', time_features=[])),\n",
       "                 ('imputer',\n",
       "                  Simple_Imputer(categorical_strategy='not_available',\n",
       "                                 fill_value_categorical=None,\n",
       "                                 fill_value_numerical=No...\n",
       "                 ('cluster_all', 'passthrough'),\n",
       "                 ('dummy', Dummify(target='AvgHumidity')),\n",
       "                 ('fix_perfect', Remove_100(target='AvgHumidity')),\n",
       "                 ('clean_names', Clean_Colum_Names()),\n",
       "                 ('feature_select', 'passthrough'), ('fix_multi', 'passthrough'),\n",
       "                 ('dfs', 'passthrough'), ('pca', 'passthrough'),\n",
       "                 ['trained_model',\n",
       "                  LinearRegression(copy_X=True, fit_intercept=True, n_jobs=-1,\n",
       "                                   normalize=False)]],\n",
       "          verbose=False),\n",
       " 'AvgWindspeedForecastingModel.pkl')"
      ]
     },
     "execution_count": 98,
     "metadata": {},
     "output_type": "execute_result"
    }
   ],
   "source": [
    "save_model(final_best, 'AvgWindspeedForecastingModel')"
   ]
  },
  {
   "cell_type": "code",
   "execution_count": 99,
   "id": "dc6bb46b",
   "metadata": {},
   "outputs": [
    {
     "data": {
      "text/html": [
       "<style type=\"text/css\">\n",
       "#T_19d4c_row17_col1, #T_19d4c_row42_col1 {\n",
       "  background-color: lightgreen;\n",
       "}\n",
       "</style>\n",
       "<table id=\"T_19d4c\">\n",
       "  <thead>\n",
       "    <tr>\n",
       "      <th class=\"blank level0\" >&nbsp;</th>\n",
       "      <th id=\"T_19d4c_level0_col0\" class=\"col_heading level0 col0\" >Description</th>\n",
       "      <th id=\"T_19d4c_level0_col1\" class=\"col_heading level0 col1\" >Value</th>\n",
       "    </tr>\n",
       "  </thead>\n",
       "  <tbody>\n",
       "    <tr>\n",
       "      <th id=\"T_19d4c_level0_row0\" class=\"row_heading level0 row0\" >0</th>\n",
       "      <td id=\"T_19d4c_row0_col0\" class=\"data row0 col0\" >session_id</td>\n",
       "      <td id=\"T_19d4c_row0_col1\" class=\"data row0 col1\" >103</td>\n",
       "    </tr>\n",
       "    <tr>\n",
       "      <th id=\"T_19d4c_level0_row1\" class=\"row_heading level0 row1\" >1</th>\n",
       "      <td id=\"T_19d4c_row1_col0\" class=\"data row1 col0\" >Target</td>\n",
       "      <td id=\"T_19d4c_row1_col1\" class=\"data row1 col1\" >AvgRainfall</td>\n",
       "    </tr>\n",
       "    <tr>\n",
       "      <th id=\"T_19d4c_level0_row2\" class=\"row_heading level0 row2\" >2</th>\n",
       "      <td id=\"T_19d4c_row2_col0\" class=\"data row2 col0\" >Original Data</td>\n",
       "      <td id=\"T_19d4c_row2_col1\" class=\"data row2 col1\" >(66, 4)</td>\n",
       "    </tr>\n",
       "    <tr>\n",
       "      <th id=\"T_19d4c_level0_row3\" class=\"row_heading level0 row3\" >3</th>\n",
       "      <td id=\"T_19d4c_row3_col0\" class=\"data row3 col0\" >Missing Values</td>\n",
       "      <td id=\"T_19d4c_row3_col1\" class=\"data row3 col1\" >False</td>\n",
       "    </tr>\n",
       "    <tr>\n",
       "      <th id=\"T_19d4c_level0_row4\" class=\"row_heading level0 row4\" >4</th>\n",
       "      <td id=\"T_19d4c_row4_col0\" class=\"data row4 col0\" >Numeric Features</td>\n",
       "      <td id=\"T_19d4c_row4_col1\" class=\"data row4 col1\" >2</td>\n",
       "    </tr>\n",
       "    <tr>\n",
       "      <th id=\"T_19d4c_level0_row5\" class=\"row_heading level0 row5\" >5</th>\n",
       "      <td id=\"T_19d4c_row5_col0\" class=\"data row5 col0\" >Categorical Features</td>\n",
       "      <td id=\"T_19d4c_row5_col1\" class=\"data row5 col1\" >1</td>\n",
       "    </tr>\n",
       "    <tr>\n",
       "      <th id=\"T_19d4c_level0_row6\" class=\"row_heading level0 row6\" >6</th>\n",
       "      <td id=\"T_19d4c_row6_col0\" class=\"data row6 col0\" >Ordinal Features</td>\n",
       "      <td id=\"T_19d4c_row6_col1\" class=\"data row6 col1\" >False</td>\n",
       "    </tr>\n",
       "    <tr>\n",
       "      <th id=\"T_19d4c_level0_row7\" class=\"row_heading level0 row7\" >7</th>\n",
       "      <td id=\"T_19d4c_row7_col0\" class=\"data row7 col0\" >High Cardinality Features</td>\n",
       "      <td id=\"T_19d4c_row7_col1\" class=\"data row7 col1\" >False</td>\n",
       "    </tr>\n",
       "    <tr>\n",
       "      <th id=\"T_19d4c_level0_row8\" class=\"row_heading level0 row8\" >8</th>\n",
       "      <td id=\"T_19d4c_row8_col0\" class=\"data row8 col0\" >High Cardinality Method</td>\n",
       "      <td id=\"T_19d4c_row8_col1\" class=\"data row8 col1\" >None</td>\n",
       "    </tr>\n",
       "    <tr>\n",
       "      <th id=\"T_19d4c_level0_row9\" class=\"row_heading level0 row9\" >9</th>\n",
       "      <td id=\"T_19d4c_row9_col0\" class=\"data row9 col0\" >Transformed Train Set</td>\n",
       "      <td id=\"T_19d4c_row9_col1\" class=\"data row9 col1\" >(66, 14)</td>\n",
       "    </tr>\n",
       "    <tr>\n",
       "      <th id=\"T_19d4c_level0_row10\" class=\"row_heading level0 row10\" >10</th>\n",
       "      <td id=\"T_19d4c_row10_col0\" class=\"data row10 col0\" >Transformed Test Set</td>\n",
       "      <td id=\"T_19d4c_row10_col1\" class=\"data row10 col1\" >(12, 14)</td>\n",
       "    </tr>\n",
       "    <tr>\n",
       "      <th id=\"T_19d4c_level0_row11\" class=\"row_heading level0 row11\" >11</th>\n",
       "      <td id=\"T_19d4c_row11_col0\" class=\"data row11 col0\" >Shuffle Train-Test</td>\n",
       "      <td id=\"T_19d4c_row11_col1\" class=\"data row11 col1\" >True</td>\n",
       "    </tr>\n",
       "    <tr>\n",
       "      <th id=\"T_19d4c_level0_row12\" class=\"row_heading level0 row12\" >12</th>\n",
       "      <td id=\"T_19d4c_row12_col0\" class=\"data row12 col0\" >Stratify Train-Test</td>\n",
       "      <td id=\"T_19d4c_row12_col1\" class=\"data row12 col1\" >False</td>\n",
       "    </tr>\n",
       "    <tr>\n",
       "      <th id=\"T_19d4c_level0_row13\" class=\"row_heading level0 row13\" >13</th>\n",
       "      <td id=\"T_19d4c_row13_col0\" class=\"data row13 col0\" >Fold Generator</td>\n",
       "      <td id=\"T_19d4c_row13_col1\" class=\"data row13 col1\" >TimeSeriesSplit</td>\n",
       "    </tr>\n",
       "    <tr>\n",
       "      <th id=\"T_19d4c_level0_row14\" class=\"row_heading level0 row14\" >14</th>\n",
       "      <td id=\"T_19d4c_row14_col0\" class=\"data row14 col0\" >Fold Number</td>\n",
       "      <td id=\"T_19d4c_row14_col1\" class=\"data row14 col1\" >3</td>\n",
       "    </tr>\n",
       "    <tr>\n",
       "      <th id=\"T_19d4c_level0_row15\" class=\"row_heading level0 row15\" >15</th>\n",
       "      <td id=\"T_19d4c_row15_col0\" class=\"data row15 col0\" >CPU Jobs</td>\n",
       "      <td id=\"T_19d4c_row15_col1\" class=\"data row15 col1\" >-1</td>\n",
       "    </tr>\n",
       "    <tr>\n",
       "      <th id=\"T_19d4c_level0_row16\" class=\"row_heading level0 row16\" >16</th>\n",
       "      <td id=\"T_19d4c_row16_col0\" class=\"data row16 col0\" >Use GPU</td>\n",
       "      <td id=\"T_19d4c_row16_col1\" class=\"data row16 col1\" >False</td>\n",
       "    </tr>\n",
       "    <tr>\n",
       "      <th id=\"T_19d4c_level0_row17\" class=\"row_heading level0 row17\" >17</th>\n",
       "      <td id=\"T_19d4c_row17_col0\" class=\"data row17 col0\" >Log Experiment</td>\n",
       "      <td id=\"T_19d4c_row17_col1\" class=\"data row17 col1\" >True</td>\n",
       "    </tr>\n",
       "    <tr>\n",
       "      <th id=\"T_19d4c_level0_row18\" class=\"row_heading level0 row18\" >18</th>\n",
       "      <td id=\"T_19d4c_row18_col0\" class=\"data row18 col0\" >Experiment Name</td>\n",
       "      <td id=\"T_19d4c_row18_col1\" class=\"data row18 col1\" >Rainfall</td>\n",
       "    </tr>\n",
       "    <tr>\n",
       "      <th id=\"T_19d4c_level0_row19\" class=\"row_heading level0 row19\" >19</th>\n",
       "      <td id=\"T_19d4c_row19_col0\" class=\"data row19 col0\" >USI</td>\n",
       "      <td id=\"T_19d4c_row19_col1\" class=\"data row19 col1\" >2f30</td>\n",
       "    </tr>\n",
       "    <tr>\n",
       "      <th id=\"T_19d4c_level0_row20\" class=\"row_heading level0 row20\" >20</th>\n",
       "      <td id=\"T_19d4c_row20_col0\" class=\"data row20 col0\" >Imputation Type</td>\n",
       "      <td id=\"T_19d4c_row20_col1\" class=\"data row20 col1\" >simple</td>\n",
       "    </tr>\n",
       "    <tr>\n",
       "      <th id=\"T_19d4c_level0_row21\" class=\"row_heading level0 row21\" >21</th>\n",
       "      <td id=\"T_19d4c_row21_col0\" class=\"data row21 col0\" >Iterative Imputation Iteration</td>\n",
       "      <td id=\"T_19d4c_row21_col1\" class=\"data row21 col1\" >None</td>\n",
       "    </tr>\n",
       "    <tr>\n",
       "      <th id=\"T_19d4c_level0_row22\" class=\"row_heading level0 row22\" >22</th>\n",
       "      <td id=\"T_19d4c_row22_col0\" class=\"data row22 col0\" >Numeric Imputer</td>\n",
       "      <td id=\"T_19d4c_row22_col1\" class=\"data row22 col1\" >mean</td>\n",
       "    </tr>\n",
       "    <tr>\n",
       "      <th id=\"T_19d4c_level0_row23\" class=\"row_heading level0 row23\" >23</th>\n",
       "      <td id=\"T_19d4c_row23_col0\" class=\"data row23 col0\" >Iterative Imputation Numeric Model</td>\n",
       "      <td id=\"T_19d4c_row23_col1\" class=\"data row23 col1\" >None</td>\n",
       "    </tr>\n",
       "    <tr>\n",
       "      <th id=\"T_19d4c_level0_row24\" class=\"row_heading level0 row24\" >24</th>\n",
       "      <td id=\"T_19d4c_row24_col0\" class=\"data row24 col0\" >Categorical Imputer</td>\n",
       "      <td id=\"T_19d4c_row24_col1\" class=\"data row24 col1\" >constant</td>\n",
       "    </tr>\n",
       "    <tr>\n",
       "      <th id=\"T_19d4c_level0_row25\" class=\"row_heading level0 row25\" >25</th>\n",
       "      <td id=\"T_19d4c_row25_col0\" class=\"data row25 col0\" >Iterative Imputation Categorical Model</td>\n",
       "      <td id=\"T_19d4c_row25_col1\" class=\"data row25 col1\" >None</td>\n",
       "    </tr>\n",
       "    <tr>\n",
       "      <th id=\"T_19d4c_level0_row26\" class=\"row_heading level0 row26\" >26</th>\n",
       "      <td id=\"T_19d4c_row26_col0\" class=\"data row26 col0\" >Unknown Categoricals Handling</td>\n",
       "      <td id=\"T_19d4c_row26_col1\" class=\"data row26 col1\" >least_frequent</td>\n",
       "    </tr>\n",
       "    <tr>\n",
       "      <th id=\"T_19d4c_level0_row27\" class=\"row_heading level0 row27\" >27</th>\n",
       "      <td id=\"T_19d4c_row27_col0\" class=\"data row27 col0\" >Normalize</td>\n",
       "      <td id=\"T_19d4c_row27_col1\" class=\"data row27 col1\" >False</td>\n",
       "    </tr>\n",
       "    <tr>\n",
       "      <th id=\"T_19d4c_level0_row28\" class=\"row_heading level0 row28\" >28</th>\n",
       "      <td id=\"T_19d4c_row28_col0\" class=\"data row28 col0\" >Normalize Method</td>\n",
       "      <td id=\"T_19d4c_row28_col1\" class=\"data row28 col1\" >None</td>\n",
       "    </tr>\n",
       "    <tr>\n",
       "      <th id=\"T_19d4c_level0_row29\" class=\"row_heading level0 row29\" >29</th>\n",
       "      <td id=\"T_19d4c_row29_col0\" class=\"data row29 col0\" >Transformation</td>\n",
       "      <td id=\"T_19d4c_row29_col1\" class=\"data row29 col1\" >False</td>\n",
       "    </tr>\n",
       "    <tr>\n",
       "      <th id=\"T_19d4c_level0_row30\" class=\"row_heading level0 row30\" >30</th>\n",
       "      <td id=\"T_19d4c_row30_col0\" class=\"data row30 col0\" >Transformation Method</td>\n",
       "      <td id=\"T_19d4c_row30_col1\" class=\"data row30 col1\" >None</td>\n",
       "    </tr>\n",
       "    <tr>\n",
       "      <th id=\"T_19d4c_level0_row31\" class=\"row_heading level0 row31\" >31</th>\n",
       "      <td id=\"T_19d4c_row31_col0\" class=\"data row31 col0\" >PCA</td>\n",
       "      <td id=\"T_19d4c_row31_col1\" class=\"data row31 col1\" >False</td>\n",
       "    </tr>\n",
       "    <tr>\n",
       "      <th id=\"T_19d4c_level0_row32\" class=\"row_heading level0 row32\" >32</th>\n",
       "      <td id=\"T_19d4c_row32_col0\" class=\"data row32 col0\" >PCA Method</td>\n",
       "      <td id=\"T_19d4c_row32_col1\" class=\"data row32 col1\" >None</td>\n",
       "    </tr>\n",
       "    <tr>\n",
       "      <th id=\"T_19d4c_level0_row33\" class=\"row_heading level0 row33\" >33</th>\n",
       "      <td id=\"T_19d4c_row33_col0\" class=\"data row33 col0\" >PCA Components</td>\n",
       "      <td id=\"T_19d4c_row33_col1\" class=\"data row33 col1\" >None</td>\n",
       "    </tr>\n",
       "    <tr>\n",
       "      <th id=\"T_19d4c_level0_row34\" class=\"row_heading level0 row34\" >34</th>\n",
       "      <td id=\"T_19d4c_row34_col0\" class=\"data row34 col0\" >Ignore Low Variance</td>\n",
       "      <td id=\"T_19d4c_row34_col1\" class=\"data row34 col1\" >False</td>\n",
       "    </tr>\n",
       "    <tr>\n",
       "      <th id=\"T_19d4c_level0_row35\" class=\"row_heading level0 row35\" >35</th>\n",
       "      <td id=\"T_19d4c_row35_col0\" class=\"data row35 col0\" >Combine Rare Levels</td>\n",
       "      <td id=\"T_19d4c_row35_col1\" class=\"data row35 col1\" >False</td>\n",
       "    </tr>\n",
       "    <tr>\n",
       "      <th id=\"T_19d4c_level0_row36\" class=\"row_heading level0 row36\" >36</th>\n",
       "      <td id=\"T_19d4c_row36_col0\" class=\"data row36 col0\" >Rare Level Threshold</td>\n",
       "      <td id=\"T_19d4c_row36_col1\" class=\"data row36 col1\" >None</td>\n",
       "    </tr>\n",
       "    <tr>\n",
       "      <th id=\"T_19d4c_level0_row37\" class=\"row_heading level0 row37\" >37</th>\n",
       "      <td id=\"T_19d4c_row37_col0\" class=\"data row37 col0\" >Numeric Binning</td>\n",
       "      <td id=\"T_19d4c_row37_col1\" class=\"data row37 col1\" >False</td>\n",
       "    </tr>\n",
       "    <tr>\n",
       "      <th id=\"T_19d4c_level0_row38\" class=\"row_heading level0 row38\" >38</th>\n",
       "      <td id=\"T_19d4c_row38_col0\" class=\"data row38 col0\" >Remove Outliers</td>\n",
       "      <td id=\"T_19d4c_row38_col1\" class=\"data row38 col1\" >False</td>\n",
       "    </tr>\n",
       "    <tr>\n",
       "      <th id=\"T_19d4c_level0_row39\" class=\"row_heading level0 row39\" >39</th>\n",
       "      <td id=\"T_19d4c_row39_col0\" class=\"data row39 col0\" >Outliers Threshold</td>\n",
       "      <td id=\"T_19d4c_row39_col1\" class=\"data row39 col1\" >None</td>\n",
       "    </tr>\n",
       "    <tr>\n",
       "      <th id=\"T_19d4c_level0_row40\" class=\"row_heading level0 row40\" >40</th>\n",
       "      <td id=\"T_19d4c_row40_col0\" class=\"data row40 col0\" >Remove Multicollinearity</td>\n",
       "      <td id=\"T_19d4c_row40_col1\" class=\"data row40 col1\" >False</td>\n",
       "    </tr>\n",
       "    <tr>\n",
       "      <th id=\"T_19d4c_level0_row41\" class=\"row_heading level0 row41\" >41</th>\n",
       "      <td id=\"T_19d4c_row41_col0\" class=\"data row41 col0\" >Multicollinearity Threshold</td>\n",
       "      <td id=\"T_19d4c_row41_col1\" class=\"data row41 col1\" >None</td>\n",
       "    </tr>\n",
       "    <tr>\n",
       "      <th id=\"T_19d4c_level0_row42\" class=\"row_heading level0 row42\" >42</th>\n",
       "      <td id=\"T_19d4c_row42_col0\" class=\"data row42 col0\" >Remove Perfect Collinearity</td>\n",
       "      <td id=\"T_19d4c_row42_col1\" class=\"data row42 col1\" >True</td>\n",
       "    </tr>\n",
       "    <tr>\n",
       "      <th id=\"T_19d4c_level0_row43\" class=\"row_heading level0 row43\" >43</th>\n",
       "      <td id=\"T_19d4c_row43_col0\" class=\"data row43 col0\" >Clustering</td>\n",
       "      <td id=\"T_19d4c_row43_col1\" class=\"data row43 col1\" >False</td>\n",
       "    </tr>\n",
       "    <tr>\n",
       "      <th id=\"T_19d4c_level0_row44\" class=\"row_heading level0 row44\" >44</th>\n",
       "      <td id=\"T_19d4c_row44_col0\" class=\"data row44 col0\" >Clustering Iteration</td>\n",
       "      <td id=\"T_19d4c_row44_col1\" class=\"data row44 col1\" >None</td>\n",
       "    </tr>\n",
       "    <tr>\n",
       "      <th id=\"T_19d4c_level0_row45\" class=\"row_heading level0 row45\" >45</th>\n",
       "      <td id=\"T_19d4c_row45_col0\" class=\"data row45 col0\" >Polynomial Features</td>\n",
       "      <td id=\"T_19d4c_row45_col1\" class=\"data row45 col1\" >False</td>\n",
       "    </tr>\n",
       "    <tr>\n",
       "      <th id=\"T_19d4c_level0_row46\" class=\"row_heading level0 row46\" >46</th>\n",
       "      <td id=\"T_19d4c_row46_col0\" class=\"data row46 col0\" >Polynomial Degree</td>\n",
       "      <td id=\"T_19d4c_row46_col1\" class=\"data row46 col1\" >None</td>\n",
       "    </tr>\n",
       "    <tr>\n",
       "      <th id=\"T_19d4c_level0_row47\" class=\"row_heading level0 row47\" >47</th>\n",
       "      <td id=\"T_19d4c_row47_col0\" class=\"data row47 col0\" >Trignometry Features</td>\n",
       "      <td id=\"T_19d4c_row47_col1\" class=\"data row47 col1\" >False</td>\n",
       "    </tr>\n",
       "    <tr>\n",
       "      <th id=\"T_19d4c_level0_row48\" class=\"row_heading level0 row48\" >48</th>\n",
       "      <td id=\"T_19d4c_row48_col0\" class=\"data row48 col0\" >Polynomial Threshold</td>\n",
       "      <td id=\"T_19d4c_row48_col1\" class=\"data row48 col1\" >None</td>\n",
       "    </tr>\n",
       "    <tr>\n",
       "      <th id=\"T_19d4c_level0_row49\" class=\"row_heading level0 row49\" >49</th>\n",
       "      <td id=\"T_19d4c_row49_col0\" class=\"data row49 col0\" >Group Features</td>\n",
       "      <td id=\"T_19d4c_row49_col1\" class=\"data row49 col1\" >False</td>\n",
       "    </tr>\n",
       "    <tr>\n",
       "      <th id=\"T_19d4c_level0_row50\" class=\"row_heading level0 row50\" >50</th>\n",
       "      <td id=\"T_19d4c_row50_col0\" class=\"data row50 col0\" >Feature Selection</td>\n",
       "      <td id=\"T_19d4c_row50_col1\" class=\"data row50 col1\" >False</td>\n",
       "    </tr>\n",
       "    <tr>\n",
       "      <th id=\"T_19d4c_level0_row51\" class=\"row_heading level0 row51\" >51</th>\n",
       "      <td id=\"T_19d4c_row51_col0\" class=\"data row51 col0\" >Feature Selection Method</td>\n",
       "      <td id=\"T_19d4c_row51_col1\" class=\"data row51 col1\" >classic</td>\n",
       "    </tr>\n",
       "    <tr>\n",
       "      <th id=\"T_19d4c_level0_row52\" class=\"row_heading level0 row52\" >52</th>\n",
       "      <td id=\"T_19d4c_row52_col0\" class=\"data row52 col0\" >Features Selection Threshold</td>\n",
       "      <td id=\"T_19d4c_row52_col1\" class=\"data row52 col1\" >None</td>\n",
       "    </tr>\n",
       "    <tr>\n",
       "      <th id=\"T_19d4c_level0_row53\" class=\"row_heading level0 row53\" >53</th>\n",
       "      <td id=\"T_19d4c_row53_col0\" class=\"data row53 col0\" >Feature Interaction</td>\n",
       "      <td id=\"T_19d4c_row53_col1\" class=\"data row53 col1\" >False</td>\n",
       "    </tr>\n",
       "    <tr>\n",
       "      <th id=\"T_19d4c_level0_row54\" class=\"row_heading level0 row54\" >54</th>\n",
       "      <td id=\"T_19d4c_row54_col0\" class=\"data row54 col0\" >Feature Ratio</td>\n",
       "      <td id=\"T_19d4c_row54_col1\" class=\"data row54 col1\" >False</td>\n",
       "    </tr>\n",
       "    <tr>\n",
       "      <th id=\"T_19d4c_level0_row55\" class=\"row_heading level0 row55\" >55</th>\n",
       "      <td id=\"T_19d4c_row55_col0\" class=\"data row55 col0\" >Interaction Threshold</td>\n",
       "      <td id=\"T_19d4c_row55_col1\" class=\"data row55 col1\" >None</td>\n",
       "    </tr>\n",
       "    <tr>\n",
       "      <th id=\"T_19d4c_level0_row56\" class=\"row_heading level0 row56\" >56</th>\n",
       "      <td id=\"T_19d4c_row56_col0\" class=\"data row56 col0\" >Transform Target</td>\n",
       "      <td id=\"T_19d4c_row56_col1\" class=\"data row56 col1\" >False</td>\n",
       "    </tr>\n",
       "    <tr>\n",
       "      <th id=\"T_19d4c_level0_row57\" class=\"row_heading level0 row57\" >57</th>\n",
       "      <td id=\"T_19d4c_row57_col0\" class=\"data row57 col0\" >Transform Target Method</td>\n",
       "      <td id=\"T_19d4c_row57_col1\" class=\"data row57 col1\" >box-cox</td>\n",
       "    </tr>\n",
       "  </tbody>\n",
       "</table>\n"
      ],
      "text/plain": [
       "<pandas.io.formats.style.Styler at 0x175f57a5a30>"
      ]
     },
     "metadata": {},
     "output_type": "display_data"
    }
   ],
   "source": [
    "# initialize setup\n",
    "s_rainfall = setup(data = trainRainfall, test_data = testRainfall, target = 'AvgRainfall', fold_strategy = 'timeseries',numeric_features = ['Year', 'Series'], fold = 3, session_id = 103,log_experiment=True,experiment_name='Rainfall')"
   ]
  },
  {
   "cell_type": "code",
   "execution_count": 100,
   "id": "36252fdb",
   "metadata": {},
   "outputs": [
    {
     "data": {
      "text/html": [
       "<style type=\"text/css\">\n",
       "#T_ae19e th {\n",
       "  text-align: left;\n",
       "}\n",
       "#T_ae19e_row0_col0, #T_ae19e_row0_col4, #T_ae19e_row0_col6, #T_ae19e_row1_col0, #T_ae19e_row1_col1, #T_ae19e_row1_col2, #T_ae19e_row1_col3, #T_ae19e_row1_col5, #T_ae19e_row1_col6, #T_ae19e_row2_col0, #T_ae19e_row2_col1, #T_ae19e_row2_col2, #T_ae19e_row2_col3, #T_ae19e_row2_col4, #T_ae19e_row2_col5, #T_ae19e_row2_col6, #T_ae19e_row3_col0, #T_ae19e_row3_col1, #T_ae19e_row3_col2, #T_ae19e_row3_col3, #T_ae19e_row3_col4, #T_ae19e_row3_col5, #T_ae19e_row3_col6, #T_ae19e_row4_col0, #T_ae19e_row4_col1, #T_ae19e_row4_col2, #T_ae19e_row4_col3, #T_ae19e_row4_col4, #T_ae19e_row4_col5, #T_ae19e_row4_col6, #T_ae19e_row5_col0, #T_ae19e_row5_col1, #T_ae19e_row5_col2, #T_ae19e_row5_col3, #T_ae19e_row5_col4, #T_ae19e_row5_col5, #T_ae19e_row5_col6, #T_ae19e_row6_col0, #T_ae19e_row6_col1, #T_ae19e_row6_col2, #T_ae19e_row6_col3, #T_ae19e_row6_col4, #T_ae19e_row6_col5, #T_ae19e_row6_col6, #T_ae19e_row7_col0, #T_ae19e_row7_col1, #T_ae19e_row7_col2, #T_ae19e_row7_col3, #T_ae19e_row7_col4, #T_ae19e_row7_col5, #T_ae19e_row7_col6, #T_ae19e_row8_col0, #T_ae19e_row8_col1, #T_ae19e_row8_col2, #T_ae19e_row8_col3, #T_ae19e_row8_col4, #T_ae19e_row8_col5, #T_ae19e_row8_col6, #T_ae19e_row9_col0, #T_ae19e_row9_col1, #T_ae19e_row9_col2, #T_ae19e_row9_col3, #T_ae19e_row9_col4, #T_ae19e_row9_col5, #T_ae19e_row9_col6, #T_ae19e_row10_col0, #T_ae19e_row10_col1, #T_ae19e_row10_col2, #T_ae19e_row10_col3, #T_ae19e_row10_col4, #T_ae19e_row10_col5, #T_ae19e_row10_col6, #T_ae19e_row11_col0, #T_ae19e_row11_col1, #T_ae19e_row11_col2, #T_ae19e_row11_col3, #T_ae19e_row11_col4, #T_ae19e_row11_col5, #T_ae19e_row11_col6, #T_ae19e_row12_col0, #T_ae19e_row12_col1, #T_ae19e_row12_col2, #T_ae19e_row12_col3, #T_ae19e_row12_col4, #T_ae19e_row12_col5, #T_ae19e_row12_col6, #T_ae19e_row13_col0, #T_ae19e_row13_col1, #T_ae19e_row13_col2, #T_ae19e_row13_col3, #T_ae19e_row13_col4, #T_ae19e_row13_col5, #T_ae19e_row13_col6, #T_ae19e_row14_col0, #T_ae19e_row14_col1, #T_ae19e_row14_col2, #T_ae19e_row14_col3, #T_ae19e_row14_col4, #T_ae19e_row14_col5, #T_ae19e_row14_col6, #T_ae19e_row15_col0, #T_ae19e_row15_col1, #T_ae19e_row15_col2, #T_ae19e_row15_col3, #T_ae19e_row15_col4, #T_ae19e_row15_col5, #T_ae19e_row15_col6, #T_ae19e_row16_col0, #T_ae19e_row16_col1, #T_ae19e_row16_col2, #T_ae19e_row16_col3, #T_ae19e_row16_col4, #T_ae19e_row16_col5, #T_ae19e_row16_col6, #T_ae19e_row17_col0, #T_ae19e_row17_col1, #T_ae19e_row17_col2, #T_ae19e_row17_col3, #T_ae19e_row17_col4, #T_ae19e_row17_col5, #T_ae19e_row18_col0, #T_ae19e_row18_col1, #T_ae19e_row18_col2, #T_ae19e_row18_col3, #T_ae19e_row18_col4, #T_ae19e_row18_col5, #T_ae19e_row18_col6, #T_ae19e_row19_col0, #T_ae19e_row19_col1, #T_ae19e_row19_col2, #T_ae19e_row19_col3, #T_ae19e_row19_col4, #T_ae19e_row19_col5, #T_ae19e_row19_col6 {\n",
       "  text-align: left;\n",
       "}\n",
       "#T_ae19e_row0_col1, #T_ae19e_row0_col2, #T_ae19e_row0_col3, #T_ae19e_row0_col5, #T_ae19e_row1_col4, #T_ae19e_row17_col6 {\n",
       "  text-align: left;\n",
       "  background-color: yellow;\n",
       "}\n",
       "#T_ae19e_row0_col7, #T_ae19e_row1_col7, #T_ae19e_row2_col7, #T_ae19e_row3_col7, #T_ae19e_row4_col7, #T_ae19e_row5_col7, #T_ae19e_row6_col7, #T_ae19e_row7_col7, #T_ae19e_row8_col7, #T_ae19e_row9_col7, #T_ae19e_row10_col7, #T_ae19e_row11_col7, #T_ae19e_row12_col7, #T_ae19e_row14_col7, #T_ae19e_row15_col7, #T_ae19e_row16_col7, #T_ae19e_row17_col7, #T_ae19e_row18_col7, #T_ae19e_row19_col7 {\n",
       "  text-align: left;\n",
       "  background-color: lightgrey;\n",
       "}\n",
       "#T_ae19e_row13_col7 {\n",
       "  text-align: left;\n",
       "  background-color: yellow;\n",
       "  background-color: lightgrey;\n",
       "}\n",
       "</style>\n",
       "<table id=\"T_ae19e\">\n",
       "  <thead>\n",
       "    <tr>\n",
       "      <th class=\"blank level0\" >&nbsp;</th>\n",
       "      <th id=\"T_ae19e_level0_col0\" class=\"col_heading level0 col0\" >Model</th>\n",
       "      <th id=\"T_ae19e_level0_col1\" class=\"col_heading level0 col1\" >MAE</th>\n",
       "      <th id=\"T_ae19e_level0_col2\" class=\"col_heading level0 col2\" >MSE</th>\n",
       "      <th id=\"T_ae19e_level0_col3\" class=\"col_heading level0 col3\" >RMSE</th>\n",
       "      <th id=\"T_ae19e_level0_col4\" class=\"col_heading level0 col4\" >R2</th>\n",
       "      <th id=\"T_ae19e_level0_col5\" class=\"col_heading level0 col5\" >RMSLE</th>\n",
       "      <th id=\"T_ae19e_level0_col6\" class=\"col_heading level0 col6\" >MAPE</th>\n",
       "      <th id=\"T_ae19e_level0_col7\" class=\"col_heading level0 col7\" >TT (Sec)</th>\n",
       "    </tr>\n",
       "  </thead>\n",
       "  <tbody>\n",
       "    <tr>\n",
       "      <th id=\"T_ae19e_level0_row0\" class=\"row_heading level0 row0\" >huber</th>\n",
       "      <td id=\"T_ae19e_row0_col0\" class=\"data row0 col0\" >Huber Regressor</td>\n",
       "      <td id=\"T_ae19e_row0_col1\" class=\"data row0 col1\" >6.5614</td>\n",
       "      <td id=\"T_ae19e_row0_col2\" class=\"data row0 col2\" >85.8676</td>\n",
       "      <td id=\"T_ae19e_row0_col3\" class=\"data row0 col3\" >9.2008</td>\n",
       "      <td id=\"T_ae19e_row0_col4\" class=\"data row0 col4\" >0.5393</td>\n",
       "      <td id=\"T_ae19e_row0_col5\" class=\"data row0 col5\" >0.9915</td>\n",
       "      <td id=\"T_ae19e_row0_col6\" class=\"data row0 col6\" >8.8834</td>\n",
       "      <td id=\"T_ae19e_row0_col7\" class=\"data row0 col7\" >0.0367</td>\n",
       "    </tr>\n",
       "    <tr>\n",
       "      <th id=\"T_ae19e_level0_row1\" class=\"row_heading level0 row1\" >xgboost</th>\n",
       "      <td id=\"T_ae19e_row1_col0\" class=\"data row1 col0\" >Extreme Gradient Boosting</td>\n",
       "      <td id=\"T_ae19e_row1_col1\" class=\"data row1 col1\" >7.4058</td>\n",
       "      <td id=\"T_ae19e_row1_col2\" class=\"data row1 col2\" >98.5942</td>\n",
       "      <td id=\"T_ae19e_row1_col3\" class=\"data row1 col3\" >9.3095</td>\n",
       "      <td id=\"T_ae19e_row1_col4\" class=\"data row1 col4\" >0.5977</td>\n",
       "      <td id=\"T_ae19e_row1_col5\" class=\"data row1 col5\" >1.2785</td>\n",
       "      <td id=\"T_ae19e_row1_col6\" class=\"data row1 col6\" >20.0618</td>\n",
       "      <td id=\"T_ae19e_row1_col7\" class=\"data row1 col7\" >0.0767</td>\n",
       "    </tr>\n",
       "    <tr>\n",
       "      <th id=\"T_ae19e_level0_row2\" class=\"row_heading level0 row2\" >lr</th>\n",
       "      <td id=\"T_ae19e_row2_col0\" class=\"data row2 col0\" >Linear Regression</td>\n",
       "      <td id=\"T_ae19e_row2_col1\" class=\"data row2 col1\" >7.4295</td>\n",
       "      <td id=\"T_ae19e_row2_col2\" class=\"data row2 col2\" >92.9883</td>\n",
       "      <td id=\"T_ae19e_row2_col3\" class=\"data row2 col3\" >9.5282</td>\n",
       "      <td id=\"T_ae19e_row2_col4\" class=\"data row2 col4\" >0.4914</td>\n",
       "      <td id=\"T_ae19e_row2_col5\" class=\"data row2 col5\" >1.1323</td>\n",
       "      <td id=\"T_ae19e_row2_col6\" class=\"data row2 col6\" >14.8000</td>\n",
       "      <td id=\"T_ae19e_row2_col7\" class=\"data row2 col7\" >0.0167</td>\n",
       "    </tr>\n",
       "    <tr>\n",
       "      <th id=\"T_ae19e_level0_row3\" class=\"row_heading level0 row3\" >ridge</th>\n",
       "      <td id=\"T_ae19e_row3_col0\" class=\"data row3 col0\" >Ridge Regression</td>\n",
       "      <td id=\"T_ae19e_row3_col1\" class=\"data row3 col1\" >8.2915</td>\n",
       "      <td id=\"T_ae19e_row3_col2\" class=\"data row3 col2\" >110.5813</td>\n",
       "      <td id=\"T_ae19e_row3_col3\" class=\"data row3 col3\" >10.3628</td>\n",
       "      <td id=\"T_ae19e_row3_col4\" class=\"data row3 col4\" >0.3985</td>\n",
       "      <td id=\"T_ae19e_row3_col5\" class=\"data row3 col5\" >1.2941</td>\n",
       "      <td id=\"T_ae19e_row3_col6\" class=\"data row3 col6\" >23.1145</td>\n",
       "      <td id=\"T_ae19e_row3_col7\" class=\"data row3 col7\" >0.0167</td>\n",
       "    </tr>\n",
       "    <tr>\n",
       "      <th id=\"T_ae19e_level0_row4\" class=\"row_heading level0 row4\" >gbr</th>\n",
       "      <td id=\"T_ae19e_row4_col0\" class=\"data row4 col0\" >Gradient Boosting Regressor</td>\n",
       "      <td id=\"T_ae19e_row4_col1\" class=\"data row4 col1\" >8.6622</td>\n",
       "      <td id=\"T_ae19e_row4_col2\" class=\"data row4 col2\" >114.7048</td>\n",
       "      <td id=\"T_ae19e_row4_col3\" class=\"data row4 col3\" >10.3779</td>\n",
       "      <td id=\"T_ae19e_row4_col4\" class=\"data row4 col4\" >0.4622</td>\n",
       "      <td id=\"T_ae19e_row4_col5\" class=\"data row4 col5\" >1.4302</td>\n",
       "      <td id=\"T_ae19e_row4_col6\" class=\"data row4 col6\" >25.5473</td>\n",
       "      <td id=\"T_ae19e_row4_col7\" class=\"data row4 col7\" >0.0400</td>\n",
       "    </tr>\n",
       "    <tr>\n",
       "      <th id=\"T_ae19e_level0_row5\" class=\"row_heading level0 row5\" >et</th>\n",
       "      <td id=\"T_ae19e_row5_col0\" class=\"data row5 col0\" >Extra Trees Regressor</td>\n",
       "      <td id=\"T_ae19e_row5_col1\" class=\"data row5 col1\" >7.0974</td>\n",
       "      <td id=\"T_ae19e_row5_col2\" class=\"data row5 col2\" >112.2069</td>\n",
       "      <td id=\"T_ae19e_row5_col3\" class=\"data row5 col3\" >10.5210</td>\n",
       "      <td id=\"T_ae19e_row5_col4\" class=\"data row5 col4\" >0.3384</td>\n",
       "      <td id=\"T_ae19e_row5_col5\" class=\"data row5 col5\" >1.0539</td>\n",
       "      <td id=\"T_ae19e_row5_col6\" class=\"data row5 col6\" >10.5880</td>\n",
       "      <td id=\"T_ae19e_row5_col7\" class=\"data row5 col7\" >0.1133</td>\n",
       "    </tr>\n",
       "    <tr>\n",
       "      <th id=\"T_ae19e_level0_row6\" class=\"row_heading level0 row6\" >ada</th>\n",
       "      <td id=\"T_ae19e_row6_col0\" class=\"data row6 col0\" >AdaBoost Regressor</td>\n",
       "      <td id=\"T_ae19e_row6_col1\" class=\"data row6 col1\" >8.4856</td>\n",
       "      <td id=\"T_ae19e_row6_col2\" class=\"data row6 col2\" >119.5087</td>\n",
       "      <td id=\"T_ae19e_row6_col3\" class=\"data row6 col3\" >10.7612</td>\n",
       "      <td id=\"T_ae19e_row6_col4\" class=\"data row6 col4\" >0.3462</td>\n",
       "      <td id=\"T_ae19e_row6_col5\" class=\"data row6 col5\" >1.2725</td>\n",
       "      <td id=\"T_ae19e_row6_col6\" class=\"data row6 col6\" >26.9392</td>\n",
       "      <td id=\"T_ae19e_row6_col7\" class=\"data row6 col7\" >0.0433</td>\n",
       "    </tr>\n",
       "    <tr>\n",
       "      <th id=\"T_ae19e_level0_row7\" class=\"row_heading level0 row7\" >rf</th>\n",
       "      <td id=\"T_ae19e_row7_col0\" class=\"data row7 col0\" >Random Forest Regressor</td>\n",
       "      <td id=\"T_ae19e_row7_col1\" class=\"data row7 col1\" >8.5032</td>\n",
       "      <td id=\"T_ae19e_row7_col2\" class=\"data row7 col2\" >121.0152</td>\n",
       "      <td id=\"T_ae19e_row7_col3\" class=\"data row7 col3\" >10.8231</td>\n",
       "      <td id=\"T_ae19e_row7_col4\" class=\"data row7 col4\" >0.3127</td>\n",
       "      <td id=\"T_ae19e_row7_col5\" class=\"data row7 col5\" >1.2604</td>\n",
       "      <td id=\"T_ae19e_row7_col6\" class=\"data row7 col6\" >21.2882</td>\n",
       "      <td id=\"T_ae19e_row7_col7\" class=\"data row7 col7\" >0.2367</td>\n",
       "    </tr>\n",
       "    <tr>\n",
       "      <th id=\"T_ae19e_level0_row8\" class=\"row_heading level0 row8\" >dt</th>\n",
       "      <td id=\"T_ae19e_row8_col0\" class=\"data row8 col0\" >Decision Tree Regressor</td>\n",
       "      <td id=\"T_ae19e_row8_col1\" class=\"data row8 col1\" >7.4828</td>\n",
       "      <td id=\"T_ae19e_row8_col2\" class=\"data row8 col2\" >125.9506</td>\n",
       "      <td id=\"T_ae19e_row8_col3\" class=\"data row8 col3\" >11.1519</td>\n",
       "      <td id=\"T_ae19e_row8_col4\" class=\"data row8 col4\" >0.2160</td>\n",
       "      <td id=\"T_ae19e_row8_col5\" class=\"data row8 col5\" >1.4580</td>\n",
       "      <td id=\"T_ae19e_row8_col6\" class=\"data row8 col6\" >11.2689</td>\n",
       "      <td id=\"T_ae19e_row8_col7\" class=\"data row8 col7\" >0.0133</td>\n",
       "    </tr>\n",
       "    <tr>\n",
       "      <th id=\"T_ae19e_level0_row9\" class=\"row_heading level0 row9\" >omp</th>\n",
       "      <td id=\"T_ae19e_row9_col0\" class=\"data row9 col0\" >Orthogonal Matching Pursuit</td>\n",
       "      <td id=\"T_ae19e_row9_col1\" class=\"data row9 col1\" >8.9579</td>\n",
       "      <td id=\"T_ae19e_row9_col2\" class=\"data row9 col2\" >155.8588</td>\n",
       "      <td id=\"T_ae19e_row9_col3\" class=\"data row9 col3\" >11.8007</td>\n",
       "      <td id=\"T_ae19e_row9_col4\" class=\"data row9 col4\" >0.3199</td>\n",
       "      <td id=\"T_ae19e_row9_col5\" class=\"data row9 col5\" >1.3676</td>\n",
       "      <td id=\"T_ae19e_row9_col6\" class=\"data row9 col6\" >22.2060</td>\n",
       "      <td id=\"T_ae19e_row9_col7\" class=\"data row9 col7\" >0.0133</td>\n",
       "    </tr>\n",
       "    <tr>\n",
       "      <th id=\"T_ae19e_level0_row10\" class=\"row_heading level0 row10\" >lasso</th>\n",
       "      <td id=\"T_ae19e_row10_col0\" class=\"data row10 col0\" >Lasso Regression</td>\n",
       "      <td id=\"T_ae19e_row10_col1\" class=\"data row10 col1\" >9.9207</td>\n",
       "      <td id=\"T_ae19e_row10_col2\" class=\"data row10 col2\" >150.0570</td>\n",
       "      <td id=\"T_ae19e_row10_col3\" class=\"data row10 col3\" >12.1007</td>\n",
       "      <td id=\"T_ae19e_row10_col4\" class=\"data row10 col4\" >0.1691</td>\n",
       "      <td id=\"T_ae19e_row10_col5\" class=\"data row10 col5\" >1.4887</td>\n",
       "      <td id=\"T_ae19e_row10_col6\" class=\"data row10 col6\" >29.3163</td>\n",
       "      <td id=\"T_ae19e_row10_col7\" class=\"data row10 col7\" >0.0167</td>\n",
       "    </tr>\n",
       "    <tr>\n",
       "      <th id=\"T_ae19e_level0_row11\" class=\"row_heading level0 row11\" >llar</th>\n",
       "      <td id=\"T_ae19e_row11_col0\" class=\"data row11 col0\" >Lasso Least Angle Regression</td>\n",
       "      <td id=\"T_ae19e_row11_col1\" class=\"data row11 col1\" >9.4467</td>\n",
       "      <td id=\"T_ae19e_row11_col2\" class=\"data row11 col2\" >168.2142</td>\n",
       "      <td id=\"T_ae19e_row11_col3\" class=\"data row11 col3\" >12.5339</td>\n",
       "      <td id=\"T_ae19e_row11_col4\" class=\"data row11 col4\" >0.2344</td>\n",
       "      <td id=\"T_ae19e_row11_col5\" class=\"data row11 col5\" >1.4098</td>\n",
       "      <td id=\"T_ae19e_row11_col6\" class=\"data row11 col6\" >25.0420</td>\n",
       "      <td id=\"T_ae19e_row11_col7\" class=\"data row11 col7\" >0.0133</td>\n",
       "    </tr>\n",
       "    <tr>\n",
       "      <th id=\"T_ae19e_level0_row12\" class=\"row_heading level0 row12\" >catboost</th>\n",
       "      <td id=\"T_ae19e_row12_col0\" class=\"data row12 col0\" >CatBoost Regressor</td>\n",
       "      <td id=\"T_ae19e_row12_col1\" class=\"data row12 col1\" >10.8443</td>\n",
       "      <td id=\"T_ae19e_row12_col2\" class=\"data row12 col2\" >203.3470</td>\n",
       "      <td id=\"T_ae19e_row12_col3\" class=\"data row12 col3\" >13.6922</td>\n",
       "      <td id=\"T_ae19e_row12_col4\" class=\"data row12 col4\" >0.0006</td>\n",
       "      <td id=\"T_ae19e_row12_col5\" class=\"data row12 col5\" >1.4120</td>\n",
       "      <td id=\"T_ae19e_row12_col6\" class=\"data row12 col6\" >24.8762</td>\n",
       "      <td id=\"T_ae19e_row12_col7\" class=\"data row12 col7\" >0.2767</td>\n",
       "    </tr>\n",
       "    <tr>\n",
       "      <th id=\"T_ae19e_level0_row13\" class=\"row_heading level0 row13\" >dummy</th>\n",
       "      <td id=\"T_ae19e_row13_col0\" class=\"data row13 col0\" >Dummy Regressor</td>\n",
       "      <td id=\"T_ae19e_row13_col1\" class=\"data row13 col1\" >11.6320</td>\n",
       "      <td id=\"T_ae19e_row13_col2\" class=\"data row13 col2\" >239.3109</td>\n",
       "      <td id=\"T_ae19e_row13_col3\" class=\"data row13 col3\" >15.0233</td>\n",
       "      <td id=\"T_ae19e_row13_col4\" class=\"data row13 col4\" >-0.1188</td>\n",
       "      <td id=\"T_ae19e_row13_col5\" class=\"data row13 col5\" >1.5439</td>\n",
       "      <td id=\"T_ae19e_row13_col6\" class=\"data row13 col6\" >28.8882</td>\n",
       "      <td id=\"T_ae19e_row13_col7\" class=\"data row13 col7\" >0.0100</td>\n",
       "    </tr>\n",
       "    <tr>\n",
       "      <th id=\"T_ae19e_level0_row14\" class=\"row_heading level0 row14\" >lightgbm</th>\n",
       "      <td id=\"T_ae19e_row14_col0\" class=\"data row14 col0\" >Light Gradient Boosting Machine</td>\n",
       "      <td id=\"T_ae19e_row14_col1\" class=\"data row14 col1\" >11.9241</td>\n",
       "      <td id=\"T_ae19e_row14_col2\" class=\"data row14 col2\" >240.4460</td>\n",
       "      <td id=\"T_ae19e_row14_col3\" class=\"data row14 col3\" >15.0612</td>\n",
       "      <td id=\"T_ae19e_row14_col4\" class=\"data row14 col4\" >-0.1239</td>\n",
       "      <td id=\"T_ae19e_row14_col5\" class=\"data row14 col5\" >1.5770</td>\n",
       "      <td id=\"T_ae19e_row14_col6\" class=\"data row14 col6\" >30.8719</td>\n",
       "      <td id=\"T_ae19e_row14_col7\" class=\"data row14 col7\" >0.0233</td>\n",
       "    </tr>\n",
       "    <tr>\n",
       "      <th id=\"T_ae19e_level0_row15\" class=\"row_heading level0 row15\" >br</th>\n",
       "      <td id=\"T_ae19e_row15_col0\" class=\"data row15 col0\" >Bayesian Ridge</td>\n",
       "      <td id=\"T_ae19e_row15_col1\" class=\"data row15 col1\" >12.7217</td>\n",
       "      <td id=\"T_ae19e_row15_col2\" class=\"data row15 col2\" >261.4889</td>\n",
       "      <td id=\"T_ae19e_row15_col3\" class=\"data row15 col3\" >15.9506</td>\n",
       "      <td id=\"T_ae19e_row15_col4\" class=\"data row15 col4\" >-0.3654</td>\n",
       "      <td id=\"T_ae19e_row15_col5\" class=\"data row15 col5\" >1.6250</td>\n",
       "      <td id=\"T_ae19e_row15_col6\" class=\"data row15 col6\" >31.9361</td>\n",
       "      <td id=\"T_ae19e_row15_col7\" class=\"data row15 col7\" >0.0133</td>\n",
       "    </tr>\n",
       "    <tr>\n",
       "      <th id=\"T_ae19e_level0_row16\" class=\"row_heading level0 row16\" >en</th>\n",
       "      <td id=\"T_ae19e_row16_col0\" class=\"data row16 col0\" >Elastic Net</td>\n",
       "      <td id=\"T_ae19e_row16_col1\" class=\"data row16 col1\" >13.2092</td>\n",
       "      <td id=\"T_ae19e_row16_col2\" class=\"data row16 col2\" >260.3795</td>\n",
       "      <td id=\"T_ae19e_row16_col3\" class=\"data row16 col3\" >16.0400</td>\n",
       "      <td id=\"T_ae19e_row16_col4\" class=\"data row16 col4\" >-0.5418</td>\n",
       "      <td id=\"T_ae19e_row16_col5\" class=\"data row16 col5\" >1.6603</td>\n",
       "      <td id=\"T_ae19e_row16_col6\" class=\"data row16 col6\" >35.4449</td>\n",
       "      <td id=\"T_ae19e_row16_col7\" class=\"data row16 col7\" >0.0133</td>\n",
       "    </tr>\n",
       "    <tr>\n",
       "      <th id=\"T_ae19e_level0_row17\" class=\"row_heading level0 row17\" >par</th>\n",
       "      <td id=\"T_ae19e_row17_col0\" class=\"data row17 col0\" >Passive Aggressive Regressor</td>\n",
       "      <td id=\"T_ae19e_row17_col1\" class=\"data row17 col1\" >10.1631</td>\n",
       "      <td id=\"T_ae19e_row17_col2\" class=\"data row17 col2\" >310.7998</td>\n",
       "      <td id=\"T_ae19e_row17_col3\" class=\"data row17 col3\" >17.0699</td>\n",
       "      <td id=\"T_ae19e_row17_col4\" class=\"data row17 col4\" >-0.4275</td>\n",
       "      <td id=\"T_ae19e_row17_col5\" class=\"data row17 col5\" >1.6080</td>\n",
       "      <td id=\"T_ae19e_row17_col6\" class=\"data row17 col6\" >5.0419</td>\n",
       "      <td id=\"T_ae19e_row17_col7\" class=\"data row17 col7\" >0.0167</td>\n",
       "    </tr>\n",
       "    <tr>\n",
       "      <th id=\"T_ae19e_level0_row18\" class=\"row_heading level0 row18\" >knn</th>\n",
       "      <td id=\"T_ae19e_row18_col0\" class=\"data row18 col0\" >K Neighbors Regressor</td>\n",
       "      <td id=\"T_ae19e_row18_col1\" class=\"data row18 col1\" >15.8609</td>\n",
       "      <td id=\"T_ae19e_row18_col2\" class=\"data row18 col2\" >422.3081</td>\n",
       "      <td id=\"T_ae19e_row18_col3\" class=\"data row18 col3\" >20.2774</td>\n",
       "      <td id=\"T_ae19e_row18_col4\" class=\"data row18 col4\" >-2.0359</td>\n",
       "      <td id=\"T_ae19e_row18_col5\" class=\"data row18 col5\" >1.7248</td>\n",
       "      <td id=\"T_ae19e_row18_col6\" class=\"data row18 col6\" >34.9199</td>\n",
       "      <td id=\"T_ae19e_row18_col7\" class=\"data row18 col7\" >0.0167</td>\n",
       "    </tr>\n",
       "    <tr>\n",
       "      <th id=\"T_ae19e_level0_row19\" class=\"row_heading level0 row19\" >lar</th>\n",
       "      <td id=\"T_ae19e_row19_col0\" class=\"data row19 col0\" >Least Angle Regression</td>\n",
       "      <td id=\"T_ae19e_row19_col1\" class=\"data row19 col1\" >138.4488</td>\n",
       "      <td id=\"T_ae19e_row19_col2\" class=\"data row19 col2\" >54398.2714</td>\n",
       "      <td id=\"T_ae19e_row19_col3\" class=\"data row19 col3\" >141.2432</td>\n",
       "      <td id=\"T_ae19e_row19_col4\" class=\"data row19 col4\" >-602.7004</td>\n",
       "      <td id=\"T_ae19e_row19_col5\" class=\"data row19 col5\" >2.2901</td>\n",
       "      <td id=\"T_ae19e_row19_col6\" class=\"data row19 col6\" >284.4453</td>\n",
       "      <td id=\"T_ae19e_row19_col7\" class=\"data row19 col7\" >0.0167</td>\n",
       "    </tr>\n",
       "  </tbody>\n",
       "</table>\n"
      ],
      "text/plain": [
       "<pandas.io.formats.style.Styler at 0x175f5766430>"
      ]
     },
     "metadata": {},
     "output_type": "display_data"
    }
   ],
   "source": [
    "best = compare_models(sort = 'RMSE')"
   ]
  },
  {
   "cell_type": "code",
   "execution_count": 101,
   "id": "244bd5a7",
   "metadata": {},
   "outputs": [
    {
     "data": {
      "text/html": [
       "<style type=\"text/css\">\n",
       "</style>\n",
       "<table id=\"T_0321c\">\n",
       "  <thead>\n",
       "    <tr>\n",
       "      <th class=\"blank level0\" >&nbsp;</th>\n",
       "      <th id=\"T_0321c_level0_col0\" class=\"col_heading level0 col0\" >Model</th>\n",
       "      <th id=\"T_0321c_level0_col1\" class=\"col_heading level0 col1\" >MAE</th>\n",
       "      <th id=\"T_0321c_level0_col2\" class=\"col_heading level0 col2\" >MSE</th>\n",
       "      <th id=\"T_0321c_level0_col3\" class=\"col_heading level0 col3\" >RMSE</th>\n",
       "      <th id=\"T_0321c_level0_col4\" class=\"col_heading level0 col4\" >R2</th>\n",
       "      <th id=\"T_0321c_level0_col5\" class=\"col_heading level0 col5\" >RMSLE</th>\n",
       "      <th id=\"T_0321c_level0_col6\" class=\"col_heading level0 col6\" >MAPE</th>\n",
       "    </tr>\n",
       "  </thead>\n",
       "  <tbody>\n",
       "    <tr>\n",
       "      <th id=\"T_0321c_level0_row0\" class=\"row_heading level0 row0\" >0</th>\n",
       "      <td id=\"T_0321c_row0_col0\" class=\"data row0 col0\" >Huber Regressor</td>\n",
       "      <td id=\"T_0321c_row0_col1\" class=\"data row0 col1\" >5.4148</td>\n",
       "      <td id=\"T_0321c_row0_col2\" class=\"data row0 col2\" >76.9378</td>\n",
       "      <td id=\"T_0321c_row0_col3\" class=\"data row0 col3\" >8.7714</td>\n",
       "      <td id=\"T_0321c_row0_col4\" class=\"data row0 col4\" >0.7112</td>\n",
       "      <td id=\"T_0321c_row0_col5\" class=\"data row0 col5\" >0.8229</td>\n",
       "      <td id=\"T_0321c_row0_col6\" class=\"data row0 col6\" >5.1489</td>\n",
       "    </tr>\n",
       "  </tbody>\n",
       "</table>\n"
      ],
      "text/plain": [
       "<pandas.io.formats.style.Styler at 0x175f5a929a0>"
      ]
     },
     "metadata": {},
     "output_type": "display_data"
    },
    {
     "data": {
      "application/vnd.plotly.v1+json": {
       "config": {
        "plotlyServerURL": "https://plot.ly"
       },
       "data": [
        {
         "hovertemplate": "variable=AvgRainfall<br>Date=%{x}<br>value=%{y}<extra></extra>",
         "legendgroup": "AvgRainfall",
         "line": {
          "color": "#636efa",
          "dash": "solid"
         },
         "marker": {
          "symbol": "circle"
         },
         "mode": "lines",
         "name": "AvgRainfall",
         "orientation": "v",
         "showlegend": true,
         "type": "scatter",
         "x": [
          "2016-01-01T00:00:00",
          "2016-02-01T00:00:00",
          "2016-03-01T00:00:00",
          "2016-04-01T00:00:00",
          "2016-05-01T00:00:00",
          "2016-06-01T00:00:00",
          "2016-07-01T00:00:00",
          "2016-08-01T00:00:00",
          "2016-09-01T00:00:00",
          "2016-10-01T00:00:00",
          "2016-11-01T00:00:00",
          "2016-12-01T00:00:00",
          "2017-01-01T00:00:00",
          "2017-02-01T00:00:00",
          "2017-03-01T00:00:00",
          "2017-04-01T00:00:00",
          "2017-05-01T00:00:00",
          "2017-06-01T00:00:00",
          "2017-07-01T00:00:00",
          "2017-08-01T00:00:00",
          "2017-09-01T00:00:00",
          "2017-10-01T00:00:00",
          "2017-11-01T00:00:00",
          "2017-12-01T00:00:00",
          "2018-01-01T00:00:00",
          "2018-02-01T00:00:00",
          "2018-03-01T00:00:00",
          "2018-04-01T00:00:00",
          "2018-05-01T00:00:00",
          "2018-06-01T00:00:00",
          "2018-07-01T00:00:00",
          "2018-08-01T00:00:00",
          "2018-09-01T00:00:00",
          "2018-10-01T00:00:00",
          "2018-11-01T00:00:00",
          "2018-12-01T00:00:00",
          "2019-01-01T00:00:00",
          "2019-02-01T00:00:00",
          "2019-03-01T00:00:00",
          "2019-04-01T00:00:00",
          "2019-05-01T00:00:00",
          "2019-06-01T00:00:00",
          "2019-07-01T00:00:00",
          "2019-08-01T00:00:00",
          "2019-09-01T00:00:00",
          "2019-10-01T00:00:00",
          "2019-11-01T00:00:00",
          "2019-12-01T00:00:00",
          "2020-01-01T00:00:00",
          "2020-02-01T00:00:00",
          "2020-03-01T00:00:00",
          "2020-04-01T00:00:00",
          "2020-05-01T00:00:00",
          "2020-06-01T00:00:00",
          "2020-07-01T00:00:00",
          "2020-08-01T00:00:00",
          "2020-09-01T00:00:00",
          "2020-10-01T00:00:00",
          "2020-11-01T00:00:00",
          "2020-12-01T00:00:00",
          "2021-01-01T00:00:00",
          "2021-02-01T00:00:00",
          "2021-03-01T00:00:00",
          "2021-04-01T00:00:00",
          "2021-05-01T00:00:00",
          "2021-06-01T00:00:00",
          "2021-07-01T00:00:00",
          "2021-08-01T00:00:00",
          "2021-09-01T00:00:00",
          "2021-10-01T00:00:00",
          "2021-11-01T00:00:00",
          "2021-12-01T00:00:00",
          "2022-01-01T00:00:00",
          "2022-02-01T00:00:00",
          "2022-03-01T00:00:00",
          "2022-04-01T00:00:00",
          "2022-05-01T00:00:00",
          "2022-06-01T00:00:00"
         ],
         "xaxis": "x",
         "y": [
          0,
          0.275,
          3.58,
          0.025,
          2.425,
          12.84,
          40.925,
          36.26,
          11.575,
          1.1,
          0,
          0,
          0.85,
          11.9,
          1.72,
          5.1,
          3.76,
          19.95,
          26.7,
          22.5,
          30.5,
          0,
          0.02,
          1.175,
          0.96,
          0,
          0,
          2.625,
          3.84,
          6,
          45.8,
          55.08,
          40.7,
          0,
          0.925,
          0.1,
          6.5,
          5.75,
          1.275,
          2,
          2.66,
          0.06666666666667,
          28.54,
          31.775,
          13.8,
          3.02,
          0.475,
          5.9,
          4.72,
          0.55,
          14.975,
          3.7,
          1.325,
          10.85,
          31.14,
          57.95,
          10.62,
          0,
          0.15,
          0.04,
          7.4,
          0.35,
          0.24,
          0.675,
          18.075,
          5.94,
          71.025,
          49.4,
          46.38,
          13.95,
          0,
          0.8,
          22.175,
          1.775,
          1.16,
          0.025,
          13.05,
          4.16
         ],
         "yaxis": "y"
        },
        {
         "hovertemplate": "variable=Label<br>Date=%{x}<br>value=%{y}<extra></extra>",
         "legendgroup": "Label",
         "line": {
          "color": "#EF553B",
          "dash": "solid"
         },
         "marker": {
          "symbol": "circle"
         },
         "mode": "lines",
         "name": "Label",
         "orientation": "v",
         "showlegend": true,
         "type": "scatter",
         "x": [
          "2016-01-01T00:00:00",
          "2016-02-01T00:00:00",
          "2016-03-01T00:00:00",
          "2016-04-01T00:00:00",
          "2016-05-01T00:00:00",
          "2016-06-01T00:00:00",
          "2016-07-01T00:00:00",
          "2016-08-01T00:00:00",
          "2016-09-01T00:00:00",
          "2016-10-01T00:00:00",
          "2016-11-01T00:00:00",
          "2016-12-01T00:00:00",
          "2017-01-01T00:00:00",
          "2017-02-01T00:00:00",
          "2017-03-01T00:00:00",
          "2017-04-01T00:00:00",
          "2017-05-01T00:00:00",
          "2017-06-01T00:00:00",
          "2017-07-01T00:00:00",
          "2017-08-01T00:00:00",
          "2017-09-01T00:00:00",
          "2017-10-01T00:00:00",
          "2017-11-01T00:00:00",
          "2017-12-01T00:00:00",
          "2018-01-01T00:00:00",
          "2018-02-01T00:00:00",
          "2018-03-01T00:00:00",
          "2018-04-01T00:00:00",
          "2018-05-01T00:00:00",
          "2018-06-01T00:00:00",
          "2018-07-01T00:00:00",
          "2018-08-01T00:00:00",
          "2018-09-01T00:00:00",
          "2018-10-01T00:00:00",
          "2018-11-01T00:00:00",
          "2018-12-01T00:00:00",
          "2019-01-01T00:00:00",
          "2019-02-01T00:00:00",
          "2019-03-01T00:00:00",
          "2019-04-01T00:00:00",
          "2019-05-01T00:00:00",
          "2019-06-01T00:00:00",
          "2019-07-01T00:00:00",
          "2019-08-01T00:00:00",
          "2019-09-01T00:00:00",
          "2019-10-01T00:00:00",
          "2019-11-01T00:00:00",
          "2019-12-01T00:00:00",
          "2020-01-01T00:00:00",
          "2020-02-01T00:00:00",
          "2020-03-01T00:00:00",
          "2020-04-01T00:00:00",
          "2020-05-01T00:00:00",
          "2020-06-01T00:00:00",
          "2020-07-01T00:00:00",
          "2020-08-01T00:00:00",
          "2020-09-01T00:00:00",
          "2020-10-01T00:00:00",
          "2020-11-01T00:00:00",
          "2020-12-01T00:00:00",
          "2021-01-01T00:00:00",
          "2021-02-01T00:00:00",
          "2021-03-01T00:00:00",
          "2021-04-01T00:00:00",
          "2021-05-01T00:00:00",
          "2021-06-01T00:00:00",
          "2021-07-01T00:00:00",
          "2021-08-01T00:00:00",
          "2021-09-01T00:00:00",
          "2021-10-01T00:00:00",
          "2021-11-01T00:00:00",
          "2021-12-01T00:00:00",
          "2022-01-01T00:00:00",
          "2022-02-01T00:00:00",
          "2022-03-01T00:00:00",
          "2022-04-01T00:00:00",
          "2022-05-01T00:00:00",
          "2022-06-01T00:00:00"
         ],
         "xaxis": "x",
         "y": [
          0.1737861549996497,
          1.9048687904646093,
          2.7756531865113945,
          0.8192716873643112,
          3.2303697352319243,
          10.202242307675816,
          33.112350389155495,
          33.387183817760274,
          23.888184919940972,
          1.0804720606718337,
          0.30906814742039695,
          0.23997197671271256,
          0.287580911072211,
          2.0186635465371707,
          2.889447942583956,
          0.9330664434368724,
          3.3441644913044857,
          10.316037063748377,
          33.22614514522806,
          33.50097857383283,
          24.001979676013537,
          1.194266816744395,
          0.42286290349295824,
          0.353766732785274,
          0.4013756671447723,
          2.1324583026097317,
          3.0032426986565173,
          1.046861199509434,
          3.457959247377047,
          10.429831819820938,
          33.33993990130062,
          33.61477332990539,
          24.115774432086095,
          1.3080615728169565,
          0.5366576595655194,
          0.4675614888578354,
          0.5151704232173316,
          2.2462530586822913,
          3.117037454729077,
          1.1606559555819933,
          3.5717540034496067,
          10.543626575893498,
          33.453734657373175,
          33.728568085977955,
          24.229569188158656,
          1.4218563288895152,
          0.650452415638079,
          0.581356244930395,
          0.628965179289893,
          2.3600478147548527,
          3.2308322108016374,
          1.2744507116545547,
          3.685548759522167,
          10.65742133196606,
          33.56752941344574,
          33.84236284205051,
          24.343363944231218,
          1.5356510849620766,
          0.7642471717106402,
          0.6951510010029563,
          0.7427599353624524,
          2.473842570827412,
          3.344626966874197,
          1.388245467727114,
          3.799343515594727,
          10.771216088038619,
          33.6813241695183,
          33.95615759812307,
          24.457158700303776,
          1.6494458410346362,
          0.8780419277831997,
          0.808945757075516,
          0.8565546914350137,
          2.5876373268999733,
          3.4584217229467584,
          1.5020402237996753,
          3.9131382716672882,
          10.88501084411118
         ],
         "yaxis": "y"
        }
       ],
       "layout": {
        "legend": {
         "title": {
          "text": "variable"
         },
         "tracegroupgap": 0
        },
        "margin": {
         "t": 60
        },
        "shapes": [
         {
          "fillcolor": "grey",
          "line": {
           "width": 0
          },
          "opacity": 0.25,
          "type": "rect",
          "x0": "2021-06-01",
          "x1": "2022-06-01",
          "xref": "x",
          "y0": 0,
          "y1": 1,
          "yref": "y domain"
         }
        ],
        "template": {
         "data": {
          "bar": [
           {
            "error_x": {
             "color": "#f2f5fa"
            },
            "error_y": {
             "color": "#f2f5fa"
            },
            "marker": {
             "line": {
              "color": "rgb(17,17,17)",
              "width": 0.5
             },
             "pattern": {
              "fillmode": "overlay",
              "size": 10,
              "solidity": 0.2
             }
            },
            "type": "bar"
           }
          ],
          "barpolar": [
           {
            "marker": {
             "line": {
              "color": "rgb(17,17,17)",
              "width": 0.5
             },
             "pattern": {
              "fillmode": "overlay",
              "size": 10,
              "solidity": 0.2
             }
            },
            "type": "barpolar"
           }
          ],
          "carpet": [
           {
            "aaxis": {
             "endlinecolor": "#A2B1C6",
             "gridcolor": "#506784",
             "linecolor": "#506784",
             "minorgridcolor": "#506784",
             "startlinecolor": "#A2B1C6"
            },
            "baxis": {
             "endlinecolor": "#A2B1C6",
             "gridcolor": "#506784",
             "linecolor": "#506784",
             "minorgridcolor": "#506784",
             "startlinecolor": "#A2B1C6"
            },
            "type": "carpet"
           }
          ],
          "choropleth": [
           {
            "colorbar": {
             "outlinewidth": 0,
             "ticks": ""
            },
            "type": "choropleth"
           }
          ],
          "contour": [
           {
            "colorbar": {
             "outlinewidth": 0,
             "ticks": ""
            },
            "colorscale": [
             [
              0,
              "#0d0887"
             ],
             [
              0.1111111111111111,
              "#46039f"
             ],
             [
              0.2222222222222222,
              "#7201a8"
             ],
             [
              0.3333333333333333,
              "#9c179e"
             ],
             [
              0.4444444444444444,
              "#bd3786"
             ],
             [
              0.5555555555555556,
              "#d8576b"
             ],
             [
              0.6666666666666666,
              "#ed7953"
             ],
             [
              0.7777777777777778,
              "#fb9f3a"
             ],
             [
              0.8888888888888888,
              "#fdca26"
             ],
             [
              1,
              "#f0f921"
             ]
            ],
            "type": "contour"
           }
          ],
          "contourcarpet": [
           {
            "colorbar": {
             "outlinewidth": 0,
             "ticks": ""
            },
            "type": "contourcarpet"
           }
          ],
          "heatmap": [
           {
            "colorbar": {
             "outlinewidth": 0,
             "ticks": ""
            },
            "colorscale": [
             [
              0,
              "#0d0887"
             ],
             [
              0.1111111111111111,
              "#46039f"
             ],
             [
              0.2222222222222222,
              "#7201a8"
             ],
             [
              0.3333333333333333,
              "#9c179e"
             ],
             [
              0.4444444444444444,
              "#bd3786"
             ],
             [
              0.5555555555555556,
              "#d8576b"
             ],
             [
              0.6666666666666666,
              "#ed7953"
             ],
             [
              0.7777777777777778,
              "#fb9f3a"
             ],
             [
              0.8888888888888888,
              "#fdca26"
             ],
             [
              1,
              "#f0f921"
             ]
            ],
            "type": "heatmap"
           }
          ],
          "heatmapgl": [
           {
            "colorbar": {
             "outlinewidth": 0,
             "ticks": ""
            },
            "colorscale": [
             [
              0,
              "#0d0887"
             ],
             [
              0.1111111111111111,
              "#46039f"
             ],
             [
              0.2222222222222222,
              "#7201a8"
             ],
             [
              0.3333333333333333,
              "#9c179e"
             ],
             [
              0.4444444444444444,
              "#bd3786"
             ],
             [
              0.5555555555555556,
              "#d8576b"
             ],
             [
              0.6666666666666666,
              "#ed7953"
             ],
             [
              0.7777777777777778,
              "#fb9f3a"
             ],
             [
              0.8888888888888888,
              "#fdca26"
             ],
             [
              1,
              "#f0f921"
             ]
            ],
            "type": "heatmapgl"
           }
          ],
          "histogram": [
           {
            "marker": {
             "pattern": {
              "fillmode": "overlay",
              "size": 10,
              "solidity": 0.2
             }
            },
            "type": "histogram"
           }
          ],
          "histogram2d": [
           {
            "colorbar": {
             "outlinewidth": 0,
             "ticks": ""
            },
            "colorscale": [
             [
              0,
              "#0d0887"
             ],
             [
              0.1111111111111111,
              "#46039f"
             ],
             [
              0.2222222222222222,
              "#7201a8"
             ],
             [
              0.3333333333333333,
              "#9c179e"
             ],
             [
              0.4444444444444444,
              "#bd3786"
             ],
             [
              0.5555555555555556,
              "#d8576b"
             ],
             [
              0.6666666666666666,
              "#ed7953"
             ],
             [
              0.7777777777777778,
              "#fb9f3a"
             ],
             [
              0.8888888888888888,
              "#fdca26"
             ],
             [
              1,
              "#f0f921"
             ]
            ],
            "type": "histogram2d"
           }
          ],
          "histogram2dcontour": [
           {
            "colorbar": {
             "outlinewidth": 0,
             "ticks": ""
            },
            "colorscale": [
             [
              0,
              "#0d0887"
             ],
             [
              0.1111111111111111,
              "#46039f"
             ],
             [
              0.2222222222222222,
              "#7201a8"
             ],
             [
              0.3333333333333333,
              "#9c179e"
             ],
             [
              0.4444444444444444,
              "#bd3786"
             ],
             [
              0.5555555555555556,
              "#d8576b"
             ],
             [
              0.6666666666666666,
              "#ed7953"
             ],
             [
              0.7777777777777778,
              "#fb9f3a"
             ],
             [
              0.8888888888888888,
              "#fdca26"
             ],
             [
              1,
              "#f0f921"
             ]
            ],
            "type": "histogram2dcontour"
           }
          ],
          "mesh3d": [
           {
            "colorbar": {
             "outlinewidth": 0,
             "ticks": ""
            },
            "type": "mesh3d"
           }
          ],
          "parcoords": [
           {
            "line": {
             "colorbar": {
              "outlinewidth": 0,
              "ticks": ""
             }
            },
            "type": "parcoords"
           }
          ],
          "pie": [
           {
            "automargin": true,
            "type": "pie"
           }
          ],
          "scatter": [
           {
            "marker": {
             "line": {
              "color": "#283442"
             }
            },
            "type": "scatter"
           }
          ],
          "scatter3d": [
           {
            "line": {
             "colorbar": {
              "outlinewidth": 0,
              "ticks": ""
             }
            },
            "marker": {
             "colorbar": {
              "outlinewidth": 0,
              "ticks": ""
             }
            },
            "type": "scatter3d"
           }
          ],
          "scattercarpet": [
           {
            "marker": {
             "colorbar": {
              "outlinewidth": 0,
              "ticks": ""
             }
            },
            "type": "scattercarpet"
           }
          ],
          "scattergeo": [
           {
            "marker": {
             "colorbar": {
              "outlinewidth": 0,
              "ticks": ""
             }
            },
            "type": "scattergeo"
           }
          ],
          "scattergl": [
           {
            "marker": {
             "line": {
              "color": "#283442"
             }
            },
            "type": "scattergl"
           }
          ],
          "scattermapbox": [
           {
            "marker": {
             "colorbar": {
              "outlinewidth": 0,
              "ticks": ""
             }
            },
            "type": "scattermapbox"
           }
          ],
          "scatterpolar": [
           {
            "marker": {
             "colorbar": {
              "outlinewidth": 0,
              "ticks": ""
             }
            },
            "type": "scatterpolar"
           }
          ],
          "scatterpolargl": [
           {
            "marker": {
             "colorbar": {
              "outlinewidth": 0,
              "ticks": ""
             }
            },
            "type": "scatterpolargl"
           }
          ],
          "scatterternary": [
           {
            "marker": {
             "colorbar": {
              "outlinewidth": 0,
              "ticks": ""
             }
            },
            "type": "scatterternary"
           }
          ],
          "surface": [
           {
            "colorbar": {
             "outlinewidth": 0,
             "ticks": ""
            },
            "colorscale": [
             [
              0,
              "#0d0887"
             ],
             [
              0.1111111111111111,
              "#46039f"
             ],
             [
              0.2222222222222222,
              "#7201a8"
             ],
             [
              0.3333333333333333,
              "#9c179e"
             ],
             [
              0.4444444444444444,
              "#bd3786"
             ],
             [
              0.5555555555555556,
              "#d8576b"
             ],
             [
              0.6666666666666666,
              "#ed7953"
             ],
             [
              0.7777777777777778,
              "#fb9f3a"
             ],
             [
              0.8888888888888888,
              "#fdca26"
             ],
             [
              1,
              "#f0f921"
             ]
            ],
            "type": "surface"
           }
          ],
          "table": [
           {
            "cells": {
             "fill": {
              "color": "#506784"
             },
             "line": {
              "color": "rgb(17,17,17)"
             }
            },
            "header": {
             "fill": {
              "color": "#2a3f5f"
             },
             "line": {
              "color": "rgb(17,17,17)"
             }
            },
            "type": "table"
           }
          ]
         },
         "layout": {
          "annotationdefaults": {
           "arrowcolor": "#f2f5fa",
           "arrowhead": 0,
           "arrowwidth": 1
          },
          "autotypenumbers": "strict",
          "coloraxis": {
           "colorbar": {
            "outlinewidth": 0,
            "ticks": ""
           }
          },
          "colorscale": {
           "diverging": [
            [
             0,
             "#8e0152"
            ],
            [
             0.1,
             "#c51b7d"
            ],
            [
             0.2,
             "#de77ae"
            ],
            [
             0.3,
             "#f1b6da"
            ],
            [
             0.4,
             "#fde0ef"
            ],
            [
             0.5,
             "#f7f7f7"
            ],
            [
             0.6,
             "#e6f5d0"
            ],
            [
             0.7,
             "#b8e186"
            ],
            [
             0.8,
             "#7fbc41"
            ],
            [
             0.9,
             "#4d9221"
            ],
            [
             1,
             "#276419"
            ]
           ],
           "sequential": [
            [
             0,
             "#0d0887"
            ],
            [
             0.1111111111111111,
             "#46039f"
            ],
            [
             0.2222222222222222,
             "#7201a8"
            ],
            [
             0.3333333333333333,
             "#9c179e"
            ],
            [
             0.4444444444444444,
             "#bd3786"
            ],
            [
             0.5555555555555556,
             "#d8576b"
            ],
            [
             0.6666666666666666,
             "#ed7953"
            ],
            [
             0.7777777777777778,
             "#fb9f3a"
            ],
            [
             0.8888888888888888,
             "#fdca26"
            ],
            [
             1,
             "#f0f921"
            ]
           ],
           "sequentialminus": [
            [
             0,
             "#0d0887"
            ],
            [
             0.1111111111111111,
             "#46039f"
            ],
            [
             0.2222222222222222,
             "#7201a8"
            ],
            [
             0.3333333333333333,
             "#9c179e"
            ],
            [
             0.4444444444444444,
             "#bd3786"
            ],
            [
             0.5555555555555556,
             "#d8576b"
            ],
            [
             0.6666666666666666,
             "#ed7953"
            ],
            [
             0.7777777777777778,
             "#fb9f3a"
            ],
            [
             0.8888888888888888,
             "#fdca26"
            ],
            [
             1,
             "#f0f921"
            ]
           ]
          },
          "colorway": [
           "#636efa",
           "#EF553B",
           "#00cc96",
           "#ab63fa",
           "#FFA15A",
           "#19d3f3",
           "#FF6692",
           "#B6E880",
           "#FF97FF",
           "#FECB52"
          ],
          "font": {
           "color": "#f2f5fa"
          },
          "geo": {
           "bgcolor": "rgb(17,17,17)",
           "lakecolor": "rgb(17,17,17)",
           "landcolor": "rgb(17,17,17)",
           "showlakes": true,
           "showland": true,
           "subunitcolor": "#506784"
          },
          "hoverlabel": {
           "align": "left"
          },
          "hovermode": "closest",
          "mapbox": {
           "style": "dark"
          },
          "paper_bgcolor": "rgb(17,17,17)",
          "plot_bgcolor": "rgb(17,17,17)",
          "polar": {
           "angularaxis": {
            "gridcolor": "#506784",
            "linecolor": "#506784",
            "ticks": ""
           },
           "bgcolor": "rgb(17,17,17)",
           "radialaxis": {
            "gridcolor": "#506784",
            "linecolor": "#506784",
            "ticks": ""
           }
          },
          "scene": {
           "xaxis": {
            "backgroundcolor": "rgb(17,17,17)",
            "gridcolor": "#506784",
            "gridwidth": 2,
            "linecolor": "#506784",
            "showbackground": true,
            "ticks": "",
            "zerolinecolor": "#C8D4E3"
           },
           "yaxis": {
            "backgroundcolor": "rgb(17,17,17)",
            "gridcolor": "#506784",
            "gridwidth": 2,
            "linecolor": "#506784",
            "showbackground": true,
            "ticks": "",
            "zerolinecolor": "#C8D4E3"
           },
           "zaxis": {
            "backgroundcolor": "rgb(17,17,17)",
            "gridcolor": "#506784",
            "gridwidth": 2,
            "linecolor": "#506784",
            "showbackground": true,
            "ticks": "",
            "zerolinecolor": "#C8D4E3"
           }
          },
          "shapedefaults": {
           "line": {
            "color": "#f2f5fa"
           }
          },
          "sliderdefaults": {
           "bgcolor": "#C8D4E3",
           "bordercolor": "rgb(17,17,17)",
           "borderwidth": 1,
           "tickwidth": 0
          },
          "ternary": {
           "aaxis": {
            "gridcolor": "#506784",
            "linecolor": "#506784",
            "ticks": ""
           },
           "baxis": {
            "gridcolor": "#506784",
            "linecolor": "#506784",
            "ticks": ""
           },
           "bgcolor": "rgb(17,17,17)",
           "caxis": {
            "gridcolor": "#506784",
            "linecolor": "#506784",
            "ticks": ""
           }
          },
          "title": {
           "x": 0.05
          },
          "updatemenudefaults": {
           "bgcolor": "#506784",
           "borderwidth": 0
          },
          "xaxis": {
           "automargin": true,
           "gridcolor": "#283442",
           "linecolor": "#506784",
           "ticks": "",
           "title": {
            "standoff": 15
           },
           "zerolinecolor": "#283442",
           "zerolinewidth": 2
          },
          "yaxis": {
           "automargin": true,
           "gridcolor": "#283442",
           "linecolor": "#506784",
           "ticks": "",
           "title": {
            "standoff": 15
           },
           "zerolinecolor": "#283442",
           "zerolinewidth": 2
          }
         }
        },
        "xaxis": {
         "anchor": "y",
         "domain": [
          0,
          1
         ],
         "title": {
          "text": "Date"
         }
        },
        "yaxis": {
         "anchor": "x",
         "domain": [
          0,
          1
         ],
         "title": {
          "text": "value"
         }
        }
       }
      },
      "text/html": [
       "<div>                            <div id=\"890092c3-4330-455f-9ce6-2cc48bd11317\" class=\"plotly-graph-div\" style=\"height:525px; width:100%;\"></div>            <script type=\"text/javascript\">                require([\"plotly\"], function(Plotly) {                    window.PLOTLYENV=window.PLOTLYENV || {};                                    if (document.getElementById(\"890092c3-4330-455f-9ce6-2cc48bd11317\")) {                    Plotly.newPlot(                        \"890092c3-4330-455f-9ce6-2cc48bd11317\",                        [{\"hovertemplate\":\"variable=AvgRainfall<br>Date=%{x}<br>value=%{y}<extra></extra>\",\"legendgroup\":\"AvgRainfall\",\"line\":{\"color\":\"#636efa\",\"dash\":\"solid\"},\"marker\":{\"symbol\":\"circle\"},\"mode\":\"lines\",\"name\":\"AvgRainfall\",\"orientation\":\"v\",\"showlegend\":true,\"x\":[\"2016-01-01T00:00:00\",\"2016-02-01T00:00:00\",\"2016-03-01T00:00:00\",\"2016-04-01T00:00:00\",\"2016-05-01T00:00:00\",\"2016-06-01T00:00:00\",\"2016-07-01T00:00:00\",\"2016-08-01T00:00:00\",\"2016-09-01T00:00:00\",\"2016-10-01T00:00:00\",\"2016-11-01T00:00:00\",\"2016-12-01T00:00:00\",\"2017-01-01T00:00:00\",\"2017-02-01T00:00:00\",\"2017-03-01T00:00:00\",\"2017-04-01T00:00:00\",\"2017-05-01T00:00:00\",\"2017-06-01T00:00:00\",\"2017-07-01T00:00:00\",\"2017-08-01T00:00:00\",\"2017-09-01T00:00:00\",\"2017-10-01T00:00:00\",\"2017-11-01T00:00:00\",\"2017-12-01T00:00:00\",\"2018-01-01T00:00:00\",\"2018-02-01T00:00:00\",\"2018-03-01T00:00:00\",\"2018-04-01T00:00:00\",\"2018-05-01T00:00:00\",\"2018-06-01T00:00:00\",\"2018-07-01T00:00:00\",\"2018-08-01T00:00:00\",\"2018-09-01T00:00:00\",\"2018-10-01T00:00:00\",\"2018-11-01T00:00:00\",\"2018-12-01T00:00:00\",\"2019-01-01T00:00:00\",\"2019-02-01T00:00:00\",\"2019-03-01T00:00:00\",\"2019-04-01T00:00:00\",\"2019-05-01T00:00:00\",\"2019-06-01T00:00:00\",\"2019-07-01T00:00:00\",\"2019-08-01T00:00:00\",\"2019-09-01T00:00:00\",\"2019-10-01T00:00:00\",\"2019-11-01T00:00:00\",\"2019-12-01T00:00:00\",\"2020-01-01T00:00:00\",\"2020-02-01T00:00:00\",\"2020-03-01T00:00:00\",\"2020-04-01T00:00:00\",\"2020-05-01T00:00:00\",\"2020-06-01T00:00:00\",\"2020-07-01T00:00:00\",\"2020-08-01T00:00:00\",\"2020-09-01T00:00:00\",\"2020-10-01T00:00:00\",\"2020-11-01T00:00:00\",\"2020-12-01T00:00:00\",\"2021-01-01T00:00:00\",\"2021-02-01T00:00:00\",\"2021-03-01T00:00:00\",\"2021-04-01T00:00:00\",\"2021-05-01T00:00:00\",\"2021-06-01T00:00:00\",\"2021-07-01T00:00:00\",\"2021-08-01T00:00:00\",\"2021-09-01T00:00:00\",\"2021-10-01T00:00:00\",\"2021-11-01T00:00:00\",\"2021-12-01T00:00:00\",\"2022-01-01T00:00:00\",\"2022-02-01T00:00:00\",\"2022-03-01T00:00:00\",\"2022-04-01T00:00:00\",\"2022-05-01T00:00:00\",\"2022-06-01T00:00:00\"],\"xaxis\":\"x\",\"y\":[0.0,0.275,3.58,0.025,2.425,12.84,40.925,36.26,11.575,1.1,0.0,0.0,0.85,11.9,1.72,5.1,3.76,19.95,26.7,22.5,30.5,0.0,0.02,1.175,0.96,0.0,0.0,2.625,3.84,6.0,45.8,55.08,40.7,0.0,0.925,0.1,6.5,5.75,1.275,2.0,2.66,0.06666666666667,28.54,31.775,13.8,3.02,0.475,5.9,4.72,0.55,14.975,3.7,1.325,10.85,31.14,57.95,10.62,0.0,0.15,0.04,7.4,0.35,0.24,0.675,18.075,5.94,71.025,49.4,46.38,13.95,0.0,0.8,22.175,1.775,1.16,0.025,13.05,4.16],\"yaxis\":\"y\",\"type\":\"scatter\"},{\"hovertemplate\":\"variable=Label<br>Date=%{x}<br>value=%{y}<extra></extra>\",\"legendgroup\":\"Label\",\"line\":{\"color\":\"#EF553B\",\"dash\":\"solid\"},\"marker\":{\"symbol\":\"circle\"},\"mode\":\"lines\",\"name\":\"Label\",\"orientation\":\"v\",\"showlegend\":true,\"x\":[\"2016-01-01T00:00:00\",\"2016-02-01T00:00:00\",\"2016-03-01T00:00:00\",\"2016-04-01T00:00:00\",\"2016-05-01T00:00:00\",\"2016-06-01T00:00:00\",\"2016-07-01T00:00:00\",\"2016-08-01T00:00:00\",\"2016-09-01T00:00:00\",\"2016-10-01T00:00:00\",\"2016-11-01T00:00:00\",\"2016-12-01T00:00:00\",\"2017-01-01T00:00:00\",\"2017-02-01T00:00:00\",\"2017-03-01T00:00:00\",\"2017-04-01T00:00:00\",\"2017-05-01T00:00:00\",\"2017-06-01T00:00:00\",\"2017-07-01T00:00:00\",\"2017-08-01T00:00:00\",\"2017-09-01T00:00:00\",\"2017-10-01T00:00:00\",\"2017-11-01T00:00:00\",\"2017-12-01T00:00:00\",\"2018-01-01T00:00:00\",\"2018-02-01T00:00:00\",\"2018-03-01T00:00:00\",\"2018-04-01T00:00:00\",\"2018-05-01T00:00:00\",\"2018-06-01T00:00:00\",\"2018-07-01T00:00:00\",\"2018-08-01T00:00:00\",\"2018-09-01T00:00:00\",\"2018-10-01T00:00:00\",\"2018-11-01T00:00:00\",\"2018-12-01T00:00:00\",\"2019-01-01T00:00:00\",\"2019-02-01T00:00:00\",\"2019-03-01T00:00:00\",\"2019-04-01T00:00:00\",\"2019-05-01T00:00:00\",\"2019-06-01T00:00:00\",\"2019-07-01T00:00:00\",\"2019-08-01T00:00:00\",\"2019-09-01T00:00:00\",\"2019-10-01T00:00:00\",\"2019-11-01T00:00:00\",\"2019-12-01T00:00:00\",\"2020-01-01T00:00:00\",\"2020-02-01T00:00:00\",\"2020-03-01T00:00:00\",\"2020-04-01T00:00:00\",\"2020-05-01T00:00:00\",\"2020-06-01T00:00:00\",\"2020-07-01T00:00:00\",\"2020-08-01T00:00:00\",\"2020-09-01T00:00:00\",\"2020-10-01T00:00:00\",\"2020-11-01T00:00:00\",\"2020-12-01T00:00:00\",\"2021-01-01T00:00:00\",\"2021-02-01T00:00:00\",\"2021-03-01T00:00:00\",\"2021-04-01T00:00:00\",\"2021-05-01T00:00:00\",\"2021-06-01T00:00:00\",\"2021-07-01T00:00:00\",\"2021-08-01T00:00:00\",\"2021-09-01T00:00:00\",\"2021-10-01T00:00:00\",\"2021-11-01T00:00:00\",\"2021-12-01T00:00:00\",\"2022-01-01T00:00:00\",\"2022-02-01T00:00:00\",\"2022-03-01T00:00:00\",\"2022-04-01T00:00:00\",\"2022-05-01T00:00:00\",\"2022-06-01T00:00:00\"],\"xaxis\":\"x\",\"y\":[0.1737861549996497,1.9048687904646093,2.7756531865113945,0.8192716873643112,3.2303697352319243,10.202242307675816,33.112350389155495,33.387183817760274,23.888184919940972,1.0804720606718337,0.30906814742039695,0.23997197671271256,0.287580911072211,2.0186635465371707,2.889447942583956,0.9330664434368724,3.3441644913044857,10.316037063748377,33.22614514522806,33.50097857383283,24.001979676013537,1.194266816744395,0.42286290349295824,0.353766732785274,0.4013756671447723,2.1324583026097317,3.0032426986565173,1.046861199509434,3.457959247377047,10.429831819820938,33.33993990130062,33.61477332990539,24.115774432086095,1.3080615728169565,0.5366576595655194,0.4675614888578354,0.5151704232173316,2.2462530586822913,3.117037454729077,1.1606559555819933,3.5717540034496067,10.543626575893498,33.453734657373175,33.728568085977955,24.229569188158656,1.4218563288895152,0.650452415638079,0.581356244930395,0.628965179289893,2.3600478147548527,3.2308322108016374,1.2744507116545547,3.685548759522167,10.65742133196606,33.56752941344574,33.84236284205051,24.343363944231218,1.5356510849620766,0.7642471717106402,0.6951510010029563,0.7427599353624524,2.473842570827412,3.344626966874197,1.388245467727114,3.799343515594727,10.771216088038619,33.6813241695183,33.95615759812307,24.457158700303776,1.6494458410346362,0.8780419277831997,0.808945757075516,0.8565546914350137,2.5876373268999733,3.4584217229467584,1.5020402237996753,3.9131382716672882,10.88501084411118],\"yaxis\":\"y\",\"type\":\"scatter\"}],                        {\"template\":{\"data\":{\"barpolar\":[{\"marker\":{\"line\":{\"color\":\"rgb(17,17,17)\",\"width\":0.5},\"pattern\":{\"fillmode\":\"overlay\",\"size\":10,\"solidity\":0.2}},\"type\":\"barpolar\"}],\"bar\":[{\"error_x\":{\"color\":\"#f2f5fa\"},\"error_y\":{\"color\":\"#f2f5fa\"},\"marker\":{\"line\":{\"color\":\"rgb(17,17,17)\",\"width\":0.5},\"pattern\":{\"fillmode\":\"overlay\",\"size\":10,\"solidity\":0.2}},\"type\":\"bar\"}],\"carpet\":[{\"aaxis\":{\"endlinecolor\":\"#A2B1C6\",\"gridcolor\":\"#506784\",\"linecolor\":\"#506784\",\"minorgridcolor\":\"#506784\",\"startlinecolor\":\"#A2B1C6\"},\"baxis\":{\"endlinecolor\":\"#A2B1C6\",\"gridcolor\":\"#506784\",\"linecolor\":\"#506784\",\"minorgridcolor\":\"#506784\",\"startlinecolor\":\"#A2B1C6\"},\"type\":\"carpet\"}],\"choropleth\":[{\"colorbar\":{\"outlinewidth\":0,\"ticks\":\"\"},\"type\":\"choropleth\"}],\"contourcarpet\":[{\"colorbar\":{\"outlinewidth\":0,\"ticks\":\"\"},\"type\":\"contourcarpet\"}],\"contour\":[{\"colorbar\":{\"outlinewidth\":0,\"ticks\":\"\"},\"colorscale\":[[0.0,\"#0d0887\"],[0.1111111111111111,\"#46039f\"],[0.2222222222222222,\"#7201a8\"],[0.3333333333333333,\"#9c179e\"],[0.4444444444444444,\"#bd3786\"],[0.5555555555555556,\"#d8576b\"],[0.6666666666666666,\"#ed7953\"],[0.7777777777777778,\"#fb9f3a\"],[0.8888888888888888,\"#fdca26\"],[1.0,\"#f0f921\"]],\"type\":\"contour\"}],\"heatmapgl\":[{\"colorbar\":{\"outlinewidth\":0,\"ticks\":\"\"},\"colorscale\":[[0.0,\"#0d0887\"],[0.1111111111111111,\"#46039f\"],[0.2222222222222222,\"#7201a8\"],[0.3333333333333333,\"#9c179e\"],[0.4444444444444444,\"#bd3786\"],[0.5555555555555556,\"#d8576b\"],[0.6666666666666666,\"#ed7953\"],[0.7777777777777778,\"#fb9f3a\"],[0.8888888888888888,\"#fdca26\"],[1.0,\"#f0f921\"]],\"type\":\"heatmapgl\"}],\"heatmap\":[{\"colorbar\":{\"outlinewidth\":0,\"ticks\":\"\"},\"colorscale\":[[0.0,\"#0d0887\"],[0.1111111111111111,\"#46039f\"],[0.2222222222222222,\"#7201a8\"],[0.3333333333333333,\"#9c179e\"],[0.4444444444444444,\"#bd3786\"],[0.5555555555555556,\"#d8576b\"],[0.6666666666666666,\"#ed7953\"],[0.7777777777777778,\"#fb9f3a\"],[0.8888888888888888,\"#fdca26\"],[1.0,\"#f0f921\"]],\"type\":\"heatmap\"}],\"histogram2dcontour\":[{\"colorbar\":{\"outlinewidth\":0,\"ticks\":\"\"},\"colorscale\":[[0.0,\"#0d0887\"],[0.1111111111111111,\"#46039f\"],[0.2222222222222222,\"#7201a8\"],[0.3333333333333333,\"#9c179e\"],[0.4444444444444444,\"#bd3786\"],[0.5555555555555556,\"#d8576b\"],[0.6666666666666666,\"#ed7953\"],[0.7777777777777778,\"#fb9f3a\"],[0.8888888888888888,\"#fdca26\"],[1.0,\"#f0f921\"]],\"type\":\"histogram2dcontour\"}],\"histogram2d\":[{\"colorbar\":{\"outlinewidth\":0,\"ticks\":\"\"},\"colorscale\":[[0.0,\"#0d0887\"],[0.1111111111111111,\"#46039f\"],[0.2222222222222222,\"#7201a8\"],[0.3333333333333333,\"#9c179e\"],[0.4444444444444444,\"#bd3786\"],[0.5555555555555556,\"#d8576b\"],[0.6666666666666666,\"#ed7953\"],[0.7777777777777778,\"#fb9f3a\"],[0.8888888888888888,\"#fdca26\"],[1.0,\"#f0f921\"]],\"type\":\"histogram2d\"}],\"histogram\":[{\"marker\":{\"pattern\":{\"fillmode\":\"overlay\",\"size\":10,\"solidity\":0.2}},\"type\":\"histogram\"}],\"mesh3d\":[{\"colorbar\":{\"outlinewidth\":0,\"ticks\":\"\"},\"type\":\"mesh3d\"}],\"parcoords\":[{\"line\":{\"colorbar\":{\"outlinewidth\":0,\"ticks\":\"\"}},\"type\":\"parcoords\"}],\"pie\":[{\"automargin\":true,\"type\":\"pie\"}],\"scatter3d\":[{\"line\":{\"colorbar\":{\"outlinewidth\":0,\"ticks\":\"\"}},\"marker\":{\"colorbar\":{\"outlinewidth\":0,\"ticks\":\"\"}},\"type\":\"scatter3d\"}],\"scattercarpet\":[{\"marker\":{\"colorbar\":{\"outlinewidth\":0,\"ticks\":\"\"}},\"type\":\"scattercarpet\"}],\"scattergeo\":[{\"marker\":{\"colorbar\":{\"outlinewidth\":0,\"ticks\":\"\"}},\"type\":\"scattergeo\"}],\"scattergl\":[{\"marker\":{\"line\":{\"color\":\"#283442\"}},\"type\":\"scattergl\"}],\"scattermapbox\":[{\"marker\":{\"colorbar\":{\"outlinewidth\":0,\"ticks\":\"\"}},\"type\":\"scattermapbox\"}],\"scatterpolargl\":[{\"marker\":{\"colorbar\":{\"outlinewidth\":0,\"ticks\":\"\"}},\"type\":\"scatterpolargl\"}],\"scatterpolar\":[{\"marker\":{\"colorbar\":{\"outlinewidth\":0,\"ticks\":\"\"}},\"type\":\"scatterpolar\"}],\"scatter\":[{\"marker\":{\"line\":{\"color\":\"#283442\"}},\"type\":\"scatter\"}],\"scatterternary\":[{\"marker\":{\"colorbar\":{\"outlinewidth\":0,\"ticks\":\"\"}},\"type\":\"scatterternary\"}],\"surface\":[{\"colorbar\":{\"outlinewidth\":0,\"ticks\":\"\"},\"colorscale\":[[0.0,\"#0d0887\"],[0.1111111111111111,\"#46039f\"],[0.2222222222222222,\"#7201a8\"],[0.3333333333333333,\"#9c179e\"],[0.4444444444444444,\"#bd3786\"],[0.5555555555555556,\"#d8576b\"],[0.6666666666666666,\"#ed7953\"],[0.7777777777777778,\"#fb9f3a\"],[0.8888888888888888,\"#fdca26\"],[1.0,\"#f0f921\"]],\"type\":\"surface\"}],\"table\":[{\"cells\":{\"fill\":{\"color\":\"#506784\"},\"line\":{\"color\":\"rgb(17,17,17)\"}},\"header\":{\"fill\":{\"color\":\"#2a3f5f\"},\"line\":{\"color\":\"rgb(17,17,17)\"}},\"type\":\"table\"}]},\"layout\":{\"annotationdefaults\":{\"arrowcolor\":\"#f2f5fa\",\"arrowhead\":0,\"arrowwidth\":1},\"autotypenumbers\":\"strict\",\"coloraxis\":{\"colorbar\":{\"outlinewidth\":0,\"ticks\":\"\"}},\"colorscale\":{\"diverging\":[[0,\"#8e0152\"],[0.1,\"#c51b7d\"],[0.2,\"#de77ae\"],[0.3,\"#f1b6da\"],[0.4,\"#fde0ef\"],[0.5,\"#f7f7f7\"],[0.6,\"#e6f5d0\"],[0.7,\"#b8e186\"],[0.8,\"#7fbc41\"],[0.9,\"#4d9221\"],[1,\"#276419\"]],\"sequential\":[[0.0,\"#0d0887\"],[0.1111111111111111,\"#46039f\"],[0.2222222222222222,\"#7201a8\"],[0.3333333333333333,\"#9c179e\"],[0.4444444444444444,\"#bd3786\"],[0.5555555555555556,\"#d8576b\"],[0.6666666666666666,\"#ed7953\"],[0.7777777777777778,\"#fb9f3a\"],[0.8888888888888888,\"#fdca26\"],[1.0,\"#f0f921\"]],\"sequentialminus\":[[0.0,\"#0d0887\"],[0.1111111111111111,\"#46039f\"],[0.2222222222222222,\"#7201a8\"],[0.3333333333333333,\"#9c179e\"],[0.4444444444444444,\"#bd3786\"],[0.5555555555555556,\"#d8576b\"],[0.6666666666666666,\"#ed7953\"],[0.7777777777777778,\"#fb9f3a\"],[0.8888888888888888,\"#fdca26\"],[1.0,\"#f0f921\"]]},\"colorway\":[\"#636efa\",\"#EF553B\",\"#00cc96\",\"#ab63fa\",\"#FFA15A\",\"#19d3f3\",\"#FF6692\",\"#B6E880\",\"#FF97FF\",\"#FECB52\"],\"font\":{\"color\":\"#f2f5fa\"},\"geo\":{\"bgcolor\":\"rgb(17,17,17)\",\"lakecolor\":\"rgb(17,17,17)\",\"landcolor\":\"rgb(17,17,17)\",\"showlakes\":true,\"showland\":true,\"subunitcolor\":\"#506784\"},\"hoverlabel\":{\"align\":\"left\"},\"hovermode\":\"closest\",\"mapbox\":{\"style\":\"dark\"},\"paper_bgcolor\":\"rgb(17,17,17)\",\"plot_bgcolor\":\"rgb(17,17,17)\",\"polar\":{\"angularaxis\":{\"gridcolor\":\"#506784\",\"linecolor\":\"#506784\",\"ticks\":\"\"},\"bgcolor\":\"rgb(17,17,17)\",\"radialaxis\":{\"gridcolor\":\"#506784\",\"linecolor\":\"#506784\",\"ticks\":\"\"}},\"scene\":{\"xaxis\":{\"backgroundcolor\":\"rgb(17,17,17)\",\"gridcolor\":\"#506784\",\"gridwidth\":2,\"linecolor\":\"#506784\",\"showbackground\":true,\"ticks\":\"\",\"zerolinecolor\":\"#C8D4E3\"},\"yaxis\":{\"backgroundcolor\":\"rgb(17,17,17)\",\"gridcolor\":\"#506784\",\"gridwidth\":2,\"linecolor\":\"#506784\",\"showbackground\":true,\"ticks\":\"\",\"zerolinecolor\":\"#C8D4E3\"},\"zaxis\":{\"backgroundcolor\":\"rgb(17,17,17)\",\"gridcolor\":\"#506784\",\"gridwidth\":2,\"linecolor\":\"#506784\",\"showbackground\":true,\"ticks\":\"\",\"zerolinecolor\":\"#C8D4E3\"}},\"shapedefaults\":{\"line\":{\"color\":\"#f2f5fa\"}},\"sliderdefaults\":{\"bgcolor\":\"#C8D4E3\",\"bordercolor\":\"rgb(17,17,17)\",\"borderwidth\":1,\"tickwidth\":0},\"ternary\":{\"aaxis\":{\"gridcolor\":\"#506784\",\"linecolor\":\"#506784\",\"ticks\":\"\"},\"baxis\":{\"gridcolor\":\"#506784\",\"linecolor\":\"#506784\",\"ticks\":\"\"},\"bgcolor\":\"rgb(17,17,17)\",\"caxis\":{\"gridcolor\":\"#506784\",\"linecolor\":\"#506784\",\"ticks\":\"\"}},\"title\":{\"x\":0.05},\"updatemenudefaults\":{\"bgcolor\":\"#506784\",\"borderwidth\":0},\"xaxis\":{\"automargin\":true,\"gridcolor\":\"#283442\",\"linecolor\":\"#506784\",\"ticks\":\"\",\"title\":{\"standoff\":15},\"zerolinecolor\":\"#283442\",\"zerolinewidth\":2},\"yaxis\":{\"automargin\":true,\"gridcolor\":\"#283442\",\"linecolor\":\"#506784\",\"ticks\":\"\",\"title\":{\"standoff\":15},\"zerolinecolor\":\"#283442\",\"zerolinewidth\":2}}},\"xaxis\":{\"anchor\":\"y\",\"domain\":[0.0,1.0],\"title\":{\"text\":\"Date\"}},\"yaxis\":{\"anchor\":\"x\",\"domain\":[0.0,1.0],\"title\":{\"text\":\"value\"}},\"legend\":{\"title\":{\"text\":\"variable\"},\"tracegroupgap\":0},\"margin\":{\"t\":60},\"shapes\":[{\"fillcolor\":\"grey\",\"line\":{\"width\":0},\"opacity\":0.25,\"type\":\"rect\",\"x0\":\"2021-06-01\",\"x1\":\"2022-06-01\",\"xref\":\"x\",\"y0\":0,\"y1\":1,\"yref\":\"y domain\"}]},                        {\"responsive\": true}                    ).then(function(){\n",
       "                            \n",
       "var gd = document.getElementById('890092c3-4330-455f-9ce6-2cc48bd11317');\n",
       "var x = new MutationObserver(function (mutations, observer) {{\n",
       "        var display = window.getComputedStyle(gd).display;\n",
       "        if (!display || display === 'none') {{\n",
       "            console.log([gd, 'removed!']);\n",
       "            Plotly.purge(gd);\n",
       "            observer.disconnect();\n",
       "        }}\n",
       "}});\n",
       "\n",
       "// Listen for the removal of the full notebook cells\n",
       "var notebookContainer = gd.closest('#notebook-container');\n",
       "if (notebookContainer) {{\n",
       "    x.observe(notebookContainer, {childList: true});\n",
       "}}\n",
       "\n",
       "// Listen for the clearing of the current output cell\n",
       "var outputEl = gd.closest('.output');\n",
       "if (outputEl) {{\n",
       "    x.observe(outputEl, {childList: true});\n",
       "}}\n",
       "\n",
       "                        })                };                });            </script>        </div>"
      ]
     },
     "metadata": {},
     "output_type": "display_data"
    }
   ],
   "source": [
    "# generate predictions on the original dataset\n",
    "predictions = predict_model(best, data=RainfallData)\n",
    "# add a date column in the dataset\n",
    "predictions['Date'] = pd.date_range(start='2016-01-01', end = '2022-06-01', freq = 'MS')\n",
    "# line plot\n",
    "fig = px.line(predictions, x='Date', y=[\"AvgRainfall\", \"Label\"], template = 'plotly_dark')\n",
    "# add a vertical rectange for test-set separation\n",
    "fig.add_vrect(x0=\"2021-06-01\", x1=\"2022-06-01\", fillcolor=\"grey\", opacity=0.25, line_width=0)\n",
    "fig.show()"
   ]
  },
  {
   "cell_type": "code",
   "execution_count": 102,
   "id": "b43f7ad9",
   "metadata": {},
   "outputs": [],
   "source": [
    "final_best = finalize_model(best)"
   ]
  },
  {
   "cell_type": "code",
   "execution_count": 103,
   "id": "16ff1175",
   "metadata": {},
   "outputs": [
    {
     "name": "stdout",
     "output_type": "stream",
     "text": [
      "Transformation Pipeline and Model Successfully Saved\n"
     ]
    },
    {
     "data": {
      "text/plain": [
       "(Pipeline(memory=None,\n",
       "          steps=[('dtypes',\n",
       "                  DataTypes_Auto_infer(categorical_features=[],\n",
       "                                       display_types=True, features_todrop=[],\n",
       "                                       id_columns=[], ml_usecase='regression',\n",
       "                                       numerical_features=['Year', 'Series'],\n",
       "                                       target='AvgRainfall', time_features=[])),\n",
       "                 ('imputer',\n",
       "                  Simple_Imputer(categorical_strategy='not_available',\n",
       "                                 fill_value_categorical=None,\n",
       "                                 fill_value_numerical=No...\n",
       "                 ('dummy', Dummify(target='AvgRainfall')),\n",
       "                 ('fix_perfect', Remove_100(target='AvgRainfall')),\n",
       "                 ('clean_names', Clean_Colum_Names()),\n",
       "                 ('feature_select', 'passthrough'), ('fix_multi', 'passthrough'),\n",
       "                 ('dfs', 'passthrough'), ('pca', 'passthrough'),\n",
       "                 ['trained_model',\n",
       "                  HuberRegressor(alpha=0.0001, epsilon=1.35, fit_intercept=True,\n",
       "                                 max_iter=100, tol=1e-05, warm_start=False)]],\n",
       "          verbose=False),\n",
       " 'AvgRainfallForecastingModel.pkl')"
      ]
     },
     "execution_count": 103,
     "metadata": {},
     "output_type": "execute_result"
    }
   ],
   "source": [
    "save_model(final_best, 'AvgRainfallForecastingModel')"
   ]
  },
  {
   "cell_type": "code",
   "execution_count": 104,
   "id": "5cdc1cb8",
   "metadata": {},
   "outputs": [
    {
     "data": {
      "text/html": [
       "<style type=\"text/css\">\n",
       "#T_595df_row17_col1, #T_595df_row42_col1 {\n",
       "  background-color: lightgreen;\n",
       "}\n",
       "</style>\n",
       "<table id=\"T_595df\">\n",
       "  <thead>\n",
       "    <tr>\n",
       "      <th class=\"blank level0\" >&nbsp;</th>\n",
       "      <th id=\"T_595df_level0_col0\" class=\"col_heading level0 col0\" >Description</th>\n",
       "      <th id=\"T_595df_level0_col1\" class=\"col_heading level0 col1\" >Value</th>\n",
       "    </tr>\n",
       "  </thead>\n",
       "  <tbody>\n",
       "    <tr>\n",
       "      <th id=\"T_595df_level0_row0\" class=\"row_heading level0 row0\" >0</th>\n",
       "      <td id=\"T_595df_row0_col0\" class=\"data row0 col0\" >session_id</td>\n",
       "      <td id=\"T_595df_row0_col1\" class=\"data row0 col1\" >104</td>\n",
       "    </tr>\n",
       "    <tr>\n",
       "      <th id=\"T_595df_level0_row1\" class=\"row_heading level0 row1\" >1</th>\n",
       "      <td id=\"T_595df_row1_col0\" class=\"data row1 col0\" >Target</td>\n",
       "      <td id=\"T_595df_row1_col1\" class=\"data row1 col1\" >UnemploymentRate</td>\n",
       "    </tr>\n",
       "    <tr>\n",
       "      <th id=\"T_595df_level0_row2\" class=\"row_heading level0 row2\" >2</th>\n",
       "      <td id=\"T_595df_row2_col0\" class=\"data row2 col0\" >Original Data</td>\n",
       "      <td id=\"T_595df_row2_col1\" class=\"data row2 col1\" >(66, 4)</td>\n",
       "    </tr>\n",
       "    <tr>\n",
       "      <th id=\"T_595df_level0_row3\" class=\"row_heading level0 row3\" >3</th>\n",
       "      <td id=\"T_595df_row3_col0\" class=\"data row3 col0\" >Missing Values</td>\n",
       "      <td id=\"T_595df_row3_col1\" class=\"data row3 col1\" >False</td>\n",
       "    </tr>\n",
       "    <tr>\n",
       "      <th id=\"T_595df_level0_row4\" class=\"row_heading level0 row4\" >4</th>\n",
       "      <td id=\"T_595df_row4_col0\" class=\"data row4 col0\" >Numeric Features</td>\n",
       "      <td id=\"T_595df_row4_col1\" class=\"data row4 col1\" >2</td>\n",
       "    </tr>\n",
       "    <tr>\n",
       "      <th id=\"T_595df_level0_row5\" class=\"row_heading level0 row5\" >5</th>\n",
       "      <td id=\"T_595df_row5_col0\" class=\"data row5 col0\" >Categorical Features</td>\n",
       "      <td id=\"T_595df_row5_col1\" class=\"data row5 col1\" >1</td>\n",
       "    </tr>\n",
       "    <tr>\n",
       "      <th id=\"T_595df_level0_row6\" class=\"row_heading level0 row6\" >6</th>\n",
       "      <td id=\"T_595df_row6_col0\" class=\"data row6 col0\" >Ordinal Features</td>\n",
       "      <td id=\"T_595df_row6_col1\" class=\"data row6 col1\" >False</td>\n",
       "    </tr>\n",
       "    <tr>\n",
       "      <th id=\"T_595df_level0_row7\" class=\"row_heading level0 row7\" >7</th>\n",
       "      <td id=\"T_595df_row7_col0\" class=\"data row7 col0\" >High Cardinality Features</td>\n",
       "      <td id=\"T_595df_row7_col1\" class=\"data row7 col1\" >False</td>\n",
       "    </tr>\n",
       "    <tr>\n",
       "      <th id=\"T_595df_level0_row8\" class=\"row_heading level0 row8\" >8</th>\n",
       "      <td id=\"T_595df_row8_col0\" class=\"data row8 col0\" >High Cardinality Method</td>\n",
       "      <td id=\"T_595df_row8_col1\" class=\"data row8 col1\" >None</td>\n",
       "    </tr>\n",
       "    <tr>\n",
       "      <th id=\"T_595df_level0_row9\" class=\"row_heading level0 row9\" >9</th>\n",
       "      <td id=\"T_595df_row9_col0\" class=\"data row9 col0\" >Transformed Train Set</td>\n",
       "      <td id=\"T_595df_row9_col1\" class=\"data row9 col1\" >(66, 14)</td>\n",
       "    </tr>\n",
       "    <tr>\n",
       "      <th id=\"T_595df_level0_row10\" class=\"row_heading level0 row10\" >10</th>\n",
       "      <td id=\"T_595df_row10_col0\" class=\"data row10 col0\" >Transformed Test Set</td>\n",
       "      <td id=\"T_595df_row10_col1\" class=\"data row10 col1\" >(12, 14)</td>\n",
       "    </tr>\n",
       "    <tr>\n",
       "      <th id=\"T_595df_level0_row11\" class=\"row_heading level0 row11\" >11</th>\n",
       "      <td id=\"T_595df_row11_col0\" class=\"data row11 col0\" >Shuffle Train-Test</td>\n",
       "      <td id=\"T_595df_row11_col1\" class=\"data row11 col1\" >True</td>\n",
       "    </tr>\n",
       "    <tr>\n",
       "      <th id=\"T_595df_level0_row12\" class=\"row_heading level0 row12\" >12</th>\n",
       "      <td id=\"T_595df_row12_col0\" class=\"data row12 col0\" >Stratify Train-Test</td>\n",
       "      <td id=\"T_595df_row12_col1\" class=\"data row12 col1\" >False</td>\n",
       "    </tr>\n",
       "    <tr>\n",
       "      <th id=\"T_595df_level0_row13\" class=\"row_heading level0 row13\" >13</th>\n",
       "      <td id=\"T_595df_row13_col0\" class=\"data row13 col0\" >Fold Generator</td>\n",
       "      <td id=\"T_595df_row13_col1\" class=\"data row13 col1\" >TimeSeriesSplit</td>\n",
       "    </tr>\n",
       "    <tr>\n",
       "      <th id=\"T_595df_level0_row14\" class=\"row_heading level0 row14\" >14</th>\n",
       "      <td id=\"T_595df_row14_col0\" class=\"data row14 col0\" >Fold Number</td>\n",
       "      <td id=\"T_595df_row14_col1\" class=\"data row14 col1\" >3</td>\n",
       "    </tr>\n",
       "    <tr>\n",
       "      <th id=\"T_595df_level0_row15\" class=\"row_heading level0 row15\" >15</th>\n",
       "      <td id=\"T_595df_row15_col0\" class=\"data row15 col0\" >CPU Jobs</td>\n",
       "      <td id=\"T_595df_row15_col1\" class=\"data row15 col1\" >-1</td>\n",
       "    </tr>\n",
       "    <tr>\n",
       "      <th id=\"T_595df_level0_row16\" class=\"row_heading level0 row16\" >16</th>\n",
       "      <td id=\"T_595df_row16_col0\" class=\"data row16 col0\" >Use GPU</td>\n",
       "      <td id=\"T_595df_row16_col1\" class=\"data row16 col1\" >False</td>\n",
       "    </tr>\n",
       "    <tr>\n",
       "      <th id=\"T_595df_level0_row17\" class=\"row_heading level0 row17\" >17</th>\n",
       "      <td id=\"T_595df_row17_col0\" class=\"data row17 col0\" >Log Experiment</td>\n",
       "      <td id=\"T_595df_row17_col1\" class=\"data row17 col1\" >True</td>\n",
       "    </tr>\n",
       "    <tr>\n",
       "      <th id=\"T_595df_level0_row18\" class=\"row_heading level0 row18\" >18</th>\n",
       "      <td id=\"T_595df_row18_col0\" class=\"data row18 col0\" >Experiment Name</td>\n",
       "      <td id=\"T_595df_row18_col1\" class=\"data row18 col1\" >UnemploymentRate</td>\n",
       "    </tr>\n",
       "    <tr>\n",
       "      <th id=\"T_595df_level0_row19\" class=\"row_heading level0 row19\" >19</th>\n",
       "      <td id=\"T_595df_row19_col0\" class=\"data row19 col0\" >USI</td>\n",
       "      <td id=\"T_595df_row19_col1\" class=\"data row19 col1\" >27aa</td>\n",
       "    </tr>\n",
       "    <tr>\n",
       "      <th id=\"T_595df_level0_row20\" class=\"row_heading level0 row20\" >20</th>\n",
       "      <td id=\"T_595df_row20_col0\" class=\"data row20 col0\" >Imputation Type</td>\n",
       "      <td id=\"T_595df_row20_col1\" class=\"data row20 col1\" >simple</td>\n",
       "    </tr>\n",
       "    <tr>\n",
       "      <th id=\"T_595df_level0_row21\" class=\"row_heading level0 row21\" >21</th>\n",
       "      <td id=\"T_595df_row21_col0\" class=\"data row21 col0\" >Iterative Imputation Iteration</td>\n",
       "      <td id=\"T_595df_row21_col1\" class=\"data row21 col1\" >None</td>\n",
       "    </tr>\n",
       "    <tr>\n",
       "      <th id=\"T_595df_level0_row22\" class=\"row_heading level0 row22\" >22</th>\n",
       "      <td id=\"T_595df_row22_col0\" class=\"data row22 col0\" >Numeric Imputer</td>\n",
       "      <td id=\"T_595df_row22_col1\" class=\"data row22 col1\" >mean</td>\n",
       "    </tr>\n",
       "    <tr>\n",
       "      <th id=\"T_595df_level0_row23\" class=\"row_heading level0 row23\" >23</th>\n",
       "      <td id=\"T_595df_row23_col0\" class=\"data row23 col0\" >Iterative Imputation Numeric Model</td>\n",
       "      <td id=\"T_595df_row23_col1\" class=\"data row23 col1\" >None</td>\n",
       "    </tr>\n",
       "    <tr>\n",
       "      <th id=\"T_595df_level0_row24\" class=\"row_heading level0 row24\" >24</th>\n",
       "      <td id=\"T_595df_row24_col0\" class=\"data row24 col0\" >Categorical Imputer</td>\n",
       "      <td id=\"T_595df_row24_col1\" class=\"data row24 col1\" >constant</td>\n",
       "    </tr>\n",
       "    <tr>\n",
       "      <th id=\"T_595df_level0_row25\" class=\"row_heading level0 row25\" >25</th>\n",
       "      <td id=\"T_595df_row25_col0\" class=\"data row25 col0\" >Iterative Imputation Categorical Model</td>\n",
       "      <td id=\"T_595df_row25_col1\" class=\"data row25 col1\" >None</td>\n",
       "    </tr>\n",
       "    <tr>\n",
       "      <th id=\"T_595df_level0_row26\" class=\"row_heading level0 row26\" >26</th>\n",
       "      <td id=\"T_595df_row26_col0\" class=\"data row26 col0\" >Unknown Categoricals Handling</td>\n",
       "      <td id=\"T_595df_row26_col1\" class=\"data row26 col1\" >least_frequent</td>\n",
       "    </tr>\n",
       "    <tr>\n",
       "      <th id=\"T_595df_level0_row27\" class=\"row_heading level0 row27\" >27</th>\n",
       "      <td id=\"T_595df_row27_col0\" class=\"data row27 col0\" >Normalize</td>\n",
       "      <td id=\"T_595df_row27_col1\" class=\"data row27 col1\" >False</td>\n",
       "    </tr>\n",
       "    <tr>\n",
       "      <th id=\"T_595df_level0_row28\" class=\"row_heading level0 row28\" >28</th>\n",
       "      <td id=\"T_595df_row28_col0\" class=\"data row28 col0\" >Normalize Method</td>\n",
       "      <td id=\"T_595df_row28_col1\" class=\"data row28 col1\" >None</td>\n",
       "    </tr>\n",
       "    <tr>\n",
       "      <th id=\"T_595df_level0_row29\" class=\"row_heading level0 row29\" >29</th>\n",
       "      <td id=\"T_595df_row29_col0\" class=\"data row29 col0\" >Transformation</td>\n",
       "      <td id=\"T_595df_row29_col1\" class=\"data row29 col1\" >False</td>\n",
       "    </tr>\n",
       "    <tr>\n",
       "      <th id=\"T_595df_level0_row30\" class=\"row_heading level0 row30\" >30</th>\n",
       "      <td id=\"T_595df_row30_col0\" class=\"data row30 col0\" >Transformation Method</td>\n",
       "      <td id=\"T_595df_row30_col1\" class=\"data row30 col1\" >None</td>\n",
       "    </tr>\n",
       "    <tr>\n",
       "      <th id=\"T_595df_level0_row31\" class=\"row_heading level0 row31\" >31</th>\n",
       "      <td id=\"T_595df_row31_col0\" class=\"data row31 col0\" >PCA</td>\n",
       "      <td id=\"T_595df_row31_col1\" class=\"data row31 col1\" >False</td>\n",
       "    </tr>\n",
       "    <tr>\n",
       "      <th id=\"T_595df_level0_row32\" class=\"row_heading level0 row32\" >32</th>\n",
       "      <td id=\"T_595df_row32_col0\" class=\"data row32 col0\" >PCA Method</td>\n",
       "      <td id=\"T_595df_row32_col1\" class=\"data row32 col1\" >None</td>\n",
       "    </tr>\n",
       "    <tr>\n",
       "      <th id=\"T_595df_level0_row33\" class=\"row_heading level0 row33\" >33</th>\n",
       "      <td id=\"T_595df_row33_col0\" class=\"data row33 col0\" >PCA Components</td>\n",
       "      <td id=\"T_595df_row33_col1\" class=\"data row33 col1\" >None</td>\n",
       "    </tr>\n",
       "    <tr>\n",
       "      <th id=\"T_595df_level0_row34\" class=\"row_heading level0 row34\" >34</th>\n",
       "      <td id=\"T_595df_row34_col0\" class=\"data row34 col0\" >Ignore Low Variance</td>\n",
       "      <td id=\"T_595df_row34_col1\" class=\"data row34 col1\" >False</td>\n",
       "    </tr>\n",
       "    <tr>\n",
       "      <th id=\"T_595df_level0_row35\" class=\"row_heading level0 row35\" >35</th>\n",
       "      <td id=\"T_595df_row35_col0\" class=\"data row35 col0\" >Combine Rare Levels</td>\n",
       "      <td id=\"T_595df_row35_col1\" class=\"data row35 col1\" >False</td>\n",
       "    </tr>\n",
       "    <tr>\n",
       "      <th id=\"T_595df_level0_row36\" class=\"row_heading level0 row36\" >36</th>\n",
       "      <td id=\"T_595df_row36_col0\" class=\"data row36 col0\" >Rare Level Threshold</td>\n",
       "      <td id=\"T_595df_row36_col1\" class=\"data row36 col1\" >None</td>\n",
       "    </tr>\n",
       "    <tr>\n",
       "      <th id=\"T_595df_level0_row37\" class=\"row_heading level0 row37\" >37</th>\n",
       "      <td id=\"T_595df_row37_col0\" class=\"data row37 col0\" >Numeric Binning</td>\n",
       "      <td id=\"T_595df_row37_col1\" class=\"data row37 col1\" >False</td>\n",
       "    </tr>\n",
       "    <tr>\n",
       "      <th id=\"T_595df_level0_row38\" class=\"row_heading level0 row38\" >38</th>\n",
       "      <td id=\"T_595df_row38_col0\" class=\"data row38 col0\" >Remove Outliers</td>\n",
       "      <td id=\"T_595df_row38_col1\" class=\"data row38 col1\" >False</td>\n",
       "    </tr>\n",
       "    <tr>\n",
       "      <th id=\"T_595df_level0_row39\" class=\"row_heading level0 row39\" >39</th>\n",
       "      <td id=\"T_595df_row39_col0\" class=\"data row39 col0\" >Outliers Threshold</td>\n",
       "      <td id=\"T_595df_row39_col1\" class=\"data row39 col1\" >None</td>\n",
       "    </tr>\n",
       "    <tr>\n",
       "      <th id=\"T_595df_level0_row40\" class=\"row_heading level0 row40\" >40</th>\n",
       "      <td id=\"T_595df_row40_col0\" class=\"data row40 col0\" >Remove Multicollinearity</td>\n",
       "      <td id=\"T_595df_row40_col1\" class=\"data row40 col1\" >False</td>\n",
       "    </tr>\n",
       "    <tr>\n",
       "      <th id=\"T_595df_level0_row41\" class=\"row_heading level0 row41\" >41</th>\n",
       "      <td id=\"T_595df_row41_col0\" class=\"data row41 col0\" >Multicollinearity Threshold</td>\n",
       "      <td id=\"T_595df_row41_col1\" class=\"data row41 col1\" >None</td>\n",
       "    </tr>\n",
       "    <tr>\n",
       "      <th id=\"T_595df_level0_row42\" class=\"row_heading level0 row42\" >42</th>\n",
       "      <td id=\"T_595df_row42_col0\" class=\"data row42 col0\" >Remove Perfect Collinearity</td>\n",
       "      <td id=\"T_595df_row42_col1\" class=\"data row42 col1\" >True</td>\n",
       "    </tr>\n",
       "    <tr>\n",
       "      <th id=\"T_595df_level0_row43\" class=\"row_heading level0 row43\" >43</th>\n",
       "      <td id=\"T_595df_row43_col0\" class=\"data row43 col0\" >Clustering</td>\n",
       "      <td id=\"T_595df_row43_col1\" class=\"data row43 col1\" >False</td>\n",
       "    </tr>\n",
       "    <tr>\n",
       "      <th id=\"T_595df_level0_row44\" class=\"row_heading level0 row44\" >44</th>\n",
       "      <td id=\"T_595df_row44_col0\" class=\"data row44 col0\" >Clustering Iteration</td>\n",
       "      <td id=\"T_595df_row44_col1\" class=\"data row44 col1\" >None</td>\n",
       "    </tr>\n",
       "    <tr>\n",
       "      <th id=\"T_595df_level0_row45\" class=\"row_heading level0 row45\" >45</th>\n",
       "      <td id=\"T_595df_row45_col0\" class=\"data row45 col0\" >Polynomial Features</td>\n",
       "      <td id=\"T_595df_row45_col1\" class=\"data row45 col1\" >False</td>\n",
       "    </tr>\n",
       "    <tr>\n",
       "      <th id=\"T_595df_level0_row46\" class=\"row_heading level0 row46\" >46</th>\n",
       "      <td id=\"T_595df_row46_col0\" class=\"data row46 col0\" >Polynomial Degree</td>\n",
       "      <td id=\"T_595df_row46_col1\" class=\"data row46 col1\" >None</td>\n",
       "    </tr>\n",
       "    <tr>\n",
       "      <th id=\"T_595df_level0_row47\" class=\"row_heading level0 row47\" >47</th>\n",
       "      <td id=\"T_595df_row47_col0\" class=\"data row47 col0\" >Trignometry Features</td>\n",
       "      <td id=\"T_595df_row47_col1\" class=\"data row47 col1\" >False</td>\n",
       "    </tr>\n",
       "    <tr>\n",
       "      <th id=\"T_595df_level0_row48\" class=\"row_heading level0 row48\" >48</th>\n",
       "      <td id=\"T_595df_row48_col0\" class=\"data row48 col0\" >Polynomial Threshold</td>\n",
       "      <td id=\"T_595df_row48_col1\" class=\"data row48 col1\" >None</td>\n",
       "    </tr>\n",
       "    <tr>\n",
       "      <th id=\"T_595df_level0_row49\" class=\"row_heading level0 row49\" >49</th>\n",
       "      <td id=\"T_595df_row49_col0\" class=\"data row49 col0\" >Group Features</td>\n",
       "      <td id=\"T_595df_row49_col1\" class=\"data row49 col1\" >False</td>\n",
       "    </tr>\n",
       "    <tr>\n",
       "      <th id=\"T_595df_level0_row50\" class=\"row_heading level0 row50\" >50</th>\n",
       "      <td id=\"T_595df_row50_col0\" class=\"data row50 col0\" >Feature Selection</td>\n",
       "      <td id=\"T_595df_row50_col1\" class=\"data row50 col1\" >False</td>\n",
       "    </tr>\n",
       "    <tr>\n",
       "      <th id=\"T_595df_level0_row51\" class=\"row_heading level0 row51\" >51</th>\n",
       "      <td id=\"T_595df_row51_col0\" class=\"data row51 col0\" >Feature Selection Method</td>\n",
       "      <td id=\"T_595df_row51_col1\" class=\"data row51 col1\" >classic</td>\n",
       "    </tr>\n",
       "    <tr>\n",
       "      <th id=\"T_595df_level0_row52\" class=\"row_heading level0 row52\" >52</th>\n",
       "      <td id=\"T_595df_row52_col0\" class=\"data row52 col0\" >Features Selection Threshold</td>\n",
       "      <td id=\"T_595df_row52_col1\" class=\"data row52 col1\" >None</td>\n",
       "    </tr>\n",
       "    <tr>\n",
       "      <th id=\"T_595df_level0_row53\" class=\"row_heading level0 row53\" >53</th>\n",
       "      <td id=\"T_595df_row53_col0\" class=\"data row53 col0\" >Feature Interaction</td>\n",
       "      <td id=\"T_595df_row53_col1\" class=\"data row53 col1\" >False</td>\n",
       "    </tr>\n",
       "    <tr>\n",
       "      <th id=\"T_595df_level0_row54\" class=\"row_heading level0 row54\" >54</th>\n",
       "      <td id=\"T_595df_row54_col0\" class=\"data row54 col0\" >Feature Ratio</td>\n",
       "      <td id=\"T_595df_row54_col1\" class=\"data row54 col1\" >False</td>\n",
       "    </tr>\n",
       "    <tr>\n",
       "      <th id=\"T_595df_level0_row55\" class=\"row_heading level0 row55\" >55</th>\n",
       "      <td id=\"T_595df_row55_col0\" class=\"data row55 col0\" >Interaction Threshold</td>\n",
       "      <td id=\"T_595df_row55_col1\" class=\"data row55 col1\" >None</td>\n",
       "    </tr>\n",
       "    <tr>\n",
       "      <th id=\"T_595df_level0_row56\" class=\"row_heading level0 row56\" >56</th>\n",
       "      <td id=\"T_595df_row56_col0\" class=\"data row56 col0\" >Transform Target</td>\n",
       "      <td id=\"T_595df_row56_col1\" class=\"data row56 col1\" >False</td>\n",
       "    </tr>\n",
       "    <tr>\n",
       "      <th id=\"T_595df_level0_row57\" class=\"row_heading level0 row57\" >57</th>\n",
       "      <td id=\"T_595df_row57_col0\" class=\"data row57 col0\" >Transform Target Method</td>\n",
       "      <td id=\"T_595df_row57_col1\" class=\"data row57 col1\" >box-cox</td>\n",
       "    </tr>\n",
       "  </tbody>\n",
       "</table>\n"
      ],
      "text/plain": [
       "<pandas.io.formats.style.Styler at 0x175e759c340>"
      ]
     },
     "metadata": {},
     "output_type": "display_data"
    }
   ],
   "source": [
    "# initialize setup\n",
    "s_UR = setup(data = trainUR, test_data = testUR, target = 'UnemploymentRate', fold_strategy = 'timeseries',numeric_features = ['Year', 'Series'], fold = 3, session_id = 104,log_experiment=True,experiment_name='UnemploymentRate')"
   ]
  },
  {
   "cell_type": "code",
   "execution_count": null,
   "id": "69894693",
   "metadata": {},
   "outputs": [
    {
     "data": {
      "application/vnd.jupyter.widget-view+json": {
       "model_id": "e489913aa6894090867fea27ed242781",
       "version_major": 2,
       "version_minor": 0
      },
      "text/plain": [
       "IntProgress(value=0, description='Processing: ', max=104)"
      ]
     },
     "metadata": {},
     "output_type": "display_data"
    },
    {
     "data": {
      "text/html": [
       "<div>\n",
       "<style scoped>\n",
       "    .dataframe tbody tr th:only-of-type {\n",
       "        vertical-align: middle;\n",
       "    }\n",
       "\n",
       "    .dataframe tbody tr th {\n",
       "        vertical-align: top;\n",
       "    }\n",
       "\n",
       "    .dataframe thead th {\n",
       "        text-align: right;\n",
       "    }\n",
       "</style>\n",
       "<table border=\"1\" class=\"dataframe\">\n",
       "  <thead>\n",
       "    <tr style=\"text-align: right;\">\n",
       "      <th></th>\n",
       "      <th></th>\n",
       "      <th></th>\n",
       "    </tr>\n",
       "    <tr>\n",
       "      <th></th>\n",
       "      <th></th>\n",
       "      <th></th>\n",
       "    </tr>\n",
       "  </thead>\n",
       "  <tbody>\n",
       "    <tr>\n",
       "      <th>Initiated</th>\n",
       "      <td>. . . . . . . . . . . . . . . . . .</td>\n",
       "      <td>01:05:14</td>\n",
       "    </tr>\n",
       "    <tr>\n",
       "      <th>Status</th>\n",
       "      <td>. . . . . . . . . . . . . . . . . .</td>\n",
       "      <td>Selecting Estimator</td>\n",
       "    </tr>\n",
       "    <tr>\n",
       "      <th>Estimator</th>\n",
       "      <td>. . . . . . . . . . . . . . . . . .</td>\n",
       "      <td>Extreme Gradient Boosting</td>\n",
       "    </tr>\n",
       "  </tbody>\n",
       "</table>\n",
       "</div>"
      ],
      "text/plain": [
       "                                                                         \n",
       "                                                                         \n",
       "Initiated  . . . . . . . . . . . . . . . . . .                   01:05:14\n",
       "Status     . . . . . . . . . . . . . . . . . .        Selecting Estimator\n",
       "Estimator  . . . . . . . . . . . . . . . . . .  Extreme Gradient Boosting"
      ]
     },
     "metadata": {},
     "output_type": "display_data"
    },
    {
     "data": {
      "text/html": [
       "<style type=\"text/css\">\n",
       "#T_f9d36 th {\n",
       "  text-align: left;\n",
       "}\n",
       "#T_f9d36_row0_col0, #T_f9d36_row0_col1, #T_f9d36_row0_col2, #T_f9d36_row0_col3, #T_f9d36_row0_col4, #T_f9d36_row0_col5, #T_f9d36_row0_col6, #T_f9d36_row0_col7, #T_f9d36_row1_col0, #T_f9d36_row1_col1, #T_f9d36_row1_col2, #T_f9d36_row1_col3, #T_f9d36_row1_col4, #T_f9d36_row1_col5, #T_f9d36_row1_col6, #T_f9d36_row1_col7, #T_f9d36_row2_col0, #T_f9d36_row2_col1, #T_f9d36_row2_col2, #T_f9d36_row2_col3, #T_f9d36_row2_col4, #T_f9d36_row2_col5, #T_f9d36_row2_col6, #T_f9d36_row2_col7, #T_f9d36_row3_col0, #T_f9d36_row3_col1, #T_f9d36_row3_col2, #T_f9d36_row3_col3, #T_f9d36_row3_col4, #T_f9d36_row3_col5, #T_f9d36_row3_col6, #T_f9d36_row3_col7, #T_f9d36_row4_col0, #T_f9d36_row4_col1, #T_f9d36_row4_col2, #T_f9d36_row4_col3, #T_f9d36_row4_col4, #T_f9d36_row4_col5, #T_f9d36_row4_col6, #T_f9d36_row4_col7, #T_f9d36_row5_col0, #T_f9d36_row5_col1, #T_f9d36_row5_col2, #T_f9d36_row5_col3, #T_f9d36_row5_col4, #T_f9d36_row5_col5, #T_f9d36_row5_col6, #T_f9d36_row5_col7, #T_f9d36_row6_col0, #T_f9d36_row6_col1, #T_f9d36_row6_col2, #T_f9d36_row6_col3, #T_f9d36_row6_col4, #T_f9d36_row6_col5, #T_f9d36_row6_col6, #T_f9d36_row6_col7, #T_f9d36_row7_col0, #T_f9d36_row7_col1, #T_f9d36_row7_col2, #T_f9d36_row7_col3, #T_f9d36_row7_col4, #T_f9d36_row7_col5, #T_f9d36_row7_col6, #T_f9d36_row7_col7, #T_f9d36_row8_col0, #T_f9d36_row8_col1, #T_f9d36_row8_col2, #T_f9d36_row8_col3, #T_f9d36_row8_col4, #T_f9d36_row8_col5, #T_f9d36_row8_col6, #T_f9d36_row8_col7, #T_f9d36_row9_col0, #T_f9d36_row9_col1, #T_f9d36_row9_col2, #T_f9d36_row9_col3, #T_f9d36_row9_col4, #T_f9d36_row9_col5, #T_f9d36_row9_col6, #T_f9d36_row9_col7, #T_f9d36_row10_col0, #T_f9d36_row10_col1, #T_f9d36_row10_col2, #T_f9d36_row10_col3, #T_f9d36_row10_col4, #T_f9d36_row10_col5, #T_f9d36_row10_col6, #T_f9d36_row10_col7, #T_f9d36_row11_col0, #T_f9d36_row11_col1, #T_f9d36_row11_col2, #T_f9d36_row11_col3, #T_f9d36_row11_col4, #T_f9d36_row11_col5, #T_f9d36_row11_col6, #T_f9d36_row11_col7, #T_f9d36_row12_col0, #T_f9d36_row12_col1, #T_f9d36_row12_col2, #T_f9d36_row12_col3, #T_f9d36_row12_col4, #T_f9d36_row12_col5, #T_f9d36_row12_col6, #T_f9d36_row12_col7, #T_f9d36_row13_col0, #T_f9d36_row13_col1, #T_f9d36_row13_col2, #T_f9d36_row13_col3, #T_f9d36_row13_col4, #T_f9d36_row13_col5, #T_f9d36_row13_col6, #T_f9d36_row13_col7, #T_f9d36_row14_col0, #T_f9d36_row14_col1, #T_f9d36_row14_col2, #T_f9d36_row14_col3, #T_f9d36_row14_col4, #T_f9d36_row14_col5, #T_f9d36_row14_col6, #T_f9d36_row14_col7, #T_f9d36_row15_col0, #T_f9d36_row15_col1, #T_f9d36_row15_col2, #T_f9d36_row15_col3, #T_f9d36_row15_col4, #T_f9d36_row15_col5, #T_f9d36_row15_col6, #T_f9d36_row15_col7 {\n",
       "  text-align: left;\n",
       "}\n",
       "</style>\n",
       "<table id=\"T_f9d36\">\n",
       "  <thead>\n",
       "    <tr>\n",
       "      <th class=\"blank level0\" >&nbsp;</th>\n",
       "      <th id=\"T_f9d36_level0_col0\" class=\"col_heading level0 col0\" >Model</th>\n",
       "      <th id=\"T_f9d36_level0_col1\" class=\"col_heading level0 col1\" >MAE</th>\n",
       "      <th id=\"T_f9d36_level0_col2\" class=\"col_heading level0 col2\" >MSE</th>\n",
       "      <th id=\"T_f9d36_level0_col3\" class=\"col_heading level0 col3\" >RMSE</th>\n",
       "      <th id=\"T_f9d36_level0_col4\" class=\"col_heading level0 col4\" >R2</th>\n",
       "      <th id=\"T_f9d36_level0_col5\" class=\"col_heading level0 col5\" >RMSLE</th>\n",
       "      <th id=\"T_f9d36_level0_col6\" class=\"col_heading level0 col6\" >MAPE</th>\n",
       "      <th id=\"T_f9d36_level0_col7\" class=\"col_heading level0 col7\" >TT (Sec)</th>\n",
       "    </tr>\n",
       "  </thead>\n",
       "  <tbody>\n",
       "    <tr>\n",
       "      <th id=\"T_f9d36_level0_row0\" class=\"row_heading level0 row0\" >rf</th>\n",
       "      <td id=\"T_f9d36_row0_col0\" class=\"data row0 col0\" >Random Forest Regressor</td>\n",
       "      <td id=\"T_f9d36_row0_col1\" class=\"data row0 col1\" >5.1416</td>\n",
       "      <td id=\"T_f9d36_row0_col2\" class=\"data row0 col2\" >57.3717</td>\n",
       "      <td id=\"T_f9d36_row0_col3\" class=\"data row0 col3\" >6.6648</td>\n",
       "      <td id=\"T_f9d36_row0_col4\" class=\"data row0 col4\" >-0.3094</td>\n",
       "      <td id=\"T_f9d36_row0_col5\" class=\"data row0 col5\" >0.4801</td>\n",
       "      <td id=\"T_f9d36_row0_col6\" class=\"data row0 col6\" >0.5549</td>\n",
       "      <td id=\"T_f9d36_row0_col7\" class=\"data row0 col7\" >0.1867</td>\n",
       "    </tr>\n",
       "    <tr>\n",
       "      <th id=\"T_f9d36_level0_row1\" class=\"row_heading level0 row1\" >et</th>\n",
       "      <td id=\"T_f9d36_row1_col0\" class=\"data row1 col0\" >Extra Trees Regressor</td>\n",
       "      <td id=\"T_f9d36_row1_col1\" class=\"data row1 col1\" >5.1882</td>\n",
       "      <td id=\"T_f9d36_row1_col2\" class=\"data row1 col2\" >58.8184</td>\n",
       "      <td id=\"T_f9d36_row1_col3\" class=\"data row1 col3\" >6.7629</td>\n",
       "      <td id=\"T_f9d36_row1_col4\" class=\"data row1 col4\" >-0.3434</td>\n",
       "      <td id=\"T_f9d36_row1_col5\" class=\"data row1 col5\" >0.4818</td>\n",
       "      <td id=\"T_f9d36_row1_col6\" class=\"data row1 col6\" >0.5158</td>\n",
       "      <td id=\"T_f9d36_row1_col7\" class=\"data row1 col7\" >0.1733</td>\n",
       "    </tr>\n",
       "    <tr>\n",
       "      <th id=\"T_f9d36_level0_row2\" class=\"row_heading level0 row2\" >knn</th>\n",
       "      <td id=\"T_f9d36_row2_col0\" class=\"data row2 col0\" >K Neighbors Regressor</td>\n",
       "      <td id=\"T_f9d36_row2_col1\" class=\"data row2 col1\" >5.1354</td>\n",
       "      <td id=\"T_f9d36_row2_col2\" class=\"data row2 col2\" >58.4701</td>\n",
       "      <td id=\"T_f9d36_row2_col3\" class=\"data row2 col3\" >6.8110</td>\n",
       "      <td id=\"T_f9d36_row2_col4\" class=\"data row2 col4\" >-0.4055</td>\n",
       "      <td id=\"T_f9d36_row2_col5\" class=\"data row2 col5\" >0.5040</td>\n",
       "      <td id=\"T_f9d36_row2_col6\" class=\"data row2 col6\" >0.6215</td>\n",
       "      <td id=\"T_f9d36_row2_col7\" class=\"data row2 col7\" >0.0233</td>\n",
       "    </tr>\n",
       "    <tr>\n",
       "      <th id=\"T_f9d36_level0_row3\" class=\"row_heading level0 row3\" >ada</th>\n",
       "      <td id=\"T_f9d36_row3_col0\" class=\"data row3 col0\" >AdaBoost Regressor</td>\n",
       "      <td id=\"T_f9d36_row3_col1\" class=\"data row3 col1\" >5.2463</td>\n",
       "      <td id=\"T_f9d36_row3_col2\" class=\"data row3 col2\" >61.3280</td>\n",
       "      <td id=\"T_f9d36_row3_col3\" class=\"data row3 col3\" >6.8655</td>\n",
       "      <td id=\"T_f9d36_row3_col4\" class=\"data row3 col4\" >-0.3696</td>\n",
       "      <td id=\"T_f9d36_row3_col5\" class=\"data row3 col5\" >0.4790</td>\n",
       "      <td id=\"T_f9d36_row3_col6\" class=\"data row3 col6\" >0.5047</td>\n",
       "      <td id=\"T_f9d36_row3_col7\" class=\"data row3 col7\" >0.0667</td>\n",
       "    </tr>\n",
       "    <tr>\n",
       "      <th id=\"T_f9d36_level0_row4\" class=\"row_heading level0 row4\" >gbr</th>\n",
       "      <td id=\"T_f9d36_row4_col0\" class=\"data row4 col0\" >Gradient Boosting Regressor</td>\n",
       "      <td id=\"T_f9d36_row4_col1\" class=\"data row4 col1\" >5.2518</td>\n",
       "      <td id=\"T_f9d36_row4_col2\" class=\"data row4 col2\" >61.3536</td>\n",
       "      <td id=\"T_f9d36_row4_col3\" class=\"data row4 col3\" >6.9852</td>\n",
       "      <td id=\"T_f9d36_row4_col4\" class=\"data row4 col4\" >-0.4771</td>\n",
       "      <td id=\"T_f9d36_row4_col5\" class=\"data row4 col5\" >0.4943</td>\n",
       "      <td id=\"T_f9d36_row4_col6\" class=\"data row4 col6\" >0.4684</td>\n",
       "      <td id=\"T_f9d36_row4_col7\" class=\"data row4 col7\" >0.0500</td>\n",
       "    </tr>\n",
       "    <tr>\n",
       "      <th id=\"T_f9d36_level0_row5\" class=\"row_heading level0 row5\" >dt</th>\n",
       "      <td id=\"T_f9d36_row5_col0\" class=\"data row5 col0\" >Decision Tree Regressor</td>\n",
       "      <td id=\"T_f9d36_row5_col1\" class=\"data row5 col1\" >5.2167</td>\n",
       "      <td id=\"T_f9d36_row5_col2\" class=\"data row5 col2\" >62.3267</td>\n",
       "      <td id=\"T_f9d36_row5_col3\" class=\"data row5 col3\" >7.0544</td>\n",
       "      <td id=\"T_f9d36_row5_col4\" class=\"data row5 col4\" >-0.5210</td>\n",
       "      <td id=\"T_f9d36_row5_col5\" class=\"data row5 col5\" >0.4922</td>\n",
       "      <td id=\"T_f9d36_row5_col6\" class=\"data row5 col6\" >0.4358</td>\n",
       "      <td id=\"T_f9d36_row5_col7\" class=\"data row5 col7\" >0.0133</td>\n",
       "    </tr>\n",
       "    <tr>\n",
       "      <th id=\"T_f9d36_level0_row6\" class=\"row_heading level0 row6\" >llar</th>\n",
       "      <td id=\"T_f9d36_row6_col0\" class=\"data row6 col0\" >Lasso Least Angle Regression</td>\n",
       "      <td id=\"T_f9d36_row6_col1\" class=\"data row6 col1\" >6.2694</td>\n",
       "      <td id=\"T_f9d36_row6_col2\" class=\"data row6 col2\" >84.8387</td>\n",
       "      <td id=\"T_f9d36_row6_col3\" class=\"data row6 col3\" >8.4684</td>\n",
       "      <td id=\"T_f9d36_row6_col4\" class=\"data row6 col4\" >-1.4043</td>\n",
       "      <td id=\"T_f9d36_row6_col5\" class=\"data row6 col5\" >0.6410</td>\n",
       "      <td id=\"T_f9d36_row6_col6\" class=\"data row6 col6\" >0.7735</td>\n",
       "      <td id=\"T_f9d36_row6_col7\" class=\"data row6 col7\" >0.0233</td>\n",
       "    </tr>\n",
       "    <tr>\n",
       "      <th id=\"T_f9d36_level0_row7\" class=\"row_heading level0 row7\" >br</th>\n",
       "      <td id=\"T_f9d36_row7_col0\" class=\"data row7 col0\" >Bayesian Ridge</td>\n",
       "      <td id=\"T_f9d36_row7_col1\" class=\"data row7 col1\" >7.0781</td>\n",
       "      <td id=\"T_f9d36_row7_col2\" class=\"data row7 col2\" >89.8214</td>\n",
       "      <td id=\"T_f9d36_row7_col3\" class=\"data row7 col3\" >8.8505</td>\n",
       "      <td id=\"T_f9d36_row7_col4\" class=\"data row7 col4\" >-2.5903</td>\n",
       "      <td id=\"T_f9d36_row7_col5\" class=\"data row7 col5\" >0.7382</td>\n",
       "      <td id=\"T_f9d36_row7_col6\" class=\"data row7 col6\" >0.7085</td>\n",
       "      <td id=\"T_f9d36_row7_col7\" class=\"data row7 col7\" >0.0300</td>\n",
       "    </tr>\n",
       "    <tr>\n",
       "      <th id=\"T_f9d36_level0_row8\" class=\"row_heading level0 row8\" >par</th>\n",
       "      <td id=\"T_f9d36_row8_col0\" class=\"data row8 col0\" >Passive Aggressive Regressor</td>\n",
       "      <td id=\"T_f9d36_row8_col1\" class=\"data row8 col1\" >6.9981</td>\n",
       "      <td id=\"T_f9d36_row8_col2\" class=\"data row8 col2\" >121.8960</td>\n",
       "      <td id=\"T_f9d36_row8_col3\" class=\"data row8 col3\" >8.9057</td>\n",
       "      <td id=\"T_f9d36_row8_col4\" class=\"data row8 col4\" >-0.8769</td>\n",
       "      <td id=\"T_f9d36_row8_col5\" class=\"data row8 col5\" >0.7758</td>\n",
       "      <td id=\"T_f9d36_row8_col6\" class=\"data row8 col6\" >0.6227</td>\n",
       "      <td id=\"T_f9d36_row8_col7\" class=\"data row8 col7\" >0.0133</td>\n",
       "    </tr>\n",
       "    <tr>\n",
       "      <th id=\"T_f9d36_level0_row9\" class=\"row_heading level0 row9\" >lasso</th>\n",
       "      <td id=\"T_f9d36_row9_col0\" class=\"data row9 col0\" >Lasso Regression</td>\n",
       "      <td id=\"T_f9d36_row9_col1\" class=\"data row9 col1\" >7.2060</td>\n",
       "      <td id=\"T_f9d36_row9_col2\" class=\"data row9 col2\" >91.2031</td>\n",
       "      <td id=\"T_f9d36_row9_col3\" class=\"data row9 col3\" >8.9493</td>\n",
       "      <td id=\"T_f9d36_row9_col4\" class=\"data row9 col4\" >-2.8070</td>\n",
       "      <td id=\"T_f9d36_row9_col5\" class=\"data row9 col5\" >0.7632</td>\n",
       "      <td id=\"T_f9d36_row9_col6\" class=\"data row9 col6\" >0.6957</td>\n",
       "      <td id=\"T_f9d36_row9_col7\" class=\"data row9 col7\" >0.0133</td>\n",
       "    </tr>\n",
       "    <tr>\n",
       "      <th id=\"T_f9d36_level0_row10\" class=\"row_heading level0 row10\" >en</th>\n",
       "      <td id=\"T_f9d36_row10_col0\" class=\"data row10 col0\" >Elastic Net</td>\n",
       "      <td id=\"T_f9d36_row10_col1\" class=\"data row10 col1\" >7.2414</td>\n",
       "      <td id=\"T_f9d36_row10_col2\" class=\"data row10 col2\" >91.9050</td>\n",
       "      <td id=\"T_f9d36_row10_col3\" class=\"data row10 col3\" >8.9959</td>\n",
       "      <td id=\"T_f9d36_row10_col4\" class=\"data row10 col4\" >-2.8797</td>\n",
       "      <td id=\"T_f9d36_row10_col5\" class=\"data row10 col5\" >0.7731</td>\n",
       "      <td id=\"T_f9d36_row10_col6\" class=\"data row10 col6\" >0.6896</td>\n",
       "      <td id=\"T_f9d36_row10_col7\" class=\"data row10 col7\" >0.0167</td>\n",
       "    </tr>\n",
       "    <tr>\n",
       "      <th id=\"T_f9d36_level0_row11\" class=\"row_heading level0 row11\" >omp</th>\n",
       "      <td id=\"T_f9d36_row11_col0\" class=\"data row11 col0\" >Orthogonal Matching Pursuit</td>\n",
       "      <td id=\"T_f9d36_row11_col1\" class=\"data row11 col1\" >7.3247</td>\n",
       "      <td id=\"T_f9d36_row11_col2\" class=\"data row11 col2\" >93.9181</td>\n",
       "      <td id=\"T_f9d36_row11_col3\" class=\"data row11 col3\" >9.1229</td>\n",
       "      <td id=\"T_f9d36_row11_col4\" class=\"data row11 col4\" >-3.1286</td>\n",
       "      <td id=\"T_f9d36_row11_col5\" class=\"data row11 col5\" >0.8128</td>\n",
       "      <td id=\"T_f9d36_row11_col6\" class=\"data row11 col6\" >0.6799</td>\n",
       "      <td id=\"T_f9d36_row11_col7\" class=\"data row11 col7\" >0.0167</td>\n",
       "    </tr>\n",
       "    <tr>\n",
       "      <th id=\"T_f9d36_level0_row12\" class=\"row_heading level0 row12\" >ridge</th>\n",
       "      <td id=\"T_f9d36_row12_col0\" class=\"data row12 col0\" >Ridge Regression</td>\n",
       "      <td id=\"T_f9d36_row12_col1\" class=\"data row12 col1\" >7.6627</td>\n",
       "      <td id=\"T_f9d36_row12_col2\" class=\"data row12 col2\" >98.5002</td>\n",
       "      <td id=\"T_f9d36_row12_col3\" class=\"data row12 col3\" >9.4214</td>\n",
       "      <td id=\"T_f9d36_row12_col4\" class=\"data row12 col4\" >-3.4744</td>\n",
       "      <td id=\"T_f9d36_row12_col5\" class=\"data row12 col5\" >0.8882</td>\n",
       "      <td id=\"T_f9d36_row12_col6\" class=\"data row12 col6\" >0.7183</td>\n",
       "      <td id=\"T_f9d36_row12_col7\" class=\"data row12 col7\" >0.0167</td>\n",
       "    </tr>\n",
       "    <tr>\n",
       "      <th id=\"T_f9d36_level0_row13\" class=\"row_heading level0 row13\" >lr</th>\n",
       "      <td id=\"T_f9d36_row13_col0\" class=\"data row13 col0\" >Linear Regression</td>\n",
       "      <td id=\"T_f9d36_row13_col1\" class=\"data row13 col1\" >7.9058</td>\n",
       "      <td id=\"T_f9d36_row13_col2\" class=\"data row13 col2\" >102.6984</td>\n",
       "      <td id=\"T_f9d36_row13_col3\" class=\"data row13 col3\" >9.7317</td>\n",
       "      <td id=\"T_f9d36_row13_col4\" class=\"data row13 col4\" >-3.8139</td>\n",
       "      <td id=\"T_f9d36_row13_col5\" class=\"data row13 col5\" >0.9918</td>\n",
       "      <td id=\"T_f9d36_row13_col6\" class=\"data row13 col6\" >0.7573</td>\n",
       "      <td id=\"T_f9d36_row13_col7\" class=\"data row13 col7\" >0.0133</td>\n",
       "    </tr>\n",
       "    <tr>\n",
       "      <th id=\"T_f9d36_level0_row14\" class=\"row_heading level0 row14\" >huber</th>\n",
       "      <td id=\"T_f9d36_row14_col0\" class=\"data row14 col0\" >Huber Regressor</td>\n",
       "      <td id=\"T_f9d36_row14_col1\" class=\"data row14 col1\" >8.6455</td>\n",
       "      <td id=\"T_f9d36_row14_col2\" class=\"data row14 col2\" >118.9081</td>\n",
       "      <td id=\"T_f9d36_row14_col3\" class=\"data row14 col3\" >10.4831</td>\n",
       "      <td id=\"T_f9d36_row14_col4\" class=\"data row14 col4\" >-4.8302</td>\n",
       "      <td id=\"T_f9d36_row14_col5\" class=\"data row14 col5\" >1.0612</td>\n",
       "      <td id=\"T_f9d36_row14_col6\" class=\"data row14 col6\" >1.0119</td>\n",
       "      <td id=\"T_f9d36_row14_col7\" class=\"data row14 col7\" >0.0267</td>\n",
       "    </tr>\n",
       "    <tr>\n",
       "      <th id=\"T_f9d36_level0_row15\" class=\"row_heading level0 row15\" >lar</th>\n",
       "      <td id=\"T_f9d36_row15_col0\" class=\"data row15 col0\" >Least Angle Regression</td>\n",
       "      <td id=\"T_f9d36_row15_col1\" class=\"data row15 col1\" >39.1406</td>\n",
       "      <td id=\"T_f9d36_row15_col2\" class=\"data row15 col2\" >4124.8976</td>\n",
       "      <td id=\"T_f9d36_row15_col3\" class=\"data row15 col3\" >42.7964</td>\n",
       "      <td id=\"T_f9d36_row15_col4\" class=\"data row15 col4\" >-343.1173</td>\n",
       "      <td id=\"T_f9d36_row15_col5\" class=\"data row15 col5\" >1.1456</td>\n",
       "      <td id=\"T_f9d36_row15_col6\" class=\"data row15 col6\" >3.1683</td>\n",
       "      <td id=\"T_f9d36_row15_col7\" class=\"data row15 col7\" >0.0200</td>\n",
       "    </tr>\n",
       "  </tbody>\n",
       "</table>\n"
      ],
      "text/plain": [
       "<pandas.io.formats.style.Styler at 0x175f576bdc0>"
      ]
     },
     "metadata": {},
     "output_type": "display_data"
    }
   ],
   "source": [
    "best = compare_models(sort = 'RMSE')"
   ]
  },
  {
   "cell_type": "code",
   "execution_count": null,
   "id": "29090b60",
   "metadata": {},
   "outputs": [],
   "source": [
    "# generate predictions on the original dataset\n",
    "predictions = predict_model(best, data=UnemploymentRateData)\n",
    "# add a date column in the dataset\n",
    "predictions['Date'] = pd.date_range(start='2016-01-01', end = '2022-06-01', freq = 'MS')\n",
    "# line plot\n",
    "fig = px.line(predictions, x='Date', y=[\"UnemploymentRate\", \"Label\"], template = 'plotly_dark')\n",
    "# add a vertical rectange for test-set separation\n",
    "fig.add_vrect(x0=\"2021-06-01\", x1=\"2022-06-01\", fillcolor=\"grey\", opacity=0.25, line_width=0)\n",
    "fig.show()"
   ]
  },
  {
   "cell_type": "code",
   "execution_count": 59,
   "id": "ae6b7bad",
   "metadata": {},
   "outputs": [],
   "source": [
    "final_best = finalize_model(best)"
   ]
  },
  {
   "cell_type": "code",
   "execution_count": 60,
   "id": "b0fdf34e",
   "metadata": {},
   "outputs": [
    {
     "name": "stdout",
     "output_type": "stream",
     "text": [
      "Transformation Pipeline and Model Successfully Saved\n"
     ]
    },
    {
     "data": {
      "text/plain": [
       "(Pipeline(memory=None,\n",
       "          steps=[('dtypes',\n",
       "                  DataTypes_Auto_infer(categorical_features=[],\n",
       "                                       display_types=True, features_todrop=[],\n",
       "                                       id_columns=[], ml_usecase='regression',\n",
       "                                       numerical_features=['Year', 'Series'],\n",
       "                                       target='UnemploymentRate',\n",
       "                                       time_features=[])),\n",
       "                 ('imputer',\n",
       "                  Simple_Imputer(categorical_strategy='not_available',\n",
       "                                 fill_value_categorical=None,\n",
       "                                 fill_value_numeric...\n",
       "                  RandomForestRegressor(bootstrap=True, ccp_alpha=0.0,\n",
       "                                        criterion='mse', max_depth=None,\n",
       "                                        max_features='auto', max_leaf_nodes=None,\n",
       "                                        max_samples=None,\n",
       "                                        min_impurity_decrease=0.0,\n",
       "                                        min_impurity_split=None,\n",
       "                                        min_samples_leaf=1, min_samples_split=2,\n",
       "                                        min_weight_fraction_leaf=0.0,\n",
       "                                        n_estimators=100, n_jobs=-1,\n",
       "                                        oob_score=False, random_state=104,\n",
       "                                        verbose=0, warm_start=False)]],\n",
       "          verbose=False),\n",
       " 'URForecastingModel.pkl')"
      ]
     },
     "execution_count": 60,
     "metadata": {},
     "output_type": "execute_result"
    }
   ],
   "source": [
    "save_model(final_best, 'URForecastingModel')"
   ]
  },
  {
   "cell_type": "code",
   "execution_count": 24,
   "id": "52ae10b3",
   "metadata": {},
   "outputs": [],
   "source": [
    "train.drop(['AvgTempFeelLike'],axis=1,inplace=True)"
   ]
  },
  {
   "cell_type": "code",
   "execution_count": 25,
   "id": "246296c4",
   "metadata": {},
   "outputs": [
    {
     "data": {
      "text/html": [
       "<div>\n",
       "<style scoped>\n",
       "    .dataframe tbody tr th:only-of-type {\n",
       "        vertical-align: middle;\n",
       "    }\n",
       "\n",
       "    .dataframe tbody tr th {\n",
       "        vertical-align: top;\n",
       "    }\n",
       "\n",
       "    .dataframe thead th {\n",
       "        text-align: right;\n",
       "    }\n",
       "</style>\n",
       "<table border=\"1\" class=\"dataframe\">\n",
       "  <thead>\n",
       "    <tr style=\"text-align: right;\">\n",
       "      <th></th>\n",
       "      <th>AvgTemp</th>\n",
       "      <th>AvgHumidity</th>\n",
       "      <th>AvgWindspeed</th>\n",
       "      <th>AvgRainfall</th>\n",
       "      <th>UnemploymentRate</th>\n",
       "      <th>Demand</th>\n",
       "      <th>Month</th>\n",
       "      <th>Year</th>\n",
       "      <th>Series</th>\n",
       "    </tr>\n",
       "  </thead>\n",
       "  <tbody>\n",
       "    <tr>\n",
       "      <th>0</th>\n",
       "      <td>14.474910</td>\n",
       "      <td>79.600000</td>\n",
       "      <td>11.865077</td>\n",
       "      <td>0.000</td>\n",
       "      <td>10.6</td>\n",
       "      <td>1970</td>\n",
       "      <td>1</td>\n",
       "      <td>2016</td>\n",
       "      <td>1</td>\n",
       "    </tr>\n",
       "    <tr>\n",
       "      <th>1</th>\n",
       "      <td>18.235632</td>\n",
       "      <td>63.262069</td>\n",
       "      <td>15.379821</td>\n",
       "      <td>0.275</td>\n",
       "      <td>10.8</td>\n",
       "      <td>1773</td>\n",
       "      <td>2</td>\n",
       "      <td>2016</td>\n",
       "      <td>2</td>\n",
       "    </tr>\n",
       "    <tr>\n",
       "      <th>2</th>\n",
       "      <td>24.465950</td>\n",
       "      <td>56.951613</td>\n",
       "      <td>16.598652</td>\n",
       "      <td>3.580</td>\n",
       "      <td>11.1</td>\n",
       "      <td>1931</td>\n",
       "      <td>3</td>\n",
       "      <td>2016</td>\n",
       "      <td>3</td>\n",
       "    </tr>\n",
       "    <tr>\n",
       "      <th>3</th>\n",
       "      <td>31.527778</td>\n",
       "      <td>30.230000</td>\n",
       "      <td>19.206097</td>\n",
       "      <td>0.025</td>\n",
       "      <td>6.3</td>\n",
       "      <td>2628</td>\n",
       "      <td>4</td>\n",
       "      <td>2016</td>\n",
       "      <td>4</td>\n",
       "    </tr>\n",
       "    <tr>\n",
       "      <th>4</th>\n",
       "      <td>33.718638</td>\n",
       "      <td>41.312903</td>\n",
       "      <td>21.181706</td>\n",
       "      <td>2.425</td>\n",
       "      <td>17.3</td>\n",
       "      <td>3287</td>\n",
       "      <td>5</td>\n",
       "      <td>2016</td>\n",
       "      <td>5</td>\n",
       "    </tr>\n",
       "    <tr>\n",
       "      <th>...</th>\n",
       "      <td>...</td>\n",
       "      <td>...</td>\n",
       "      <td>...</td>\n",
       "      <td>...</td>\n",
       "      <td>...</td>\n",
       "      <td>...</td>\n",
       "      <td>...</td>\n",
       "      <td>...</td>\n",
       "      <td>...</td>\n",
       "    </tr>\n",
       "    <tr>\n",
       "      <th>61</th>\n",
       "      <td>18.735714</td>\n",
       "      <td>73.214286</td>\n",
       "      <td>12.925000</td>\n",
       "      <td>0.350</td>\n",
       "      <td>8.0</td>\n",
       "      <td>1805</td>\n",
       "      <td>2</td>\n",
       "      <td>2021</td>\n",
       "      <td>62</td>\n",
       "    </tr>\n",
       "    <tr>\n",
       "      <th>62</th>\n",
       "      <td>25.016129</td>\n",
       "      <td>54.735484</td>\n",
       "      <td>18.683871</td>\n",
       "      <td>0.240</td>\n",
       "      <td>9.4</td>\n",
       "      <td>2097</td>\n",
       "      <td>3</td>\n",
       "      <td>2021</td>\n",
       "      <td>63</td>\n",
       "    </tr>\n",
       "    <tr>\n",
       "      <th>63</th>\n",
       "      <td>29.066667</td>\n",
       "      <td>31.440000</td>\n",
       "      <td>19.700000</td>\n",
       "      <td>0.675</td>\n",
       "      <td>27.3</td>\n",
       "      <td>2240</td>\n",
       "      <td>4</td>\n",
       "      <td>2021</td>\n",
       "      <td>64</td>\n",
       "    </tr>\n",
       "    <tr>\n",
       "      <th>64</th>\n",
       "      <td>30.541935</td>\n",
       "      <td>46.148387</td>\n",
       "      <td>20.667742</td>\n",
       "      <td>18.075</td>\n",
       "      <td>45.6</td>\n",
       "      <td>2328</td>\n",
       "      <td>5</td>\n",
       "      <td>2021</td>\n",
       "      <td>65</td>\n",
       "    </tr>\n",
       "    <tr>\n",
       "      <th>65</th>\n",
       "      <td>32.333333</td>\n",
       "      <td>58.786667</td>\n",
       "      <td>19.540000</td>\n",
       "      <td>5.940</td>\n",
       "      <td>8.8</td>\n",
       "      <td>3287</td>\n",
       "      <td>6</td>\n",
       "      <td>2021</td>\n",
       "      <td>66</td>\n",
       "    </tr>\n",
       "  </tbody>\n",
       "</table>\n",
       "<p>66 rows × 9 columns</p>\n",
       "</div>"
      ],
      "text/plain": [
       "      AvgTemp  AvgHumidity  AvgWindspeed  AvgRainfall  UnemploymentRate  \\\n",
       "0   14.474910    79.600000     11.865077        0.000              10.6   \n",
       "1   18.235632    63.262069     15.379821        0.275              10.8   \n",
       "2   24.465950    56.951613     16.598652        3.580              11.1   \n",
       "3   31.527778    30.230000     19.206097        0.025               6.3   \n",
       "4   33.718638    41.312903     21.181706        2.425              17.3   \n",
       "..        ...          ...           ...          ...               ...   \n",
       "61  18.735714    73.214286     12.925000        0.350               8.0   \n",
       "62  25.016129    54.735484     18.683871        0.240               9.4   \n",
       "63  29.066667    31.440000     19.700000        0.675              27.3   \n",
       "64  30.541935    46.148387     20.667742       18.075              45.6   \n",
       "65  32.333333    58.786667     19.540000        5.940               8.8   \n",
       "\n",
       "    Demand  Month  Year  Series  \n",
       "0     1970      1  2016       1  \n",
       "1     1773      2  2016       2  \n",
       "2     1931      3  2016       3  \n",
       "3     2628      4  2016       4  \n",
       "4     3287      5  2016       5  \n",
       "..     ...    ...   ...     ...  \n",
       "61    1805      2  2021      62  \n",
       "62    2097      3  2021      63  \n",
       "63    2240      4  2021      64  \n",
       "64    2328      5  2021      65  \n",
       "65    3287      6  2021      66  \n",
       "\n",
       "[66 rows x 9 columns]"
      ]
     },
     "execution_count": 25,
     "metadata": {},
     "output_type": "execute_result"
    }
   ],
   "source": [
    "train"
   ]
  },
  {
   "cell_type": "code",
   "execution_count": 26,
   "id": "b18fa3f5",
   "metadata": {},
   "outputs": [],
   "source": [
    "test.drop(['AvgTempFeelLike'],axis=1,inplace=True)"
   ]
  },
  {
   "cell_type": "code",
   "execution_count": 27,
   "id": "ee7006f8",
   "metadata": {},
   "outputs": [
    {
     "data": {
      "text/html": [
       "<div>\n",
       "<style scoped>\n",
       "    .dataframe tbody tr th:only-of-type {\n",
       "        vertical-align: middle;\n",
       "    }\n",
       "\n",
       "    .dataframe tbody tr th {\n",
       "        vertical-align: top;\n",
       "    }\n",
       "\n",
       "    .dataframe thead th {\n",
       "        text-align: right;\n",
       "    }\n",
       "</style>\n",
       "<table border=\"1\" class=\"dataframe\">\n",
       "  <thead>\n",
       "    <tr style=\"text-align: right;\">\n",
       "      <th></th>\n",
       "      <th>AvgTemp</th>\n",
       "      <th>AvgHumidity</th>\n",
       "      <th>AvgWindspeed</th>\n",
       "      <th>AvgRainfall</th>\n",
       "      <th>UnemploymentRate</th>\n",
       "      <th>Demand</th>\n",
       "      <th>Month</th>\n",
       "      <th>Year</th>\n",
       "      <th>Series</th>\n",
       "    </tr>\n",
       "  </thead>\n",
       "  <tbody>\n",
       "    <tr>\n",
       "      <th>66</th>\n",
       "      <td>31.416129</td>\n",
       "      <td>73.880645</td>\n",
       "      <td>18.258065</td>\n",
       "      <td>71.025</td>\n",
       "      <td>10.7</td>\n",
       "      <td>3722</td>\n",
       "      <td>7</td>\n",
       "      <td>2021</td>\n",
       "      <td>67</td>\n",
       "    </tr>\n",
       "    <tr>\n",
       "      <th>67</th>\n",
       "      <td>30.512903</td>\n",
       "      <td>78.622581</td>\n",
       "      <td>17.300000</td>\n",
       "      <td>49.400</td>\n",
       "      <td>11.6</td>\n",
       "      <td>3547</td>\n",
       "      <td>8</td>\n",
       "      <td>2021</td>\n",
       "      <td>68</td>\n",
       "    </tr>\n",
       "    <tr>\n",
       "      <th>68</th>\n",
       "      <td>28.636667</td>\n",
       "      <td>86.466667</td>\n",
       "      <td>15.653333</td>\n",
       "      <td>46.380</td>\n",
       "      <td>16.8</td>\n",
       "      <td>3027</td>\n",
       "      <td>9</td>\n",
       "      <td>2021</td>\n",
       "      <td>69</td>\n",
       "    </tr>\n",
       "    <tr>\n",
       "      <th>69</th>\n",
       "      <td>26.241935</td>\n",
       "      <td>69.538710</td>\n",
       "      <td>15.716129</td>\n",
       "      <td>13.950</td>\n",
       "      <td>11.0</td>\n",
       "      <td>2663</td>\n",
       "      <td>10</td>\n",
       "      <td>2021</td>\n",
       "      <td>70</td>\n",
       "    </tr>\n",
       "    <tr>\n",
       "      <th>70</th>\n",
       "      <td>19.693333</td>\n",
       "      <td>67.343333</td>\n",
       "      <td>10.990000</td>\n",
       "      <td>0.000</td>\n",
       "      <td>9.3</td>\n",
       "      <td>1821</td>\n",
       "      <td>11</td>\n",
       "      <td>2021</td>\n",
       "      <td>71</td>\n",
       "    </tr>\n",
       "    <tr>\n",
       "      <th>71</th>\n",
       "      <td>15.100000</td>\n",
       "      <td>75.232258</td>\n",
       "      <td>12.635484</td>\n",
       "      <td>0.800</td>\n",
       "      <td>9.8</td>\n",
       "      <td>2091</td>\n",
       "      <td>12</td>\n",
       "      <td>2021</td>\n",
       "      <td>72</td>\n",
       "    </tr>\n",
       "    <tr>\n",
       "      <th>72</th>\n",
       "      <td>12.677419</td>\n",
       "      <td>87.880645</td>\n",
       "      <td>14.274194</td>\n",
       "      <td>22.175</td>\n",
       "      <td>14.1</td>\n",
       "      <td>2267</td>\n",
       "      <td>1</td>\n",
       "      <td>2022</td>\n",
       "      <td>73</td>\n",
       "    </tr>\n",
       "    <tr>\n",
       "      <th>73</th>\n",
       "      <td>17.057143</td>\n",
       "      <td>71.653571</td>\n",
       "      <td>15.696429</td>\n",
       "      <td>1.775</td>\n",
       "      <td>9.3</td>\n",
       "      <td>1873</td>\n",
       "      <td>2</td>\n",
       "      <td>2022</td>\n",
       "      <td>74</td>\n",
       "    </tr>\n",
       "    <tr>\n",
       "      <th>74</th>\n",
       "      <td>25.561290</td>\n",
       "      <td>56.387097</td>\n",
       "      <td>16.977419</td>\n",
       "      <td>1.160</td>\n",
       "      <td>8.9</td>\n",
       "      <td>2260</td>\n",
       "      <td>3</td>\n",
       "      <td>2022</td>\n",
       "      <td>75</td>\n",
       "    </tr>\n",
       "    <tr>\n",
       "      <th>75</th>\n",
       "      <td>32.523333</td>\n",
       "      <td>24.743333</td>\n",
       "      <td>18.663333</td>\n",
       "      <td>0.025</td>\n",
       "      <td>11.2</td>\n",
       "      <td>3202</td>\n",
       "      <td>4</td>\n",
       "      <td>2022</td>\n",
       "      <td>76</td>\n",
       "    </tr>\n",
       "    <tr>\n",
       "      <th>76</th>\n",
       "      <td>33.335484</td>\n",
       "      <td>44.229032</td>\n",
       "      <td>20.712903</td>\n",
       "      <td>13.050</td>\n",
       "      <td>13.6</td>\n",
       "      <td>3776</td>\n",
       "      <td>5</td>\n",
       "      <td>2022</td>\n",
       "      <td>77</td>\n",
       "    </tr>\n",
       "    <tr>\n",
       "      <th>77</th>\n",
       "      <td>38.115789</td>\n",
       "      <td>23.636842</td>\n",
       "      <td>24.605263</td>\n",
       "      <td>4.160</td>\n",
       "      <td>10.3</td>\n",
       "      <td>3917</td>\n",
       "      <td>6</td>\n",
       "      <td>2022</td>\n",
       "      <td>78</td>\n",
       "    </tr>\n",
       "  </tbody>\n",
       "</table>\n",
       "</div>"
      ],
      "text/plain": [
       "      AvgTemp  AvgHumidity  AvgWindspeed  AvgRainfall  UnemploymentRate  \\\n",
       "66  31.416129    73.880645     18.258065       71.025              10.7   \n",
       "67  30.512903    78.622581     17.300000       49.400              11.6   \n",
       "68  28.636667    86.466667     15.653333       46.380              16.8   \n",
       "69  26.241935    69.538710     15.716129       13.950              11.0   \n",
       "70  19.693333    67.343333     10.990000        0.000               9.3   \n",
       "71  15.100000    75.232258     12.635484        0.800               9.8   \n",
       "72  12.677419    87.880645     14.274194       22.175              14.1   \n",
       "73  17.057143    71.653571     15.696429        1.775               9.3   \n",
       "74  25.561290    56.387097     16.977419        1.160               8.9   \n",
       "75  32.523333    24.743333     18.663333        0.025              11.2   \n",
       "76  33.335484    44.229032     20.712903       13.050              13.6   \n",
       "77  38.115789    23.636842     24.605263        4.160              10.3   \n",
       "\n",
       "    Demand  Month  Year  Series  \n",
       "66    3722      7  2021      67  \n",
       "67    3547      8  2021      68  \n",
       "68    3027      9  2021      69  \n",
       "69    2663     10  2021      70  \n",
       "70    1821     11  2021      71  \n",
       "71    2091     12  2021      72  \n",
       "72    2267      1  2022      73  \n",
       "73    1873      2  2022      74  \n",
       "74    2260      3  2022      75  \n",
       "75    3202      4  2022      76  \n",
       "76    3776      5  2022      77  \n",
       "77    3917      6  2022      78  "
      ]
     },
     "execution_count": 27,
     "metadata": {},
     "output_type": "execute_result"
    }
   ],
   "source": [
    "test"
   ]
  },
  {
   "cell_type": "code",
   "execution_count": 28,
   "id": "f4e1c404",
   "metadata": {},
   "outputs": [
    {
     "data": {
      "text/html": [
       "<div>\n",
       "<style scoped>\n",
       "    .dataframe tbody tr th:only-of-type {\n",
       "        vertical-align: middle;\n",
       "    }\n",
       "\n",
       "    .dataframe tbody tr th {\n",
       "        vertical-align: top;\n",
       "    }\n",
       "\n",
       "    .dataframe thead th {\n",
       "        text-align: right;\n",
       "    }\n",
       "</style>\n",
       "<table border=\"1\" class=\"dataframe\">\n",
       "  <thead>\n",
       "    <tr style=\"text-align: right;\">\n",
       "      <th></th>\n",
       "      <th>AvgTemp</th>\n",
       "      <th>AvgHumidity</th>\n",
       "      <th>AvgWindspeed</th>\n",
       "      <th>AvgRainfall</th>\n",
       "      <th>UnemploymentRate</th>\n",
       "      <th>Demand</th>\n",
       "      <th>Month</th>\n",
       "      <th>Year</th>\n",
       "      <th>Series</th>\n",
       "    </tr>\n",
       "  </thead>\n",
       "  <tbody>\n",
       "    <tr>\n",
       "      <th>0</th>\n",
       "      <td>14.474910</td>\n",
       "      <td>79.600000</td>\n",
       "      <td>11.865077</td>\n",
       "      <td>0.000</td>\n",
       "      <td>10.6</td>\n",
       "      <td>1970</td>\n",
       "      <td>1</td>\n",
       "      <td>2016</td>\n",
       "      <td>1</td>\n",
       "    </tr>\n",
       "    <tr>\n",
       "      <th>1</th>\n",
       "      <td>18.235632</td>\n",
       "      <td>63.262069</td>\n",
       "      <td>15.379821</td>\n",
       "      <td>0.275</td>\n",
       "      <td>10.8</td>\n",
       "      <td>1773</td>\n",
       "      <td>2</td>\n",
       "      <td>2016</td>\n",
       "      <td>2</td>\n",
       "    </tr>\n",
       "    <tr>\n",
       "      <th>2</th>\n",
       "      <td>24.465950</td>\n",
       "      <td>56.951613</td>\n",
       "      <td>16.598652</td>\n",
       "      <td>3.580</td>\n",
       "      <td>11.1</td>\n",
       "      <td>1931</td>\n",
       "      <td>3</td>\n",
       "      <td>2016</td>\n",
       "      <td>3</td>\n",
       "    </tr>\n",
       "    <tr>\n",
       "      <th>3</th>\n",
       "      <td>31.527778</td>\n",
       "      <td>30.230000</td>\n",
       "      <td>19.206097</td>\n",
       "      <td>0.025</td>\n",
       "      <td>6.3</td>\n",
       "      <td>2628</td>\n",
       "      <td>4</td>\n",
       "      <td>2016</td>\n",
       "      <td>4</td>\n",
       "    </tr>\n",
       "    <tr>\n",
       "      <th>4</th>\n",
       "      <td>33.718638</td>\n",
       "      <td>41.312903</td>\n",
       "      <td>21.181706</td>\n",
       "      <td>2.425</td>\n",
       "      <td>17.3</td>\n",
       "      <td>3287</td>\n",
       "      <td>5</td>\n",
       "      <td>2016</td>\n",
       "      <td>5</td>\n",
       "    </tr>\n",
       "    <tr>\n",
       "      <th>...</th>\n",
       "      <td>...</td>\n",
       "      <td>...</td>\n",
       "      <td>...</td>\n",
       "      <td>...</td>\n",
       "      <td>...</td>\n",
       "      <td>...</td>\n",
       "      <td>...</td>\n",
       "      <td>...</td>\n",
       "      <td>...</td>\n",
       "    </tr>\n",
       "    <tr>\n",
       "      <th>73</th>\n",
       "      <td>17.057143</td>\n",
       "      <td>71.653571</td>\n",
       "      <td>15.696429</td>\n",
       "      <td>1.775</td>\n",
       "      <td>9.3</td>\n",
       "      <td>1873</td>\n",
       "      <td>2</td>\n",
       "      <td>2022</td>\n",
       "      <td>74</td>\n",
       "    </tr>\n",
       "    <tr>\n",
       "      <th>74</th>\n",
       "      <td>25.561290</td>\n",
       "      <td>56.387097</td>\n",
       "      <td>16.977419</td>\n",
       "      <td>1.160</td>\n",
       "      <td>8.9</td>\n",
       "      <td>2260</td>\n",
       "      <td>3</td>\n",
       "      <td>2022</td>\n",
       "      <td>75</td>\n",
       "    </tr>\n",
       "    <tr>\n",
       "      <th>75</th>\n",
       "      <td>32.523333</td>\n",
       "      <td>24.743333</td>\n",
       "      <td>18.663333</td>\n",
       "      <td>0.025</td>\n",
       "      <td>11.2</td>\n",
       "      <td>3202</td>\n",
       "      <td>4</td>\n",
       "      <td>2022</td>\n",
       "      <td>76</td>\n",
       "    </tr>\n",
       "    <tr>\n",
       "      <th>76</th>\n",
       "      <td>33.335484</td>\n",
       "      <td>44.229032</td>\n",
       "      <td>20.712903</td>\n",
       "      <td>13.050</td>\n",
       "      <td>13.6</td>\n",
       "      <td>3776</td>\n",
       "      <td>5</td>\n",
       "      <td>2022</td>\n",
       "      <td>77</td>\n",
       "    </tr>\n",
       "    <tr>\n",
       "      <th>77</th>\n",
       "      <td>38.115789</td>\n",
       "      <td>23.636842</td>\n",
       "      <td>24.605263</td>\n",
       "      <td>4.160</td>\n",
       "      <td>10.3</td>\n",
       "      <td>3917</td>\n",
       "      <td>6</td>\n",
       "      <td>2022</td>\n",
       "      <td>78</td>\n",
       "    </tr>\n",
       "  </tbody>\n",
       "</table>\n",
       "<p>78 rows × 9 columns</p>\n",
       "</div>"
      ],
      "text/plain": [
       "      AvgTemp  AvgHumidity  AvgWindspeed  AvgRainfall  UnemploymentRate  \\\n",
       "0   14.474910    79.600000     11.865077        0.000              10.6   \n",
       "1   18.235632    63.262069     15.379821        0.275              10.8   \n",
       "2   24.465950    56.951613     16.598652        3.580              11.1   \n",
       "3   31.527778    30.230000     19.206097        0.025               6.3   \n",
       "4   33.718638    41.312903     21.181706        2.425              17.3   \n",
       "..        ...          ...           ...          ...               ...   \n",
       "73  17.057143    71.653571     15.696429        1.775               9.3   \n",
       "74  25.561290    56.387097     16.977419        1.160               8.9   \n",
       "75  32.523333    24.743333     18.663333        0.025              11.2   \n",
       "76  33.335484    44.229032     20.712903       13.050              13.6   \n",
       "77  38.115789    23.636842     24.605263        4.160              10.3   \n",
       "\n",
       "    Demand  Month  Year  Series  \n",
       "0     1970      1  2016       1  \n",
       "1     1773      2  2016       2  \n",
       "2     1931      3  2016       3  \n",
       "3     2628      4  2016       4  \n",
       "4     3287      5  2016       5  \n",
       "..     ...    ...   ...     ...  \n",
       "73    1873      2  2022      74  \n",
       "74    2260      3  2022      75  \n",
       "75    3202      4  2022      76  \n",
       "76    3776      5  2022      77  \n",
       "77    3917      6  2022      78  \n",
       "\n",
       "[78 rows x 9 columns]"
      ]
     },
     "execution_count": 28,
     "metadata": {},
     "output_type": "execute_result"
    }
   ],
   "source": [
    "data.drop(['AvgTempFeelLike'],axis=1,inplace=True)\n",
    "data"
   ]
  },
  {
   "cell_type": "code",
   "execution_count": 29,
   "id": "068598c9",
   "metadata": {},
   "outputs": [
    {
     "data": {
      "text/html": [
       "<style type=\"text/css\">\n",
       "#T_97e76_row17_col1, #T_97e76_row42_col1 {\n",
       "  background-color: lightgreen;\n",
       "}\n",
       "</style>\n",
       "<table id=\"T_97e76\">\n",
       "  <thead>\n",
       "    <tr>\n",
       "      <th class=\"blank level0\" >&nbsp;</th>\n",
       "      <th id=\"T_97e76_level0_col0\" class=\"col_heading level0 col0\" >Description</th>\n",
       "      <th id=\"T_97e76_level0_col1\" class=\"col_heading level0 col1\" >Value</th>\n",
       "    </tr>\n",
       "  </thead>\n",
       "  <tbody>\n",
       "    <tr>\n",
       "      <th id=\"T_97e76_level0_row0\" class=\"row_heading level0 row0\" >0</th>\n",
       "      <td id=\"T_97e76_row0_col0\" class=\"data row0 col0\" >session_id</td>\n",
       "      <td id=\"T_97e76_row0_col1\" class=\"data row0 col1\" >105</td>\n",
       "    </tr>\n",
       "    <tr>\n",
       "      <th id=\"T_97e76_level0_row1\" class=\"row_heading level0 row1\" >1</th>\n",
       "      <td id=\"T_97e76_row1_col0\" class=\"data row1 col0\" >Target</td>\n",
       "      <td id=\"T_97e76_row1_col1\" class=\"data row1 col1\" >Demand</td>\n",
       "    </tr>\n",
       "    <tr>\n",
       "      <th id=\"T_97e76_level0_row2\" class=\"row_heading level0 row2\" >2</th>\n",
       "      <td id=\"T_97e76_row2_col0\" class=\"data row2 col0\" >Original Data</td>\n",
       "      <td id=\"T_97e76_row2_col1\" class=\"data row2 col1\" >(66, 9)</td>\n",
       "    </tr>\n",
       "    <tr>\n",
       "      <th id=\"T_97e76_level0_row3\" class=\"row_heading level0 row3\" >3</th>\n",
       "      <td id=\"T_97e76_row3_col0\" class=\"data row3 col0\" >Missing Values</td>\n",
       "      <td id=\"T_97e76_row3_col1\" class=\"data row3 col1\" >False</td>\n",
       "    </tr>\n",
       "    <tr>\n",
       "      <th id=\"T_97e76_level0_row4\" class=\"row_heading level0 row4\" >4</th>\n",
       "      <td id=\"T_97e76_row4_col0\" class=\"data row4 col0\" >Numeric Features</td>\n",
       "      <td id=\"T_97e76_row4_col1\" class=\"data row4 col1\" >7</td>\n",
       "    </tr>\n",
       "    <tr>\n",
       "      <th id=\"T_97e76_level0_row5\" class=\"row_heading level0 row5\" >5</th>\n",
       "      <td id=\"T_97e76_row5_col0\" class=\"data row5 col0\" >Categorical Features</td>\n",
       "      <td id=\"T_97e76_row5_col1\" class=\"data row5 col1\" >1</td>\n",
       "    </tr>\n",
       "    <tr>\n",
       "      <th id=\"T_97e76_level0_row6\" class=\"row_heading level0 row6\" >6</th>\n",
       "      <td id=\"T_97e76_row6_col0\" class=\"data row6 col0\" >Ordinal Features</td>\n",
       "      <td id=\"T_97e76_row6_col1\" class=\"data row6 col1\" >False</td>\n",
       "    </tr>\n",
       "    <tr>\n",
       "      <th id=\"T_97e76_level0_row7\" class=\"row_heading level0 row7\" >7</th>\n",
       "      <td id=\"T_97e76_row7_col0\" class=\"data row7 col0\" >High Cardinality Features</td>\n",
       "      <td id=\"T_97e76_row7_col1\" class=\"data row7 col1\" >False</td>\n",
       "    </tr>\n",
       "    <tr>\n",
       "      <th id=\"T_97e76_level0_row8\" class=\"row_heading level0 row8\" >8</th>\n",
       "      <td id=\"T_97e76_row8_col0\" class=\"data row8 col0\" >High Cardinality Method</td>\n",
       "      <td id=\"T_97e76_row8_col1\" class=\"data row8 col1\" >None</td>\n",
       "    </tr>\n",
       "    <tr>\n",
       "      <th id=\"T_97e76_level0_row9\" class=\"row_heading level0 row9\" >9</th>\n",
       "      <td id=\"T_97e76_row9_col0\" class=\"data row9 col0\" >Transformed Train Set</td>\n",
       "      <td id=\"T_97e76_row9_col1\" class=\"data row9 col1\" >(66, 19)</td>\n",
       "    </tr>\n",
       "    <tr>\n",
       "      <th id=\"T_97e76_level0_row10\" class=\"row_heading level0 row10\" >10</th>\n",
       "      <td id=\"T_97e76_row10_col0\" class=\"data row10 col0\" >Transformed Test Set</td>\n",
       "      <td id=\"T_97e76_row10_col1\" class=\"data row10 col1\" >(12, 19)</td>\n",
       "    </tr>\n",
       "    <tr>\n",
       "      <th id=\"T_97e76_level0_row11\" class=\"row_heading level0 row11\" >11</th>\n",
       "      <td id=\"T_97e76_row11_col0\" class=\"data row11 col0\" >Shuffle Train-Test</td>\n",
       "      <td id=\"T_97e76_row11_col1\" class=\"data row11 col1\" >True</td>\n",
       "    </tr>\n",
       "    <tr>\n",
       "      <th id=\"T_97e76_level0_row12\" class=\"row_heading level0 row12\" >12</th>\n",
       "      <td id=\"T_97e76_row12_col0\" class=\"data row12 col0\" >Stratify Train-Test</td>\n",
       "      <td id=\"T_97e76_row12_col1\" class=\"data row12 col1\" >False</td>\n",
       "    </tr>\n",
       "    <tr>\n",
       "      <th id=\"T_97e76_level0_row13\" class=\"row_heading level0 row13\" >13</th>\n",
       "      <td id=\"T_97e76_row13_col0\" class=\"data row13 col0\" >Fold Generator</td>\n",
       "      <td id=\"T_97e76_row13_col1\" class=\"data row13 col1\" >TimeSeriesSplit</td>\n",
       "    </tr>\n",
       "    <tr>\n",
       "      <th id=\"T_97e76_level0_row14\" class=\"row_heading level0 row14\" >14</th>\n",
       "      <td id=\"T_97e76_row14_col0\" class=\"data row14 col0\" >Fold Number</td>\n",
       "      <td id=\"T_97e76_row14_col1\" class=\"data row14 col1\" >3</td>\n",
       "    </tr>\n",
       "    <tr>\n",
       "      <th id=\"T_97e76_level0_row15\" class=\"row_heading level0 row15\" >15</th>\n",
       "      <td id=\"T_97e76_row15_col0\" class=\"data row15 col0\" >CPU Jobs</td>\n",
       "      <td id=\"T_97e76_row15_col1\" class=\"data row15 col1\" >-1</td>\n",
       "    </tr>\n",
       "    <tr>\n",
       "      <th id=\"T_97e76_level0_row16\" class=\"row_heading level0 row16\" >16</th>\n",
       "      <td id=\"T_97e76_row16_col0\" class=\"data row16 col0\" >Use GPU</td>\n",
       "      <td id=\"T_97e76_row16_col1\" class=\"data row16 col1\" >False</td>\n",
       "    </tr>\n",
       "    <tr>\n",
       "      <th id=\"T_97e76_level0_row17\" class=\"row_heading level0 row17\" >17</th>\n",
       "      <td id=\"T_97e76_row17_col0\" class=\"data row17 col0\" >Log Experiment</td>\n",
       "      <td id=\"T_97e76_row17_col1\" class=\"data row17 col1\" >True</td>\n",
       "    </tr>\n",
       "    <tr>\n",
       "      <th id=\"T_97e76_level0_row18\" class=\"row_heading level0 row18\" >18</th>\n",
       "      <td id=\"T_97e76_row18_col0\" class=\"data row18 col0\" >Experiment Name</td>\n",
       "      <td id=\"T_97e76_row18_col1\" class=\"data row18 col1\" >Demand</td>\n",
       "    </tr>\n",
       "    <tr>\n",
       "      <th id=\"T_97e76_level0_row19\" class=\"row_heading level0 row19\" >19</th>\n",
       "      <td id=\"T_97e76_row19_col0\" class=\"data row19 col0\" >USI</td>\n",
       "      <td id=\"T_97e76_row19_col1\" class=\"data row19 col1\" >e63f</td>\n",
       "    </tr>\n",
       "    <tr>\n",
       "      <th id=\"T_97e76_level0_row20\" class=\"row_heading level0 row20\" >20</th>\n",
       "      <td id=\"T_97e76_row20_col0\" class=\"data row20 col0\" >Imputation Type</td>\n",
       "      <td id=\"T_97e76_row20_col1\" class=\"data row20 col1\" >simple</td>\n",
       "    </tr>\n",
       "    <tr>\n",
       "      <th id=\"T_97e76_level0_row21\" class=\"row_heading level0 row21\" >21</th>\n",
       "      <td id=\"T_97e76_row21_col0\" class=\"data row21 col0\" >Iterative Imputation Iteration</td>\n",
       "      <td id=\"T_97e76_row21_col1\" class=\"data row21 col1\" >None</td>\n",
       "    </tr>\n",
       "    <tr>\n",
       "      <th id=\"T_97e76_level0_row22\" class=\"row_heading level0 row22\" >22</th>\n",
       "      <td id=\"T_97e76_row22_col0\" class=\"data row22 col0\" >Numeric Imputer</td>\n",
       "      <td id=\"T_97e76_row22_col1\" class=\"data row22 col1\" >mean</td>\n",
       "    </tr>\n",
       "    <tr>\n",
       "      <th id=\"T_97e76_level0_row23\" class=\"row_heading level0 row23\" >23</th>\n",
       "      <td id=\"T_97e76_row23_col0\" class=\"data row23 col0\" >Iterative Imputation Numeric Model</td>\n",
       "      <td id=\"T_97e76_row23_col1\" class=\"data row23 col1\" >None</td>\n",
       "    </tr>\n",
       "    <tr>\n",
       "      <th id=\"T_97e76_level0_row24\" class=\"row_heading level0 row24\" >24</th>\n",
       "      <td id=\"T_97e76_row24_col0\" class=\"data row24 col0\" >Categorical Imputer</td>\n",
       "      <td id=\"T_97e76_row24_col1\" class=\"data row24 col1\" >constant</td>\n",
       "    </tr>\n",
       "    <tr>\n",
       "      <th id=\"T_97e76_level0_row25\" class=\"row_heading level0 row25\" >25</th>\n",
       "      <td id=\"T_97e76_row25_col0\" class=\"data row25 col0\" >Iterative Imputation Categorical Model</td>\n",
       "      <td id=\"T_97e76_row25_col1\" class=\"data row25 col1\" >None</td>\n",
       "    </tr>\n",
       "    <tr>\n",
       "      <th id=\"T_97e76_level0_row26\" class=\"row_heading level0 row26\" >26</th>\n",
       "      <td id=\"T_97e76_row26_col0\" class=\"data row26 col0\" >Unknown Categoricals Handling</td>\n",
       "      <td id=\"T_97e76_row26_col1\" class=\"data row26 col1\" >least_frequent</td>\n",
       "    </tr>\n",
       "    <tr>\n",
       "      <th id=\"T_97e76_level0_row27\" class=\"row_heading level0 row27\" >27</th>\n",
       "      <td id=\"T_97e76_row27_col0\" class=\"data row27 col0\" >Normalize</td>\n",
       "      <td id=\"T_97e76_row27_col1\" class=\"data row27 col1\" >False</td>\n",
       "    </tr>\n",
       "    <tr>\n",
       "      <th id=\"T_97e76_level0_row28\" class=\"row_heading level0 row28\" >28</th>\n",
       "      <td id=\"T_97e76_row28_col0\" class=\"data row28 col0\" >Normalize Method</td>\n",
       "      <td id=\"T_97e76_row28_col1\" class=\"data row28 col1\" >None</td>\n",
       "    </tr>\n",
       "    <tr>\n",
       "      <th id=\"T_97e76_level0_row29\" class=\"row_heading level0 row29\" >29</th>\n",
       "      <td id=\"T_97e76_row29_col0\" class=\"data row29 col0\" >Transformation</td>\n",
       "      <td id=\"T_97e76_row29_col1\" class=\"data row29 col1\" >False</td>\n",
       "    </tr>\n",
       "    <tr>\n",
       "      <th id=\"T_97e76_level0_row30\" class=\"row_heading level0 row30\" >30</th>\n",
       "      <td id=\"T_97e76_row30_col0\" class=\"data row30 col0\" >Transformation Method</td>\n",
       "      <td id=\"T_97e76_row30_col1\" class=\"data row30 col1\" >None</td>\n",
       "    </tr>\n",
       "    <tr>\n",
       "      <th id=\"T_97e76_level0_row31\" class=\"row_heading level0 row31\" >31</th>\n",
       "      <td id=\"T_97e76_row31_col0\" class=\"data row31 col0\" >PCA</td>\n",
       "      <td id=\"T_97e76_row31_col1\" class=\"data row31 col1\" >False</td>\n",
       "    </tr>\n",
       "    <tr>\n",
       "      <th id=\"T_97e76_level0_row32\" class=\"row_heading level0 row32\" >32</th>\n",
       "      <td id=\"T_97e76_row32_col0\" class=\"data row32 col0\" >PCA Method</td>\n",
       "      <td id=\"T_97e76_row32_col1\" class=\"data row32 col1\" >None</td>\n",
       "    </tr>\n",
       "    <tr>\n",
       "      <th id=\"T_97e76_level0_row33\" class=\"row_heading level0 row33\" >33</th>\n",
       "      <td id=\"T_97e76_row33_col0\" class=\"data row33 col0\" >PCA Components</td>\n",
       "      <td id=\"T_97e76_row33_col1\" class=\"data row33 col1\" >None</td>\n",
       "    </tr>\n",
       "    <tr>\n",
       "      <th id=\"T_97e76_level0_row34\" class=\"row_heading level0 row34\" >34</th>\n",
       "      <td id=\"T_97e76_row34_col0\" class=\"data row34 col0\" >Ignore Low Variance</td>\n",
       "      <td id=\"T_97e76_row34_col1\" class=\"data row34 col1\" >False</td>\n",
       "    </tr>\n",
       "    <tr>\n",
       "      <th id=\"T_97e76_level0_row35\" class=\"row_heading level0 row35\" >35</th>\n",
       "      <td id=\"T_97e76_row35_col0\" class=\"data row35 col0\" >Combine Rare Levels</td>\n",
       "      <td id=\"T_97e76_row35_col1\" class=\"data row35 col1\" >False</td>\n",
       "    </tr>\n",
       "    <tr>\n",
       "      <th id=\"T_97e76_level0_row36\" class=\"row_heading level0 row36\" >36</th>\n",
       "      <td id=\"T_97e76_row36_col0\" class=\"data row36 col0\" >Rare Level Threshold</td>\n",
       "      <td id=\"T_97e76_row36_col1\" class=\"data row36 col1\" >None</td>\n",
       "    </tr>\n",
       "    <tr>\n",
       "      <th id=\"T_97e76_level0_row37\" class=\"row_heading level0 row37\" >37</th>\n",
       "      <td id=\"T_97e76_row37_col0\" class=\"data row37 col0\" >Numeric Binning</td>\n",
       "      <td id=\"T_97e76_row37_col1\" class=\"data row37 col1\" >False</td>\n",
       "    </tr>\n",
       "    <tr>\n",
       "      <th id=\"T_97e76_level0_row38\" class=\"row_heading level0 row38\" >38</th>\n",
       "      <td id=\"T_97e76_row38_col0\" class=\"data row38 col0\" >Remove Outliers</td>\n",
       "      <td id=\"T_97e76_row38_col1\" class=\"data row38 col1\" >False</td>\n",
       "    </tr>\n",
       "    <tr>\n",
       "      <th id=\"T_97e76_level0_row39\" class=\"row_heading level0 row39\" >39</th>\n",
       "      <td id=\"T_97e76_row39_col0\" class=\"data row39 col0\" >Outliers Threshold</td>\n",
       "      <td id=\"T_97e76_row39_col1\" class=\"data row39 col1\" >None</td>\n",
       "    </tr>\n",
       "    <tr>\n",
       "      <th id=\"T_97e76_level0_row40\" class=\"row_heading level0 row40\" >40</th>\n",
       "      <td id=\"T_97e76_row40_col0\" class=\"data row40 col0\" >Remove Multicollinearity</td>\n",
       "      <td id=\"T_97e76_row40_col1\" class=\"data row40 col1\" >False</td>\n",
       "    </tr>\n",
       "    <tr>\n",
       "      <th id=\"T_97e76_level0_row41\" class=\"row_heading level0 row41\" >41</th>\n",
       "      <td id=\"T_97e76_row41_col0\" class=\"data row41 col0\" >Multicollinearity Threshold</td>\n",
       "      <td id=\"T_97e76_row41_col1\" class=\"data row41 col1\" >None</td>\n",
       "    </tr>\n",
       "    <tr>\n",
       "      <th id=\"T_97e76_level0_row42\" class=\"row_heading level0 row42\" >42</th>\n",
       "      <td id=\"T_97e76_row42_col0\" class=\"data row42 col0\" >Remove Perfect Collinearity</td>\n",
       "      <td id=\"T_97e76_row42_col1\" class=\"data row42 col1\" >True</td>\n",
       "    </tr>\n",
       "    <tr>\n",
       "      <th id=\"T_97e76_level0_row43\" class=\"row_heading level0 row43\" >43</th>\n",
       "      <td id=\"T_97e76_row43_col0\" class=\"data row43 col0\" >Clustering</td>\n",
       "      <td id=\"T_97e76_row43_col1\" class=\"data row43 col1\" >False</td>\n",
       "    </tr>\n",
       "    <tr>\n",
       "      <th id=\"T_97e76_level0_row44\" class=\"row_heading level0 row44\" >44</th>\n",
       "      <td id=\"T_97e76_row44_col0\" class=\"data row44 col0\" >Clustering Iteration</td>\n",
       "      <td id=\"T_97e76_row44_col1\" class=\"data row44 col1\" >None</td>\n",
       "    </tr>\n",
       "    <tr>\n",
       "      <th id=\"T_97e76_level0_row45\" class=\"row_heading level0 row45\" >45</th>\n",
       "      <td id=\"T_97e76_row45_col0\" class=\"data row45 col0\" >Polynomial Features</td>\n",
       "      <td id=\"T_97e76_row45_col1\" class=\"data row45 col1\" >False</td>\n",
       "    </tr>\n",
       "    <tr>\n",
       "      <th id=\"T_97e76_level0_row46\" class=\"row_heading level0 row46\" >46</th>\n",
       "      <td id=\"T_97e76_row46_col0\" class=\"data row46 col0\" >Polynomial Degree</td>\n",
       "      <td id=\"T_97e76_row46_col1\" class=\"data row46 col1\" >None</td>\n",
       "    </tr>\n",
       "    <tr>\n",
       "      <th id=\"T_97e76_level0_row47\" class=\"row_heading level0 row47\" >47</th>\n",
       "      <td id=\"T_97e76_row47_col0\" class=\"data row47 col0\" >Trignometry Features</td>\n",
       "      <td id=\"T_97e76_row47_col1\" class=\"data row47 col1\" >False</td>\n",
       "    </tr>\n",
       "    <tr>\n",
       "      <th id=\"T_97e76_level0_row48\" class=\"row_heading level0 row48\" >48</th>\n",
       "      <td id=\"T_97e76_row48_col0\" class=\"data row48 col0\" >Polynomial Threshold</td>\n",
       "      <td id=\"T_97e76_row48_col1\" class=\"data row48 col1\" >None</td>\n",
       "    </tr>\n",
       "    <tr>\n",
       "      <th id=\"T_97e76_level0_row49\" class=\"row_heading level0 row49\" >49</th>\n",
       "      <td id=\"T_97e76_row49_col0\" class=\"data row49 col0\" >Group Features</td>\n",
       "      <td id=\"T_97e76_row49_col1\" class=\"data row49 col1\" >False</td>\n",
       "    </tr>\n",
       "    <tr>\n",
       "      <th id=\"T_97e76_level0_row50\" class=\"row_heading level0 row50\" >50</th>\n",
       "      <td id=\"T_97e76_row50_col0\" class=\"data row50 col0\" >Feature Selection</td>\n",
       "      <td id=\"T_97e76_row50_col1\" class=\"data row50 col1\" >False</td>\n",
       "    </tr>\n",
       "    <tr>\n",
       "      <th id=\"T_97e76_level0_row51\" class=\"row_heading level0 row51\" >51</th>\n",
       "      <td id=\"T_97e76_row51_col0\" class=\"data row51 col0\" >Feature Selection Method</td>\n",
       "      <td id=\"T_97e76_row51_col1\" class=\"data row51 col1\" >classic</td>\n",
       "    </tr>\n",
       "    <tr>\n",
       "      <th id=\"T_97e76_level0_row52\" class=\"row_heading level0 row52\" >52</th>\n",
       "      <td id=\"T_97e76_row52_col0\" class=\"data row52 col0\" >Features Selection Threshold</td>\n",
       "      <td id=\"T_97e76_row52_col1\" class=\"data row52 col1\" >None</td>\n",
       "    </tr>\n",
       "    <tr>\n",
       "      <th id=\"T_97e76_level0_row53\" class=\"row_heading level0 row53\" >53</th>\n",
       "      <td id=\"T_97e76_row53_col0\" class=\"data row53 col0\" >Feature Interaction</td>\n",
       "      <td id=\"T_97e76_row53_col1\" class=\"data row53 col1\" >False</td>\n",
       "    </tr>\n",
       "    <tr>\n",
       "      <th id=\"T_97e76_level0_row54\" class=\"row_heading level0 row54\" >54</th>\n",
       "      <td id=\"T_97e76_row54_col0\" class=\"data row54 col0\" >Feature Ratio</td>\n",
       "      <td id=\"T_97e76_row54_col1\" class=\"data row54 col1\" >False</td>\n",
       "    </tr>\n",
       "    <tr>\n",
       "      <th id=\"T_97e76_level0_row55\" class=\"row_heading level0 row55\" >55</th>\n",
       "      <td id=\"T_97e76_row55_col0\" class=\"data row55 col0\" >Interaction Threshold</td>\n",
       "      <td id=\"T_97e76_row55_col1\" class=\"data row55 col1\" >None</td>\n",
       "    </tr>\n",
       "    <tr>\n",
       "      <th id=\"T_97e76_level0_row56\" class=\"row_heading level0 row56\" >56</th>\n",
       "      <td id=\"T_97e76_row56_col0\" class=\"data row56 col0\" >Transform Target</td>\n",
       "      <td id=\"T_97e76_row56_col1\" class=\"data row56 col1\" >False</td>\n",
       "    </tr>\n",
       "    <tr>\n",
       "      <th id=\"T_97e76_level0_row57\" class=\"row_heading level0 row57\" >57</th>\n",
       "      <td id=\"T_97e76_row57_col0\" class=\"data row57 col0\" >Transform Target Method</td>\n",
       "      <td id=\"T_97e76_row57_col1\" class=\"data row57 col1\" >box-cox</td>\n",
       "    </tr>\n",
       "  </tbody>\n",
       "</table>\n"
      ],
      "text/plain": [
       "<pandas.io.formats.style.Styler at 0x175eb09e3a0>"
      ]
     },
     "metadata": {},
     "output_type": "display_data"
    }
   ],
   "source": [
    "# initialize setup\n",
    "s_Demand = setup(data = train, test_data = test, target = 'Demand', fold_strategy = 'timeseries',numeric_features = ['Year', 'Series','AvgTemp','AvgHumidity','AvgWindspeed','AvgRainfall','UnemploymentRate'], fold = 3, session_id = 105,log_experiment=True,experiment_name='Demand')"
   ]
  },
  {
   "cell_type": "code",
   "execution_count": 30,
   "id": "cc93ee4d",
   "metadata": {},
   "outputs": [
    {
     "data": {
      "text/html": [
       "<style type=\"text/css\">\n",
       "#T_a09a6 th {\n",
       "  text-align: left;\n",
       "}\n",
       "#T_a09a6_row0_col0, #T_a09a6_row0_col5, #T_a09a6_row1_col0, #T_a09a6_row1_col1, #T_a09a6_row1_col2, #T_a09a6_row1_col3, #T_a09a6_row1_col4, #T_a09a6_row1_col6, #T_a09a6_row2_col0, #T_a09a6_row2_col1, #T_a09a6_row2_col2, #T_a09a6_row2_col3, #T_a09a6_row2_col4, #T_a09a6_row2_col5, #T_a09a6_row2_col6, #T_a09a6_row3_col0, #T_a09a6_row3_col1, #T_a09a6_row3_col2, #T_a09a6_row3_col3, #T_a09a6_row3_col4, #T_a09a6_row3_col5, #T_a09a6_row3_col6, #T_a09a6_row4_col0, #T_a09a6_row4_col1, #T_a09a6_row4_col2, #T_a09a6_row4_col3, #T_a09a6_row4_col4, #T_a09a6_row4_col5, #T_a09a6_row4_col6, #T_a09a6_row5_col0, #T_a09a6_row5_col1, #T_a09a6_row5_col2, #T_a09a6_row5_col3, #T_a09a6_row5_col4, #T_a09a6_row5_col5, #T_a09a6_row5_col6, #T_a09a6_row6_col0, #T_a09a6_row6_col1, #T_a09a6_row6_col2, #T_a09a6_row6_col3, #T_a09a6_row6_col4, #T_a09a6_row6_col5, #T_a09a6_row6_col6, #T_a09a6_row7_col0, #T_a09a6_row7_col1, #T_a09a6_row7_col2, #T_a09a6_row7_col3, #T_a09a6_row7_col4, #T_a09a6_row7_col5, #T_a09a6_row7_col6, #T_a09a6_row8_col0, #T_a09a6_row8_col1, #T_a09a6_row8_col2, #T_a09a6_row8_col3, #T_a09a6_row8_col4, #T_a09a6_row8_col5, #T_a09a6_row8_col6, #T_a09a6_row9_col0, #T_a09a6_row9_col1, #T_a09a6_row9_col2, #T_a09a6_row9_col3, #T_a09a6_row9_col4, #T_a09a6_row9_col5, #T_a09a6_row9_col6, #T_a09a6_row10_col0, #T_a09a6_row10_col1, #T_a09a6_row10_col2, #T_a09a6_row10_col3, #T_a09a6_row10_col4, #T_a09a6_row10_col5, #T_a09a6_row10_col6, #T_a09a6_row11_col0, #T_a09a6_row11_col1, #T_a09a6_row11_col2, #T_a09a6_row11_col3, #T_a09a6_row11_col4, #T_a09a6_row11_col5, #T_a09a6_row11_col6, #T_a09a6_row12_col0, #T_a09a6_row12_col1, #T_a09a6_row12_col2, #T_a09a6_row12_col3, #T_a09a6_row12_col4, #T_a09a6_row12_col5, #T_a09a6_row12_col6, #T_a09a6_row13_col0, #T_a09a6_row13_col1, #T_a09a6_row13_col2, #T_a09a6_row13_col3, #T_a09a6_row13_col4, #T_a09a6_row13_col5, #T_a09a6_row13_col6, #T_a09a6_row14_col0, #T_a09a6_row14_col1, #T_a09a6_row14_col2, #T_a09a6_row14_col3, #T_a09a6_row14_col4, #T_a09a6_row14_col5, #T_a09a6_row14_col6, #T_a09a6_row15_col0, #T_a09a6_row15_col1, #T_a09a6_row15_col2, #T_a09a6_row15_col3, #T_a09a6_row15_col4, #T_a09a6_row15_col5, #T_a09a6_row15_col6, #T_a09a6_row16_col0, #T_a09a6_row16_col1, #T_a09a6_row16_col2, #T_a09a6_row16_col3, #T_a09a6_row16_col4, #T_a09a6_row16_col5, #T_a09a6_row16_col6, #T_a09a6_row17_col0, #T_a09a6_row17_col1, #T_a09a6_row17_col2, #T_a09a6_row17_col3, #T_a09a6_row17_col4, #T_a09a6_row17_col5, #T_a09a6_row17_col6, #T_a09a6_row18_col0, #T_a09a6_row18_col1, #T_a09a6_row18_col2, #T_a09a6_row18_col3, #T_a09a6_row18_col4, #T_a09a6_row18_col5, #T_a09a6_row18_col6, #T_a09a6_row19_col0, #T_a09a6_row19_col1, #T_a09a6_row19_col2, #T_a09a6_row19_col3, #T_a09a6_row19_col4, #T_a09a6_row19_col5, #T_a09a6_row19_col6 {\n",
       "  text-align: left;\n",
       "}\n",
       "#T_a09a6_row0_col1, #T_a09a6_row0_col2, #T_a09a6_row0_col3, #T_a09a6_row0_col4, #T_a09a6_row0_col6, #T_a09a6_row1_col5 {\n",
       "  text-align: left;\n",
       "  background-color: yellow;\n",
       "}\n",
       "#T_a09a6_row0_col7, #T_a09a6_row1_col7, #T_a09a6_row2_col7, #T_a09a6_row3_col7, #T_a09a6_row4_col7, #T_a09a6_row5_col7, #T_a09a6_row6_col7, #T_a09a6_row7_col7, #T_a09a6_row8_col7, #T_a09a6_row9_col7, #T_a09a6_row10_col7, #T_a09a6_row11_col7, #T_a09a6_row12_col7, #T_a09a6_row13_col7, #T_a09a6_row14_col7, #T_a09a6_row15_col7, #T_a09a6_row16_col7, #T_a09a6_row18_col7, #T_a09a6_row19_col7 {\n",
       "  text-align: left;\n",
       "  background-color: lightgrey;\n",
       "}\n",
       "#T_a09a6_row17_col7 {\n",
       "  text-align: left;\n",
       "  background-color: yellow;\n",
       "  background-color: lightgrey;\n",
       "}\n",
       "</style>\n",
       "<table id=\"T_a09a6\">\n",
       "  <thead>\n",
       "    <tr>\n",
       "      <th class=\"blank level0\" >&nbsp;</th>\n",
       "      <th id=\"T_a09a6_level0_col0\" class=\"col_heading level0 col0\" >Model</th>\n",
       "      <th id=\"T_a09a6_level0_col1\" class=\"col_heading level0 col1\" >MAE</th>\n",
       "      <th id=\"T_a09a6_level0_col2\" class=\"col_heading level0 col2\" >MSE</th>\n",
       "      <th id=\"T_a09a6_level0_col3\" class=\"col_heading level0 col3\" >RMSE</th>\n",
       "      <th id=\"T_a09a6_level0_col4\" class=\"col_heading level0 col4\" >R2</th>\n",
       "      <th id=\"T_a09a6_level0_col5\" class=\"col_heading level0 col5\" >RMSLE</th>\n",
       "      <th id=\"T_a09a6_level0_col6\" class=\"col_heading level0 col6\" >MAPE</th>\n",
       "      <th id=\"T_a09a6_level0_col7\" class=\"col_heading level0 col7\" >TT (Sec)</th>\n",
       "    </tr>\n",
       "  </thead>\n",
       "  <tbody>\n",
       "    <tr>\n",
       "      <th id=\"T_a09a6_level0_row0\" class=\"row_heading level0 row0\" >et</th>\n",
       "      <td id=\"T_a09a6_row0_col0\" class=\"data row0 col0\" >Extra Trees Regressor</td>\n",
       "      <td id=\"T_a09a6_row0_col1\" class=\"data row0 col1\" >212.7027</td>\n",
       "      <td id=\"T_a09a6_row0_col2\" class=\"data row0 col2\" >104473.0852</td>\n",
       "      <td id=\"T_a09a6_row0_col3\" class=\"data row0 col3\" >286.3872</td>\n",
       "      <td id=\"T_a09a6_row0_col4\" class=\"data row0 col4\" >0.7223</td>\n",
       "      <td id=\"T_a09a6_row0_col5\" class=\"data row0 col5\" >0.1058</td>\n",
       "      <td id=\"T_a09a6_row0_col6\" class=\"data row0 col6\" >0.0857</td>\n",
       "      <td id=\"T_a09a6_row0_col7\" class=\"data row0 col7\" >0.1200</td>\n",
       "    </tr>\n",
       "    <tr>\n",
       "      <th id=\"T_a09a6_level0_row1\" class=\"row_heading level0 row1\" >gbr</th>\n",
       "      <td id=\"T_a09a6_row1_col0\" class=\"data row1 col0\" >Gradient Boosting Regressor</td>\n",
       "      <td id=\"T_a09a6_row1_col1\" class=\"data row1 col1\" >217.6345</td>\n",
       "      <td id=\"T_a09a6_row1_col2\" class=\"data row1 col2\" >116240.8032</td>\n",
       "      <td id=\"T_a09a6_row1_col3\" class=\"data row1 col3\" >295.3352</td>\n",
       "      <td id=\"T_a09a6_row1_col4\" class=\"data row1 col4\" >0.6873</td>\n",
       "      <td id=\"T_a09a6_row1_col5\" class=\"data row1 col5\" >0.1054</td>\n",
       "      <td id=\"T_a09a6_row1_col6\" class=\"data row1 col6\" >0.0864</td>\n",
       "      <td id=\"T_a09a6_row1_col7\" class=\"data row1 col7\" >0.0300</td>\n",
       "    </tr>\n",
       "    <tr>\n",
       "      <th id=\"T_a09a6_level0_row2\" class=\"row_heading level0 row2\" >llar</th>\n",
       "      <td id=\"T_a09a6_row2_col0\" class=\"data row2 col0\" >Lasso Least Angle Regression</td>\n",
       "      <td id=\"T_a09a6_row2_col1\" class=\"data row2 col1\" >237.1044</td>\n",
       "      <td id=\"T_a09a6_row2_col2\" class=\"data row2 col2\" >120894.1341</td>\n",
       "      <td id=\"T_a09a6_row2_col3\" class=\"data row2 col3\" >296.0320</td>\n",
       "      <td id=\"T_a09a6_row2_col4\" class=\"data row2 col4\" >0.6726</td>\n",
       "      <td id=\"T_a09a6_row2_col5\" class=\"data row2 col5\" >0.1147</td>\n",
       "      <td id=\"T_a09a6_row2_col6\" class=\"data row2 col6\" >0.0990</td>\n",
       "      <td id=\"T_a09a6_row2_col7\" class=\"data row2 col7\" >0.0167</td>\n",
       "    </tr>\n",
       "    <tr>\n",
       "      <th id=\"T_a09a6_level0_row3\" class=\"row_heading level0 row3\" >ada</th>\n",
       "      <td id=\"T_a09a6_row3_col0\" class=\"data row3 col0\" >AdaBoost Regressor</td>\n",
       "      <td id=\"T_a09a6_row3_col1\" class=\"data row3 col1\" >223.8033</td>\n",
       "      <td id=\"T_a09a6_row3_col2\" class=\"data row3 col2\" >116202.2964</td>\n",
       "      <td id=\"T_a09a6_row3_col3\" class=\"data row3 col3\" >305.5231</td>\n",
       "      <td id=\"T_a09a6_row3_col4\" class=\"data row3 col4\" >0.6925</td>\n",
       "      <td id=\"T_a09a6_row3_col5\" class=\"data row3 col5\" >0.1121</td>\n",
       "      <td id=\"T_a09a6_row3_col6\" class=\"data row3 col6\" >0.0898</td>\n",
       "      <td id=\"T_a09a6_row3_col7\" class=\"data row3 col7\" >0.0633</td>\n",
       "    </tr>\n",
       "    <tr>\n",
       "      <th id=\"T_a09a6_level0_row4\" class=\"row_heading level0 row4\" >rf</th>\n",
       "      <td id=\"T_a09a6_row4_col0\" class=\"data row4 col0\" >Random Forest Regressor</td>\n",
       "      <td id=\"T_a09a6_row4_col1\" class=\"data row4 col1\" >230.7108</td>\n",
       "      <td id=\"T_a09a6_row4_col2\" class=\"data row4 col2\" >121648.2858</td>\n",
       "      <td id=\"T_a09a6_row4_col3\" class=\"data row4 col3\" >322.6191</td>\n",
       "      <td id=\"T_a09a6_row4_col4\" class=\"data row4 col4\" >0.6845</td>\n",
       "      <td id=\"T_a09a6_row4_col5\" class=\"data row4 col5\" >0.1134</td>\n",
       "      <td id=\"T_a09a6_row4_col6\" class=\"data row4 col6\" >0.0896</td>\n",
       "      <td id=\"T_a09a6_row4_col7\" class=\"data row4 col7\" >0.1300</td>\n",
       "    </tr>\n",
       "    <tr>\n",
       "      <th id=\"T_a09a6_level0_row5\" class=\"row_heading level0 row5\" >xgboost</th>\n",
       "      <td id=\"T_a09a6_row5_col0\" class=\"data row5 col0\" >Extreme Gradient Boosting</td>\n",
       "      <td id=\"T_a09a6_row5_col1\" class=\"data row5 col1\" >243.9462</td>\n",
       "      <td id=\"T_a09a6_row5_col2\" class=\"data row5 col2\" >134116.9767</td>\n",
       "      <td id=\"T_a09a6_row5_col3\" class=\"data row5 col3\" >322.8263</td>\n",
       "      <td id=\"T_a09a6_row5_col4\" class=\"data row5 col4\" >0.6433</td>\n",
       "      <td id=\"T_a09a6_row5_col5\" class=\"data row5 col5\" >0.1199</td>\n",
       "      <td id=\"T_a09a6_row5_col6\" class=\"data row5 col6\" >0.0979</td>\n",
       "      <td id=\"T_a09a6_row5_col7\" class=\"data row5 col7\" >0.2267</td>\n",
       "    </tr>\n",
       "    <tr>\n",
       "      <th id=\"T_a09a6_level0_row6\" class=\"row_heading level0 row6\" >br</th>\n",
       "      <td id=\"T_a09a6_row6_col0\" class=\"data row6 col0\" >Bayesian Ridge</td>\n",
       "      <td id=\"T_a09a6_row6_col1\" class=\"data row6 col1\" >269.2105</td>\n",
       "      <td id=\"T_a09a6_row6_col2\" class=\"data row6 col2\" >130914.3154</td>\n",
       "      <td id=\"T_a09a6_row6_col3\" class=\"data row6 col3\" >324.2148</td>\n",
       "      <td id=\"T_a09a6_row6_col4\" class=\"data row6 col4\" >0.6540</td>\n",
       "      <td id=\"T_a09a6_row6_col5\" class=\"data row6 col5\" >0.1321</td>\n",
       "      <td id=\"T_a09a6_row6_col6\" class=\"data row6 col6\" >0.1126</td>\n",
       "      <td id=\"T_a09a6_row6_col7\" class=\"data row6 col7\" >0.0133</td>\n",
       "    </tr>\n",
       "    <tr>\n",
       "      <th id=\"T_a09a6_level0_row7\" class=\"row_heading level0 row7\" >ridge</th>\n",
       "      <td id=\"T_a09a6_row7_col0\" class=\"data row7 col0\" >Ridge Regression</td>\n",
       "      <td id=\"T_a09a6_row7_col1\" class=\"data row7 col1\" >268.2196</td>\n",
       "      <td id=\"T_a09a6_row7_col2\" class=\"data row7 col2\" >128803.8004</td>\n",
       "      <td id=\"T_a09a6_row7_col3\" class=\"data row7 col3\" >325.4709</td>\n",
       "      <td id=\"T_a09a6_row7_col4\" class=\"data row7 col4\" >0.6614</td>\n",
       "      <td id=\"T_a09a6_row7_col5\" class=\"data row7 col5\" >0.1341</td>\n",
       "      <td id=\"T_a09a6_row7_col6\" class=\"data row7 col6\" >0.1137</td>\n",
       "      <td id=\"T_a09a6_row7_col7\" class=\"data row7 col7\" >1.7800</td>\n",
       "    </tr>\n",
       "    <tr>\n",
       "      <th id=\"T_a09a6_level0_row8\" class=\"row_heading level0 row8\" >lasso</th>\n",
       "      <td id=\"T_a09a6_row8_col0\" class=\"data row8 col0\" >Lasso Regression</td>\n",
       "      <td id=\"T_a09a6_row8_col1\" class=\"data row8 col1\" >285.4969</td>\n",
       "      <td id=\"T_a09a6_row8_col2\" class=\"data row8 col2\" >143206.4858</td>\n",
       "      <td id=\"T_a09a6_row8_col3\" class=\"data row8 col3\" >347.7368</td>\n",
       "      <td id=\"T_a09a6_row8_col4\" class=\"data row8 col4\" >0.6285</td>\n",
       "      <td id=\"T_a09a6_row8_col5\" class=\"data row8 col5\" >0.1384</td>\n",
       "      <td id=\"T_a09a6_row8_col6\" class=\"data row8 col6\" >0.1171</td>\n",
       "      <td id=\"T_a09a6_row8_col7\" class=\"data row8 col7\" >1.8400</td>\n",
       "    </tr>\n",
       "    <tr>\n",
       "      <th id=\"T_a09a6_level0_row9\" class=\"row_heading level0 row9\" >en</th>\n",
       "      <td id=\"T_a09a6_row9_col0\" class=\"data row9 col0\" >Elastic Net</td>\n",
       "      <td id=\"T_a09a6_row9_col1\" class=\"data row9 col1\" >318.4519</td>\n",
       "      <td id=\"T_a09a6_row9_col2\" class=\"data row9 col2\" >149669.9512</td>\n",
       "      <td id=\"T_a09a6_row9_col3\" class=\"data row9 col3\" >364.7523</td>\n",
       "      <td id=\"T_a09a6_row9_col4\" class=\"data row9 col4\" >0.6196</td>\n",
       "      <td id=\"T_a09a6_row9_col5\" class=\"data row9 col5\" >0.1574</td>\n",
       "      <td id=\"T_a09a6_row9_col6\" class=\"data row9 col6\" >0.1396</td>\n",
       "      <td id=\"T_a09a6_row9_col7\" class=\"data row9 col7\" >0.0133</td>\n",
       "    </tr>\n",
       "    <tr>\n",
       "      <th id=\"T_a09a6_level0_row10\" class=\"row_heading level0 row10\" >catboost</th>\n",
       "      <td id=\"T_a09a6_row10_col0\" class=\"data row10 col0\" >CatBoost Regressor</td>\n",
       "      <td id=\"T_a09a6_row10_col1\" class=\"data row10 col1\" >301.8515</td>\n",
       "      <td id=\"T_a09a6_row10_col2\" class=\"data row10 col2\" >144002.1645</td>\n",
       "      <td id=\"T_a09a6_row10_col3\" class=\"data row10 col3\" >375.8580</td>\n",
       "      <td id=\"T_a09a6_row10_col4\" class=\"data row10 col4\" >0.6569</td>\n",
       "      <td id=\"T_a09a6_row10_col5\" class=\"data row10 col5\" >0.1428</td>\n",
       "      <td id=\"T_a09a6_row10_col6\" class=\"data row10 col6\" >0.1223</td>\n",
       "      <td id=\"T_a09a6_row10_col7\" class=\"data row10 col7\" >0.5800</td>\n",
       "    </tr>\n",
       "    <tr>\n",
       "      <th id=\"T_a09a6_level0_row11\" class=\"row_heading level0 row11\" >huber</th>\n",
       "      <td id=\"T_a09a6_row11_col0\" class=\"data row11 col0\" >Huber Regressor</td>\n",
       "      <td id=\"T_a09a6_row11_col1\" class=\"data row11 col1\" >317.0360</td>\n",
       "      <td id=\"T_a09a6_row11_col2\" class=\"data row11 col2\" >151590.8814</td>\n",
       "      <td id=\"T_a09a6_row11_col3\" class=\"data row11 col3\" >380.2617</td>\n",
       "      <td id=\"T_a09a6_row11_col4\" class=\"data row11 col4\" >0.6295</td>\n",
       "      <td id=\"T_a09a6_row11_col5\" class=\"data row11 col5\" >0.1684</td>\n",
       "      <td id=\"T_a09a6_row11_col6\" class=\"data row11 col6\" >0.1362</td>\n",
       "      <td id=\"T_a09a6_row11_col7\" class=\"data row11 col7\" >0.0500</td>\n",
       "    </tr>\n",
       "    <tr>\n",
       "      <th id=\"T_a09a6_level0_row12\" class=\"row_heading level0 row12\" >dt</th>\n",
       "      <td id=\"T_a09a6_row12_col0\" class=\"data row12 col0\" >Decision Tree Regressor</td>\n",
       "      <td id=\"T_a09a6_row12_col1\" class=\"data row12 col1\" >288.0208</td>\n",
       "      <td id=\"T_a09a6_row12_col2\" class=\"data row12 col2\" >197423.8542</td>\n",
       "      <td id=\"T_a09a6_row12_col3\" class=\"data row12 col3\" >424.1038</td>\n",
       "      <td id=\"T_a09a6_row12_col4\" class=\"data row12 col4\" >0.5114</td>\n",
       "      <td id=\"T_a09a6_row12_col5\" class=\"data row12 col5\" >0.1504</td>\n",
       "      <td id=\"T_a09a6_row12_col6\" class=\"data row12 col6\" >0.1106</td>\n",
       "      <td id=\"T_a09a6_row12_col7\" class=\"data row12 col7\" >0.0167</td>\n",
       "    </tr>\n",
       "    <tr>\n",
       "      <th id=\"T_a09a6_level0_row13\" class=\"row_heading level0 row13\" >omp</th>\n",
       "      <td id=\"T_a09a6_row13_col0\" class=\"data row13 col0\" >Orthogonal Matching Pursuit</td>\n",
       "      <td id=\"T_a09a6_row13_col1\" class=\"data row13 col1\" >393.3367</td>\n",
       "      <td id=\"T_a09a6_row13_col2\" class=\"data row13 col2\" >217954.9252</td>\n",
       "      <td id=\"T_a09a6_row13_col3\" class=\"data row13 col3\" >462.9162</td>\n",
       "      <td id=\"T_a09a6_row13_col4\" class=\"data row13 col4\" >0.4856</td>\n",
       "      <td id=\"T_a09a6_row13_col5\" class=\"data row13 col5\" >0.1997</td>\n",
       "      <td id=\"T_a09a6_row13_col6\" class=\"data row13 col6\" >0.1647</td>\n",
       "      <td id=\"T_a09a6_row13_col7\" class=\"data row13 col7\" >0.0133</td>\n",
       "    </tr>\n",
       "    <tr>\n",
       "      <th id=\"T_a09a6_level0_row14\" class=\"row_heading level0 row14\" >knn</th>\n",
       "      <td id=\"T_a09a6_row14_col0\" class=\"data row14 col0\" >K Neighbors Regressor</td>\n",
       "      <td id=\"T_a09a6_row14_col1\" class=\"data row14 col1\" >384.6083</td>\n",
       "      <td id=\"T_a09a6_row14_col2\" class=\"data row14 col2\" >235540.9183</td>\n",
       "      <td id=\"T_a09a6_row14_col3\" class=\"data row14 col3\" >472.3152</td>\n",
       "      <td id=\"T_a09a6_row14_col4\" class=\"data row14 col4\" >0.4258</td>\n",
       "      <td id=\"T_a09a6_row14_col5\" class=\"data row14 col5\" >0.1752</td>\n",
       "      <td id=\"T_a09a6_row14_col6\" class=\"data row14 col6\" >0.1503</td>\n",
       "      <td id=\"T_a09a6_row14_col7\" class=\"data row14 col7\" >0.0400</td>\n",
       "    </tr>\n",
       "    <tr>\n",
       "      <th id=\"T_a09a6_level0_row15\" class=\"row_heading level0 row15\" >lr</th>\n",
       "      <td id=\"T_a09a6_row15_col0\" class=\"data row15 col0\" >Linear Regression</td>\n",
       "      <td id=\"T_a09a6_row15_col1\" class=\"data row15 col1\" >421.5416</td>\n",
       "      <td id=\"T_a09a6_row15_col2\" class=\"data row15 col2\" >321606.6789</td>\n",
       "      <td id=\"T_a09a6_row15_col3\" class=\"data row15 col3\" >520.7341</td>\n",
       "      <td id=\"T_a09a6_row15_col4\" class=\"data row15 col4\" >0.2463</td>\n",
       "      <td id=\"T_a09a6_row15_col5\" class=\"data row15 col5\" >0.2378</td>\n",
       "      <td id=\"T_a09a6_row15_col6\" class=\"data row15 col6\" >0.1698</td>\n",
       "      <td id=\"T_a09a6_row15_col7\" class=\"data row15 col7\" >4.0533</td>\n",
       "    </tr>\n",
       "    <tr>\n",
       "      <th id=\"T_a09a6_level0_row16\" class=\"row_heading level0 row16\" >lightgbm</th>\n",
       "      <td id=\"T_a09a6_row16_col0\" class=\"data row16 col0\" >Light Gradient Boosting Machine</td>\n",
       "      <td id=\"T_a09a6_row16_col1\" class=\"data row16 col1\" >570.1895</td>\n",
       "      <td id=\"T_a09a6_row16_col2\" class=\"data row16 col2\" >462525.7939</td>\n",
       "      <td id=\"T_a09a6_row16_col3\" class=\"data row16 col3\" >673.5278</td>\n",
       "      <td id=\"T_a09a6_row16_col4\" class=\"data row16 col4\" >0.0014</td>\n",
       "      <td id=\"T_a09a6_row16_col5\" class=\"data row16 col5\" >0.2544</td>\n",
       "      <td id=\"T_a09a6_row16_col6\" class=\"data row16 col6\" >0.2283</td>\n",
       "      <td id=\"T_a09a6_row16_col7\" class=\"data row16 col7\" >0.0667</td>\n",
       "    </tr>\n",
       "    <tr>\n",
       "      <th id=\"T_a09a6_level0_row17\" class=\"row_heading level0 row17\" >dummy</th>\n",
       "      <td id=\"T_a09a6_row17_col0\" class=\"data row17 col0\" >Dummy Regressor</td>\n",
       "      <td id=\"T_a09a6_row17_col1\" class=\"data row17 col1\" >633.6778</td>\n",
       "      <td id=\"T_a09a6_row17_col2\" class=\"data row17 col2\" >495446.7176</td>\n",
       "      <td id=\"T_a09a6_row17_col3\" class=\"data row17 col3\" >701.7805</td>\n",
       "      <td id=\"T_a09a6_row17_col4\" class=\"data row17 col4\" >-0.0921</td>\n",
       "      <td id=\"T_a09a6_row17_col5\" class=\"data row17 col5\" >0.2709</td>\n",
       "      <td id=\"T_a09a6_row17_col6\" class=\"data row17 col6\" >0.2564</td>\n",
       "      <td id=\"T_a09a6_row17_col7\" class=\"data row17 col7\" >0.0100</td>\n",
       "    </tr>\n",
       "    <tr>\n",
       "      <th id=\"T_a09a6_level0_row18\" class=\"row_heading level0 row18\" >par</th>\n",
       "      <td id=\"T_a09a6_row18_col0\" class=\"data row18 col0\" >Passive Aggressive Regressor</td>\n",
       "      <td id=\"T_a09a6_row18_col1\" class=\"data row18 col1\" >750.8837</td>\n",
       "      <td id=\"T_a09a6_row18_col2\" class=\"data row18 col2\" >852858.4502</td>\n",
       "      <td id=\"T_a09a6_row18_col3\" class=\"data row18 col3\" >916.2292</td>\n",
       "      <td id=\"T_a09a6_row18_col4\" class=\"data row18 col4\" >-0.8531</td>\n",
       "      <td id=\"T_a09a6_row18_col5\" class=\"data row18 col5\" >0.3541</td>\n",
       "      <td id=\"T_a09a6_row18_col6\" class=\"data row18 col6\" >0.3279</td>\n",
       "      <td id=\"T_a09a6_row18_col7\" class=\"data row18 col7\" >0.0133</td>\n",
       "    </tr>\n",
       "    <tr>\n",
       "      <th id=\"T_a09a6_level0_row19\" class=\"row_heading level0 row19\" >lar</th>\n",
       "      <td id=\"T_a09a6_row19_col0\" class=\"data row19 col0\" >Least Angle Regression</td>\n",
       "      <td id=\"T_a09a6_row19_col1\" class=\"data row19 col1\" >10361854.0767</td>\n",
       "      <td id=\"T_a09a6_row19_col2\" class=\"data row19 col2\" >248231868786038.5938</td>\n",
       "      <td id=\"T_a09a6_row19_col3\" class=\"data row19 col3\" >12543193.2785</td>\n",
       "      <td id=\"T_a09a6_row19_col4\" class=\"data row19 col4\" >-652694052.3283</td>\n",
       "      <td id=\"T_a09a6_row19_col5\" class=\"data row19 col5\" >6.5354</td>\n",
       "      <td id=\"T_a09a6_row19_col6\" class=\"data row19 col6\" >4383.1372</td>\n",
       "      <td id=\"T_a09a6_row19_col7\" class=\"data row19 col7\" >0.0167</td>\n",
       "    </tr>\n",
       "  </tbody>\n",
       "</table>\n"
      ],
      "text/plain": [
       "<pandas.io.formats.style.Styler at 0x175ea548250>"
      ]
     },
     "metadata": {},
     "output_type": "display_data"
    }
   ],
   "source": [
    "best = compare_models(sort = 'RMSE')"
   ]
  },
  {
   "cell_type": "code",
   "execution_count": 31,
   "id": "fa98745f",
   "metadata": {},
   "outputs": [
    {
     "data": {
      "text/html": [
       "<style type=\"text/css\">\n",
       "</style>\n",
       "<table id=\"T_ed6ce\">\n",
       "  <thead>\n",
       "    <tr>\n",
       "      <th class=\"blank level0\" >&nbsp;</th>\n",
       "      <th id=\"T_ed6ce_level0_col0\" class=\"col_heading level0 col0\" >Model</th>\n",
       "      <th id=\"T_ed6ce_level0_col1\" class=\"col_heading level0 col1\" >MAE</th>\n",
       "      <th id=\"T_ed6ce_level0_col2\" class=\"col_heading level0 col2\" >MSE</th>\n",
       "      <th id=\"T_ed6ce_level0_col3\" class=\"col_heading level0 col3\" >RMSE</th>\n",
       "      <th id=\"T_ed6ce_level0_col4\" class=\"col_heading level0 col4\" >R2</th>\n",
       "      <th id=\"T_ed6ce_level0_col5\" class=\"col_heading level0 col5\" >RMSLE</th>\n",
       "      <th id=\"T_ed6ce_level0_col6\" class=\"col_heading level0 col6\" >MAPE</th>\n",
       "    </tr>\n",
       "  </thead>\n",
       "  <tbody>\n",
       "    <tr>\n",
       "      <th id=\"T_ed6ce_level0_row0\" class=\"row_heading level0 row0\" >0</th>\n",
       "      <td id=\"T_ed6ce_row0_col0\" class=\"data row0 col0\" >Extra Trees Regressor</td>\n",
       "      <td id=\"T_ed6ce_row0_col1\" class=\"data row0 col1\" >35.8665</td>\n",
       "      <td id=\"T_ed6ce_row0_col2\" class=\"data row0 col2\" >16786.1969</td>\n",
       "      <td id=\"T_ed6ce_row0_col3\" class=\"data row0 col3\" >129.5616</td>\n",
       "      <td id=\"T_ed6ce_row0_col4\" class=\"data row0 col4\" >0.9660</td>\n",
       "      <td id=\"T_ed6ce_row0_col5\" class=\"data row0 col5\" >0.0410</td>\n",
       "      <td id=\"T_ed6ce_row0_col6\" class=\"data row0 col6\" >0.0110</td>\n",
       "    </tr>\n",
       "  </tbody>\n",
       "</table>\n"
      ],
      "text/plain": [
       "<pandas.io.formats.style.Styler at 0x175d14f0f40>"
      ]
     },
     "metadata": {},
     "output_type": "display_data"
    },
    {
     "data": {
      "application/vnd.plotly.v1+json": {
       "config": {
        "plotlyServerURL": "https://plot.ly"
       },
       "data": [
        {
         "hovertemplate": "variable=Demand<br>Date=%{x}<br>value=%{y}<extra></extra>",
         "legendgroup": "Demand",
         "line": {
          "color": "#636efa",
          "dash": "solid"
         },
         "marker": {
          "symbol": "circle"
         },
         "mode": "lines",
         "name": "Demand",
         "orientation": "v",
         "showlegend": true,
         "type": "scatter",
         "x": [
          "2016-01-01T00:00:00",
          "2016-02-01T00:00:00",
          "2016-03-01T00:00:00",
          "2016-04-01T00:00:00",
          "2016-05-01T00:00:00",
          "2016-06-01T00:00:00",
          "2016-07-01T00:00:00",
          "2016-08-01T00:00:00",
          "2016-09-01T00:00:00",
          "2016-10-01T00:00:00",
          "2016-11-01T00:00:00",
          "2016-12-01T00:00:00",
          "2017-01-01T00:00:00",
          "2017-02-01T00:00:00",
          "2017-03-01T00:00:00",
          "2017-04-01T00:00:00",
          "2017-05-01T00:00:00",
          "2017-06-01T00:00:00",
          "2017-07-01T00:00:00",
          "2017-08-01T00:00:00",
          "2017-09-01T00:00:00",
          "2017-10-01T00:00:00",
          "2017-11-01T00:00:00",
          "2017-12-01T00:00:00",
          "2018-01-01T00:00:00",
          "2018-02-01T00:00:00",
          "2018-03-01T00:00:00",
          "2018-04-01T00:00:00",
          "2018-05-01T00:00:00",
          "2018-06-01T00:00:00",
          "2018-07-01T00:00:00",
          "2018-08-01T00:00:00",
          "2018-09-01T00:00:00",
          "2018-10-01T00:00:00",
          "2018-11-01T00:00:00",
          "2018-12-01T00:00:00",
          "2019-01-01T00:00:00",
          "2019-02-01T00:00:00",
          "2019-03-01T00:00:00",
          "2019-04-01T00:00:00",
          "2019-05-01T00:00:00",
          "2019-06-01T00:00:00",
          "2019-07-01T00:00:00",
          "2019-08-01T00:00:00",
          "2019-09-01T00:00:00",
          "2019-10-01T00:00:00",
          "2019-11-01T00:00:00",
          "2019-12-01T00:00:00",
          "2020-01-01T00:00:00",
          "2020-02-01T00:00:00",
          "2020-03-01T00:00:00",
          "2020-04-01T00:00:00",
          "2020-05-01T00:00:00",
          "2020-06-01T00:00:00",
          "2020-07-01T00:00:00",
          "2020-08-01T00:00:00",
          "2020-09-01T00:00:00",
          "2020-10-01T00:00:00",
          "2020-11-01T00:00:00",
          "2020-12-01T00:00:00",
          "2021-01-01T00:00:00",
          "2021-02-01T00:00:00",
          "2021-03-01T00:00:00",
          "2021-04-01T00:00:00",
          "2021-05-01T00:00:00",
          "2021-06-01T00:00:00",
          "2021-07-01T00:00:00",
          "2021-08-01T00:00:00",
          "2021-09-01T00:00:00",
          "2021-10-01T00:00:00",
          "2021-11-01T00:00:00",
          "2021-12-01T00:00:00",
          "2022-01-01T00:00:00",
          "2022-02-01T00:00:00",
          "2022-03-01T00:00:00",
          "2022-04-01T00:00:00",
          "2022-05-01T00:00:00",
          "2022-06-01T00:00:00"
         ],
         "xaxis": "x",
         "y": [
          1970,
          1773,
          1931,
          2628,
          3287,
          3498,
          3311,
          3211,
          3109,
          2622,
          1751,
          1797,
          1938,
          1711,
          1966,
          2610,
          3375,
          3359,
          3474,
          3500,
          3130,
          2641,
          1897,
          1968,
          2063,
          1755,
          2053,
          2636,
          3429,
          3824,
          3686,
          3535,
          2925,
          2503,
          1838,
          1998,
          2141,
          1856,
          1931,
          2698,
          3367,
          3833,
          3769,
          3547,
          3463,
          2469,
          1900,
          2151,
          2290,
          1905,
          1693,
          1671,
          2523,
          3110,
          3314,
          3166,
          3343,
          2451,
          1784,
          2025,
          2270,
          1805,
          2097,
          2240,
          2328,
          3287,
          3722,
          3547,
          3027,
          2663,
          1821,
          2091,
          2267,
          1873,
          2260,
          3202,
          3776,
          3917
         ],
         "yaxis": "y"
        },
        {
         "hovertemplate": "variable=Label<br>Date=%{x}<br>value=%{y}<extra></extra>",
         "legendgroup": "Label",
         "line": {
          "color": "#EF553B",
          "dash": "solid"
         },
         "marker": {
          "symbol": "circle"
         },
         "mode": "lines",
         "name": "Label",
         "orientation": "v",
         "showlegend": true,
         "type": "scatter",
         "x": [
          "2016-01-01T00:00:00",
          "2016-02-01T00:00:00",
          "2016-03-01T00:00:00",
          "2016-04-01T00:00:00",
          "2016-05-01T00:00:00",
          "2016-06-01T00:00:00",
          "2016-07-01T00:00:00",
          "2016-08-01T00:00:00",
          "2016-09-01T00:00:00",
          "2016-10-01T00:00:00",
          "2016-11-01T00:00:00",
          "2016-12-01T00:00:00",
          "2017-01-01T00:00:00",
          "2017-02-01T00:00:00",
          "2017-03-01T00:00:00",
          "2017-04-01T00:00:00",
          "2017-05-01T00:00:00",
          "2017-06-01T00:00:00",
          "2017-07-01T00:00:00",
          "2017-08-01T00:00:00",
          "2017-09-01T00:00:00",
          "2017-10-01T00:00:00",
          "2017-11-01T00:00:00",
          "2017-12-01T00:00:00",
          "2018-01-01T00:00:00",
          "2018-02-01T00:00:00",
          "2018-03-01T00:00:00",
          "2018-04-01T00:00:00",
          "2018-05-01T00:00:00",
          "2018-06-01T00:00:00",
          "2018-07-01T00:00:00",
          "2018-08-01T00:00:00",
          "2018-09-01T00:00:00",
          "2018-10-01T00:00:00",
          "2018-11-01T00:00:00",
          "2018-12-01T00:00:00",
          "2019-01-01T00:00:00",
          "2019-02-01T00:00:00",
          "2019-03-01T00:00:00",
          "2019-04-01T00:00:00",
          "2019-05-01T00:00:00",
          "2019-06-01T00:00:00",
          "2019-07-01T00:00:00",
          "2019-08-01T00:00:00",
          "2019-09-01T00:00:00",
          "2019-10-01T00:00:00",
          "2019-11-01T00:00:00",
          "2019-12-01T00:00:00",
          "2020-01-01T00:00:00",
          "2020-02-01T00:00:00",
          "2020-03-01T00:00:00",
          "2020-04-01T00:00:00",
          "2020-05-01T00:00:00",
          "2020-06-01T00:00:00",
          "2020-07-01T00:00:00",
          "2020-08-01T00:00:00",
          "2020-09-01T00:00:00",
          "2020-10-01T00:00:00",
          "2020-11-01T00:00:00",
          "2020-12-01T00:00:00",
          "2021-01-01T00:00:00",
          "2021-02-01T00:00:00",
          "2021-03-01T00:00:00",
          "2021-04-01T00:00:00",
          "2021-05-01T00:00:00",
          "2021-06-01T00:00:00",
          "2021-07-01T00:00:00",
          "2021-08-01T00:00:00",
          "2021-09-01T00:00:00",
          "2021-10-01T00:00:00",
          "2021-11-01T00:00:00",
          "2021-12-01T00:00:00",
          "2022-01-01T00:00:00",
          "2022-02-01T00:00:00",
          "2022-03-01T00:00:00",
          "2022-04-01T00:00:00",
          "2022-05-01T00:00:00",
          "2022-06-01T00:00:00"
         ],
         "xaxis": "x",
         "y": [
          1970,
          1773,
          1931,
          2628,
          3287,
          3498,
          3311,
          3211,
          3109,
          2622,
          1751,
          1797,
          1938,
          1711,
          1966,
          2610,
          3375,
          3359,
          3474,
          3500,
          3130,
          2641,
          1897,
          1968,
          2063,
          1755,
          2053,
          2636,
          3429,
          3824,
          3686,
          3535,
          2925,
          2503,
          1838,
          1998,
          2141,
          1856,
          1931,
          2698,
          3367,
          3833,
          3769,
          3547,
          3463,
          2469,
          1900,
          2151,
          2290,
          1905,
          1693,
          1671,
          2523,
          3110,
          3314,
          3166,
          3343,
          2451,
          1784,
          2025,
          2270,
          1805,
          2097,
          2240,
          2328,
          3287,
          3405.29,
          3257.52,
          3052.8,
          2543.64,
          1820.03,
          1997.11,
          2313.11,
          1843.4,
          2081.7,
          2583.87,
          3010.29,
          3603.47
         ],
         "yaxis": "y"
        }
       ],
       "layout": {
        "legend": {
         "title": {
          "text": "variable"
         },
         "tracegroupgap": 0
        },
        "margin": {
         "t": 60
        },
        "shapes": [
         {
          "fillcolor": "grey",
          "line": {
           "width": 0
          },
          "opacity": 0.25,
          "type": "rect",
          "x0": "2021-06-01",
          "x1": "2022-06-01",
          "xref": "x",
          "y0": 0,
          "y1": 1,
          "yref": "y domain"
         }
        ],
        "template": {
         "data": {
          "bar": [
           {
            "error_x": {
             "color": "#f2f5fa"
            },
            "error_y": {
             "color": "#f2f5fa"
            },
            "marker": {
             "line": {
              "color": "rgb(17,17,17)",
              "width": 0.5
             },
             "pattern": {
              "fillmode": "overlay",
              "size": 10,
              "solidity": 0.2
             }
            },
            "type": "bar"
           }
          ],
          "barpolar": [
           {
            "marker": {
             "line": {
              "color": "rgb(17,17,17)",
              "width": 0.5
             },
             "pattern": {
              "fillmode": "overlay",
              "size": 10,
              "solidity": 0.2
             }
            },
            "type": "barpolar"
           }
          ],
          "carpet": [
           {
            "aaxis": {
             "endlinecolor": "#A2B1C6",
             "gridcolor": "#506784",
             "linecolor": "#506784",
             "minorgridcolor": "#506784",
             "startlinecolor": "#A2B1C6"
            },
            "baxis": {
             "endlinecolor": "#A2B1C6",
             "gridcolor": "#506784",
             "linecolor": "#506784",
             "minorgridcolor": "#506784",
             "startlinecolor": "#A2B1C6"
            },
            "type": "carpet"
           }
          ],
          "choropleth": [
           {
            "colorbar": {
             "outlinewidth": 0,
             "ticks": ""
            },
            "type": "choropleth"
           }
          ],
          "contour": [
           {
            "colorbar": {
             "outlinewidth": 0,
             "ticks": ""
            },
            "colorscale": [
             [
              0,
              "#0d0887"
             ],
             [
              0.1111111111111111,
              "#46039f"
             ],
             [
              0.2222222222222222,
              "#7201a8"
             ],
             [
              0.3333333333333333,
              "#9c179e"
             ],
             [
              0.4444444444444444,
              "#bd3786"
             ],
             [
              0.5555555555555556,
              "#d8576b"
             ],
             [
              0.6666666666666666,
              "#ed7953"
             ],
             [
              0.7777777777777778,
              "#fb9f3a"
             ],
             [
              0.8888888888888888,
              "#fdca26"
             ],
             [
              1,
              "#f0f921"
             ]
            ],
            "type": "contour"
           }
          ],
          "contourcarpet": [
           {
            "colorbar": {
             "outlinewidth": 0,
             "ticks": ""
            },
            "type": "contourcarpet"
           }
          ],
          "heatmap": [
           {
            "colorbar": {
             "outlinewidth": 0,
             "ticks": ""
            },
            "colorscale": [
             [
              0,
              "#0d0887"
             ],
             [
              0.1111111111111111,
              "#46039f"
             ],
             [
              0.2222222222222222,
              "#7201a8"
             ],
             [
              0.3333333333333333,
              "#9c179e"
             ],
             [
              0.4444444444444444,
              "#bd3786"
             ],
             [
              0.5555555555555556,
              "#d8576b"
             ],
             [
              0.6666666666666666,
              "#ed7953"
             ],
             [
              0.7777777777777778,
              "#fb9f3a"
             ],
             [
              0.8888888888888888,
              "#fdca26"
             ],
             [
              1,
              "#f0f921"
             ]
            ],
            "type": "heatmap"
           }
          ],
          "heatmapgl": [
           {
            "colorbar": {
             "outlinewidth": 0,
             "ticks": ""
            },
            "colorscale": [
             [
              0,
              "#0d0887"
             ],
             [
              0.1111111111111111,
              "#46039f"
             ],
             [
              0.2222222222222222,
              "#7201a8"
             ],
             [
              0.3333333333333333,
              "#9c179e"
             ],
             [
              0.4444444444444444,
              "#bd3786"
             ],
             [
              0.5555555555555556,
              "#d8576b"
             ],
             [
              0.6666666666666666,
              "#ed7953"
             ],
             [
              0.7777777777777778,
              "#fb9f3a"
             ],
             [
              0.8888888888888888,
              "#fdca26"
             ],
             [
              1,
              "#f0f921"
             ]
            ],
            "type": "heatmapgl"
           }
          ],
          "histogram": [
           {
            "marker": {
             "pattern": {
              "fillmode": "overlay",
              "size": 10,
              "solidity": 0.2
             }
            },
            "type": "histogram"
           }
          ],
          "histogram2d": [
           {
            "colorbar": {
             "outlinewidth": 0,
             "ticks": ""
            },
            "colorscale": [
             [
              0,
              "#0d0887"
             ],
             [
              0.1111111111111111,
              "#46039f"
             ],
             [
              0.2222222222222222,
              "#7201a8"
             ],
             [
              0.3333333333333333,
              "#9c179e"
             ],
             [
              0.4444444444444444,
              "#bd3786"
             ],
             [
              0.5555555555555556,
              "#d8576b"
             ],
             [
              0.6666666666666666,
              "#ed7953"
             ],
             [
              0.7777777777777778,
              "#fb9f3a"
             ],
             [
              0.8888888888888888,
              "#fdca26"
             ],
             [
              1,
              "#f0f921"
             ]
            ],
            "type": "histogram2d"
           }
          ],
          "histogram2dcontour": [
           {
            "colorbar": {
             "outlinewidth": 0,
             "ticks": ""
            },
            "colorscale": [
             [
              0,
              "#0d0887"
             ],
             [
              0.1111111111111111,
              "#46039f"
             ],
             [
              0.2222222222222222,
              "#7201a8"
             ],
             [
              0.3333333333333333,
              "#9c179e"
             ],
             [
              0.4444444444444444,
              "#bd3786"
             ],
             [
              0.5555555555555556,
              "#d8576b"
             ],
             [
              0.6666666666666666,
              "#ed7953"
             ],
             [
              0.7777777777777778,
              "#fb9f3a"
             ],
             [
              0.8888888888888888,
              "#fdca26"
             ],
             [
              1,
              "#f0f921"
             ]
            ],
            "type": "histogram2dcontour"
           }
          ],
          "mesh3d": [
           {
            "colorbar": {
             "outlinewidth": 0,
             "ticks": ""
            },
            "type": "mesh3d"
           }
          ],
          "parcoords": [
           {
            "line": {
             "colorbar": {
              "outlinewidth": 0,
              "ticks": ""
             }
            },
            "type": "parcoords"
           }
          ],
          "pie": [
           {
            "automargin": true,
            "type": "pie"
           }
          ],
          "scatter": [
           {
            "marker": {
             "line": {
              "color": "#283442"
             }
            },
            "type": "scatter"
           }
          ],
          "scatter3d": [
           {
            "line": {
             "colorbar": {
              "outlinewidth": 0,
              "ticks": ""
             }
            },
            "marker": {
             "colorbar": {
              "outlinewidth": 0,
              "ticks": ""
             }
            },
            "type": "scatter3d"
           }
          ],
          "scattercarpet": [
           {
            "marker": {
             "colorbar": {
              "outlinewidth": 0,
              "ticks": ""
             }
            },
            "type": "scattercarpet"
           }
          ],
          "scattergeo": [
           {
            "marker": {
             "colorbar": {
              "outlinewidth": 0,
              "ticks": ""
             }
            },
            "type": "scattergeo"
           }
          ],
          "scattergl": [
           {
            "marker": {
             "line": {
              "color": "#283442"
             }
            },
            "type": "scattergl"
           }
          ],
          "scattermapbox": [
           {
            "marker": {
             "colorbar": {
              "outlinewidth": 0,
              "ticks": ""
             }
            },
            "type": "scattermapbox"
           }
          ],
          "scatterpolar": [
           {
            "marker": {
             "colorbar": {
              "outlinewidth": 0,
              "ticks": ""
             }
            },
            "type": "scatterpolar"
           }
          ],
          "scatterpolargl": [
           {
            "marker": {
             "colorbar": {
              "outlinewidth": 0,
              "ticks": ""
             }
            },
            "type": "scatterpolargl"
           }
          ],
          "scatterternary": [
           {
            "marker": {
             "colorbar": {
              "outlinewidth": 0,
              "ticks": ""
             }
            },
            "type": "scatterternary"
           }
          ],
          "surface": [
           {
            "colorbar": {
             "outlinewidth": 0,
             "ticks": ""
            },
            "colorscale": [
             [
              0,
              "#0d0887"
             ],
             [
              0.1111111111111111,
              "#46039f"
             ],
             [
              0.2222222222222222,
              "#7201a8"
             ],
             [
              0.3333333333333333,
              "#9c179e"
             ],
             [
              0.4444444444444444,
              "#bd3786"
             ],
             [
              0.5555555555555556,
              "#d8576b"
             ],
             [
              0.6666666666666666,
              "#ed7953"
             ],
             [
              0.7777777777777778,
              "#fb9f3a"
             ],
             [
              0.8888888888888888,
              "#fdca26"
             ],
             [
              1,
              "#f0f921"
             ]
            ],
            "type": "surface"
           }
          ],
          "table": [
           {
            "cells": {
             "fill": {
              "color": "#506784"
             },
             "line": {
              "color": "rgb(17,17,17)"
             }
            },
            "header": {
             "fill": {
              "color": "#2a3f5f"
             },
             "line": {
              "color": "rgb(17,17,17)"
             }
            },
            "type": "table"
           }
          ]
         },
         "layout": {
          "annotationdefaults": {
           "arrowcolor": "#f2f5fa",
           "arrowhead": 0,
           "arrowwidth": 1
          },
          "autotypenumbers": "strict",
          "coloraxis": {
           "colorbar": {
            "outlinewidth": 0,
            "ticks": ""
           }
          },
          "colorscale": {
           "diverging": [
            [
             0,
             "#8e0152"
            ],
            [
             0.1,
             "#c51b7d"
            ],
            [
             0.2,
             "#de77ae"
            ],
            [
             0.3,
             "#f1b6da"
            ],
            [
             0.4,
             "#fde0ef"
            ],
            [
             0.5,
             "#f7f7f7"
            ],
            [
             0.6,
             "#e6f5d0"
            ],
            [
             0.7,
             "#b8e186"
            ],
            [
             0.8,
             "#7fbc41"
            ],
            [
             0.9,
             "#4d9221"
            ],
            [
             1,
             "#276419"
            ]
           ],
           "sequential": [
            [
             0,
             "#0d0887"
            ],
            [
             0.1111111111111111,
             "#46039f"
            ],
            [
             0.2222222222222222,
             "#7201a8"
            ],
            [
             0.3333333333333333,
             "#9c179e"
            ],
            [
             0.4444444444444444,
             "#bd3786"
            ],
            [
             0.5555555555555556,
             "#d8576b"
            ],
            [
             0.6666666666666666,
             "#ed7953"
            ],
            [
             0.7777777777777778,
             "#fb9f3a"
            ],
            [
             0.8888888888888888,
             "#fdca26"
            ],
            [
             1,
             "#f0f921"
            ]
           ],
           "sequentialminus": [
            [
             0,
             "#0d0887"
            ],
            [
             0.1111111111111111,
             "#46039f"
            ],
            [
             0.2222222222222222,
             "#7201a8"
            ],
            [
             0.3333333333333333,
             "#9c179e"
            ],
            [
             0.4444444444444444,
             "#bd3786"
            ],
            [
             0.5555555555555556,
             "#d8576b"
            ],
            [
             0.6666666666666666,
             "#ed7953"
            ],
            [
             0.7777777777777778,
             "#fb9f3a"
            ],
            [
             0.8888888888888888,
             "#fdca26"
            ],
            [
             1,
             "#f0f921"
            ]
           ]
          },
          "colorway": [
           "#636efa",
           "#EF553B",
           "#00cc96",
           "#ab63fa",
           "#FFA15A",
           "#19d3f3",
           "#FF6692",
           "#B6E880",
           "#FF97FF",
           "#FECB52"
          ],
          "font": {
           "color": "#f2f5fa"
          },
          "geo": {
           "bgcolor": "rgb(17,17,17)",
           "lakecolor": "rgb(17,17,17)",
           "landcolor": "rgb(17,17,17)",
           "showlakes": true,
           "showland": true,
           "subunitcolor": "#506784"
          },
          "hoverlabel": {
           "align": "left"
          },
          "hovermode": "closest",
          "mapbox": {
           "style": "dark"
          },
          "paper_bgcolor": "rgb(17,17,17)",
          "plot_bgcolor": "rgb(17,17,17)",
          "polar": {
           "angularaxis": {
            "gridcolor": "#506784",
            "linecolor": "#506784",
            "ticks": ""
           },
           "bgcolor": "rgb(17,17,17)",
           "radialaxis": {
            "gridcolor": "#506784",
            "linecolor": "#506784",
            "ticks": ""
           }
          },
          "scene": {
           "xaxis": {
            "backgroundcolor": "rgb(17,17,17)",
            "gridcolor": "#506784",
            "gridwidth": 2,
            "linecolor": "#506784",
            "showbackground": true,
            "ticks": "",
            "zerolinecolor": "#C8D4E3"
           },
           "yaxis": {
            "backgroundcolor": "rgb(17,17,17)",
            "gridcolor": "#506784",
            "gridwidth": 2,
            "linecolor": "#506784",
            "showbackground": true,
            "ticks": "",
            "zerolinecolor": "#C8D4E3"
           },
           "zaxis": {
            "backgroundcolor": "rgb(17,17,17)",
            "gridcolor": "#506784",
            "gridwidth": 2,
            "linecolor": "#506784",
            "showbackground": true,
            "ticks": "",
            "zerolinecolor": "#C8D4E3"
           }
          },
          "shapedefaults": {
           "line": {
            "color": "#f2f5fa"
           }
          },
          "sliderdefaults": {
           "bgcolor": "#C8D4E3",
           "bordercolor": "rgb(17,17,17)",
           "borderwidth": 1,
           "tickwidth": 0
          },
          "ternary": {
           "aaxis": {
            "gridcolor": "#506784",
            "linecolor": "#506784",
            "ticks": ""
           },
           "baxis": {
            "gridcolor": "#506784",
            "linecolor": "#506784",
            "ticks": ""
           },
           "bgcolor": "rgb(17,17,17)",
           "caxis": {
            "gridcolor": "#506784",
            "linecolor": "#506784",
            "ticks": ""
           }
          },
          "title": {
           "x": 0.05
          },
          "updatemenudefaults": {
           "bgcolor": "#506784",
           "borderwidth": 0
          },
          "xaxis": {
           "automargin": true,
           "gridcolor": "#283442",
           "linecolor": "#506784",
           "ticks": "",
           "title": {
            "standoff": 15
           },
           "zerolinecolor": "#283442",
           "zerolinewidth": 2
          },
          "yaxis": {
           "automargin": true,
           "gridcolor": "#283442",
           "linecolor": "#506784",
           "ticks": "",
           "title": {
            "standoff": 15
           },
           "zerolinecolor": "#283442",
           "zerolinewidth": 2
          }
         }
        },
        "xaxis": {
         "anchor": "y",
         "domain": [
          0,
          1
         ],
         "title": {
          "text": "Date"
         }
        },
        "yaxis": {
         "anchor": "x",
         "domain": [
          0,
          1
         ],
         "title": {
          "text": "value"
         }
        }
       }
      },
      "text/html": [
       "<div>                            <div id=\"cdc422c2-fc1d-441b-b2ee-a43798ea900a\" class=\"plotly-graph-div\" style=\"height:525px; width:100%;\"></div>            <script type=\"text/javascript\">                require([\"plotly\"], function(Plotly) {                    window.PLOTLYENV=window.PLOTLYENV || {};                                    if (document.getElementById(\"cdc422c2-fc1d-441b-b2ee-a43798ea900a\")) {                    Plotly.newPlot(                        \"cdc422c2-fc1d-441b-b2ee-a43798ea900a\",                        [{\"hovertemplate\":\"variable=Demand<br>Date=%{x}<br>value=%{y}<extra></extra>\",\"legendgroup\":\"Demand\",\"line\":{\"color\":\"#636efa\",\"dash\":\"solid\"},\"marker\":{\"symbol\":\"circle\"},\"mode\":\"lines\",\"name\":\"Demand\",\"orientation\":\"v\",\"showlegend\":true,\"x\":[\"2016-01-01T00:00:00\",\"2016-02-01T00:00:00\",\"2016-03-01T00:00:00\",\"2016-04-01T00:00:00\",\"2016-05-01T00:00:00\",\"2016-06-01T00:00:00\",\"2016-07-01T00:00:00\",\"2016-08-01T00:00:00\",\"2016-09-01T00:00:00\",\"2016-10-01T00:00:00\",\"2016-11-01T00:00:00\",\"2016-12-01T00:00:00\",\"2017-01-01T00:00:00\",\"2017-02-01T00:00:00\",\"2017-03-01T00:00:00\",\"2017-04-01T00:00:00\",\"2017-05-01T00:00:00\",\"2017-06-01T00:00:00\",\"2017-07-01T00:00:00\",\"2017-08-01T00:00:00\",\"2017-09-01T00:00:00\",\"2017-10-01T00:00:00\",\"2017-11-01T00:00:00\",\"2017-12-01T00:00:00\",\"2018-01-01T00:00:00\",\"2018-02-01T00:00:00\",\"2018-03-01T00:00:00\",\"2018-04-01T00:00:00\",\"2018-05-01T00:00:00\",\"2018-06-01T00:00:00\",\"2018-07-01T00:00:00\",\"2018-08-01T00:00:00\",\"2018-09-01T00:00:00\",\"2018-10-01T00:00:00\",\"2018-11-01T00:00:00\",\"2018-12-01T00:00:00\",\"2019-01-01T00:00:00\",\"2019-02-01T00:00:00\",\"2019-03-01T00:00:00\",\"2019-04-01T00:00:00\",\"2019-05-01T00:00:00\",\"2019-06-01T00:00:00\",\"2019-07-01T00:00:00\",\"2019-08-01T00:00:00\",\"2019-09-01T00:00:00\",\"2019-10-01T00:00:00\",\"2019-11-01T00:00:00\",\"2019-12-01T00:00:00\",\"2020-01-01T00:00:00\",\"2020-02-01T00:00:00\",\"2020-03-01T00:00:00\",\"2020-04-01T00:00:00\",\"2020-05-01T00:00:00\",\"2020-06-01T00:00:00\",\"2020-07-01T00:00:00\",\"2020-08-01T00:00:00\",\"2020-09-01T00:00:00\",\"2020-10-01T00:00:00\",\"2020-11-01T00:00:00\",\"2020-12-01T00:00:00\",\"2021-01-01T00:00:00\",\"2021-02-01T00:00:00\",\"2021-03-01T00:00:00\",\"2021-04-01T00:00:00\",\"2021-05-01T00:00:00\",\"2021-06-01T00:00:00\",\"2021-07-01T00:00:00\",\"2021-08-01T00:00:00\",\"2021-09-01T00:00:00\",\"2021-10-01T00:00:00\",\"2021-11-01T00:00:00\",\"2021-12-01T00:00:00\",\"2022-01-01T00:00:00\",\"2022-02-01T00:00:00\",\"2022-03-01T00:00:00\",\"2022-04-01T00:00:00\",\"2022-05-01T00:00:00\",\"2022-06-01T00:00:00\"],\"xaxis\":\"x\",\"y\":[1970.0,1773.0,1931.0,2628.0,3287.0,3498.0,3311.0,3211.0,3109.0,2622.0,1751.0,1797.0,1938.0,1711.0,1966.0,2610.0,3375.0,3359.0,3474.0,3500.0,3130.0,2641.0,1897.0,1968.0,2063.0,1755.0,2053.0,2636.0,3429.0,3824.0,3686.0,3535.0,2925.0,2503.0,1838.0,1998.0,2141.0,1856.0,1931.0,2698.0,3367.0,3833.0,3769.0,3547.0,3463.0,2469.0,1900.0,2151.0,2290.0,1905.0,1693.0,1671.0,2523.0,3110.0,3314.0,3166.0,3343.0,2451.0,1784.0,2025.0,2270.0,1805.0,2097.0,2240.0,2328.0,3287.0,3722.0,3547.0,3027.0,2663.0,1821.0,2091.0,2267.0,1873.0,2260.0,3202.0,3776.0,3917.0],\"yaxis\":\"y\",\"type\":\"scatter\"},{\"hovertemplate\":\"variable=Label<br>Date=%{x}<br>value=%{y}<extra></extra>\",\"legendgroup\":\"Label\",\"line\":{\"color\":\"#EF553B\",\"dash\":\"solid\"},\"marker\":{\"symbol\":\"circle\"},\"mode\":\"lines\",\"name\":\"Label\",\"orientation\":\"v\",\"showlegend\":true,\"x\":[\"2016-01-01T00:00:00\",\"2016-02-01T00:00:00\",\"2016-03-01T00:00:00\",\"2016-04-01T00:00:00\",\"2016-05-01T00:00:00\",\"2016-06-01T00:00:00\",\"2016-07-01T00:00:00\",\"2016-08-01T00:00:00\",\"2016-09-01T00:00:00\",\"2016-10-01T00:00:00\",\"2016-11-01T00:00:00\",\"2016-12-01T00:00:00\",\"2017-01-01T00:00:00\",\"2017-02-01T00:00:00\",\"2017-03-01T00:00:00\",\"2017-04-01T00:00:00\",\"2017-05-01T00:00:00\",\"2017-06-01T00:00:00\",\"2017-07-01T00:00:00\",\"2017-08-01T00:00:00\",\"2017-09-01T00:00:00\",\"2017-10-01T00:00:00\",\"2017-11-01T00:00:00\",\"2017-12-01T00:00:00\",\"2018-01-01T00:00:00\",\"2018-02-01T00:00:00\",\"2018-03-01T00:00:00\",\"2018-04-01T00:00:00\",\"2018-05-01T00:00:00\",\"2018-06-01T00:00:00\",\"2018-07-01T00:00:00\",\"2018-08-01T00:00:00\",\"2018-09-01T00:00:00\",\"2018-10-01T00:00:00\",\"2018-11-01T00:00:00\",\"2018-12-01T00:00:00\",\"2019-01-01T00:00:00\",\"2019-02-01T00:00:00\",\"2019-03-01T00:00:00\",\"2019-04-01T00:00:00\",\"2019-05-01T00:00:00\",\"2019-06-01T00:00:00\",\"2019-07-01T00:00:00\",\"2019-08-01T00:00:00\",\"2019-09-01T00:00:00\",\"2019-10-01T00:00:00\",\"2019-11-01T00:00:00\",\"2019-12-01T00:00:00\",\"2020-01-01T00:00:00\",\"2020-02-01T00:00:00\",\"2020-03-01T00:00:00\",\"2020-04-01T00:00:00\",\"2020-05-01T00:00:00\",\"2020-06-01T00:00:00\",\"2020-07-01T00:00:00\",\"2020-08-01T00:00:00\",\"2020-09-01T00:00:00\",\"2020-10-01T00:00:00\",\"2020-11-01T00:00:00\",\"2020-12-01T00:00:00\",\"2021-01-01T00:00:00\",\"2021-02-01T00:00:00\",\"2021-03-01T00:00:00\",\"2021-04-01T00:00:00\",\"2021-05-01T00:00:00\",\"2021-06-01T00:00:00\",\"2021-07-01T00:00:00\",\"2021-08-01T00:00:00\",\"2021-09-01T00:00:00\",\"2021-10-01T00:00:00\",\"2021-11-01T00:00:00\",\"2021-12-01T00:00:00\",\"2022-01-01T00:00:00\",\"2022-02-01T00:00:00\",\"2022-03-01T00:00:00\",\"2022-04-01T00:00:00\",\"2022-05-01T00:00:00\",\"2022-06-01T00:00:00\"],\"xaxis\":\"x\",\"y\":[1970.0,1773.0,1931.0,2628.0,3287.0,3498.0,3311.0,3211.0,3109.0,2622.0,1751.0,1797.0,1938.0,1711.0,1966.0,2610.0,3375.0,3359.0,3474.0,3500.0,3130.0,2641.0,1897.0,1968.0,2063.0,1755.0,2053.0,2636.0,3429.0,3824.0,3686.0,3535.0,2925.0,2503.0,1838.0,1998.0,2141.0,1856.0,1931.0,2698.0,3367.0,3833.0,3769.0,3547.0,3463.0,2469.0,1900.0,2151.0,2290.0,1905.0,1693.0,1671.0,2523.0,3110.0,3314.0,3166.0,3343.0,2451.0,1784.0,2025.0,2270.0,1805.0,2097.0,2240.0,2328.0,3287.0,3405.29,3257.52,3052.8,2543.64,1820.03,1997.11,2313.11,1843.4,2081.7,2583.87,3010.29,3603.47],\"yaxis\":\"y\",\"type\":\"scatter\"}],                        {\"template\":{\"data\":{\"barpolar\":[{\"marker\":{\"line\":{\"color\":\"rgb(17,17,17)\",\"width\":0.5},\"pattern\":{\"fillmode\":\"overlay\",\"size\":10,\"solidity\":0.2}},\"type\":\"barpolar\"}],\"bar\":[{\"error_x\":{\"color\":\"#f2f5fa\"},\"error_y\":{\"color\":\"#f2f5fa\"},\"marker\":{\"line\":{\"color\":\"rgb(17,17,17)\",\"width\":0.5},\"pattern\":{\"fillmode\":\"overlay\",\"size\":10,\"solidity\":0.2}},\"type\":\"bar\"}],\"carpet\":[{\"aaxis\":{\"endlinecolor\":\"#A2B1C6\",\"gridcolor\":\"#506784\",\"linecolor\":\"#506784\",\"minorgridcolor\":\"#506784\",\"startlinecolor\":\"#A2B1C6\"},\"baxis\":{\"endlinecolor\":\"#A2B1C6\",\"gridcolor\":\"#506784\",\"linecolor\":\"#506784\",\"minorgridcolor\":\"#506784\",\"startlinecolor\":\"#A2B1C6\"},\"type\":\"carpet\"}],\"choropleth\":[{\"colorbar\":{\"outlinewidth\":0,\"ticks\":\"\"},\"type\":\"choropleth\"}],\"contourcarpet\":[{\"colorbar\":{\"outlinewidth\":0,\"ticks\":\"\"},\"type\":\"contourcarpet\"}],\"contour\":[{\"colorbar\":{\"outlinewidth\":0,\"ticks\":\"\"},\"colorscale\":[[0.0,\"#0d0887\"],[0.1111111111111111,\"#46039f\"],[0.2222222222222222,\"#7201a8\"],[0.3333333333333333,\"#9c179e\"],[0.4444444444444444,\"#bd3786\"],[0.5555555555555556,\"#d8576b\"],[0.6666666666666666,\"#ed7953\"],[0.7777777777777778,\"#fb9f3a\"],[0.8888888888888888,\"#fdca26\"],[1.0,\"#f0f921\"]],\"type\":\"contour\"}],\"heatmapgl\":[{\"colorbar\":{\"outlinewidth\":0,\"ticks\":\"\"},\"colorscale\":[[0.0,\"#0d0887\"],[0.1111111111111111,\"#46039f\"],[0.2222222222222222,\"#7201a8\"],[0.3333333333333333,\"#9c179e\"],[0.4444444444444444,\"#bd3786\"],[0.5555555555555556,\"#d8576b\"],[0.6666666666666666,\"#ed7953\"],[0.7777777777777778,\"#fb9f3a\"],[0.8888888888888888,\"#fdca26\"],[1.0,\"#f0f921\"]],\"type\":\"heatmapgl\"}],\"heatmap\":[{\"colorbar\":{\"outlinewidth\":0,\"ticks\":\"\"},\"colorscale\":[[0.0,\"#0d0887\"],[0.1111111111111111,\"#46039f\"],[0.2222222222222222,\"#7201a8\"],[0.3333333333333333,\"#9c179e\"],[0.4444444444444444,\"#bd3786\"],[0.5555555555555556,\"#d8576b\"],[0.6666666666666666,\"#ed7953\"],[0.7777777777777778,\"#fb9f3a\"],[0.8888888888888888,\"#fdca26\"],[1.0,\"#f0f921\"]],\"type\":\"heatmap\"}],\"histogram2dcontour\":[{\"colorbar\":{\"outlinewidth\":0,\"ticks\":\"\"},\"colorscale\":[[0.0,\"#0d0887\"],[0.1111111111111111,\"#46039f\"],[0.2222222222222222,\"#7201a8\"],[0.3333333333333333,\"#9c179e\"],[0.4444444444444444,\"#bd3786\"],[0.5555555555555556,\"#d8576b\"],[0.6666666666666666,\"#ed7953\"],[0.7777777777777778,\"#fb9f3a\"],[0.8888888888888888,\"#fdca26\"],[1.0,\"#f0f921\"]],\"type\":\"histogram2dcontour\"}],\"histogram2d\":[{\"colorbar\":{\"outlinewidth\":0,\"ticks\":\"\"},\"colorscale\":[[0.0,\"#0d0887\"],[0.1111111111111111,\"#46039f\"],[0.2222222222222222,\"#7201a8\"],[0.3333333333333333,\"#9c179e\"],[0.4444444444444444,\"#bd3786\"],[0.5555555555555556,\"#d8576b\"],[0.6666666666666666,\"#ed7953\"],[0.7777777777777778,\"#fb9f3a\"],[0.8888888888888888,\"#fdca26\"],[1.0,\"#f0f921\"]],\"type\":\"histogram2d\"}],\"histogram\":[{\"marker\":{\"pattern\":{\"fillmode\":\"overlay\",\"size\":10,\"solidity\":0.2}},\"type\":\"histogram\"}],\"mesh3d\":[{\"colorbar\":{\"outlinewidth\":0,\"ticks\":\"\"},\"type\":\"mesh3d\"}],\"parcoords\":[{\"line\":{\"colorbar\":{\"outlinewidth\":0,\"ticks\":\"\"}},\"type\":\"parcoords\"}],\"pie\":[{\"automargin\":true,\"type\":\"pie\"}],\"scatter3d\":[{\"line\":{\"colorbar\":{\"outlinewidth\":0,\"ticks\":\"\"}},\"marker\":{\"colorbar\":{\"outlinewidth\":0,\"ticks\":\"\"}},\"type\":\"scatter3d\"}],\"scattercarpet\":[{\"marker\":{\"colorbar\":{\"outlinewidth\":0,\"ticks\":\"\"}},\"type\":\"scattercarpet\"}],\"scattergeo\":[{\"marker\":{\"colorbar\":{\"outlinewidth\":0,\"ticks\":\"\"}},\"type\":\"scattergeo\"}],\"scattergl\":[{\"marker\":{\"line\":{\"color\":\"#283442\"}},\"type\":\"scattergl\"}],\"scattermapbox\":[{\"marker\":{\"colorbar\":{\"outlinewidth\":0,\"ticks\":\"\"}},\"type\":\"scattermapbox\"}],\"scatterpolargl\":[{\"marker\":{\"colorbar\":{\"outlinewidth\":0,\"ticks\":\"\"}},\"type\":\"scatterpolargl\"}],\"scatterpolar\":[{\"marker\":{\"colorbar\":{\"outlinewidth\":0,\"ticks\":\"\"}},\"type\":\"scatterpolar\"}],\"scatter\":[{\"marker\":{\"line\":{\"color\":\"#283442\"}},\"type\":\"scatter\"}],\"scatterternary\":[{\"marker\":{\"colorbar\":{\"outlinewidth\":0,\"ticks\":\"\"}},\"type\":\"scatterternary\"}],\"surface\":[{\"colorbar\":{\"outlinewidth\":0,\"ticks\":\"\"},\"colorscale\":[[0.0,\"#0d0887\"],[0.1111111111111111,\"#46039f\"],[0.2222222222222222,\"#7201a8\"],[0.3333333333333333,\"#9c179e\"],[0.4444444444444444,\"#bd3786\"],[0.5555555555555556,\"#d8576b\"],[0.6666666666666666,\"#ed7953\"],[0.7777777777777778,\"#fb9f3a\"],[0.8888888888888888,\"#fdca26\"],[1.0,\"#f0f921\"]],\"type\":\"surface\"}],\"table\":[{\"cells\":{\"fill\":{\"color\":\"#506784\"},\"line\":{\"color\":\"rgb(17,17,17)\"}},\"header\":{\"fill\":{\"color\":\"#2a3f5f\"},\"line\":{\"color\":\"rgb(17,17,17)\"}},\"type\":\"table\"}]},\"layout\":{\"annotationdefaults\":{\"arrowcolor\":\"#f2f5fa\",\"arrowhead\":0,\"arrowwidth\":1},\"autotypenumbers\":\"strict\",\"coloraxis\":{\"colorbar\":{\"outlinewidth\":0,\"ticks\":\"\"}},\"colorscale\":{\"diverging\":[[0,\"#8e0152\"],[0.1,\"#c51b7d\"],[0.2,\"#de77ae\"],[0.3,\"#f1b6da\"],[0.4,\"#fde0ef\"],[0.5,\"#f7f7f7\"],[0.6,\"#e6f5d0\"],[0.7,\"#b8e186\"],[0.8,\"#7fbc41\"],[0.9,\"#4d9221\"],[1,\"#276419\"]],\"sequential\":[[0.0,\"#0d0887\"],[0.1111111111111111,\"#46039f\"],[0.2222222222222222,\"#7201a8\"],[0.3333333333333333,\"#9c179e\"],[0.4444444444444444,\"#bd3786\"],[0.5555555555555556,\"#d8576b\"],[0.6666666666666666,\"#ed7953\"],[0.7777777777777778,\"#fb9f3a\"],[0.8888888888888888,\"#fdca26\"],[1.0,\"#f0f921\"]],\"sequentialminus\":[[0.0,\"#0d0887\"],[0.1111111111111111,\"#46039f\"],[0.2222222222222222,\"#7201a8\"],[0.3333333333333333,\"#9c179e\"],[0.4444444444444444,\"#bd3786\"],[0.5555555555555556,\"#d8576b\"],[0.6666666666666666,\"#ed7953\"],[0.7777777777777778,\"#fb9f3a\"],[0.8888888888888888,\"#fdca26\"],[1.0,\"#f0f921\"]]},\"colorway\":[\"#636efa\",\"#EF553B\",\"#00cc96\",\"#ab63fa\",\"#FFA15A\",\"#19d3f3\",\"#FF6692\",\"#B6E880\",\"#FF97FF\",\"#FECB52\"],\"font\":{\"color\":\"#f2f5fa\"},\"geo\":{\"bgcolor\":\"rgb(17,17,17)\",\"lakecolor\":\"rgb(17,17,17)\",\"landcolor\":\"rgb(17,17,17)\",\"showlakes\":true,\"showland\":true,\"subunitcolor\":\"#506784\"},\"hoverlabel\":{\"align\":\"left\"},\"hovermode\":\"closest\",\"mapbox\":{\"style\":\"dark\"},\"paper_bgcolor\":\"rgb(17,17,17)\",\"plot_bgcolor\":\"rgb(17,17,17)\",\"polar\":{\"angularaxis\":{\"gridcolor\":\"#506784\",\"linecolor\":\"#506784\",\"ticks\":\"\"},\"bgcolor\":\"rgb(17,17,17)\",\"radialaxis\":{\"gridcolor\":\"#506784\",\"linecolor\":\"#506784\",\"ticks\":\"\"}},\"scene\":{\"xaxis\":{\"backgroundcolor\":\"rgb(17,17,17)\",\"gridcolor\":\"#506784\",\"gridwidth\":2,\"linecolor\":\"#506784\",\"showbackground\":true,\"ticks\":\"\",\"zerolinecolor\":\"#C8D4E3\"},\"yaxis\":{\"backgroundcolor\":\"rgb(17,17,17)\",\"gridcolor\":\"#506784\",\"gridwidth\":2,\"linecolor\":\"#506784\",\"showbackground\":true,\"ticks\":\"\",\"zerolinecolor\":\"#C8D4E3\"},\"zaxis\":{\"backgroundcolor\":\"rgb(17,17,17)\",\"gridcolor\":\"#506784\",\"gridwidth\":2,\"linecolor\":\"#506784\",\"showbackground\":true,\"ticks\":\"\",\"zerolinecolor\":\"#C8D4E3\"}},\"shapedefaults\":{\"line\":{\"color\":\"#f2f5fa\"}},\"sliderdefaults\":{\"bgcolor\":\"#C8D4E3\",\"bordercolor\":\"rgb(17,17,17)\",\"borderwidth\":1,\"tickwidth\":0},\"ternary\":{\"aaxis\":{\"gridcolor\":\"#506784\",\"linecolor\":\"#506784\",\"ticks\":\"\"},\"baxis\":{\"gridcolor\":\"#506784\",\"linecolor\":\"#506784\",\"ticks\":\"\"},\"bgcolor\":\"rgb(17,17,17)\",\"caxis\":{\"gridcolor\":\"#506784\",\"linecolor\":\"#506784\",\"ticks\":\"\"}},\"title\":{\"x\":0.05},\"updatemenudefaults\":{\"bgcolor\":\"#506784\",\"borderwidth\":0},\"xaxis\":{\"automargin\":true,\"gridcolor\":\"#283442\",\"linecolor\":\"#506784\",\"ticks\":\"\",\"title\":{\"standoff\":15},\"zerolinecolor\":\"#283442\",\"zerolinewidth\":2},\"yaxis\":{\"automargin\":true,\"gridcolor\":\"#283442\",\"linecolor\":\"#506784\",\"ticks\":\"\",\"title\":{\"standoff\":15},\"zerolinecolor\":\"#283442\",\"zerolinewidth\":2}}},\"xaxis\":{\"anchor\":\"y\",\"domain\":[0.0,1.0],\"title\":{\"text\":\"Date\"}},\"yaxis\":{\"anchor\":\"x\",\"domain\":[0.0,1.0],\"title\":{\"text\":\"value\"}},\"legend\":{\"title\":{\"text\":\"variable\"},\"tracegroupgap\":0},\"margin\":{\"t\":60},\"shapes\":[{\"fillcolor\":\"grey\",\"line\":{\"width\":0},\"opacity\":0.25,\"type\":\"rect\",\"x0\":\"2021-06-01\",\"x1\":\"2022-06-01\",\"xref\":\"x\",\"y0\":0,\"y1\":1,\"yref\":\"y domain\"}]},                        {\"responsive\": true}                    ).then(function(){\n",
       "                            \n",
       "var gd = document.getElementById('cdc422c2-fc1d-441b-b2ee-a43798ea900a');\n",
       "var x = new MutationObserver(function (mutations, observer) {{\n",
       "        var display = window.getComputedStyle(gd).display;\n",
       "        if (!display || display === 'none') {{\n",
       "            console.log([gd, 'removed!']);\n",
       "            Plotly.purge(gd);\n",
       "            observer.disconnect();\n",
       "        }}\n",
       "}});\n",
       "\n",
       "// Listen for the removal of the full notebook cells\n",
       "var notebookContainer = gd.closest('#notebook-container');\n",
       "if (notebookContainer) {{\n",
       "    x.observe(notebookContainer, {childList: true});\n",
       "}}\n",
       "\n",
       "// Listen for the clearing of the current output cell\n",
       "var outputEl = gd.closest('.output');\n",
       "if (outputEl) {{\n",
       "    x.observe(outputEl, {childList: true});\n",
       "}}\n",
       "\n",
       "                        })                };                });            </script>        </div>"
      ]
     },
     "metadata": {},
     "output_type": "display_data"
    }
   ],
   "source": [
    "# generate predictions on the original dataset\n",
    "predictions = predict_model(best, data=data)\n",
    "# add a date column in the dataset\n",
    "predictions['Date'] = pd.date_range(start='2016-01-01', end = '2022-06-01', freq = 'MS')\n",
    "# line plot\n",
    "fig = px.line(predictions, x='Date', y=[\"Demand\", \"Label\"], template = 'plotly_dark')\n",
    "# add a vertical rectange for test-set separation\n",
    "fig.add_vrect(x0=\"2021-06-01\", x1=\"2022-06-01\", fillcolor=\"grey\", opacity=0.25, line_width=0)\n",
    "fig.show()"
   ]
  },
  {
   "cell_type": "code",
   "execution_count": 32,
   "id": "6a50ad11",
   "metadata": {},
   "outputs": [],
   "source": [
    "final_best = finalize_model(best)"
   ]
  },
  {
   "cell_type": "code",
   "execution_count": 33,
   "id": "542b091e",
   "metadata": {},
   "outputs": [
    {
     "name": "stdout",
     "output_type": "stream",
     "text": [
      "Transformation Pipeline and Model Successfully Saved\n"
     ]
    },
    {
     "data": {
      "text/plain": [
       "(Pipeline(memory=None,\n",
       "          steps=[('dtypes',\n",
       "                  DataTypes_Auto_infer(categorical_features=[],\n",
       "                                       display_types=True, features_todrop=[],\n",
       "                                       id_columns=[], ml_usecase='regression',\n",
       "                                       numerical_features=['Year', 'Series',\n",
       "                                                           'AvgTemp',\n",
       "                                                           'AvgHumidity',\n",
       "                                                           'AvgWindspeed',\n",
       "                                                           'AvgRainfall',\n",
       "                                                           'UnemploymentRate'],\n",
       "                                       target='Demand', time_features=[])),\n",
       "                 ('imputer',\n",
       "                  Simple_Imputer(categorical_strategy=...\n",
       "                  ExtraTreesRegressor(bootstrap=False, ccp_alpha=0.0,\n",
       "                                      criterion='mse', max_depth=None,\n",
       "                                      max_features='auto', max_leaf_nodes=None,\n",
       "                                      max_samples=None,\n",
       "                                      min_impurity_decrease=0.0,\n",
       "                                      min_impurity_split=None,\n",
       "                                      min_samples_leaf=1, min_samples_split=2,\n",
       "                                      min_weight_fraction_leaf=0.0,\n",
       "                                      n_estimators=100, n_jobs=-1,\n",
       "                                      oob_score=False, random_state=105,\n",
       "                                      verbose=0, warm_start=False)]],\n",
       "          verbose=False),\n",
       " 'DemandForecastingModel.pkl')"
      ]
     },
     "execution_count": 33,
     "metadata": {},
     "output_type": "execute_result"
    }
   ],
   "source": [
    "save_model(final_best, 'DemandForecastingModel')"
   ]
  },
  {
   "cell_type": "code",
   "execution_count": 34,
   "id": "e5357992",
   "metadata": {},
   "outputs": [
    {
     "data": {
      "text/html": [
       "<div>\n",
       "<style scoped>\n",
       "    .dataframe tbody tr th:only-of-type {\n",
       "        vertical-align: middle;\n",
       "    }\n",
       "\n",
       "    .dataframe tbody tr th {\n",
       "        vertical-align: top;\n",
       "    }\n",
       "\n",
       "    .dataframe thead th {\n",
       "        text-align: right;\n",
       "    }\n",
       "</style>\n",
       "<table border=\"1\" class=\"dataframe\">\n",
       "  <thead>\n",
       "    <tr style=\"text-align: right;\">\n",
       "      <th></th>\n",
       "      <th>AvgTemp</th>\n",
       "      <th>AvgHumidity</th>\n",
       "      <th>AvgWindspeed</th>\n",
       "      <th>AvgRainfall</th>\n",
       "      <th>UnemploymentRate</th>\n",
       "      <th>Demand</th>\n",
       "      <th>Month</th>\n",
       "      <th>Year</th>\n",
       "      <th>Series</th>\n",
       "      <th>Label</th>\n",
       "      <th>Date</th>\n",
       "    </tr>\n",
       "  </thead>\n",
       "  <tbody>\n",
       "    <tr>\n",
       "      <th>0</th>\n",
       "      <td>14.474910</td>\n",
       "      <td>79.600000</td>\n",
       "      <td>11.865077</td>\n",
       "      <td>0.000</td>\n",
       "      <td>10.6</td>\n",
       "      <td>1970</td>\n",
       "      <td>1</td>\n",
       "      <td>2016</td>\n",
       "      <td>1</td>\n",
       "      <td>1970.00</td>\n",
       "      <td>2016-01-01</td>\n",
       "    </tr>\n",
       "    <tr>\n",
       "      <th>1</th>\n",
       "      <td>18.235632</td>\n",
       "      <td>63.262069</td>\n",
       "      <td>15.379821</td>\n",
       "      <td>0.275</td>\n",
       "      <td>10.8</td>\n",
       "      <td>1773</td>\n",
       "      <td>2</td>\n",
       "      <td>2016</td>\n",
       "      <td>2</td>\n",
       "      <td>1773.00</td>\n",
       "      <td>2016-02-01</td>\n",
       "    </tr>\n",
       "    <tr>\n",
       "      <th>2</th>\n",
       "      <td>24.465950</td>\n",
       "      <td>56.951613</td>\n",
       "      <td>16.598652</td>\n",
       "      <td>3.580</td>\n",
       "      <td>11.1</td>\n",
       "      <td>1931</td>\n",
       "      <td>3</td>\n",
       "      <td>2016</td>\n",
       "      <td>3</td>\n",
       "      <td>1931.00</td>\n",
       "      <td>2016-03-01</td>\n",
       "    </tr>\n",
       "    <tr>\n",
       "      <th>3</th>\n",
       "      <td>31.527778</td>\n",
       "      <td>30.230000</td>\n",
       "      <td>19.206097</td>\n",
       "      <td>0.025</td>\n",
       "      <td>6.3</td>\n",
       "      <td>2628</td>\n",
       "      <td>4</td>\n",
       "      <td>2016</td>\n",
       "      <td>4</td>\n",
       "      <td>2628.00</td>\n",
       "      <td>2016-04-01</td>\n",
       "    </tr>\n",
       "    <tr>\n",
       "      <th>4</th>\n",
       "      <td>33.718638</td>\n",
       "      <td>41.312903</td>\n",
       "      <td>21.181706</td>\n",
       "      <td>2.425</td>\n",
       "      <td>17.3</td>\n",
       "      <td>3287</td>\n",
       "      <td>5</td>\n",
       "      <td>2016</td>\n",
       "      <td>5</td>\n",
       "      <td>3287.00</td>\n",
       "      <td>2016-05-01</td>\n",
       "    </tr>\n",
       "    <tr>\n",
       "      <th>...</th>\n",
       "      <td>...</td>\n",
       "      <td>...</td>\n",
       "      <td>...</td>\n",
       "      <td>...</td>\n",
       "      <td>...</td>\n",
       "      <td>...</td>\n",
       "      <td>...</td>\n",
       "      <td>...</td>\n",
       "      <td>...</td>\n",
       "      <td>...</td>\n",
       "      <td>...</td>\n",
       "    </tr>\n",
       "    <tr>\n",
       "      <th>73</th>\n",
       "      <td>17.057143</td>\n",
       "      <td>71.653571</td>\n",
       "      <td>15.696429</td>\n",
       "      <td>1.775</td>\n",
       "      <td>9.3</td>\n",
       "      <td>1873</td>\n",
       "      <td>2</td>\n",
       "      <td>2022</td>\n",
       "      <td>74</td>\n",
       "      <td>1843.40</td>\n",
       "      <td>2022-02-01</td>\n",
       "    </tr>\n",
       "    <tr>\n",
       "      <th>74</th>\n",
       "      <td>25.561290</td>\n",
       "      <td>56.387097</td>\n",
       "      <td>16.977419</td>\n",
       "      <td>1.160</td>\n",
       "      <td>8.9</td>\n",
       "      <td>2260</td>\n",
       "      <td>3</td>\n",
       "      <td>2022</td>\n",
       "      <td>75</td>\n",
       "      <td>2081.70</td>\n",
       "      <td>2022-03-01</td>\n",
       "    </tr>\n",
       "    <tr>\n",
       "      <th>75</th>\n",
       "      <td>32.523333</td>\n",
       "      <td>24.743333</td>\n",
       "      <td>18.663333</td>\n",
       "      <td>0.025</td>\n",
       "      <td>11.2</td>\n",
       "      <td>3202</td>\n",
       "      <td>4</td>\n",
       "      <td>2022</td>\n",
       "      <td>76</td>\n",
       "      <td>2583.87</td>\n",
       "      <td>2022-04-01</td>\n",
       "    </tr>\n",
       "    <tr>\n",
       "      <th>76</th>\n",
       "      <td>33.335484</td>\n",
       "      <td>44.229032</td>\n",
       "      <td>20.712903</td>\n",
       "      <td>13.050</td>\n",
       "      <td>13.6</td>\n",
       "      <td>3776</td>\n",
       "      <td>5</td>\n",
       "      <td>2022</td>\n",
       "      <td>77</td>\n",
       "      <td>3010.29</td>\n",
       "      <td>2022-05-01</td>\n",
       "    </tr>\n",
       "    <tr>\n",
       "      <th>77</th>\n",
       "      <td>38.115789</td>\n",
       "      <td>23.636842</td>\n",
       "      <td>24.605263</td>\n",
       "      <td>4.160</td>\n",
       "      <td>10.3</td>\n",
       "      <td>3917</td>\n",
       "      <td>6</td>\n",
       "      <td>2022</td>\n",
       "      <td>78</td>\n",
       "      <td>3603.47</td>\n",
       "      <td>2022-06-01</td>\n",
       "    </tr>\n",
       "  </tbody>\n",
       "</table>\n",
       "<p>78 rows × 11 columns</p>\n",
       "</div>"
      ],
      "text/plain": [
       "      AvgTemp  AvgHumidity  AvgWindspeed  AvgRainfall  UnemploymentRate  \\\n",
       "0   14.474910    79.600000     11.865077        0.000              10.6   \n",
       "1   18.235632    63.262069     15.379821        0.275              10.8   \n",
       "2   24.465950    56.951613     16.598652        3.580              11.1   \n",
       "3   31.527778    30.230000     19.206097        0.025               6.3   \n",
       "4   33.718638    41.312903     21.181706        2.425              17.3   \n",
       "..        ...          ...           ...          ...               ...   \n",
       "73  17.057143    71.653571     15.696429        1.775               9.3   \n",
       "74  25.561290    56.387097     16.977419        1.160               8.9   \n",
       "75  32.523333    24.743333     18.663333        0.025              11.2   \n",
       "76  33.335484    44.229032     20.712903       13.050              13.6   \n",
       "77  38.115789    23.636842     24.605263        4.160              10.3   \n",
       "\n",
       "    Demand  Month  Year  Series    Label       Date  \n",
       "0     1970      1  2016       1  1970.00 2016-01-01  \n",
       "1     1773      2  2016       2  1773.00 2016-02-01  \n",
       "2     1931      3  2016       3  1931.00 2016-03-01  \n",
       "3     2628      4  2016       4  2628.00 2016-04-01  \n",
       "4     3287      5  2016       5  3287.00 2016-05-01  \n",
       "..     ...    ...   ...     ...      ...        ...  \n",
       "73    1873      2  2022      74  1843.40 2022-02-01  \n",
       "74    2260      3  2022      75  2081.70 2022-03-01  \n",
       "75    3202      4  2022      76  2583.87 2022-04-01  \n",
       "76    3776      5  2022      77  3010.29 2022-05-01  \n",
       "77    3917      6  2022      78  3603.47 2022-06-01  \n",
       "\n",
       "[78 rows x 11 columns]"
      ]
     },
     "execution_count": 34,
     "metadata": {},
     "output_type": "execute_result"
    }
   ],
   "source": [
    "predictions"
   ]
  },
  {
   "cell_type": "code",
   "execution_count": 35,
   "id": "ced84028",
   "metadata": {},
   "outputs": [
    {
     "name": "stdout",
     "output_type": "stream",
     "text": [
      "Transformation Pipeline and Model Successfully Loaded\n"
     ]
    }
   ],
   "source": [
    "demandModel=load_model(\"D:\\\\User\\\\snamjoshi\\\\DemandForecastingModel\")\n"
   ]
  },
  {
   "cell_type": "code",
   "execution_count": 62,
   "id": "c6315dd8",
   "metadata": {},
   "outputs": [
    {
     "name": "stdout",
     "output_type": "stream",
     "text": [
      "^C\n"
     ]
    }
   ],
   "source": [
    "!mlflow ui"
   ]
  },
  {
   "cell_type": "code",
   "execution_count": null,
   "id": "6d41a34a",
   "metadata": {},
   "outputs": [],
   "source": []
  }
 ],
 "metadata": {
  "kernelspec": {
   "display_name": "Python 3 (ipykernel)",
   "language": "python",
   "name": "python3"
  },
  "language_info": {
   "codemirror_mode": {
    "name": "ipython",
    "version": 3
   },
   "file_extension": ".py",
   "mimetype": "text/x-python",
   "name": "python",
   "nbconvert_exporter": "python",
   "pygments_lexer": "ipython3",
   "version": "3.8.13"
  }
 },
 "nbformat": 4,
 "nbformat_minor": 5
}
